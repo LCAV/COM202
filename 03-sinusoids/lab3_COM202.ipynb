{
 "cells": [
  {
   "cell_type": "markdown",
   "id": "dc969cd0-5ec2-43f0-9458-a3c87d1ba8b3",
   "metadata": {},
   "source": [
    "<div style=\"margin: 0 auto 30px; height: 60px; border: 2px solid gray; border-radius: 6px;\">\n",
    "  <div style=\"float: left;\"><img src=\"img/epfl.png\" /></div>\n",
    "  <div style=\"float: right; margin: 20px 30px 0; font-size: 10pt; font-weight: bold;\"><a href=\"https://moodle.epfl.ch/course/view.php?id=18253\">COM202 - Signal Processing</a></div>\n",
    "</div>\n",
    "<div style=\"clear: both; font-size: 30pt; font-weight: bold; color: #483D8B;\">\n",
    "    Lab 3: Cooking with Sinusoids\n",
    "</div>"
   ]
  },
  {
   "cell_type": "markdown",
   "id": "4a45a747-eb08-4606-9621-323a4f212286",
   "metadata": {},
   "source": [
    "In this notebook, we will try to look at another possible representation of a signal, directed towards frequency. \n",
    "\\[finish summing up the goal of the lab\\]. Hopefully by the end of this notebook, you will go from Linguini to Gusteau!\n",
    "<div style=\"text-align:center\">\n",
    "<img src=\"https://64.media.tumblr.com/159a347844ee5f19c1a1ce4910b5208d/tumblr_nlkkg4zQFP1rwfctbo2_500.gifv\" width=800 height=800>\n",
    "</div>"
   ]
  },
  {
   "cell_type": "markdown",
   "id": "e101ef53-2ecd-476a-92e3-616bb2c0c848",
   "metadata": {},
   "source": [
    "To install ipywidgets (sometimes it does not show up)\n",
    "\n",
    "- `pip install ipywidgets` \n",
    "- `jupyter nbextension enable --py widgetsnbextension`"
   ]
  },
  {
   "cell_type": "code",
   "execution_count": null,
   "id": "ecde351a-78a8-44cc-980e-3e17d7fea542",
   "metadata": {},
   "outputs": [],
   "source": [
    "# first our usual bookkeeping\n",
    "%matplotlib inline\n",
    "import matplotlib\n",
    "import matplotlib.pyplot as plt\n",
    "import numpy as np\n",
    "import scipy.signal as signal\n",
    "from scipy.io import wavfile\n",
    "import IPython\n",
    "from IPython.display import display\n",
    "\n",
    "import helpers.plot"
   ]
  },
  {
   "cell_type": "code",
   "execution_count": null,
   "id": "1e61e1e1-9aaa-459b-b294-a578a56189a1",
   "metadata": {},
   "outputs": [],
   "source": [
    "plt.rcParams[\"figure.figsize\"] = (12,4)"
   ]
  },
  {
   "cell_type": "markdown",
   "id": "7803825f-74e7-487d-9ebf-f6d382d247ae",
   "metadata": {
    "tags": []
   },
   "source": [
    "# A dash of cosine, a sprinkle of sine, and just the right amount of amplitude!\n",
    "\n",
    "**Task 1:** As a first (small) exercise, fill in the code bellow to **create a sinusoid with $f$ the frequency**. Here are some clues: we would like to have an array of $N = 1000$ samples for each second (so that 1 sample = 1/1000 seconds). Then **fill the variable** `my_sine` with a sine of frequency 1Hz."
   ]
  },
  {
   "cell_type": "code",
   "execution_count": null,
   "id": "5fe9c0d1-cfc5-44e7-9d58-e53dad261000",
   "metadata": {},
   "outputs": [],
   "source": [
    "### Your code HERE ###\n",
    "\n",
    "N = 1000 #number of samples per second\n",
    "length = 3 #seconds\n",
    "time = np.linspace(0, length, N*length) #time axis: we generate all the \"t\"s as a long vector before performing sin(t)\n",
    "\n",
    "def sine(t, f):\n",
    "    return ...\n",
    "\n",
    "#sanity check: is the period one? does the plot stop at 3? If you change the amplitude, does it show?\n",
    "my_sine = ...\n",
    "plt.plot(time, my_sine)"
   ]
  },
  {
   "cell_type": "markdown",
   "id": "73e49f62-b7ed-49e0-83bb-bd805e73c277",
   "metadata": {},
   "source": [
    "Now let's use our `sine` function as a basis to compute other functions. \n",
    "\n",
    "**Task 2:** : Implement the following functions in the cell bellow:\n",
    "- $y_1(t) = 2sin(2\\pi ft)$\n",
    "- $y_2(t) = sin(2\\pi ft) + sin(4\\pi ft)$\n",
    "- $y_3(t) = \\frac{4}{\\pi}sin(2\\pi ft) +  \\frac{4}{3\\pi}sin(6\\pi ft)$\n",
    "- $y_4(t) = y_3(t) +  \\frac{4}{5\\pi}sin(10\\pi ft) + \\frac{4}{7\\pi}sin(14\\pi ft) + \\frac{4}{9\\pi}sin(18\\pi ft) $\n",
    "\n",
    "We are making you plot different functions based on sine so that you can see how adding sines might look like. And it is not THAT straightforward! Before running the cell to plot the $y_i$, try to imagine what they look like!\n",
    "\n",
    "*Remark: You might even recognize that $y_3$ and $y_4$ are very close, and look like something you might know if you were to draw it by hand...*"
   ]
  },
  {
   "cell_type": "code",
   "execution_count": null,
   "id": "0ef4be72-c835-4978-ad26-ecbeb01c7145",
   "metadata": {},
   "outputs": [],
   "source": [
    "### Your code HERE ###\n",
    "f = 20\n",
    "t = np.linspace(0, 1000,100)\n",
    "\n",
    "y1= ...\n",
    "y2= ...\n",
    "y3= ...\n",
    "y4= ..."
   ]
  },
  {
   "cell_type": "code",
   "execution_count": null,
   "id": "553dce80-07af-4ba8-bfe3-15c412152b40",
   "metadata": {},
   "outputs": [],
   "source": [
    "# run this cell to plot\n",
    "fig, axs = plt.subplots(2, 2)\n",
    "axs[0, 0].plot(t, y1)\n",
    "axs[0, 0].set_title('y_1(t)')\n",
    "axs[0, 1].plot(t, y2, 'tab:orange')\n",
    "axs[0, 1].set_title('y_2(t)')\n",
    "axs[1, 0].plot(t, y3, 'tab:green')\n",
    "axs[1, 0].set_title('y_3(t)')\n",
    "axs[1, 1].plot(t, y4, 'tab:red')\n",
    "axs[1, 1].set_title('y_4(t)')\n",
    "\n",
    "for ax in axs.flat:\n",
    "    ax.set(xlabel='time', ylabel='amplitude')\n",
    "for ax in axs.flat:\n",
    "    ax.label_outer()\n"
   ]
  },
  {
   "cell_type": "markdown",
   "id": "556a61f3-0ab3-4ff1-baab-b62d3c438cb1",
   "metadata": {},
   "source": [
    "\n",
    "<div style=\"text-align:center\">\n",
    "<img src=\"https://media.giphy.com/media/5Wyv8urxxclm8/giphy.gif\" width=500 height=500>\n",
    "</div>"
   ]
  },
  {
   "cell_type": "markdown",
   "id": "0d49aa71-aa67-4150-92d5-3551d9217423",
   "metadata": {},
   "source": [
    "## Now that you have seen how we can create different functions by summing sinusoids, let us get a bit more technical!\n",
    "Remember Euler's equality : \n",
    "<p style=\"text-align: center;\">$sin(2 \\pi ft) = \\frac{e^{j 2 \\pi f t} - e^{-j 2 \\pi f t}}{2j}$ </p>\n",
    "\n",
    "\n",
    "\n",
    "Similar to cooking, where *fresh* ingredients make all the difference instead of using *pre-made* dishes, we can break down each of our sinusoids even further to use the raw and flavorful complex exponentials! By switching to complex exponentials, we can cook up complex signals with even more freedom and creativity in our signal kitchen! **Let us rewrite $y_4$ (from which you might have recognized that it is a square wave)**:\n",
    "\n",
    "**Recipe for a square wave** (using pre-made ingredients!)\n",
    "- $\\frac{4}{\\pi}$ of a  sinusoids with frequency $f$\n",
    "- $\\frac{4}{3\\pi}$ of a sinusoids with frequency $3f$\n",
    "- ...\n",
    "\n",
    "**Recipe for a square wave (revised)** (using fresh ingredients!)\n",
    "- $\\frac{4}{\\pi}$ of a complex exponential with frequency $f$ \n",
    "- $\\frac{4}{\\pi}$ of a complex exponential with frequency $-f$\n",
    "- $\\frac{4}{3\\pi}$ of a complex exponential with frequency $3f$ \n",
    "- $\\frac{4}{3\\pi}$ of a complex exponential with frequency $-3f$\n",
    "- ...\n",
    "\n",
    "\n",
    "We will return to cooking in a second, but if we wanted to represent this function by showing how much of \"one\" type of complex exponential we have, we could even make some type of box function as such:"
   ]
  },
  {
   "cell_type": "code",
   "execution_count": null,
   "id": "4567edec-58b8-42bb-8aed-673de601038f",
   "metadata": {},
   "outputs": [],
   "source": [
    "frequency = ['-9f', '-8f', '-7f', '-6f', '-5f', '-4f', '-3f', '-2f', '-f', '0','f','2f', '3f', '4f', '5f', '6f', '7f', '8f', '9f']\n",
    "magnitude = [(4/(9*np.pi)),0,(4/(7*np.pi)),0,(4/(5*np.pi)),0,(4/(3*np.pi)),0,(4/np.pi),0,(4/np.pi), 0,(4/(3*np.pi)), 0,(4/(5*np.pi)), 0,(4/(7*np.pi)), 0,(4/(9*np.pi))]#lmao change this to correct form\n",
    "plt.bar(frequency,magnitude)\n",
    "plt.title('Amount present in each complex exponential ordered by frequency')\n",
    "plt.xlabel('Frequency of the complex exponential')\n",
    "plt.ylabel('Amount (=Amplitude)')\n",
    "plt.show()"
   ]
  },
  {
   "cell_type": "markdown",
   "id": "3ac38488-7521-461b-a840-83cad0ddb753",
   "metadata": {},
   "source": [
    "**Since our goal is to show what is a Fourier transform, run the cell bellow to see a glimpse before we explain what the Fourier transform of the \"real\" box function is:**"
   ]
  },
  {
   "cell_type": "code",
   "execution_count": null,
   "id": "2f5d06af-10e0-47bc-95d7-f011a623d77d",
   "metadata": {},
   "outputs": [],
   "source": [
    "t = np.linspace(0, 1000,100)\n",
    "f = 20\n",
    "real_box = signal.square(2 * np.pi * f * t)\n",
    "fourier_transform = np.abs(np.fft.fftshift(np.fft.fft(real_box)))\n",
    "\n",
    "fig, axs = plt.subplots(1, 2)\n",
    "axs[0].plot(t, real_box)\n",
    "axs[0].set_title('box function')\n",
    "axs[1].plot(t, fourier_transform, 'tab:orange')\n",
    "axs[1].set_title('Fourier transform of box function')\n",
    "\n",
    "for ax in axs.flat:\n",
    "    axs[0].set(xlabel='time', ylabel='amplitude')\n",
    "    axs[1].set(xlabel='frequency', ylabel='magnitude')"
   ]
  },
  {
   "cell_type": "markdown",
   "id": "32273668-be0f-49dc-ac11-99b2ff77c550",
   "metadata": {},
   "source": [
    "Odly similar to our bar plot isn't it?...\n",
    "*Making the same plot using two different techniques is like baking a chocolate cake with two different methods - both still produce a chocolate dessert, but the techniques used can result in subtle differences in the final product!*"
   ]
  },
  {
   "cell_type": "markdown",
   "id": "40d04c0a-8398-4d56-96f7-9c2e340af5d1",
   "metadata": {},
   "source": [
    "# A whole new flavor of signal processing: the change of basis!\n",
    "\n",
    "Let us recap what we have done so far: we can represent a signal as a function of its frequencies, by counting *how much one complex exponential with some frequency is present*. When we represent the function like in our bar plot, we say that we are in the **frequency domain**. When we represent the function as we usually do, as a function of time, then we are in the **time domain**. \n",
    "\n",
    "We can easily go from the frequency domain (bar plot) to the time domain by *summing the different complex exponentials* with their corresponding coefficients. **But how do we get from the time domain to the frequency domain?**\n",
    "\n",
    "## Linear algebra for functions\n",
    "\n",
    "We can use functions just like vectors in linear algebra (if you think about it, both are just a collection of points!). From the previous lab, remember that given a basis of N vectors $\\{\\textbf{w}^{(k)}\\}_{k=0, 1, ..., N-1}$ we can write any vector $\\textbf{x}$ as $\\textbf{x} = \\sum^{N-1}_{k=0} \\alpha_k \\textbf{w}^{(k)}$.\n",
    "\n",
    "For us, the basis $\\{\\textbf{w}^{(k)}\\}$  is the Fourier oscillatory basis, namely $w_n^{(k)} = e^{j\\frac{2 \\pi}{N} nk}$ ($n$ in subscript represents the index in the vector). For now, we will just admit that this base is orthogonal (you will see all the details in class, but let us focus on interpretation for now). \n",
    "\n",
    "*Remark: Our Fourier oscillatory basis strangely resembles something we have already used... Do you see it yet?*\n",
    "\n",
    "\n",
    "\n"
   ]
  },
  {
   "cell_type": "markdown",
   "id": "1f6e198b-e328-4730-bad6-746e5ca3f804",
   "metadata": {},
   "source": [
    "\n",
    "<div style=\"text-align:center\">\n",
    "<img src=\"https://media.giphy.com/media/nJ2PObJA3EVgc/giphy.gif\" width=\"500\" height=\"500\">\n",
    "</div>"
   ]
  },
  {
   "cell_type": "markdown",
   "id": "67ae25ae-7e62-4d7b-a39f-49e673f04981",
   "metadata": {},
   "source": [
    "You got it correct! If you did not: our Fourier oscillatory *basis corresponds* to the basic ingredients that we used in our cooking recipe to go from **frequency domain** to **time domain**! \n",
    "\n",
    "In fact this gives us our first formula: the **Inverse Fourier Transform**\n",
    "\n",
    "<p style=\"text-align: center;\">$x[n] = \\frac{1}{N} \\sum^{N-1}_{k=0} X[k] e^{j \\frac{2 \\pi}{N} nk}$, with   $n= 0 , 1, ..., N-1$</p>\n",
    "\n",
    "\n",
    "with $x[n]$ our function in the time domain, and $X[k]$ our function in the frequency domain (which acts like coefficients). \n"
   ]
  },
  {
   "cell_type": "markdown",
   "id": "25790532-886c-457d-a5ef-11dbc61cc9dc",
   "metadata": {},
   "source": [
    "## But what about the actual Fourier transform? \n",
    "\n",
    "Well it is the change of basis in the other way! You will demonstrate this in class, but *the basis used is almost the same*. \n",
    "<p style=\"text-align: center;\">$X[k] = \\sum^{N-1}_{n=0} x[n] e^{-j \\frac{2\\pi}{N}nk}$, with $k = 0, 1, ..., N-1$</p>"
   ]
  },
  {
   "cell_type": "markdown",
   "id": "bb212b81-258b-4b0d-b394-63e1ced97f1c",
   "metadata": {},
   "source": [
    "**Task 3:** : find out which note is the guitar playing. \n",
    "For this, fill in the functions `fourier_transform` and `important_frequency`: first we use the fourier tranform to get the amplitude for each frequency, then we take the frequency with the highest amplitude \n",
    "- `fourier_transform`: you need to implement the formula as seen above. You might want to use previously seen numpy functions such as `np.sum`, `np.exp`, `np.arange` to implement it quickly\n",
    "- `important_frequency`: when dealing with fourier transform, we can study two components: phase and magnitude. The magnitude represents \"how much of this complex exponential we have\", therefore we want to get the highest. You might want to use functions such as `np.argmax` and `np.abs`.\n",
    "\n",
    "Once you are done, you can check the website https://pages.mtu.edu/~suits/notefreqs.html to check your perfect ear and see if you got the correct note!"
   ]
  },
  {
   "cell_type": "code",
   "execution_count": null,
   "id": "2e8e27bb-db39-42fd-bec2-97a674956dac",
   "metadata": {},
   "outputs": [],
   "source": [
    "# Exercise: from this audio, find out what the frequencies are\n",
    "fs, data = wavfile.read(\"data/string_guitar.wav\")\n",
    "data = data.T \n",
    "IPython.display.Audio(data=data, rate=fs, embed=True)"
   ]
  },
  {
   "cell_type": "code",
   "execution_count": null,
   "id": "90c481cf-0672-45b6-8749-8164a6baa7fd",
   "metadata": {},
   "outputs": [],
   "source": [
    "### Your code HERE ###\n",
    "def fourier_transform(N, x_n, k):\n",
    "    n = ... #create the samples indices\n",
    "    transform = ... \n",
    "    return transform\n",
    "\n",
    "def important_frequency(X_k, f_axis):\n",
    "    return ...\n",
    "\n",
    "\n",
    "#Test your functions on a piece of the guitar and compare with the fft algorithm. \n",
    "#Be careful! You cannot process too many samples at once, but why is that?\n",
    "\n",
    "### Your code HERE ###\n",
    "x_n = ... \n",
    "print(f\"The frequency of the guitar is {important_frequency(X_f, np.abs(f_axis)): .2f}\") "
   ]
  },
  {
   "cell_type": "markdown",
   "id": "ed67a679-b49e-4c34-b279-42f4f9bff0f4",
   "metadata": {},
   "source": [
    "# Plotting the DFT: the icing on the cake\n",
    "\n",
    "Let us recap what we have seen so far: we have two spaces namely the frequency domain and the time domain to represent a function. Each domain has its own base, and we can represent a signal using a basis extension, just like we do for vectors! We can also go from one domain to another by changing basis. To go from time to frequency domain, we use the Fourier transform, and to go from frequency to time domain the inverse fourier transform. \n",
    "\n",
    "Now that you understand how we represent functions in the frequency domain, you can play with the code below:"
   ]
  },
  {
   "cell_type": "code",
   "execution_count": null,
   "id": "7f2c0e2d-5d4b-457f-a05e-200a4f122aa2",
   "metadata": {},
   "outputs": [],
   "source": [
    "import ipywidgets as widgets\n",
    "\n",
    "# define the sampling frequency and duration\n",
    "fs = 10000  # sampling frequency\n",
    "duration = 0.1  # duration in seconds\n",
    "\n",
    "# define the time array\n",
    "t = np.arange(0, duration, 1/fs)\n",
    "\n",
    "def plot_exponentials(freq1, freq2, freq3, amp1, amp2, amp3, show_exp1, show_exp2, show_exp3):\n",
    "    y = np.zeros(len(t), dtype=complex)\n",
    "    if show_exp1:\n",
    "        y += amp1*np.exp(2j*np.pi*freq1*t)\n",
    "    if show_exp2:\n",
    "        y += amp2*np.exp(2j*np.pi*freq2*t)\n",
    "    if show_exp3:\n",
    "        y += amp3*np.exp(2j*np.pi*freq3*t)\n",
    "    plot.fdplot(y, fs, 'y', 'sum of exponentials')\n",
    "\n",
    "freq1_slider, amp1_slider, show_exp1_checkbox, freq2_slider, amp2_slider, show_exp2_checkbox, freq3_slider, amp3_slider, show_exp3_checkbox = plot.create_sliders()\n",
    "tabs = plot.organize_tab(freq1_slider, amp1_slider, show_exp1_checkbox, freq2_slider, amp2_slider, show_exp2_checkbox, freq3_slider, amp3_slider, show_exp3_checkbox)\n",
    "\n",
    "# create the final widget with the tab and output\n",
    "widget = widgets.VBox([tabs, widgets.interactive_output(plot_exponentials, {\n",
    "    'freq1': freq1_slider,\n",
    "    'freq2': freq2_slider,\n",
    "    'freq3': freq3_slider,\n",
    "    'amp1': amp1_slider,\n",
    "    'amp2': amp2_slider,\n",
    "    'amp3': amp3_slider,\n",
    "    'show_exp1': show_exp1_checkbox,\n",
    "    'show_exp2': show_exp2_checkbox,\n",
    "    'show_exp3': show_exp3_checkbox\n",
    "})])\n",
    "\n",
    "# display the widget\n",
    "display(widget)"
   ]
  },
  {
   "cell_type": "markdown",
   "id": "d7a3f6d7-5c49-4185-90de-5d90e22520b5",
   "metadata": {},
   "source": [
    "What to notice:\n",
    "- If you tick for a new exponential, a new pic will show up in the frequency domain with the corresponding frequency\n",
    "- If you put two exponentials at the same frequency, then you will have indeed a higher magnitude\n",
    "- If you put one exponential at frequency $f$ and another one at frequency $-f$, then you create a cosine! You even see that the imaginary components cancel each other, which is why you have a flat orange line and indeed you can see in time domain that the shape looks like a cosine. Because the signal is now real valued, the frequency spectrum is symmetric\n",
    "- If you change the amplitude, then you can see a difference in the frequency domain\n",
    "\n",
    "## And **voila**! You are now a Fourier transform chef!\n",
    "\n",
    "<div style=\"text-align:center\">\n",
    "<img src=\"https://media.giphy.com/media/2s7lb48XP0yje/giphy.gif\" width=\"800\" height=\"800\">\n",
    "</div>\n"
   ]
  },
  {
   "cell_type": "code",
   "execution_count": null,
   "id": "68f7d2b4-11a2-4155-a73b-b6ba15933e99",
   "metadata": {},
   "outputs": [],
   "source": []
  }
 ],
 "metadata": {
  "kernelspec": {
   "display_name": "Python 3 (ipykernel)",
   "language": "python",
   "name": "python3"
  },
  "language_info": {
   "codemirror_mode": {
    "name": "ipython",
    "version": 3
   },
   "file_extension": ".py",
   "mimetype": "text/x-python",
   "name": "python",
   "nbconvert_exporter": "python",
   "pygments_lexer": "ipython3",
   "version": "3.10.6"
  },
  "toc-autonumbering": true,
  "toc-showmarkdowntxt": false
 },
 "nbformat": 4,
 "nbformat_minor": 5
}
