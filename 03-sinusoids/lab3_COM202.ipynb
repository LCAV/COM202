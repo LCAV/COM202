{
 "cells": [
  {
   "cell_type": "markdown",
   "id": "dc969cd0-5ec2-43f0-9458-a3c87d1ba8b3",
   "metadata": {},
   "source": [
    "<div style=\"margin: 0 auto 30px; height: 60px; border: 2px solid gray; border-radius: 6px;\">\n",
    "  <div style=\"float: left;\"><img src=\"img/epfl.png\" /></div>\n",
    "  <div style=\"float: right; margin: 20px 30px 0; font-size: 10pt; font-weight: bold;\"><a href=\"https://moodle.epfl.ch/course/view.php?id=18253\">COM202 - Signal Processing</a></div>\n",
    "</div>\n",
    "<div style=\"clear: both; font-size: 30pt; font-weight: bold; color: #483D8B;\">\n",
    "    Lab 3: Cooking with Sinusoids\n",
    "</div>"
   ]
  },
  {
   "cell_type": "markdown",
   "id": "4a45a747-eb08-4606-9621-323a4f212286",
   "metadata": {},
   "source": [
    "In this notebook, we look at another possible signal representation, directed towards frequency. We begin by plotting simple functions, and then move to understanding the concept of Fourier Transforms intuitively. By the end of the lab, you should get a first understanding of what Fourier transforms are used for, and of interesting properties they hold.\n",
    "<div style=\"text-align:center\">\n",
    "<img src=\"https://64.media.tumblr.com/159a347844ee5f19c1a1ce4910b5208d/tumblr_nlkkg4zQFP1rwfctbo2_500.gifv\" width=800 height=800>\n",
    "</div>"
   ]
  },
  {
   "cell_type": "markdown",
   "id": "e101ef53-2ecd-476a-92e3-616bb2c0c848",
   "metadata": {},
   "source": [
    "First, some bookkeeping: if you need to install ipywidgets (or enable it if it does not show up)\n",
    "\n",
    "- `pip install ipywidgets` \n",
    "- `jupyter nbextension enable --py widgetsnbextension`"
   ]
  },
  {
   "cell_type": "code",
   "execution_count": 1,
   "id": "ecde351a-78a8-44cc-980e-3e17d7fea542",
   "metadata": {},
   "outputs": [],
   "source": [
    "%matplotlib inline\n",
    "import matplotlib\n",
    "import matplotlib.pyplot as plt\n",
    "import numpy as np\n",
    "import IPython\n",
    "from IPython.display import display"
   ]
  },
  {
   "cell_type": "code",
   "execution_count": 2,
   "id": "1e61e1e1-9aaa-459b-b294-a578a56189a1",
   "metadata": {},
   "outputs": [],
   "source": [
    "plt.rcParams[\"figure.figsize\"] = (12,4)"
   ]
  },
  {
   "cell_type": "markdown",
   "id": "45cbb1ae-e381-4608-9a82-e52fea0b9499",
   "metadata": {
    "tags": []
   },
   "source": [
    "# A dash of cosine, a sprinkle of sine, and just the right amount of amplitude!\n",
    "\n",
    "In this first part of the notebook, let's play a bit with simple sinusoidal functions, the type you have alredy encountered in your previous math classes. Since we are talking about functions of a real variable, of course we will only be able to compute their values (and plot them) for a finite set of points but, in principle, we can use as fine a resolution as allowed by NumPy's numerical precision."
   ]
  },
  {
   "cell_type": "markdown",
   "id": "3857423c-9daa-459e-8632-1efe675e09c0",
   "metadata": {},
   "source": [
    "## Frequency and amplitude\n",
    "\n",
    "Consider the trigonometric function $A\\sin(2\\pi f t)$, where $t$ indicates time (in seconds); the parameters are\n",
    " * the frequency $f$, measured in hertz (Hz) that indicates the number of periods per second of the oscillations\n",
    " * the amplitude $A$"
   ]
  },
  {
   "cell_type": "markdown",
   "id": "5df609da-c71a-4d5e-a55f-4e3d026c9e54",
   "metadata": {
    "tags": []
   },
   "source": [
    "### Exercise: your sine function\n",
    "\n",
    "Complete the function prototype below so that, for a given frequency ``f`` (in Hz) and an array of time instants ``t`` (in seconds), it returns an array where each element is $\\sin(2\\pi f t)$ "
   ]
  },
  {
   "cell_type": "code",
   "execution_count": 3,
   "id": "e54cd900-83e7-4869-8791-450833e101e2",
   "metadata": {},
   "outputs": [],
   "source": [
    "def sine(f, t):\n",
    "    pass\n",
    "    # your code here"
   ]
  },
  {
   "cell_type": "markdown",
   "id": "0d2c4d21-956f-4c72-b8de-95f39877b309",
   "metadata": {},
   "source": [
    "Let's check that it works by plotting its values for a frequency of 1 Hz over $T$ seconds. Since, as we said, we can only compute the function over a discrete set of points, we will use the function ``linspace'' to create a uniformly-spaced set of time values between 0 and $T$:"
   ]
  },
  {
   "cell_type": "code",
   "execution_count": 4,
   "id": "291dff1c-14c4-4713-a4f8-106d12f598cc",
   "metadata": {},
   "outputs": [
    {
     "ename": "ValueError",
     "evalue": "x, y, and format string must not be None",
     "output_type": "error",
     "traceback": [
      "\u001b[1;31m---------------------------------------------------------------------------\u001b[0m",
      "\u001b[1;31mValueError\u001b[0m                                Traceback (most recent call last)",
      "\u001b[1;32m<ipython-input-4-584dcab6ee2a>\u001b[0m in \u001b[0;36m<module>\u001b[1;34m\u001b[0m\n\u001b[0;32m      4\u001b[0m \u001b[1;33m\u001b[0m\u001b[0m\n\u001b[0;32m      5\u001b[0m \u001b[0mf\u001b[0m \u001b[1;33m=\u001b[0m \u001b[1;36m1\u001b[0m\u001b[1;33m\u001b[0m\u001b[1;33m\u001b[0m\u001b[0m\n\u001b[1;32m----> 6\u001b[1;33m \u001b[0mplt\u001b[0m\u001b[1;33m.\u001b[0m\u001b[0mplot\u001b[0m\u001b[1;33m(\u001b[0m\u001b[0mt\u001b[0m\u001b[1;33m,\u001b[0m \u001b[0msine\u001b[0m\u001b[1;33m(\u001b[0m\u001b[0mf\u001b[0m\u001b[1;33m,\u001b[0m \u001b[0mt\u001b[0m\u001b[1;33m)\u001b[0m\u001b[1;33m)\u001b[0m\u001b[1;33m;\u001b[0m\u001b[1;33m\u001b[0m\u001b[1;33m\u001b[0m\u001b[0m\n\u001b[0m",
      "\u001b[1;32m~\\AppData\\Roaming\\Python\\Python38\\site-packages\\matplotlib\\pyplot.py\u001b[0m in \u001b[0;36mplot\u001b[1;34m(scalex, scaley, data, *args, **kwargs)\u001b[0m\n\u001b[0;32m   2767\u001b[0m \u001b[1;33m@\u001b[0m\u001b[0m_copy_docstring_and_deprecators\u001b[0m\u001b[1;33m(\u001b[0m\u001b[0mAxes\u001b[0m\u001b[1;33m.\u001b[0m\u001b[0mplot\u001b[0m\u001b[1;33m)\u001b[0m\u001b[1;33m\u001b[0m\u001b[1;33m\u001b[0m\u001b[0m\n\u001b[0;32m   2768\u001b[0m \u001b[1;32mdef\u001b[0m \u001b[0mplot\u001b[0m\u001b[1;33m(\u001b[0m\u001b[1;33m*\u001b[0m\u001b[0margs\u001b[0m\u001b[1;33m,\u001b[0m \u001b[0mscalex\u001b[0m\u001b[1;33m=\u001b[0m\u001b[1;32mTrue\u001b[0m\u001b[1;33m,\u001b[0m \u001b[0mscaley\u001b[0m\u001b[1;33m=\u001b[0m\u001b[1;32mTrue\u001b[0m\u001b[1;33m,\u001b[0m \u001b[0mdata\u001b[0m\u001b[1;33m=\u001b[0m\u001b[1;32mNone\u001b[0m\u001b[1;33m,\u001b[0m \u001b[1;33m**\u001b[0m\u001b[0mkwargs\u001b[0m\u001b[1;33m)\u001b[0m\u001b[1;33m:\u001b[0m\u001b[1;33m\u001b[0m\u001b[1;33m\u001b[0m\u001b[0m\n\u001b[1;32m-> 2769\u001b[1;33m     return gca().plot(\n\u001b[0m\u001b[0;32m   2770\u001b[0m         \u001b[1;33m*\u001b[0m\u001b[0margs\u001b[0m\u001b[1;33m,\u001b[0m \u001b[0mscalex\u001b[0m\u001b[1;33m=\u001b[0m\u001b[0mscalex\u001b[0m\u001b[1;33m,\u001b[0m \u001b[0mscaley\u001b[0m\u001b[1;33m=\u001b[0m\u001b[0mscaley\u001b[0m\u001b[1;33m,\u001b[0m\u001b[1;33m\u001b[0m\u001b[1;33m\u001b[0m\u001b[0m\n\u001b[0;32m   2771\u001b[0m         **({\"data\": data} if data is not None else {}), **kwargs)\n",
      "\u001b[1;32m~\\AppData\\Roaming\\Python\\Python38\\site-packages\\matplotlib\\axes\\_axes.py\u001b[0m in \u001b[0;36mplot\u001b[1;34m(self, scalex, scaley, data, *args, **kwargs)\u001b[0m\n\u001b[0;32m   1630\u001b[0m         \"\"\"\n\u001b[0;32m   1631\u001b[0m         \u001b[0mkwargs\u001b[0m \u001b[1;33m=\u001b[0m \u001b[0mcbook\u001b[0m\u001b[1;33m.\u001b[0m\u001b[0mnormalize_kwargs\u001b[0m\u001b[1;33m(\u001b[0m\u001b[0mkwargs\u001b[0m\u001b[1;33m,\u001b[0m \u001b[0mmlines\u001b[0m\u001b[1;33m.\u001b[0m\u001b[0mLine2D\u001b[0m\u001b[1;33m)\u001b[0m\u001b[1;33m\u001b[0m\u001b[1;33m\u001b[0m\u001b[0m\n\u001b[1;32m-> 1632\u001b[1;33m         \u001b[0mlines\u001b[0m \u001b[1;33m=\u001b[0m \u001b[1;33m[\u001b[0m\u001b[1;33m*\u001b[0m\u001b[0mself\u001b[0m\u001b[1;33m.\u001b[0m\u001b[0m_get_lines\u001b[0m\u001b[1;33m(\u001b[0m\u001b[1;33m*\u001b[0m\u001b[0margs\u001b[0m\u001b[1;33m,\u001b[0m \u001b[0mdata\u001b[0m\u001b[1;33m=\u001b[0m\u001b[0mdata\u001b[0m\u001b[1;33m,\u001b[0m \u001b[1;33m**\u001b[0m\u001b[0mkwargs\u001b[0m\u001b[1;33m)\u001b[0m\u001b[1;33m]\u001b[0m\u001b[1;33m\u001b[0m\u001b[1;33m\u001b[0m\u001b[0m\n\u001b[0m\u001b[0;32m   1633\u001b[0m         \u001b[1;32mfor\u001b[0m \u001b[0mline\u001b[0m \u001b[1;32min\u001b[0m \u001b[0mlines\u001b[0m\u001b[1;33m:\u001b[0m\u001b[1;33m\u001b[0m\u001b[1;33m\u001b[0m\u001b[0m\n\u001b[0;32m   1634\u001b[0m             \u001b[0mself\u001b[0m\u001b[1;33m.\u001b[0m\u001b[0madd_line\u001b[0m\u001b[1;33m(\u001b[0m\u001b[0mline\u001b[0m\u001b[1;33m)\u001b[0m\u001b[1;33m\u001b[0m\u001b[1;33m\u001b[0m\u001b[0m\n",
      "\u001b[1;32m~\\AppData\\Roaming\\Python\\Python38\\site-packages\\matplotlib\\axes\\_base.py\u001b[0m in \u001b[0;36m__call__\u001b[1;34m(self, data, *args, **kwargs)\u001b[0m\n\u001b[0;32m    310\u001b[0m                 \u001b[0mthis\u001b[0m \u001b[1;33m+=\u001b[0m \u001b[0margs\u001b[0m\u001b[1;33m[\u001b[0m\u001b[1;36m0\u001b[0m\u001b[1;33m]\u001b[0m\u001b[1;33m,\u001b[0m\u001b[1;33m\u001b[0m\u001b[1;33m\u001b[0m\u001b[0m\n\u001b[0;32m    311\u001b[0m                 \u001b[0margs\u001b[0m \u001b[1;33m=\u001b[0m \u001b[0margs\u001b[0m\u001b[1;33m[\u001b[0m\u001b[1;36m1\u001b[0m\u001b[1;33m:\u001b[0m\u001b[1;33m]\u001b[0m\u001b[1;33m\u001b[0m\u001b[1;33m\u001b[0m\u001b[0m\n\u001b[1;32m--> 312\u001b[1;33m             \u001b[1;32myield\u001b[0m \u001b[1;32mfrom\u001b[0m \u001b[0mself\u001b[0m\u001b[1;33m.\u001b[0m\u001b[0m_plot_args\u001b[0m\u001b[1;33m(\u001b[0m\u001b[0mthis\u001b[0m\u001b[1;33m,\u001b[0m \u001b[0mkwargs\u001b[0m\u001b[1;33m)\u001b[0m\u001b[1;33m\u001b[0m\u001b[1;33m\u001b[0m\u001b[0m\n\u001b[0m\u001b[0;32m    313\u001b[0m \u001b[1;33m\u001b[0m\u001b[0m\n\u001b[0;32m    314\u001b[0m     \u001b[1;32mdef\u001b[0m \u001b[0mget_next_color\u001b[0m\u001b[1;33m(\u001b[0m\u001b[0mself\u001b[0m\u001b[1;33m)\u001b[0m\u001b[1;33m:\u001b[0m\u001b[1;33m\u001b[0m\u001b[1;33m\u001b[0m\u001b[0m\n",
      "\u001b[1;32m~\\AppData\\Roaming\\Python\\Python38\\site-packages\\matplotlib\\axes\\_base.py\u001b[0m in \u001b[0;36m_plot_args\u001b[1;34m(self, tup, kwargs, return_kwargs)\u001b[0m\n\u001b[0;32m    457\u001b[0m         \u001b[1;31m# element array of None which causes problems downstream.\u001b[0m\u001b[1;33m\u001b[0m\u001b[1;33m\u001b[0m\u001b[1;33m\u001b[0m\u001b[0m\n\u001b[0;32m    458\u001b[0m         \u001b[1;32mif\u001b[0m \u001b[0many\u001b[0m\u001b[1;33m(\u001b[0m\u001b[0mv\u001b[0m \u001b[1;32mis\u001b[0m \u001b[1;32mNone\u001b[0m \u001b[1;32mfor\u001b[0m \u001b[0mv\u001b[0m \u001b[1;32min\u001b[0m \u001b[0mtup\u001b[0m\u001b[1;33m)\u001b[0m\u001b[1;33m:\u001b[0m\u001b[1;33m\u001b[0m\u001b[1;33m\u001b[0m\u001b[0m\n\u001b[1;32m--> 459\u001b[1;33m             \u001b[1;32mraise\u001b[0m \u001b[0mValueError\u001b[0m\u001b[1;33m(\u001b[0m\u001b[1;34m\"x, y, and format string must not be None\"\u001b[0m\u001b[1;33m)\u001b[0m\u001b[1;33m\u001b[0m\u001b[1;33m\u001b[0m\u001b[0m\n\u001b[0m\u001b[0;32m    460\u001b[0m \u001b[1;33m\u001b[0m\u001b[0m\n\u001b[0;32m    461\u001b[0m         \u001b[0mkw\u001b[0m \u001b[1;33m=\u001b[0m \u001b[1;33m{\u001b[0m\u001b[1;33m}\u001b[0m\u001b[1;33m\u001b[0m\u001b[1;33m\u001b[0m\u001b[0m\n",
      "\u001b[1;31mValueError\u001b[0m: x, y, and format string must not be None"
     ]
    },
    {
     "data": {
      "image/png": "[encoded data removed]",
      "text/plain": [
       "<Figure size 864x288 with 1 Axes>"
      ]
     },
     "metadata": {
      "needs_background": "light"
     },
     "output_type": "display_data"
    }
   ],
   "source": [
    "T = 3    # seconds\n",
    "S = 1000 # number of data points per second\n",
    "t = np.linspace(0, T, T * S)\n",
    "\n",
    "f = 1\n",
    "plt.plot(t, sine(f, t));"
   ]
  },
  {
   "cell_type": "markdown",
   "id": "4bbc990b-51da-4e1f-b53a-87a896f3c16f",
   "metadata": {
    "tags": []
   },
   "source": [
    "Now try to answer the following questions:\n",
    " * what is the _period_ of the sinusoid we just plotted?\n",
    " * what is its _amplitude_?"
   ]
  },
  {
   "cell_type": "markdown",
   "id": "68691768-5e77-41e0-88ae-5452977d956d",
   "metadata": {
    "tags": []
   },
   "source": [
    "### Exercise: from smooth to jagged\n",
    "\n",
    "Using a lot of points per second produces a very smooth plot that recalls a truly continous-time function. But what happens if you progressively reduce the density of points per second? Can you explain why the plots look like they do?"
   ]
  },
  {
   "cell_type": "code",
   "execution_count": null,
   "id": "16936132-63ca-48d8-ac03-4f70264d3a9c",
   "metadata": {},
   "outputs": [],
   "source": [
    "for n, S in enumerate([1000, 100, 10, 5]):\n",
    "    plt.subplot(2, 2, n+1)\n",
    "    t = np.linspace(0, T, T * S)\n",
    "    plt.plot(t, sine(f, t));"
   ]
  },
  {
   "cell_type": "markdown",
   "id": "e2d50888-6f43-4be4-a265-9051f1123fe7",
   "metadata": {},
   "source": [
    "## Mixing sinusoids together\n",
    "\n",
    "The surprising thing about sinusoidal oscillations is that they can be combined to produce virtually any curve in time. Let's try. "
   ]
  },
  {
   "cell_type": "markdown",
   "id": "5d328460-2bc4-406b-a918-624a1788cc8d",
   "metadata": {},
   "source": [
    "### Exercise: a few side dishes\n",
    "\n",
    "Implement the following functions in the cells below:\n",
    "\n",
    "- $y_1(f, t) = 2\\sin(2\\pi ft)$\n",
    "- $y_2(f, t) = \\sin(2\\pi ft) + \\sin(4\\pi ft)$\n",
    "- $y_3(f, t) = \\frac{4}{\\pi}\\sin(2\\pi ft) +  \\frac{4}{3\\pi}\\sin(6\\pi ft)$\n",
    "- $y_4(f, t) = y_3(f, t) +  \\frac{4}{5\\pi}\\sin(10\\pi ft) + \\frac{4}{7\\pi}\\sin(14\\pi ft) + \\frac{4}{9\\pi}\\sin(18\\pi ft)$"
   ]
  },
  {
   "cell_type": "code",
   "execution_count": null,
   "id": "2d790681-51fb-4434-a9e4-02b40cdbe3f5",
   "metadata": {},
   "outputs": [],
   "source": [
    "def y1(f, t): \n",
    "    pass"
   ]
  },
  {
   "cell_type": "code",
   "execution_count": null,
   "id": "e3766394-577c-43a1-a3ad-6f5eda06595c",
   "metadata": {},
   "outputs": [],
   "source": [
    "def y2(f, t): \n",
    "    pass"
   ]
  },
  {
   "cell_type": "code",
   "execution_count": null,
   "id": "1c86cc0a-d7f3-48c0-bea7-c47fca359737",
   "metadata": {},
   "outputs": [],
   "source": [
    "def y3(f, t): \n",
    "    pass"
   ]
  },
  {
   "cell_type": "code",
   "execution_count": null,
   "id": "7e7174c6-9c96-4f0d-aba7-fcb214a87d13",
   "metadata": {},
   "outputs": [],
   "source": [
    "def y4(f, t): \n",
    "    pass"
   ]
  },
  {
   "cell_type": "markdown",
   "id": "39187311-4e60-47f0-8f45-39806a86063d",
   "metadata": {},
   "source": [
    "Now let's plot the result but try to think of what the plots may look like before you run the next cell..."
   ]
  },
  {
   "cell_type": "code",
   "execution_count": null,
   "id": "0ef4be72-c835-4978-ad26-ecbeb01c7145",
   "metadata": {},
   "outputs": [],
   "source": [
    "T = 2    # seconds\n",
    "S = 1000 # number of data points per second\n",
    "t = np.linspace(0, T, T * S)\n",
    "\n",
    "for n in range(1, 5):\n",
    "    plt.subplot(2, 2, n)\n",
    "    plt.plot(t, eval(f'y{n}(f, t)'), f'C{n}')"
   ]
  },
  {
   "cell_type": "markdown",
   "id": "556a61f3-0ab3-4ff1-baab-b62d3c438cb1",
   "metadata": {},
   "source": [
    "\n",
    "<div style=\"text-align:center\">\n",
    "<img src=\"https://media.giphy.com/media/5Wyv8urxxclm8/giphy.gif\" width=500 height=500>\n",
    "</div>"
   ]
  },
  {
   "cell_type": "markdown",
   "id": "bbd0344d-d2a2-48dc-81c7-cfb4812f8192",
   "metadata": {},
   "source": [
    "## A more exotic ingredient\n",
    "\n",
    "Now that you have had a first example of how we can create different functions by summing sinusoids, let us get a bit more technical. Remember Euler's equality:\n",
    "\n",
    "$$\n",
    "    \\sin(2 \\pi ft) = \\frac{e^{j 2 \\pi f t} - e^{-j 2 \\pi f t}}{2j}\n",
    "$$\n",
    "\n",
    "Similar to cooking, where *fresh* ingredients make all the difference instead of using *pre-made* dishes, we can break down each of our sinusoids even further to use the raw and flavorful complex exponentials! By switching to complex exponentials, we can cook up complex signals with even more freedom and creativity in our signal kitchen! \n",
    "\n",
    "For instance, consider the function $y_4(f, t)$ that you just defined; you have certainly recognized that it produces an approximation to a square wave. The original recipe was (using pre-made ingredients):\n",
    "\n",
    "- $\\frac{4}{\\pi}$ of a  sine with frequency $f$\n",
    "- $\\frac{4}{3\\pi}$ of a sine with frequency $3f$\n",
    "- ...\n",
    "\n",
    "Using complex exponentials we have:\n",
    "- $\\frac{4}{\\pi}$ of a complex exponential with frequency $f$ \n",
    "- $\\frac{4}{\\pi}$ of a complex exponential with frequency $-f$\n",
    "- $\\frac{4}{3\\pi}$ of a complex exponential with frequency $3f$ \n",
    "- $\\frac{4}{3\\pi}$ of a complex exponential with frequency $-3f$\n",
    "- ..."
   ]
  },
  {
   "cell_type": "markdown",
   "id": "eea042ec-4d9e-4ff7-9ce6-bdfa6f7f9587",
   "metadata": {},
   "source": [
    "### Complex numbers are easy in Python\n",
    "\n",
    "Let's rewrite $y_4(f, t)$ and plot the result:"
   ]
  },
  {
   "cell_type": "code",
   "execution_count": null,
   "id": "7c5e92fc-2432-4067-a58c-9e22ca700c68",
   "metadata": {},
   "outputs": [],
   "source": [
    "def y4_ce(f, t):\n",
    "    return 4 * np.sum([np.exp(2j * np.pi * k * f * t) / (2j * k) for k in range(-9, 10, 2)], axis=0) / np.pi "
   ]
  },
  {
   "cell_type": "code",
   "execution_count": null,
   "id": "ad4eb26f-5ac6-4959-9042-49ec5a0a4a1d",
   "metadata": {},
   "outputs": [],
   "source": [
    "plt.plot(y4_ce(f, t));"
   ]
  },
  {
   "cell_type": "markdown",
   "id": "c3a2d4b6-def3-450a-bb12-e05d13ff39df",
   "metadata": {},
   "source": [
    "Oh no, why the warning? Well, in theory the imaginary part of the sum of complex exponentials should cancel out; but, because of slight numerical imprecisions, the cancellation is not perfect and a small amount remains:"
   ]
  },
  {
   "cell_type": "code",
   "execution_count": null,
   "id": "eece12ac-d050-4a71-bf8d-3ce9e367ec44",
   "metadata": {},
   "outputs": [],
   "source": [
    "plt.plot(np.imag(y4_ce(f, t)));"
   ]
  },
  {
   "cell_type": "markdown",
   "id": "3ad1bb1f-30f2-4e50-9d0e-e91d9719304f",
   "metadata": {},
   "source": [
    "We can fix that by discarding the imaginary part:"
   ]
  },
  {
   "cell_type": "code",
   "execution_count": null,
   "id": "2adbfeea-fb71-4036-a263-7576c0add7b5",
   "metadata": {},
   "outputs": [],
   "source": [
    "plt.plot(np.real(y4_ce(f, t)));"
   ]
  },
  {
   "cell_type": "markdown",
   "id": "9e794806-5223-4bc6-885e-d8964e409b33",
   "metadata": {},
   "source": [
    "## The list of ingredients\n",
    "\n",
    "We will return to cooking in a second but, if we wanted to represent this function by showing how much of each complex exponential we have used, we could plot the amounts like so:"
   ]
  },
  {
   "cell_type": "code",
   "execution_count": null,
   "id": "4567edec-58b8-42bb-8aed-673de601038f",
   "metadata": {},
   "outputs": [],
   "source": [
    "frequency = [ f'-{k}f' for k in range(-9, 10) ]\n",
    "magnitude = [ 0 if (k % 2) == 0 else np.abs(4 / (k * np.pi)) for k in range(-9, 10) ]\n",
    "\n",
    "plt.bar(frequency, magnitude)\n",
    "plt.title('Amount present in each complex exponential ordered by frequency')\n",
    "plt.xlabel('Frequency of the complex exponential')\n",
    "plt.ylabel('Amount (=Amplitude)')\n",
    "plt.show()"
   ]
  },
  {
   "cell_type": "markdown",
   "id": "3ac38488-7521-461b-a840-83cad0ddb753",
   "metadata": {},
   "source": [
    "What we have here is in essence the Fourier transform of the signal. In the next section we will derive the result in detail but, for the moment, you can compare the plot we just drew to the actual Fourier transform coefficients of an actual square wave:"
   ]
  },
  {
   "cell_type": "code",
   "execution_count": null,
   "id": "f738b1ec-230b-4866-8357-6cb80f24b80b",
   "metadata": {},
   "outputs": [],
   "source": [
    "# our approximation\n",
    "y = np.real(y4_ce(f, t))\n",
    "# a \"true\" square wave\n",
    "x = np.sign(y)\n",
    "\n",
    "plt.subplot(1, 2, 1)\n",
    "plt.plot(t, y, ':')\n",
    "plt.plot(t, x)\n",
    "\n",
    "plt.subplot(1, 2, 2)\n",
    "plt.stem(np.abs(np.fft.fftshift(np.fft.fft(y))[980:1021]), use_line_collection=True);"
   ]
  },
  {
   "cell_type": "markdown",
   "id": "32273668-be0f-49dc-ac11-99b2ff77c550",
   "metadata": {},
   "source": [
    "Very similar to our bar plot isn't it? "
   ]
  },
  {
   "cell_type": "markdown",
   "id": "292b184e-1818-461d-ae0b-ff32dd7c41b0",
   "metadata": {},
   "source": [
    "# A whole new cooking technique: the change of basis!\n",
    "\n",
    "Let us recap what we have done so far: we can represent a signal as a function of _frequency_ (rather than of time) by measuring *how much of a complex exponential at a given frequency is contained in the signal*. \n",
    "\n",
    "When we represent the signal as in our bar plot, we say that we are in the **frequency domain**. When we represent the signal over time, as we usually do, then we are in the **time domain**. \n",
    "\n",
    "We can easily go from the frequency domain (bar plot) to the time domain by *summing up the different complex exponentials* with their corresponding coefficients. **But how do we get from the time domain to the frequency domain?**"
   ]
  },
  {
   "cell_type": "markdown",
   "id": "ceafc534-348c-4e0d-becb-15099e204a9c",
   "metadata": {},
   "source": [
    "## Moving to discrete time\n",
    "\n",
    "So far, we have used \"simulated\" continuous-time functions but, since we are using a digital computer, in the end everything we compute is discrete in nature. We will therefore move explicitly in discrete time, where \"time\" is no longer measured in seconds but it has no dimension, and where frequencies are measured in radians. "
   ]
  },
  {
   "cell_type": "markdown",
   "id": "6d5b41da-1793-45be-aa20-626335e0f03c",
   "metadata": {},
   "source": [
    "### Exercise: discrete-time oscillations\n",
    "\n",
    "As we have seen in class, discrete-time complex exponentials are sequences of the form\n",
    "\n",
    "$$\n",
    "    x[n] = e^{j\\omega n}, \\qquad -\\pi \\leq \\omega < \\pi\n",
    "$$\n",
    "\n",
    "Complete the following function to return the sequence $e^{jwn}$ for an input array of indexes ``n``:"
   ]
  },
  {
   "cell_type": "code",
   "execution_count": null,
   "id": "1941f91f-7adb-4392-9794-11527ad35d7b",
   "metadata": {},
   "outputs": [],
   "source": [
    "def cexp(w, n):\n",
    "    pass"
   ]
  },
  {
   "cell_type": "markdown",
   "id": "d5a7e575-d3a0-4649-8f13-ffa187e2a2f6",
   "metadata": {},
   "source": [
    "Let's check that it works; if it does, you should get the same cosine shape in both plots"
   ]
  },
  {
   "cell_type": "code",
   "execution_count": null,
   "id": "6873cea3-4237-4661-8afb-059df817c0a6",
   "metadata": {},
   "outputs": [],
   "source": [
    "w = np.pi / 20\n",
    "n = np.arange(0, 100)\n",
    "plt.subplot(1, 2, 1)\n",
    "plt.plot(np.real(cexp(w, n)))\n",
    "plt.subplot(1, 2, 2)\n",
    "plt.plot(np.cos(w * n));"
   ]
  },
  {
   "cell_type": "markdown",
   "id": "ed8e6dcb-96ea-416a-b6d8-aca6ca721402",
   "metadata": {},
   "source": [
    "## Linear algebra for signals\n",
    "\n",
    "We can use discrete-time signals just like we use Euclidean vectors in linear algebra (if you think about it, both are just a collection of values!). \n",
    "\n",
    "From the previous lab, remember that given a basis of N vectors $\\{\\mathbf{w}_k \\}_{k=0, 1, ..., N-1}$ we can write any vector as $\\mathbf{x} = \\sum^{N-1}_{k=0} \\alpha_k \\mathbf{w}_k$. When we describe a singnal in the time domain we are implicitly using the canonical basis $\\{\\mathbf{e}_k \\}_{k=0, 1, ..., N-1}$ where the $n$-th element of basis vector number $k$ is\n",
    "$$\n",
    "    \\mathbf{e}_k[n] = \\begin{cases} 1 & n = k \\\\ 0 & n \\neq k \\end{cases}.\n",
    "$$\n",
    "\n",
    "The new basis we will consider is the **Fourier basis** for complex-valued vectors of length $N$, in which the $n$-th element of basis vector number $k$ is \n",
    "$$\n",
    "    \\mathbf{w}_k[n] = e^{j\\frac{2 \\pi}{N} nk}.\n",
    "$$\n",
    "\n",
    "For now, we will just admit that this base is orthogonal (you will see all the details in class, but let us focus on interpretation for now). "
   ]
  },
  {
   "cell_type": "markdown",
   "id": "fc48a85f-d798-4c38-abc7-393cfcb0da70",
   "metadata": {},
   "source": [
    "## The inverse Fourier transform\n",
    "\n",
    "Maybe you noticed something: our Fourier oscillatory basis vectors closely resemble something we have just used... Do you see it yet?"
   ]
  },
  {
   "cell_type": "markdown",
   "id": "1f6e198b-e328-4730-bad6-746e5ca3f804",
   "metadata": {},
   "source": [
    "<div style=\"text-align:center\">\n",
    "<img src=\"https://media.giphy.com/media/nJ2PObJA3EVgc/giphy.gif\" width=\"500\" height=\"500\">\n",
    "</div>"
   ]
  },
  {
   "cell_type": "markdown",
   "id": "67ae25ae-7e62-4d7b-a39f-49e673f04981",
   "metadata": {},
   "source": [
    "Indeed, the Fourier basis vectors corresponds to the basic ingredients that we used in our cooking recipe to go from the **frequency domain** to the **time domain**! \n",
    "\n",
    "In fact this gives us our first formula: the **Inverse Fourier Transform**\n",
    "\n",
    "$$\n",
    "    x[n] = \\frac{1}{N} \\sum^{N-1}_{k=0} X[k] e^{j \\frac{2 \\pi}{N} nk}, \\qquad n= 0 , 1, ..., N-1\n",
    "$$\n",
    "\n",
    "where $x[n]$ is our signal in the time domain, and $X[k]$ is the set of \"weights\" in the frequency domain. "
   ]
  },
  {
   "cell_type": "markdown",
   "id": "25790532-886c-457d-a5ef-11dbc61cc9dc",
   "metadata": {},
   "source": [
    "## But what about the actual Fourier transform? \n",
    "\n",
    "If the inverse transform brings us from the Fourier basis to the time domain, the direct transform does the opposite, it changes the basis from the canonical time domain basis to the Fourier basis. As you have seen in class this translates to \n",
    "\n",
    "$$\n",
    "  X[k] = \\sum^{N-1}_{n=0} x[n] e^{-j \\frac{2\\pi}{N}nk}, \\qquad k = 0, 1, ..., N-1\n",
    "$$"
   ]
  },
  {
   "cell_type": "markdown",
   "id": "22762f62-4955-44a4-a55a-c1c83c21896c",
   "metadata": {},
   "source": [
    "### Exercise: write your own Fourier transform\n",
    "\n",
    "Although NumPy provides you with a super fast implementation of the Fourier transform, it is useful (at least once in a lifetime) to write your own implementation, however inefficient"
   ]
  },
  {
   "cell_type": "code",
   "execution_count": null,
   "id": "88a332b0-939e-46c3-954e-c6e55910384d",
   "metadata": {},
   "outputs": [],
   "source": [
    "def my_dft(x):\n",
    "    pass"
   ]
  },
  {
   "cell_type": "markdown",
   "id": "ac80ac74-e2fb-4a8e-842c-aca456286787",
   "metadata": {},
   "source": [
    "Let's verify if your implementation works:"
   ]
  },
  {
   "cell_type": "code",
   "execution_count": null,
   "id": "8ed182c1-a6c9-49cc-87de-08f17d4fdaf4",
   "metadata": {},
   "outputs": [],
   "source": [
    "x = np.random.rand(100)\n",
    "my_X = my_dft(x)\n",
    "X = np.fft.fft(x)\n",
    "print(\"you got it!\" if np.allclose(X, my_X) else 'sorry, try again!')"
   ]
  },
  {
   "cell_type": "markdown",
   "id": "ed67a679-b49e-4c34-b279-42f4f9bff0f4",
   "metadata": {},
   "source": [
    "# And now, the icing on the cake\n",
    "\n",
    "Let us recap what we have seen so far: we have two spaces namely the frequency domain and the time domain to represent a function. Each domain has its own base, and we can represent a signal using a basis extension, just like we do for vectors! We can also go from one domain to another by changing basis. To go from time to frequency domain, we use the Fourier transform, and to go from frequency to time domain the inverse fourier transform. \n",
    "\n",
    "Now that you understand how we represent functions in the frequency domain, you can play with the interactive tool below: \n",
    " * you can set the amplitude and frequency of up to 4 complex exponentials\n",
    " * the plot will display the real and imaginary parts of the sum of the exponentials as a blue line\n",
    " * you can choose to also display the individual components (dotted lines)\n",
    " \n",
    "Note that, at the beginning, all exponentials except the first one are set to an amplitude of zero."
   ]
  },
  {
   "cell_type": "code",
   "execution_count": null,
   "id": "1972f067-3f7c-4859-a046-ca4037771295",
   "metadata": {},
   "outputs": [],
   "source": [
    "# since the code is a bit complicated and not at all relevant to the lab, it is included as a separate file\n",
    "%run helpers/sandbox.py"
   ]
  },
  {
   "cell_type": "markdown",
   "id": "d7a3f6d7-5c49-4185-90de-5d90e22520b5",
   "metadata": {},
   "source": [
    "### A few questions, for dessert:\n",
    "\n",
    "- What happens when you increase the amplitude of the exponentials after the first? \n",
    "- What happens if you have two exponentials at frequencies of equal magnitude but opposite sign? Why is that the case? \n",
    "\n",
    "### And **voila**! You are now a Fourier transform chef!\n",
    "\n",
    "<div style=\"text-align:center\">\n",
    "<img src=\"https://media.giphy.com/media/2s7lb48XP0yje/giphy.gif\" width=\"600\" height=\"600\">\n",
    "</div>\n"
   ]
  },
  {
   "cell_type": "code",
   "execution_count": null,
   "id": "4b164084-8bf5-4264-9f49-4343a6d2fd42",
   "metadata": {},
   "outputs": [],
   "source": []
  }
 ],
 "metadata": {
  "kernelspec": {
   "display_name": "Python 3 (ipykernel)",
   "language": "python",
   "name": "python3"
  },
  "language_info": {
   "codemirror_mode": {
    "name": "ipython",
    "version": 3
   },
   "file_extension": ".py",
   "mimetype": "text/x-python",
   "name": "python",
   "nbconvert_exporter": "python",
   "pygments_lexer": "ipython3",
   "version": "3.12.3"
  },
  "toc-autonumbering": true,
  "toc-showmarkdowntxt": false
 },
 "nbformat": 4,
 "nbformat_minor": 5
}
