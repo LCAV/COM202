{
 "cells": [
  {
   "cell_type": "markdown",
   "id": "437d3280-ea71-48b4-916c-aa984d05de2e",
   "metadata": {},
   "source": [
    "<div style=\"margin: 0 auto 30px; height: 60px; border: 2px solid gray; border-radius: 6px;\">\n",
    "  <div style=\"float: left;\"><img src=\"img/epfl.png\" /></div>\n",
    "  <div style=\"float: right; margin: 20px 30px 0; font-size: 10pt; font-weight: bold;\"><a href=\"https://moodle.epfl.ch/course/view.php?id=18253\">COM202 - Signal Processing</a></div>\n",
    "</div>\n",
    "<div style=\"clear: both; font-size: 30pt; font-weight: bold; color: #483D8B;\">\n",
    "    Lab 2: Introduction to Numpy\n",
    "</div>"
   ]
  },
  {
   "cell_type": "code",
   "execution_count": null,
   "id": "819c2af4",
   "metadata": {},
   "outputs": [],
   "source": [
    "## First things first, import numpy (as almost always)\n",
    "import numpy as np\n",
    "import matplotlib\n",
    "import matplotlib.pyplot as plt"
   ]
  },
  {
   "cell_type": "markdown",
   "id": "ff89196b",
   "metadata": {},
   "source": [
    "Numpy is a solid library that provides lots of built in functions specifically designed for vector and matrix operations. While this seems a bit useless for you now (after having to compute all these matrices by hand without knowing why), it will quickly become mandatory for lots of applications throughout your studies. "
   ]
  },
  {
   "cell_type": "markdown",
   "id": "d0009b51",
   "metadata": {},
   "source": [
    "That is why we are going through this lab to explore some simple linear algebra opperations on numpy and see a specific application with the Haar Basis (that is used for image processing). "
   ]
  },
  {
   "cell_type": "markdown",
   "id": "a890051f",
   "metadata": {},
   "source": [
    "# Numpy Arrays"
   ]
  },
  {
   "cell_type": "markdown",
   "id": "b30031a8",
   "metadata": {},
   "source": [
    "There are two standard ways of creating numpy arrays. Either transform a usual array object using ``np.array`` or by using the built-in function of numpy."
   ]
  },
  {
   "cell_type": "code",
   "execution_count": null,
   "id": "7b60827a",
   "metadata": {},
   "outputs": [],
   "source": [
    "## Building arrays with numpy function:\n",
    "## Here we create an array from a numpy array.\n",
    "vect = np.array(np.ones(5))\n",
    "\n",
    "matr = np.array([[1,2,3],[4,5,6]])\n",
    "\n",
    "## There exists various built-in functions to easily create different array-like objects:\n",
    "id_matrix = np.eye(5)\n",
    "\n",
    "one_matrix = np.ones((5,3))\n",
    "\n",
    "zero_matrices = np.zeros((2,3,3))\n",
    "\n",
    "\n",
    "print(\"1D vector: \\n{}\\n\".format(vect))\n",
    "print(\"2D matrix: \\n{}\\n\".format(matr))\n",
    "print(\"Identity matrix: \\n{}\\n\".format(id_matrix))\n",
    "print(\"1 matrix: \\n{}\\n\".format(one_matrix))\n",
    "print(\"array of 0 matrix: \\n{}\\n\".format(zero_matrices))"
   ]
  },
  {
   "cell_type": "markdown",
   "id": "ae813772",
   "metadata": {},
   "source": [
    "## Data types"
   ]
  },
  {
   "cell_type": "markdown",
   "id": "e2ebc4e3",
   "metadata": {},
   "source": [
    "Eventhough python is not a static typed language, since pyton3, one can specify the type of a variable by instantiating it like variable:type=value. In any case, there is possibilities to specify data types in array. Data types can also be cast using ``astype``. This is particularly useful when you want arrays with specific data types."
   ]
  },
  {
   "cell_type": "code",
   "execution_count": null,
   "id": "88a0de20",
   "metadata": {},
   "outputs": [],
   "source": [
    "## Creating an array of integers\n",
    "int_vect = np.array([1,2,3,4,5], dtype=np.int32)\n",
    "print(int_vect.dtype)\n",
    "\n",
    "## Cast int array to float array:\n",
    "float_vect = int_vect.astype(np.float32)\n",
    "print(float_vect.dtype)\n",
    "\n",
    "## As we can see, multiplying with standard * two vectors will simply multiply each components pairwise\n",
    "## and output another vector. In fact we will see later on why."
   ]
  },
  {
   "cell_type": "markdown",
   "id": "fcba8a53",
   "metadata": {},
   "source": [
    "One other useful notion is the variables that numpy array inherit on creation such as ``size``, ``shape``, ``ndim``. This can be particularly precious when working with different multiple dimension vectors or matrices and you want to keep track of what is going on in your code.  "
   ]
  },
  {
   "cell_type": "code",
   "execution_count": null,
   "id": "bf54c80f",
   "metadata": {},
   "outputs": [],
   "source": [
    "## There exists built-in methods to perform fast and efficient vector product\n",
    "maitr = np.array([[1,2,3,4],[5,6,7,8]])\n",
    "print(\"The dimension of the matrix is: {}\\n\".format(maitr.ndim))\n",
    "print(\"The shape of the matrix is: {}\\n\".format(maitr.shape))\n",
    "print(\"The size of the matrix is: {}\\n\".format(maitr.size))\n",
    "print(\"The data type of the matrix is: {}\\n\".format(maitr.dtype))"
   ]
  },
  {
   "cell_type": "markdown",
   "id": "e51e9c67",
   "metadata": {},
   "source": [
    "## Reshaping"
   ]
  },
  {
   "cell_type": "markdown",
   "id": "7204e179",
   "metadata": {},
   "source": [
    "One other useful functionality of numpy is the ``reshape`` method which, as its name suggests, reshapes an array. One downside of this method is that your new shape need to match (in the number of data your array holds) the old shape. "
   ]
  },
  {
   "cell_type": "code",
   "execution_count": null,
   "id": "9eebca20",
   "metadata": {},
   "outputs": [],
   "source": [
    "## Creating a matrix of sequentials numbers:\n",
    "matr = np.arange(10,20).reshape(5,2)\n",
    "print(\"a matrix of size 5,2:\\n{}\\n\".format(matr))\n",
    "\n",
    "matr = matr.reshape(2,5)\n",
    "print(\"a matrix of size 2,5:\\n{}\\n\".format(matr))"
   ]
  },
  {
   "cell_type": "markdown",
   "id": "13e1c811",
   "metadata": {},
   "source": [
    "## Accessing data with slicing"
   ]
  },
  {
   "cell_type": "markdown",
   "id": "f9a26b69",
   "metadata": {},
   "source": [
    "One elegant and easy way of accessing data in arrays is by the mean of slicing. Specifically, slices are specific views of the overall array. The standard notation for a 1D array would be ``start:end:step`` where end is exclusive. Note that one work around this is to use -1 as end which automatically will select the last element as well (which is sometimes easier than first looking for the size of the array etc). This also apply for bigger dimensions."
   ]
  },
  {
   "cell_type": "code",
   "execution_count": null,
   "id": "5beab69f",
   "metadata": {},
   "outputs": [],
   "source": [
    "## Create a 1D array of sequential numbers\n",
    "vect = np.arange(12)\n",
    "print(\"the first five elements are: {}\\n\".format(vect[:5]))\n",
    "print(\"The even elements of the array are: {}\\n\".format(vect[:-1:2]))\n",
    "\n",
    "## It is also useful when trying to change only specific parts of the array.\n",
    "vect_1_added = vect\n",
    "vect_1_added[:-1:2] += 1\n",
    "print(vect_1_added, \"\\n\")\n",
    "\n",
    "## Creating a matrix of size 10x10 filled with 0\n",
    "matr = np.zeros((11,11), dtype=np.int32)\n",
    "\n",
    "## Adding ones on the 5th columns:\n",
    "matr[:, 5] = 1\n",
    "print(\"The matrix with 1s only on 5th column:\\n{}\\n\".format(matr))\n",
    "\n",
    "## Adding ones to 5th row:\n",
    "matr[5, ::] = 1\n",
    "print(\"The matrix with 1s only on 5th column and 5th row:\\n{}\\n\".format(matr))"
   ]
  },
  {
   "cell_type": "markdown",
   "id": "323f1431",
   "metadata": {},
   "source": [
    "There exists mutliple combinations and possibilities using slices. There is possibility to define and apply masks efficiently using slices."
   ]
  },
  {
   "cell_type": "markdown",
   "id": "650070da",
   "metadata": {},
   "source": [
    "## Broadcasting"
   ]
  },
  {
   "cell_type": "markdown",
   "id": "e8ce4c7a",
   "metadata": {},
   "source": [
    "Last but not least, broadcasting is a built-in methodology used by numpy to apply transformations to arrays in an elegant and concise way. It basically allows operations on arrays of different sizes, where the smaller array is \"broadcasted\" so that it fits the size of the larger one. So adding a vector `vect` to a matrix M will expand the vector into a matrix fitting M's size."
   ]
  },
  {
   "cell_type": "code",
   "execution_count": null,
   "id": "3015f6b0",
   "metadata": {},
   "outputs": [],
   "source": [
    "## Create a vector of length 5\n",
    "vect = np.array([1,2,3,4,5])\n",
    "\n",
    "## Matrix of 1s\n",
    "matr = np.ones((4,5), dtype=np.int64)\n",
    "\n",
    "print(\"The matrix: \\n{}\\n and the vector:{}\\n\".format(matr, vect))\n",
    "\n",
    "res_1 = vect + matr \n",
    "print(\"Adding vect to matrix gives: \\n{}\\n\".format(res_1))\n",
    "\n",
    "## Note that you need at least ONE matching dimension:\n",
    "matr_2 = np.ones((4,4,5), dtype=np.int64)\n",
    "res_2 = matr_2 + vect\n",
    "\n",
    "print(\"Adding vect to array of matrices gives: \\n{}\\n\".format(res_2))"
   ]
  },
  {
   "cell_type": "markdown",
   "id": "32be4a65",
   "metadata": {},
   "source": [
    "**BUT** be aware that one need at least one matching dimension, otherwise it will raise an error as bellow:"
   ]
  },
  {
   "cell_type": "code",
   "execution_count": null,
   "id": "db7140e7",
   "metadata": {},
   "outputs": [],
   "source": [
    "## Create a vector of length 5\n",
    "vect = np.array([1,2,3,4,5])\n",
    "\n",
    "## Matrix of 1s of size 4x6\n",
    "matr = np.ones((4,6), dtype=np.int64)\n",
    "res_3 = matr + vect"
   ]
  },
  {
   "cell_type": "markdown",
   "id": "19d151da",
   "metadata": {},
   "source": [
    "If you are more interested, you can find further informations [here](https://numpy.org/devdocs/user/basics.broadcasting.html)"
   ]
  },
  {
   "cell_type": "markdown",
   "id": "e35260d3",
   "metadata": {},
   "source": [
    "## Exercise"
   ]
  },
  {
   "cell_type": "markdown",
   "id": "481faeb4",
   "metadata": {},
   "source": [
    "Imagine you have a 4096 vector representing pixels of an image. Reshape the vector into a squared image."
   ]
  },
  {
   "cell_type": "code",
   "execution_count": null,
   "id": "e25067e5",
   "metadata": {},
   "outputs": [],
   "source": [
    "img_ex = np.array(plt.imread('img/cameraman.jpg'), dtype=int)\n",
    "vect = np.ravel(img_ex, \"F\")\n",
    "\n",
    "## Your code HERE##\n",
    "img = ...\n",
    "\n",
    "## You can use these to compare your result. \n",
    "plt.matshow(img)\n",
    "plt.matshow(img_ex)"
   ]
  },
  {
   "cell_type": "code",
   "execution_count": null,
   "id": "bc0525be",
   "metadata": {},
   "outputs": [],
   "source": [
    "## About slicing :)\n",
    "arr = np.array([[1, 2, 3, 4],\n",
    "                [5, 6, 7, 8],\n",
    "                [9, 10, 11, 12]])"
   ]
  },
  {
   "cell_type": "markdown",
   "id": "58e814a5",
   "metadata": {},
   "source": [
    "Use slicing to extract the following subarrays:\n",
    "- The second row of the array.\n",
    "- The second column of the array.\n",
    "- The subarray consisting of the first two rows and the first two columns.\n",
    "- The subarray consisting of the last two rows and the last two columns.\n",
    "\n",
    "Use slicing to modify the following subarrays:\n",
    "- Replace the second row with the values [13, 14, 15, 16].\n",
    "- Replace the third column with the values [17, 18, 19].\n",
    "- Replace the subarray consisting of the first two rows and the first two columns with the values [[20, 21], [22, 23]].\n",
    "- Use slicing to extract all the elements of the array except for the first row and the last column."
   ]
  },
  {
   "cell_type": "code",
   "execution_count": null,
   "id": "d4e39a1f",
   "metadata": {},
   "outputs": [],
   "source": [
    "### Your code HERE ###\n",
    "# # Extract subarrays\n",
    "print(...) # Second row\n",
    "print(...) # Second column\n",
    "print(...) # First two rows and columns\n",
    "print(...) # Last two rows and columns\n",
    "\n",
    "# # Modify subarrays\n",
    "arr[...] = ... # Replace second row\n",
    "arr[...] = ... # Replace third column\n",
    "arr[...] = ... # Replace first two rows and columns\n",
    "print(arr)\n",
    "\n",
    "# # Extract diagonal\n",
    "print(...)\n",
    "\n",
    "# # Extract all elements except first row and last column\n",
    "print(...)"
   ]
  },
  {
   "cell_type": "markdown",
   "id": "0659bb9b",
   "metadata": {},
   "source": [
    "# Linear algebra with numpy"
   ]
  },
  {
   "cell_type": "markdown",
   "id": "d5c088d0",
   "metadata": {},
   "source": [
    "In numpy, most of the common of the common linear algebra's operations are already implemented. \n",
    "- For multiplication of two vectors: ``np.vdot``\n",
    "- For multiplication of two matrices or matrix and vector: ``np.dot(M1,v1)`` or ``@`` (which are equivalent).\n",
    "- For matrix inversion: ``np.linalg.inv``.\n",
    "- For matrix transposition: ``m.T``. \n",
    "- For matrix norm (L2 norm by default): ``np.linalg.norm``.\n",
    "- For solving linear equation given ``Ax = y``: ``np.linalg.solve``.\n",
    "\n",
    "You can find many other useful informations [here](https://numpy.org/doc/stable/reference/routines.linalg.html)."
   ]
  },
  {
   "cell_type": "code",
   "execution_count": null,
   "id": "0e1f2396",
   "metadata": {},
   "outputs": [],
   "source": [
    "## If we instantiate two vectors:\n",
    "v_1 = np.random.rand(5)\n",
    "v_2 = np.random.rand(5) * (-1)\n",
    "\n",
    "v_dot = np.vdot(v_1, v_2)\n",
    "print(\"v_1 is:{}\\nv_2 is:{}\".format(v_1, v_2))\n",
    "print(\"Their dot product is: {}\".format(v_dot))\n",
    "\n",
    "## If we instantiate one matrix and one vector:\n",
    "M_1 = np.matrix('1 2; 3 4; 5 6')\n",
    "v_1 = np.ones(2)\n",
    "M_dot = np.dot(M_1, v_1)\n",
    "print(\"The matrix vector product gives a vector of size 3x1: {}\".format(M_dot))\n",
    "\n",
    "## If we instantiate two matrices:\n",
    "M_1 = np.matrix('1 2; 3 4; 5 6')\n",
    "M_2 = np.matrix('1 2 3; 4 5 6')\n",
    "M_dot = np.dot(M_1, M_2)\n",
    "print(\"The matrix product gives a matrix of size 3x3: \\n{}\".format(M_dot))"
   ]
  },
  {
   "cell_type": "markdown",
   "id": "20135346",
   "metadata": {},
   "source": [
    "## Bases and vector representation"
   ]
  },
  {
   "cell_type": "markdown",
   "id": "7bc564cc",
   "metadata": {},
   "source": [
    "Let assume we have a basis B of a vector space V over $\\mathbb{Z}$. It is a set of linearly independent vectors of V than spans V. It must fulfill this two condintions:\n",
    "- **Linear independence**: for every finite subset {$v_1, ..., v_m$} of B, if $c_1v_1 + ... + c_mv_m = \\textbf{0}$ for some $c_1, ..., c_m$ in $\\mathbb{Z}$, then $c_1=\\ ... \\ =c_m=0$.\n",
    "- **spanning property**: for every vector **v** in V, one can choose $\\{a_{i}\\}_{i=1,..,m}$ in $\\mathbb{Z}$ and a set of vectors $\\{v^{(i)}\\}_{i=1,..,m}$ such that $v=\\sum^{m}_{i=i}{a_iv^{(i)}}$. In other words, we can express any vector **v** of V by a linear combination of vectors in B. \n",
    "\n",
    "**Note**: in general, the basis B is not unique. And indeed, for the same vector space, one can go from one basis to the other!\n",
    "\n",
    "Lets assume we have the same basis B, spanning V over $\\mathbb{Z}$. Lets call this basis $B_{old}$.\n",
    "For $j=1, \\ ... \\ ,  m$ we can define a vector $w_j$ by its coordinates $a_{i,j}$ over $B_{old}$. $$w_j = \\sum^{m}_{i=1}{a_{i,j}v_i}$$ Let $A = (a_{i,j})_{i,j}$ be the matrix whos $jth$ column is formed by the coordinates of $w_j$.\n",
    "\n",
    "Setting $B_{new} = (w_1, \\ ... \\ , w_m)$ we have that $B_{new}$ is a new basis for V if and only if A is ***invertible***. In this case, we say that A is the *change-of-basis* matrix from the basis $B_{old}$ to $B_{new}$ and thus we can express a vector g in both bases: $$ g = \\sum^{m}_{i=1}{x_{i}v_i} = \\sum^{m}_{j=1}{y_{j}w_j}$$\n",
    "with $x_1, \\ ...\\ , x_m$ and $y_1, \\ ...\\ , y_m$ being coordinates for g in both bases.\n",
    "\n",
    "**Note** that we can also express the change of basis as a matrix product: $$ y = Ax$$\n",
    "\n",
    "In other words, the change-of-basis formula results from the uniqueness of the decomposition of a vector over a basis."
   ]
  },
  {
   "cell_type": "markdown",
   "id": "9522dd34",
   "metadata": {},
   "source": [
    "## Exercise"
   ]
  },
  {
   "cell_type": "markdown",
   "id": "da29950b",
   "metadata": {},
   "source": [
    "Suppose we have a system of linear functions, solve this system.\n",
    "- 2x + y = 10\n",
    "- x - 3y = -4"
   ]
  },
  {
   "cell_type": "code",
   "execution_count": null,
   "id": "870d4667",
   "metadata": {},
   "outputs": [],
   "source": [
    "### Your code HERE ###\n",
    "# define the coefficients matrix A and the constants matrix b\n",
    "A = ...\n",
    "b = ...\n",
    "\n",
    "# # solve the system of equations\n",
    "x = ...\n",
    "\n",
    "# # print the solution\n",
    "print(\"x =\", x[0])\n",
    "print(\"y =\", x[1])\n",
    "\n",
    "# # verify the solution using the equations.\n",
    "eq1 = ...\n",
    "eq2 = ...\n",
    "\n",
    "if np.isclose(eq1, 10) and np.isclose(eq2, -4):\n",
    "    print(\"The solution is verified.\")\n",
    "else:\n",
    "    print(\"The solution is not verified.\")\n",
    "\n",
    "\n"
   ]
  },
  {
   "cell_type": "markdown",
   "id": "f4e4bf5c",
   "metadata": {},
   "source": [
    "Let A be the matrix : $$A = \\begin{bmatrix} 1 & 2 & 1 \\\\ 3 & 0 & 1 \\\\ 0 & 2 & 4 \\end{bmatrix}$$\n",
    "and v, w vectors: $$v = \\begin{bmatrix} 1 & 2 & 4 \\end{bmatrix} \\\\w = \\begin{bmatrix} 2 & 4 & 6 \\end{bmatrix}$$"
   ]
  },
  {
   "cell_type": "code",
   "execution_count": null,
   "id": "0ca8275c",
   "metadata": {},
   "outputs": [],
   "source": [
    "### Your code HERE ###\n",
    "# define the matrix A and the vectors v and w\n",
    "A = ...\n",
    "v = ...\n",
    "w = ...\n",
    "\n",
    "# compute the product of matrix A and vector v\n",
    "Av = ...\n",
    "print(\"A * v =\", Av)\n",
    "\n",
    "# # compute the product of vector w and matrix A\n",
    "wA = ...\n",
    "print(\"w * A =\", wA)\n",
    "\n",
    "# # compute the dot product of vectors v and w\n",
    "vw = ...\n",
    "print(\"v * w =\", vw)\n",
    "\n",
    "# # compute the transpose of matrix A\n",
    "At = ...\n",
    "print(\"A transpose =\", At)\n"
   ]
  },
  {
   "cell_type": "markdown",
   "id": "c2e64808",
   "metadata": {},
   "source": [
    "Suppose we have a vector in a given basis, and we want to change it to another basis. We can do this using a matrix called the change-of-basis matrix. In this exercise, we'll practice computing change-of-basis matrices and applying them to vectors in NumPy.\n",
    "Create two NumPy arrays to represent the bases. Each array should be a 2x2 matrix where each column represents a basis vector. \n",
    "\n",
    "Write a function called change_of_basis_matrix that takes two bases as input and returns the change-of-basis matrix from the first basis to the second."
   ]
  },
  {
   "cell_type": "code",
   "execution_count": null,
   "id": "d9e9f485",
   "metadata": {},
   "outputs": [],
   "source": [
    "### Change the type of the returned matrix so that it returns int32 data. \n",
    "def change_of_basis_matrix(basis_1, basis_2):\n",
    "    ## We have: b_1 = b_2 * A\n",
    "    ### Your code HERE ### \n",
    "    return ..."
   ]
  },
  {
   "cell_type": "code",
   "execution_count": null,
   "id": "5e642d8a",
   "metadata": {},
   "outputs": [],
   "source": [
    "## Test your implementation of change_of_basis_matrix:\n",
    "basis_1 = np.array([[1, 0], [0, 1]])\n",
    "basis_2 = np.array([[2, 1], [1, 2]])\n",
    "\n",
    "change_of_basis_matrix = change_of_basis_matrix(basis_1, basis_2)\n",
    "\n",
    "assert np.array_equal(change_of_basis_matrix, np.array([[2,1],[1,2]]))"
   ]
  },
  {
   "cell_type": "markdown",
   "id": "92c17f0c",
   "metadata": {},
   "source": [
    "Create a function that express a given vector from the first basis in the second basis:"
   ]
  },
  {
   "cell_type": "code",
   "execution_count": null,
   "id": "ba7b16e4",
   "metadata": {},
   "outputs": [],
   "source": [
    "def change_of_basis(v, change_of_basis_matrix):\n",
    "    ### Your code HERE ### \n",
    "    return ..."
   ]
  },
  {
   "cell_type": "code",
   "execution_count": null,
   "id": "c24f6a9e",
   "metadata": {},
   "outputs": [],
   "source": [
    "## Test your implementation of the change_of_basis (Hint: think about what direction you are going!\n",
    "## From base_1 to base_2 or vice-versa? np.linalg.inv(M) might be of use.):\n",
    "vect = np.array([4,1]) ## In basis_1\n",
    "vect_2 = change_of_basis(vect, change_of_basis_matrix) ## in basis_2\n",
    "\n",
    "check_array = vect_2[0]*basis_2[0]+vect_2[1]*basis_2[1]\n",
    "assert np.allclose(np.array([4,1]).astype(\"float64\"), check_array)"
   ]
  },
  {
   "cell_type": "markdown",
   "id": "17ae4905",
   "metadata": {},
   "source": [
    "# Basis vectors for telecommunications"
   ]
  },
  {
   "cell_type": "markdown",
   "id": "6ede077a",
   "metadata": {},
   "source": [
    "During analogue/digital communications, errors can occur. These errors almost always alter the signal in ways we try to predict and mitigate. In particular, if we can find way to encode information in different ways, so that it is transcripted differently, we can hope that errors will have a lower impact on our signal.\n",
    "\n",
    "One way to do so is by a change of basis (you will see next week the main change of basis we use) which, in words, allows us to define our input in a different manner than the canonical one. \n",
    "\n"
   ]
  },
  {
   "cell_type": "markdown",
   "id": "3eeb7c10",
   "metadata": {},
   "source": [
    "## The search for a good basis\n",
    "\n",
    "What we are after is a basis for the space of images that fulfills a set of prerequisites:\n",
    "\n",
    " * we want the basis to be orthonormal (or at least orthogonal) so that basis decomposition is obtained simply via a series of inner products\n",
    " * we want the basis to be able to represent the signal information robustly so that a few, important coefficients will capture most of the signal; this will ensure resilence against data loss\n",
    " * we want the basis to be easy to compute.\n",
    "\n",
    "One such basis is the **Haar basis**. While we cannot go into too many details in this notebook, the curious will find a good starting point [here](https://chengtsolin.wordpress.com/2015/04/15/real-time-2d-discrete-wavelet-transform-using-opengl-compute-shader/). Mathematical formulas aside, the Haar basis works by encoding the information in a *hierarchical* way: the first basis vectors encode the broad information and the higher coefficients encode the detail.\n",
    "\n",
    "First of all, to keep things simple, we will remain in the space of square matrices whose size is a power of two. The code to generate the Haar basis matrices is given bellow (it is not required to understand the underlying computation for the rest of this section):"
   ]
  },
  {
   "cell_type": "code",
   "execution_count": null,
   "id": "4a873463",
   "metadata": {},
   "outputs": [],
   "source": [
    "# Create a Haar matrix of sizee NxN, required to have N as a power of 2\n",
    "def haarmatrix(N):\n",
    "    n = np.floor(np.log(N)/np.log(2))\n",
    "\n",
    "    if 2**n != N: \n",
    "        raise Exception('error: size '+str(N)+' is not multiple of power of 2')\n",
    "\n",
    "    z = np.resize(1.*np.arange(N)/N, (len(1.*np.arange(N)), len(1.*np.arange(N)/N)))\n",
    "    k = np.transpose(np.resize(1.*np.arange(N), (len(1.*np.arange(N)/N), len(1.*np.arange(N)))))\n",
    "    \n",
    "    \n",
    "    p  = np.floor(np.log(np.maximum(1,k))/np.log(2))\n",
    "    q  = k - (2**p) + 1\n",
    "    z1 = (q-1)/(2**p)\n",
    "    z2 = (q-0.5)/(2**p)\n",
    "    z3 = q/(2**p)\n",
    "    A  = (1/np.sqrt(N)) * ((( 2**(p/2.)) * ((z >= z1) & (z < z2))) + ((-2**(p/2.)) * ((z >= z2) & (z < z3))))\n",
    "    A[0,:] = 1/np.sqrt(N)\n",
    "    return A\n",
    "\n",
    "# Checking if the matrix is orthogonoal (Hint: cast the matrix into int32, sometimes numpy has trouble dealing with floats)\n",
    "def check_orthogonality(matrix, size):\n",
    "    ### Your code HERE ### \n",
    "    ...  \n",
    "    print(\"Orthogonal!\")\n"
   ]
  },
  {
   "cell_type": "markdown",
   "id": "ee31c0bf",
   "metadata": {},
   "source": [
    "## Signal decomposition in the Haar Basis"
   ]
  },
  {
   "cell_type": "markdown",
   "id": "213e20cc",
   "metadata": {},
   "source": [
    "Lets first see if we can correctly encode a basic signal in the Haar basis and reconstruct it afterwards. Keep in mind that the compression won't look the same way as the original signal, as information is kept in a different way! (And that is exactly what we want).\n",
    "\n",
    "First we create a box signal and the Haar matrix corresponding to the Haar basis for the right dimension. Note that the code to generate a sinusoid is also given, you can try it yourself."
   ]
  },
  {
   "cell_type": "code",
   "execution_count": null,
   "id": "33578440",
   "metadata": {},
   "outputs": [],
   "source": [
    "# Define a signal to be compressed\n",
    "fs = 64 # Sampling frequency\n",
    "t = np.arange(0, 1, 1/fs) # Time vector\n",
    "#x = np.sin(2*np.pi*5*t) # Sine wave with frequency 5 Hz\n",
    "\n",
    "## Box signal\n",
    "box_start = 2/5\n",
    "box_end = 3/5\n",
    "x = np.zeros_like(t)\n",
    "x[(t >= box_start) & (t <= box_end)] = 1\n",
    "\n",
    "\n",
    "# Compute the Haar matrix of order N\n",
    "N = len(x)\n",
    "H = haarmatrix(N)\n",
    "\n",
    "# Check if the matrix is orthogonal\n",
    "check_orthogonality(H, N)\n",
    "\n",
    "plt.figure(figsize=(10, 6))\n",
    "plt.subplot(2, 1, 1)\n",
    "plt.plot(t, x)\n",
    "plt.title('Original signal')\n",
    "plt.xlabel('Time (s)')\n",
    "plt.ylabel('Amplitude')\n",
    "plt.subplot(2, 1, 2)\n",
    "plt.plot(t, H[1])\n",
    "plt.title('One base vector of the Haar basis')\n",
    "plt.xlabel('Time (s)')\n",
    "plt.ylabel('Amplitude')\n",
    "plt.tight_layout()\n",
    "plt.show()"
   ]
  },
  {
   "cell_type": "markdown",
   "id": "9db90245",
   "metadata": {},
   "source": [
    "We can see that the signal is the box function. You can play with the second plot ` plt.plot(t, H[i])` where `i` is the basis vector"
   ]
  },
  {
   "cell_type": "markdown",
   "id": "15cfccf9",
   "metadata": {},
   "source": [
    "Next we actually change the basis. You should implement the change of basis yourself.<br>\n",
    "*Hint*: Recall what you saw in section 2.2 and what is in essence the Haar matrix,"
   ]
  },
  {
   "cell_type": "code",
   "execution_count": null,
   "id": "e6fd92ec",
   "metadata": {},
   "outputs": [],
   "source": [
    "# Compute the Haar coefficients of the signal, or in other words the representation of your signal in the Haar basis.\n",
    "### Your code HERE ### \n",
    "c = ..."
   ]
  },
  {
   "cell_type": "markdown",
   "id": "945fd46f",
   "metadata": {},
   "source": [
    "As explained earlier, one key feature of Haar basis is that it encodes information in a *hierarchical* way. So it would be natural to use it either for compression or for transmitting a signal with a high error probability. We first consider compression. The way to do so is by sorting coefficients in decreasing order of magnitude, and keeping only these coefficients as our signal. Putting everything else to 0 gives the last plot bellow. We can see that almost all information is encoded in the first half of the signal"
   ]
  },
  {
   "cell_type": "code",
   "execution_count": null,
   "id": "5be46f10",
   "metadata": {},
   "outputs": [],
   "source": [
    "# Sort the Haar coefficients in decreasing order of magnitude and keep only the top k coefficients\n",
    "k = int(N/2)\n",
    "\n",
    "idx = np.argsort(np.abs(c))[::-1][:k]\n",
    "c_compress = np.zeros_like(c)\n",
    "c_compress[idx] = c[idx]\n",
    "\n",
    "# Compute the inverse Haar transform of the top k coefficients to obtain the compressed signal\n",
    "### Your code HERE ### \n",
    "x_compress = ..."
   ]
  },
  {
   "cell_type": "code",
   "execution_count": null,
   "id": "113c28ba",
   "metadata": {},
   "outputs": [],
   "source": [
    "# Plot the original signal and the compressed signal\n",
    "plt.figure(figsize=(10, 8))\n",
    "plt.subplot(3, 1, 1)\n",
    "plt.plot(t, x)\n",
    "plt.title('Original signal')\n",
    "plt.xlabel('Time (s)')\n",
    "plt.ylabel('Amplitude')\n",
    "plt.subplot(3, 1, 2)\n",
    "plt.plot(t, c)\n",
    "plt.title('Signal in Haar Basis')\n",
    "plt.xlabel('Time (s)')\n",
    "plt.ylabel('Amplitude')\n",
    "plt.subplot(3, 1, 3)\n",
    "plt.plot(t, c_compress)\n",
    "plt.title('Compressed signal in Haar Basis')\n",
    "plt.xlabel('Time (s)')\n",
    "plt.ylabel('Amplitude')\n",
    "plt.tight_layout()\n",
    "plt.show()"
   ]
  },
  {
   "cell_type": "markdown",
   "id": "d362f71f",
   "metadata": {},
   "source": [
    "Now imagine that we want to decompress the signal. We take the compressed signal and apply the formula $\\hat s = H^{T}\\hat c $. This gives the \"decompressed\" signal $\\hat s$ which is almost correctly reconstructed."
   ]
  },
  {
   "cell_type": "code",
   "execution_count": null,
   "id": "c3835dc3",
   "metadata": {},
   "outputs": [],
   "source": [
    "# Reconstruct the original signal from the compressed signal and the Haar basis\n",
    "c_reconstruct = np.zeros_like(c)\n",
    "c_reconstruct[idx] = c_compress[idx]\n",
    "\n",
    "\n",
    "### Your code HERE ### \n",
    "x_decompressed = ...\n",
    "\n",
    "# Plot the original signal, the compressed signal, and the reconstructed signal\n",
    "plt.figure(figsize=(10, 6))\n",
    "plt.subplot(3, 1, 1)\n",
    "plt.plot(t, x)\n",
    "plt.title('Original signal')\n",
    "plt.xlabel('Time (s)')\n",
    "plt.ylabel('Amplitude')\n",
    "plt.subplot(3, 1, 2)\n",
    "plt.plot(t, c_compress)\n",
    "plt.title('Compressed signal in Haar Basis')\n",
    "plt.xlabel('Time (s)')\n",
    "plt.ylabel('Amplitude')\n",
    "plt.subplot(3, 1, 3)\n",
    "plt.plot(t, x_decompressed)\n",
    "plt.title('Reconstructed signal')\n",
    "plt.xlabel('Time (s)')\n",
    "plt.ylabel('Amplitude')\n",
    "plt.tight_layout()\n",
    "plt.show()"
   ]
  },
  {
   "cell_type": "markdown",
   "id": "d89649eb",
   "metadata": {},
   "source": [
    "You can play witht the value of `k` to see at which point compression factor starts to affect decompression! "
   ]
  },
  {
   "cell_type": "markdown",
   "id": "1966c55b",
   "metadata": {},
   "source": [
    "## The impact of transmission errors on Haar decomposition"
   ]
  },
  {
   "cell_type": "markdown",
   "id": "70de3547",
   "metadata": {},
   "source": [
    "Now we will see the visual effect if half the signal is lost. First the second half and then the first half. This will have an impact as you might recall that the Haar basis compresses information in a *hierarchical* manner!"
   ]
  },
  {
   "cell_type": "code",
   "execution_count": null,
   "id": "05bc1178",
   "metadata": {},
   "outputs": [],
   "source": [
    "# oops, we lose second half the data\n",
    "c_reconstruct_sec = np.copy(c_reconstruct)\n",
    "c_reconstruct_first = np.copy(c_reconstruct)\n",
    "c_reconstruct_sec[int(len(x)/2):] = 0\n",
    "c_reconstruct_first[:int(len(x)/2)]=0\n",
    "x_reconstruct_sec = np.dot(np.transpose(H), c_reconstruct_sec)\n",
    "x_reconstruct_first = np.dot(np.transpose(H), c_reconstruct_first)\n",
    "\n",
    "# Plot the original signal, the compressed signal, and the reconstructed signal\n",
    "plt.figure(figsize=(10, 8))\n",
    "plt.subplot(4, 1, 1)\n",
    "plt.plot(t, x)\n",
    "plt.title('Original signal')\n",
    "plt.xlabel('Time (s)')\n",
    "plt.ylabel('Amplitude')\n",
    "\n",
    "plt.subplot(4, 1, 2)\n",
    "plt.plot(t, c_compress)\n",
    "plt.title('Compressed signal in Haar Basis')\n",
    "plt.xlabel('Time (s)')\n",
    "plt.ylabel('Amplitude')\n",
    "\n",
    "plt.subplot(4, 1, 3)\n",
    "plt.plot(t, x_reconstruct_sec)\n",
    "plt.title('Reconstructed signal with second half of input being lost')\n",
    "plt.xlabel('Time (s)')\n",
    "plt.ylabel('Amplitude')\n",
    "\n",
    "plt.subplot(4, 1, 4)\n",
    "plt.plot(t, x_reconstruct_first)\n",
    "plt.title('Reconstructed signal with first half of input being lost')\n",
    "plt.xlabel('Time (s)')\n",
    "plt.ylabel('Amplitude')\n",
    "\n",
    "plt.tight_layout()\n",
    "plt.show()"
   ]
  },
  {
   "cell_type": "markdown",
   "id": "d152bd68",
   "metadata": {},
   "source": [
    "This is quite remarkable! Even with **half** of the signal being lost, we can reconstruct a partially good signal (we can easily see that the original signal is almost completely recovered!). Note that it works only if the second half of the signal is lost. If the first half is lost instead, the reconstruction does not work at all. That is one of the reason why Haar basis has been left for another basis that you will see next week (Spoiler alert, it's gonna be mind blowing).  "
   ]
  },
  {
   "cell_type": "markdown",
   "id": "45743713",
   "metadata": {},
   "source": [
    "Try to redo these examples by uncommentingn the sinusoid function (and commenting the box function). This gives a nice graphical intuition on how hierarchical the information is encoded!"
   ]
  }
 ],
 "metadata": {
  "kernelspec": {
   "display_name": "Python 3",
   "language": "python",
   "name": "python3"
  },
  "language_info": {
   "codemirror_mode": {
    "name": "ipython",
    "version": 3
   },
   "file_extension": ".py",
   "mimetype": "text/x-python",
   "name": "python",
   "nbconvert_exporter": "python",
   "pygments_lexer": "ipython3",
   "version": "3.8.8"
  }
 },
 "nbformat": 4,
 "nbformat_minor": 5
}
