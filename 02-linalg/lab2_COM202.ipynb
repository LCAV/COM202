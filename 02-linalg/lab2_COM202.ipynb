{
 "cells": [
  {
   "cell_type": "markdown",
   "id": "437d3280-ea71-48b4-916c-aa984d05de2e",
   "metadata": {},
   "source": [
    "<div style=\"margin: 0 auto 30px; height: 60px; border: 2px solid gray; border-radius: 6px;\">\n",
    "  <div style=\"float: left;\"><img src=\"img/epfl.png\" /></div>\n",
    "  <div style=\"float: right; margin: 20px 30px 0; font-size: 10pt; font-weight: bold;\"><a href=\"https://moodle.epfl.ch/course/view.php?id=18253\">COM202 - Signal Processing</a></div>\n",
    "</div>\n",
    "<div style=\"clear: both; font-size: 30pt; font-weight: bold; color: #483D8B;\">\n",
    "    Lab 2: Introduction to NumPy\n",
    "</div>"
   ]
  },
  {
   "cell_type": "code",
   "execution_count": 1,
   "id": "819c2af4",
   "metadata": {},
   "outputs": [],
   "source": [
    "# First things first, import numpy (as almost always)\n",
    "import numpy as np\n",
    "import matplotlib\n",
    "import matplotlib.pyplot as plt"
   ]
  },
  {
   "cell_type": "markdown",
   "id": "ff89196b",
   "metadata": {},
   "source": [
    "NumPy is a solid library that provides lots of built in functions specifically designed for vector and matrix operations. While this seems a bit useless for you now (after having to compute all these matrices by hand without knowing why), it will quickly one of the most useful tools in lots of applications throughout your studies. "
   ]
  },
  {
   "cell_type": "markdown",
   "id": "d0009b51",
   "metadata": {},
   "source": [
    "To get you started, this lab will focus on some simple linear algebra operations using NumPy and present a final application in image processing using the so-called Haar Basis."
   ]
  },
  {
   "cell_type": "markdown",
   "id": "a890051f",
   "metadata": {
    "tags": []
   },
   "source": [
    "# NumPy Arrays"
   ]
  },
  {
   "cell_type": "markdown",
   "id": "b30031a8",
   "metadata": {},
   "source": [
    "There are two standard ways of creating NumPy arrays:\n",
    " * transform a usual array object using ``np.array`` \n",
    " * use NumPy's built-in functions"
   ]
  },
  {
   "cell_type": "code",
   "execution_count": 2,
   "id": "7b60827a",
   "metadata": {},
   "outputs": [
    {
     "name": "stdout",
     "output_type": "stream",
     "text": [
      "1D vector: \n",
      "[1. 1. 1. 1. 1.]\n",
      "\n",
      "2D matrix: \n",
      "[[1 2 3]\n",
      " [4 5 6]]\n",
      "\n",
      "Identity matrix: \n",
      "[[1. 0. 0. 0. 0.]\n",
      " [0. 1. 0. 0. 0.]\n",
      " [0. 0. 1. 0. 0.]\n",
      " [0. 0. 0. 1. 0.]\n",
      " [0. 0. 0. 0. 1.]]\n",
      "\n",
      "1 matrix: \n",
      "[[1. 1. 1.]\n",
      " [1. 1. 1.]\n",
      " [1. 1. 1.]\n",
      " [1. 1. 1.]\n",
      " [1. 1. 1.]]\n",
      "\n",
      "array of 0 matrix: \n",
      "[[[0. 0. 0.]\n",
      "  [0. 0. 0.]\n",
      "  [0. 0. 0.]]\n",
      "\n",
      " [[0. 0. 0.]\n",
      "  [0. 0. 0.]\n",
      "  [0. 0. 0.]]]\n",
      "\n"
     ]
    }
   ],
   "source": [
    "# Here we create an array from a Python array.\n",
    "matr = np.array([[1,2,3],[4,5,6]])\n",
    "\n",
    "# There exists various built-in functions to easily create different array-like objects:\n",
    "vect = np.ones(5)\n",
    "\n",
    "id_matrix = np.eye(5)\n",
    "\n",
    "one_matrix = np.ones((5,3))\n",
    "\n",
    "zero_matrices = np.zeros((2,3,3))\n",
    "\n",
    "print(\"1D vector: \\n{}\\n\".format(vect))\n",
    "print(\"2D matrix: \\n{}\\n\".format(matr))\n",
    "print(\"Identity matrix: \\n{}\\n\".format(id_matrix))\n",
    "print(\"1 matrix: \\n{}\\n\".format(one_matrix))\n",
    "print(\"array of 0 matrix: \\n{}\\n\".format(zero_matrices))"
   ]
  },
  {
   "cell_type": "markdown",
   "id": "ae813772",
   "metadata": {},
   "source": [
    "## Data types"
   ]
  },
  {
   "cell_type": "markdown",
   "id": "e2ebc4e3",
   "metadata": {},
   "source": [
    "Even though Python is not a static-typed language, you can still declare a variable' type via the syntax \n",
    "\n",
    "``variable:type=value``\n",
    "\n",
    "Note that all NumPy arrays always refer to an underlying data type; you can specify the type at creation time via the directive\n",
    "\n",
    "``dtype=...``\n",
    "\n",
    "or you cast existing arrays using the ``.astype()`` method."
   ]
  },
  {
   "cell_type": "code",
   "execution_count": null,
   "id": "88a0de20",
   "metadata": {},
   "outputs": [],
   "source": [
    "# Creating an array of integers\n",
    "int_vect = np.array([1,2,3,4,5], dtype=np.int32)\n",
    "print(int_vect.dtype)\n",
    "\n",
    "# Cast int array to float array:\n",
    "float_vect = int_vect.astype(np.float32)\n",
    "print(float_vect.dtype)\n",
    "\n",
    "# As we can see, multiplying with standard * two vectors will simply multiply components pairwise\n",
    "# and output another vector. In fact we will see later on why.\n",
    "print(int_vect * float_vect)"
   ]
  },
  {
   "cell_type": "markdown",
   "id": "fcba8a53",
   "metadata": {},
   "source": [
    "The features of NumPy arrays can be inspected via a series of attributes such as ``size``, ``shape``, and ``ndim``. This is particularly useful when working with multi-dimensional vectors or matrices.  "
   ]
  },
  {
   "cell_type": "code",
   "execution_count": null,
   "id": "bf54c80f",
   "metadata": {},
   "outputs": [],
   "source": [
    "maitr = np.array([[1,2,3,4],[5,6,7,8]])\n",
    "print(\"The dimension of the matrix is: {}\\n\".format(maitr.ndim))\n",
    "print(\"The shape of the matrix is: {}\\n\".format(maitr.shape))\n",
    "print(\"The size of the matrix is: {}\\n\".format(maitr.size))\n",
    "print(\"The data type of the matrix is: {}\\n\".format(maitr.dtype))"
   ]
  },
  {
   "cell_type": "markdown",
   "id": "e51e9c67",
   "metadata": {},
   "source": [
    "## Reshaping"
   ]
  },
  {
   "cell_type": "markdown",
   "id": "7204e179",
   "metadata": {},
   "source": [
    "The structure of NumPy arrays can be modified using is the ``.reshape()`` method; note that the new shape must contain the same number of elements as the original shape. "
   ]
  },
  {
   "cell_type": "code",
   "execution_count": null,
   "id": "9eebca20",
   "metadata": {},
   "outputs": [],
   "source": [
    "# Creating a matrix of sequentials numbers:\n",
    "matr = np.arange(10,20).reshape(5,2)\n",
    "print(\"A matrix of size 5,2:\\n{}\\n\".format(matr))\n",
    "\n",
    "matr = matr.reshape(2,5)\n",
    "print(\"A matrix of size 2,5:\\n{}\\n\".format(matr))"
   ]
  },
  {
   "cell_type": "markdown",
   "id": "13e1c811",
   "metadata": {},
   "source": [
    "## Accessing data with slicing"
   ]
  },
  {
   "cell_type": "markdown",
   "id": "f9a26b69",
   "metadata": {},
   "source": [
    "One elegant and easy way of accessing data in arrays is by the mean of slicing. Slices are specific subsets of the array data. \n",
    "\n",
    "The standard notation for a 1D array would be ``start:end:step`` where ``end`` is exclusive. If ``end`` is omitted, it defaults to the end of the array (inclusive)."
   ]
  },
  {
   "cell_type": "code",
   "execution_count": null,
   "id": "5beab69f",
   "metadata": {},
   "outputs": [],
   "source": [
    "# Create a 1D array of sequential numbers.\n",
    "vect = np.arange(12)\n",
    "print(\"The first five elements are: {}\\n\".format(vect[:5]))\n",
    "print(\"The even elements of the array are: {}\\n\".format(vect[::2]))\n",
    "\n",
    "# It is also useful when trying to change only specific parts of the array.\n",
    "vect_1_added = vect.copy()\n",
    "vect_1_added[::2] += 1\n",
    "print(vect_1_added, \"\\n\")\n",
    "\n",
    "# Creating a matrix of size 10x10 filled with 0s.\n",
    "matr = np.zeros((11,11), dtype=np.int32)\n",
    "\n",
    "# Adding ones on the 5th column:\n",
    "matr[:, 5] = 1\n",
    "print(\"The matrix with 1s only on 5th column:\\n{}\\n\".format(matr))\n",
    "\n",
    "# Adding ones to 5th row:\n",
    "matr[5, :] = 1\n",
    "print(\"The matrix with 1s only on 5th column and 5th row:\\n{}\\n\".format(matr))"
   ]
  },
  {
   "cell_type": "markdown",
   "id": "650070da",
   "metadata": {},
   "source": [
    "## Broadcasting"
   ]
  },
  {
   "cell_type": "markdown",
   "id": "e8ce4c7a",
   "metadata": {},
   "source": [
    "Last but not least, broadcasting is a built-in method used by NumPy to apply transformations to arrays in an elegant and concise way. When appling operations to arrays of different sizes, NumPy attempts to extend (\"broadcast\") the smaller array so that it matches the size of the larger one. \n",
    "\n",
    "For example, when adding a vector ``vect`` to a matrix ``M``, the broadcasting step will expand the vector into a properly sized matrix."
   ]
  },
  {
   "cell_type": "code",
   "execution_count": null,
   "id": "3015f6b0",
   "metadata": {},
   "outputs": [],
   "source": [
    "# Create a vector of length 5\n",
    "vect = np.array([1,2,3,4,5])\n",
    "\n",
    "# Matrix of 1s\n",
    "matr = np.ones((4,5), dtype=np.int64)\n",
    "\n",
    "print(\"The matrix: \\n{}\\n and the vector:{}\\n\".format(matr, vect))\n",
    "\n",
    "res_1 = vect + matr \n",
    "print(\"Adding vect to matrix gives: \\n{}\\n\".format(res_1))\n",
    "\n",
    "# Note that you need at least ONE matching dimension:\n",
    "matr_2 = np.ones((4,4,5), dtype=np.int64)\n",
    "res_2 = matr_2 + vect\n",
    "\n",
    "print(\"Adding vect to array of matrices gives: \\n{}\\n\".format(res_2))"
   ]
  },
  {
   "cell_type": "markdown",
   "id": "32be4a65",
   "metadata": {},
   "source": [
    "Be aware that, for broacasting to work, the arrays must have at least one matching dimension:"
   ]
  },
  {
   "cell_type": "code",
   "execution_count": null,
   "id": "db7140e7",
   "metadata": {},
   "outputs": [],
   "source": [
    "# Create a vector of length 5\n",
    "vect = np.array([1,2,3,4,5])\n",
    "\n",
    "# Matrix of 1s of size 4x6\n",
    "matr = np.ones((4,6), dtype=np.int64)\n",
    "res_3 = matr + vect"
   ]
  },
  {
   "cell_type": "markdown",
   "id": "19d151da",
   "metadata": {},
   "source": [
    "More details on broadcasting are availabe [here](https://numpy.org/devdocs/user/basics.broadcasting.html)."
   ]
  },
  {
   "cell_type": "markdown",
   "id": "e35260d3",
   "metadata": {},
   "source": [
    "## Exercise"
   ]
  },
  {
   "cell_type": "markdown",
   "id": "481faeb4",
   "metadata": {},
   "source": [
    "**Task 1**: Imagine you have a 4096-element vector representing pixels of an image. Reshape the vector into a square image."
   ]
  },
  {
   "cell_type": "code",
   "execution_count": null,
   "id": "e25067e5",
   "metadata": {},
   "outputs": [],
   "source": [
    "img_ex = np.array(plt.imread('img/cameraman.jpg'), dtype=int)\n",
    "vect = np.ravel(img_ex, \"F\")\n",
    "\n",
    "img = ... #Your code\n",
    "\n",
    "# You can use these to compare your result. \n",
    "plt.matshow(img)\n",
    "plt.matshow(img_ex)"
   ]
  },
  {
   "cell_type": "code",
   "execution_count": null,
   "id": "bc0525be",
   "metadata": {},
   "outputs": [],
   "source": [
    "# About slicing :)\n",
    "arr = np.array([[1,  2,  3,  4],\n",
    "                [5,  6,  7,  8],\n",
    "                [9, 10, 11, 12]])"
   ]
  },
  {
   "cell_type": "markdown",
   "id": "58e814a5",
   "metadata": {},
   "source": [
    "Use slicing to extract the following subarrays:\n",
    "- The second row of the array.\n",
    "- The second column of the array.\n",
    "- The subarray consisting of the first two rows and the first two columns.\n",
    "- The subarray consisting of the last two rows and the last two columns.\n",
    "\n",
    "Use slicing to modify the following subarrays:\n",
    "- Replace the second row with the values [13, 14, 15, 16].\n",
    "- Replace the third column with the values [17, 18, 19].\n",
    "- Replace the subarray consisting of the first two rows and the first two columns with the values [[20, 21], [22, 23]].\n",
    "- Use slicing to extract all the elements of the array except for the first row and the last column."
   ]
  },
  {
   "cell_type": "code",
   "execution_count": null,
   "id": "d4e39a1f",
   "metadata": {},
   "outputs": [],
   "source": [
    "# Extract subarrays\n",
    "print(...) # Second row\n",
    "print(...) # Second column\n",
    "print(...) # First two rows and columns\n",
    "print(...) # Last two rows and columns\n",
    "\n",
    "# Modify subarrays\n",
    "arr[...] = ... # Replace second row\n",
    "arr[...] = ... # Replace third column\n",
    "arr[...] = ... # Replace first two rows and columns\n",
    "print(arr)\n",
    "\n",
    "# Extract diagonal\n",
    "print(...)\n",
    "\n",
    "# Extract all elements except first row and last column\n",
    "print(...)"
   ]
  },
  {
   "cell_type": "markdown",
   "id": "0659bb9b",
   "metadata": {
    "tags": []
   },
   "source": [
    "# Linear algebra with NumPy"
   ]
  },
  {
   "cell_type": "markdown",
   "id": "d5c088d0",
   "metadata": {},
   "source": [
    "In NumPy, most of the common linear algebra operations are already implemented. \n",
    "- inner product (aka dot product) of two vectors: ``np.vdot``\n",
    "- matrix-vector or matrix-matrix standard multiplication: ``np.dot(M1,v1)`` or ``@`` \n",
    "- matrix inversion: ``np.linalg.inv``. (But don't use this!)\n",
    "- matrix transposition: ``.T``. \n",
    "- matrix L2 norm: ``np.linalg.norm``.\n",
    "- solving a system of linear equations: ``np.linalg.solve``.\n",
    "\n",
    "You can find many other useful information [here](https://numpy.org/doc/stable/reference/routines.linalg.html)."
   ]
  },
  {
   "cell_type": "code",
   "execution_count": null,
   "id": "0e1f2396",
   "metadata": {},
   "outputs": [],
   "source": [
    "# If we instantiate two vectors:\n",
    "v_1 = np.random.rand(5)\n",
    "v_2 = np.random.rand(5) * (-1)\n",
    "\n",
    "v_dot = np.vdot(v_1, v_2)\n",
    "print(\"v_1 is:{}\\nv_2 is:{}\".format(v_1, v_2))\n",
    "print(\"Their dot product is: {}\".format(v_dot))\n",
    "\n",
    "# If we instantiate one matrix and one vector:\n",
    "M_1 = np.arange(1, 7).reshape(3, 2)\n",
    "v_1 = np.ones(2)\n",
    "M_dot = np.dot(M_1, v_1)\n",
    "print(\"The matrix vector product gives a vector of size 3x1: {}\".format(M_dot))\n",
    "\n",
    "# If we instantiate two matrices:\n",
    "M_1 = np.array([[1, 2], [3, 4], [5, 6]])\n",
    "M_2 = np.array([[1, 2, 3], [4, 5, 6]])\n",
    "M_dot = np.dot(M_1, M_2)\n",
    "print(\"The matrix product gives a matrix of size 3x3: \\n{}\".format(M_dot))"
   ]
  },
  {
   "cell_type": "markdown",
   "id": "9522dd34",
   "metadata": {
    "tags": []
   },
   "source": [
    "## Exercises\n",
    "\n",
    "### Linear system of equations"
   ]
  },
  {
   "cell_type": "markdown",
   "id": "da29950b",
   "metadata": {},
   "source": [
    "**Task 2**: Suppose we have a system of linear functions, solve this system.\n",
    "- 2x + y = 10\n",
    "- x - 3y = -4"
   ]
  },
  {
   "cell_type": "code",
   "execution_count": null,
   "id": "870d4667",
   "metadata": {},
   "outputs": [],
   "source": [
    "# define the coefficients matrix A and the constants matrix b\n",
    "A = ... #Your code\n",
    "b = ...\n",
    "\n",
    "# solve the system of equations\n",
    "x = ...\n",
    "\n",
    "# print the solution\n",
    "print(\"x =\", x[0])\n",
    "print(\"y =\", x[1])\n",
    "\n",
    "# verify the solution using the equations.\n",
    "eq1 = ...\n",
    "eq2 = ...\n",
    "\n",
    "if np.isclose(eq1, 10) and np.isclose(eq2, -4):\n",
    "    print(\"The solution is verified.\")\n",
    "else:\n",
    "    print(\"The solution is not verified.\")"
   ]
  },
  {
   "cell_type": "markdown",
   "id": "f4e4bf5c",
   "metadata": {},
   "source": [
    "### Matrix-vector operations\n",
    "\n",
    "Let $A$ be the matrix : $$A = \\begin{bmatrix} 1 & 2 & 1 \\\\ 3 & 0 & 1 \\\\ 0 & 2 & 4 \\end{bmatrix}$$\n",
    "and $v, w$ vectors: $$v = \\begin{bmatrix} 1 & 2 & 4 \\end{bmatrix} \\\\w = \\begin{bmatrix} 2 & 4 & 6 \\end{bmatrix}$$\n",
    "\n",
    "**Task 3**: Follow along the code bellow. "
   ]
  },
  {
   "cell_type": "code",
   "execution_count": null,
   "id": "0ca8275c",
   "metadata": {},
   "outputs": [],
   "source": [
    "# define the matrix A and the vectors v and w\n",
    "A = ... #Your code\n",
    "v = ...\n",
    "w = ...\n",
    "\n",
    "# compute the product of matrix A and vector v\n",
    "Av = ...\n",
    "print(\"A * v =\", Av)\n",
    "\n",
    "# compute the product of vector w and matrix A\n",
    "wA = ...\n",
    "print(\"w * A =\", wA)\n",
    "\n",
    "# compute the dot product of vectors v and w\n",
    "vw = ...\n",
    "print(\"v * w =\", vw)\n",
    "\n",
    "# compute the transpose of matrix A\n",
    "At = ...\n",
    "print(\"A transpose =\", At)"
   ]
  },
  {
   "cell_type": "markdown",
   "id": "c2e64808",
   "metadata": {},
   "source": [
    "## Change of basis\n",
    "\n",
    "Suppose we have the representation of a vector in a given basis, and we want to get its representation in another basis. We can do this by using the so-called _change-of-basis matrix_. In this exercise, we'll practice computing change-of-basis matrices and applying them to vectors in NumPy.\n",
    "\n",
    "Create two 2x2 NumPy arrays to represent each basis. Each column of these matrices represents a basis vector.\n",
    "\n",
    "**Task 4**: Write a function called ``change_of_basis_matrix()`` that takes two bases as input and returns the change-of-basis matrix from the first basis to the second."
   ]
  },
  {
   "cell_type": "code",
   "execution_count": 5,
   "id": "d9e9f485",
   "metadata": {},
   "outputs": [],
   "source": [
    "def change_of_basis_matrix(basis_1: np.ndarray, basis_2: np.ndarray) -> np.ndarray:\n",
    "    ... #Your code\n",
    "    return np.array([[5, 4],[-4, -3]])"
   ]
  },
  {
   "cell_type": "code",
   "execution_count": 6,
   "id": "5e642d8a",
   "metadata": {},
   "outputs": [
    {
     "name": "stdout",
     "output_type": "stream",
     "text": [
      "[[ 5  4]\n",
      " [-4 -3]]\n"
     ]
    }
   ],
   "source": [
    "# Test your implementation of change_of_basis_matrix():\n",
    "basis_1 = np.array([[1, 2], [3, 4]])\n",
    "basis_2 = np.array([[5, 6], [7, 8]])\n",
    "\n",
    "A = change_of_basis_matrix(basis_1, basis_2)\n",
    "\n",
    "assert np.allclose(A, np.array([[5, 4],[-4, -3]]))"
   ]
  },
  {
   "cell_type": "code",
   "execution_count": null,
   "id": "c24f6a9e",
   "metadata": {},
   "outputs": [],
   "source": [
    "# Test your implementation of the change_of_basis_matrix(): \n",
    "# create a vector using basis_1, and verify it's representation in basis_2 is consistent.\n",
    "vect = np.array([4,1]) # vector representation in basis_1\n",
    "vect_2 = ... #Your code\n",
    "\n",
    "assert np.allclose(basis_1 @ vect, basis_2 @ vect_2)"
   ]
  },
  {
   "cell_type": "markdown",
   "id": "17ae4905",
   "metadata": {
    "tags": []
   },
   "source": [
    "# Basis vectors for telecommunications"
   ]
  },
  {
   "cell_type": "markdown",
   "id": "6ede077a",
   "metadata": {},
   "source": [
    "The communication channel between a sender and receiver almost always perturbs the sender's message, either due to noise or other channel effects such as distortion, temporal compression, etc.\n",
    "To mitigate these effects, one possibility is to transmit *coded* messages in place of raw messages by changing the *basis* used to transmit the signal.\n",
    "\n",
    "As an example, consider sending the binary message $m = \\{0, 1, 1, 0\\}$ over a discrete channel such that each bit may be randomly flipped with probability $\\epsilon$. If, instead of sending the raw message $m$, we send the repeated message $m = \\{0, 0, 1, 1, 1, 1, 0, 0\\}$ by doubling each symbol, then the probability of correctly reconstructing the sender's message $m$ is much higher.\n",
    "\n",
    "What happend above is changing the message basis from the canonical basis $B_{1} = Id$ to the *repetition basis*\n",
    "$$\n",
    "B_{2} = \n",
    "\\left[\n",
    "\\begin{array}{c,c,c,c}\n",
    "1, 0, 0, 0 \\\\\n",
    "1, 0, 0, 0 \\\\\n",
    "0, 1, 0, 0 \\\\\n",
    "0, 1, 0, 0 \\\\\n",
    "0, 0, 1, 0 \\\\\n",
    "0, 0, 1, 0 \\\\\n",
    "0, 0, 0, 1 \\\\\n",
    "0, 0, 0, 1 \\\\\n",
    "\\end{array}\n",
    "\\right].\n",
    "$$\n"
   ]
  },
  {
   "cell_type": "markdown",
   "id": "3eeb7c10",
   "metadata": {},
   "source": [
    "## The search for a good basis\n",
    "\n",
    "What we are after is a basis for the space of images that fulfills a set of prerequisites:\n",
    "\n",
    " * We want the basis to be orthonormal (or at least orthogonal) so that basis decomposition is obtained simply via a series of inner products.\n",
    " * We want the basis to be able to represent the signal information robustly so that a few coefficients capture most of the signal. This will ensure resilence against data loss.\n",
    " * we want the basis to be easy to compute.\n",
    "\n",
    "One such basis is the **Haar basis**. While we cannot go into too many details in this notebook, curious people can read further on the topic [here](https://chengtsolin.wordpress.com/2015/04/15/real-time-2d-discrete-wavelet-transform-using-opengl-compute-shader/). Mathematical formulas aside, the Haar basis works by encoding the information in a *hierarchical* way: the first basis vectors encode the broad information and the higher coefficients encode the details.\n",
    "\n",
    "First of all, to keep things simple, we will remain in the space of square matrices whose size is a power of two. The code to generate the Haar basis matrices is given below. (It is not required to understand the underlying computation for the rest of this section).\n",
    "\n",
    "**Task 5**: As a simple first task, fill in the function `check_orthogonality` that verifies if a matrix is orthogonal. "
   ]
  },
  {
   "cell_type": "code",
   "execution_count": null,
   "id": "4a873463",
   "metadata": {},
   "outputs": [],
   "source": [
    "# Create a Haar matrix of size NxN, required to have N as a power of 2.\n",
    "def haarmatrix(N):\n",
    "    n = int(np.log2(N))\n",
    "\n",
    "    z = np.resize(1.*np.arange(N)/N, (len(1.*np.arange(N)), len(1.*np.arange(N)/N)))\n",
    "    k = np.transpose(np.resize(1.*np.arange(N), (len(1.*np.arange(N)/N), len(1.*np.arange(N)))))\n",
    "    \n",
    "    p  = np.floor(np.log(np.maximum(1,k))/np.log(2))\n",
    "    q  = k - (2**p) + 1\n",
    "    z1 = (q-1)/(2**p)\n",
    "    z2 = (q-0.5)/(2**p)\n",
    "    z3 = q/(2**p)\n",
    "    A  = (1/np.sqrt(N)) * ((( 2**(p/2.)) * ((z >= z1) & (z < z2))) + ((-2**(p/2.)) * ((z >= z2) & (z < z3))))\n",
    "    A[0,:] = 1/np.sqrt(N)\n",
    "    return A\n",
    "\n",
    "# Check if the matrix is orthogonoal.\n",
    "def check_orthogonality(matrix, size):\n",
    "    ...  #Your code\n",
    "    print(\"Orthogonal!\")"
   ]
  },
  {
   "cell_type": "markdown",
   "id": "ee31c0bf",
   "metadata": {},
   "source": [
    "## Signal decomposition in the Haar Basis"
   ]
  },
  {
   "cell_type": "markdown",
   "id": "213e20cc",
   "metadata": {},
   "source": [
    "Let's first see if we can correctly encode a basic signal in the Haar basis and reconstruct it afterwards. Keep in mind that the compressed signal won't *look* like the original since information is stored differently!\n",
    "\n",
    "First we create a box signal and the Haar matrix corresponding to the Haar basis for the right dimension. Note that the code to generate a sinusoid is also given, you can try it yourself."
   ]
  },
  {
   "cell_type": "code",
   "execution_count": null,
   "id": "33578440",
   "metadata": {},
   "outputs": [],
   "source": [
    "# Define a signal to be compressed\n",
    "fs = 64 # Sampling frequency\n",
    "t = np.arange(0, 1, 1/fs) # Time vector\n",
    "# x = np.sin(2*np.pi*5*t) # Sine wave with frequency 5 Hz\n",
    "\n",
    "# Box signal\n",
    "box_start = 2/5\n",
    "box_end = 3/5\n",
    "x = np.zeros_like(t)\n",
    "x[(t >= box_start) & (t <= box_end)] = 1\n",
    "\n",
    "# Compute the Haar matrix of order N\n",
    "N = len(x)\n",
    "H = haarmatrix(N)\n",
    "\n",
    "# Check if the matrix is orthogonal\n",
    "check_orthogonality(H, N)\n",
    "\n",
    "plt.figure(figsize=(10, 6))\n",
    "plt.subplot(2, 1, 1)\n",
    "plt.plot(t, x)\n",
    "plt.title('Original signal')\n",
    "plt.xlabel('Time (s)')\n",
    "plt.ylabel('Amplitude')\n",
    "plt.subplot(2, 1, 2)\n",
    "plt.plot(t, H[1])\n",
    "plt.title('One base vector of the Haar basis')\n",
    "plt.xlabel('Time (s)')\n",
    "plt.ylabel('Amplitude')\n",
    "plt.tight_layout()\n",
    "plt.show()"
   ]
  },
  {
   "cell_type": "markdown",
   "id": "9db90245",
   "metadata": {},
   "source": [
    "We can see that the signal is the box function. You can play with the second plot ` plt.plot(t, H[i])` where `i` is the basis vector"
   ]
  },
  {
   "cell_type": "markdown",
   "id": "15cfccf9",
   "metadata": {},
   "source": [
    "Next we actually change the basis. \n",
    "\n",
    "**Task 6**: Compute the Haar coefficients of the signal, or in other words the representation of your signal in the Haar basis.\n",
    "\n",
    "*Hint*: Recall what you saw in section 2.2 and what is in essence the Haar matrix,"
   ]
  },
  {
   "cell_type": "code",
   "execution_count": null,
   "id": "e6fd92ec",
   "metadata": {},
   "outputs": [],
   "source": [
    "c = ... #Your code"
   ]
  },
  {
   "cell_type": "markdown",
   "id": "945fd46f",
   "metadata": {},
   "source": [
    "As explained earlier, one key feature of Haar basis is that it encodes information in a *hierarchical* way. So it would be natural to use it either for compression or for transmitting a signal with a high error probability. We first consider compression. The way to do so is by sorting coefficients in decreasing order of magnitude, and keeping only these coefficients as our signal. Putting everything else to 0 gives the last plot below. We can see that almost all information is encoded in the first half of the signal."
   ]
  },
  {
   "cell_type": "code",
   "execution_count": null,
   "id": "5be46f10",
   "metadata": {},
   "outputs": [],
   "source": [
    "# Sort the Haar coefficients in decreasing order of magnitude and keep only the top k coefficients\n",
    "k = int(N/2)\n",
    "\n",
    "idx = np.argsort(np.abs(c))[::-1][:k]\n",
    "c_compress = np.zeros_like(c)\n",
    "c_compress[idx] = c[idx]"
   ]
  },
  {
   "cell_type": "code",
   "execution_count": null,
   "id": "113c28ba",
   "metadata": {},
   "outputs": [],
   "source": [
    "# Plot the original signal and the compressed signal\n",
    "plt.figure(figsize=(10, 8))\n",
    "plt.subplot(3, 1, 1)\n",
    "plt.plot(t, x)\n",
    "plt.title('Original signal')\n",
    "plt.xlabel('Time (s)')\n",
    "plt.ylabel('Amplitude')\n",
    "plt.subplot(3, 1, 2)\n",
    "plt.plot(t, c)\n",
    "plt.title('Signal in Haar Basis')\n",
    "plt.xlabel('Time (s)')\n",
    "plt.ylabel('Amplitude')\n",
    "plt.subplot(3, 1, 3)\n",
    "plt.plot(t, c_compress)\n",
    "plt.title('Compressed signal in Haar Basis')\n",
    "plt.xlabel('Time (s)')\n",
    "plt.ylabel('Amplitude')\n",
    "plt.tight_layout()\n",
    "plt.show()"
   ]
  },
  {
   "cell_type": "markdown",
   "id": "d362f71f",
   "metadata": {},
   "source": [
    "Now imagine that we want to decompress the signal. We take the compressed signal and apply the formula $\\hat s = H^{T}\\hat c $. This gives the \"decompressed\" signal $\\hat s$ which is almost correctly reconstructed.\n",
    "\n",
    "**Task 7**: Compute the inverse Haar transform of the top k coefficients to obtain the decompressed signal."
   ]
  },
  {
   "cell_type": "code",
   "execution_count": null,
   "id": "c3835dc3",
   "metadata": {},
   "outputs": [],
   "source": [
    "# Reconstruct the original signal from the compressed signal and the Haar basis\n",
    "c_reconstruct = np.zeros_like(c)\n",
    "c_reconstruct[idx] = c_compress[idx]\n",
    "\n",
    "x_decompressed = ... #Your code\n",
    "\n",
    "# Plot the original signal, the compressed signal, and the reconstructed signal\n",
    "plt.figure(figsize=(10, 6))\n",
    "plt.subplot(3, 1, 1)\n",
    "plt.plot(t, x)\n",
    "plt.title('Original signal')\n",
    "plt.xlabel('Time (s)')\n",
    "plt.ylabel('Amplitude')\n",
    "plt.subplot(3, 1, 2)\n",
    "plt.plot(t, c_compress)\n",
    "plt.title('Compressed signal in Haar Basis')\n",
    "plt.xlabel('Time (s)')\n",
    "plt.ylabel('Amplitude')\n",
    "plt.subplot(3, 1, 3)\n",
    "plt.plot(t, x_decompressed)\n",
    "plt.title('Reconstructed signal')\n",
    "plt.xlabel('Time (s)')\n",
    "plt.ylabel('Amplitude')\n",
    "plt.tight_layout()\n",
    "plt.show()"
   ]
  },
  {
   "cell_type": "markdown",
   "id": "d89649eb",
   "metadata": {},
   "source": [
    "You can play witht the value of `k` to see at which point compression factor starts to affect decompression! "
   ]
  },
  {
   "cell_type": "markdown",
   "id": "45743713",
   "metadata": {},
   "source": [
    "Try to redo these examples by uncommenting the sinusoid function (and commenting the box function). This gives a nice graphical intuition on how hierarchical the information is encoded!"
   ]
  }
 ],
 "metadata": {
  "kernelspec": {
   "display_name": "Python 3 (ipykernel)",
   "language": "python",
   "name": "python3"
  },
  "language_info": {
   "codemirror_mode": {
    "name": "ipython",
    "version": 3
   },
   "file_extension": ".py",
   "mimetype": "text/x-python",
   "name": "python",
   "nbconvert_exporter": "python",
   "pygments_lexer": "ipython3",
   "version": "3.10.6"
  }
 },
 "nbformat": 4,
 "nbformat_minor": 5
}
