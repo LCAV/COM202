{
 "cells": [
  {
   "cell_type": "markdown",
   "id": "437d3280-ea71-48b4-916c-aa984d05de2e",
   "metadata": {},
   "source": [
    "<div style=\"margin: 0 auto 30px; height: 60px; border: 2px solid gray; border-radius: 6px;\">\n",
    "  <div style=\"float: left;\"><img src=\"img/epfl.png\" /></div>\n",
    "  <div style=\"float: right; margin: 20px 30px 0; font-size: 10pt; font-weight: bold;\"><a href=\"https://moodle.epfl.ch/course/view.php?id=18253\">COM202 - Signal Processing</a></div>\n",
    "</div>\n",
    "<div style=\"clear: both; font-size: 30pt; font-weight: bold; color: #483D8B;\">\n",
    "    Lab 2: Solutions to the exercises\n",
    "</div>"
   ]
  },
  {
   "cell_type": "code",
   "execution_count": null,
   "id": "d951a027-6943-41d4-bb31-5b7f0ff6f7d5",
   "metadata": {},
   "outputs": [],
   "source": [
    "# First things first, import numpy (as almost always)\n",
    "import numpy as np\n",
    "import matplotlib\n",
    "import matplotlib.pyplot as plt"
   ]
  },
  {
   "cell_type": "code",
   "execution_count": null,
   "id": "e7f62b2a-6475-40cf-8cad-c9f275f1bf8d",
   "metadata": {},
   "outputs": [],
   "source": [
    "plt.rcParams[\"figure.figsize\"] = (14,4)"
   ]
  },
  {
   "cell_type": "markdown",
   "id": "ff89196b",
   "metadata": {},
   "source": [
    "NumPy is a solid library that provides lots of built in functions specifically designed for vector and matrix operations. While this seems a bit useless for you now (after having to compute all these matrices by hand without knowing why), it will quickly one of the most useful tools in lots of applications throughout your studies. "
   ]
  },
  {
   "cell_type": "markdown",
   "id": "d0009b51",
   "metadata": {},
   "source": [
    "To get you started, this lab will focus on some simple linear algebra operations using NumPy and present a final application in image processing using the so-called Haar Basis."
   ]
  },
  {
   "cell_type": "markdown",
   "id": "a890051f",
   "metadata": {
    "tags": []
   },
   "source": [
    "# NumPy Arrays"
   ]
  },
  {
   "cell_type": "markdown",
   "id": "b30031a8",
   "metadata": {},
   "source": [
    "There are two standard ways of creating NumPy arrays:\n",
    " * transform a usual array object using ``np.array`` \n",
    " * use NumPy's built-in functions"
   ]
  },
  {
   "cell_type": "code",
   "execution_count": null,
   "id": "7b60827a",
   "metadata": {},
   "outputs": [],
   "source": [
    "# Here we create an array from a Python array.\n",
    "matr = np.array([[1,2,3],[4,5,6]])\n",
    "\n",
    "# There exists various built-in functions to easily create different array-like objects:\n",
    "vect = np.ones(5)\n",
    "\n",
    "id_matrix = np.eye(5)\n",
    "\n",
    "one_matrix = np.ones((5,3))\n",
    "\n",
    "zero_matrices = np.zeros((2,3,3))\n",
    "\n",
    "print(\"1D vector: \\n{}\\n\".format(vect))\n",
    "print(\"2D matrix: \\n{}\\n\".format(matr))\n",
    "print(\"Identity matrix: \\n{}\\n\".format(id_matrix))\n",
    "print(\"1 matrix: \\n{}\\n\".format(one_matrix))\n",
    "print(\"array of 0 matrix: \\n{}\\n\".format(zero_matrices))"
   ]
  },
  {
   "cell_type": "markdown",
   "id": "ae813772",
   "metadata": {},
   "source": [
    "## Data types"
   ]
  },
  {
   "cell_type": "markdown",
   "id": "e2ebc4e3",
   "metadata": {},
   "source": [
    "Even though Python is not a static-typed language, you can still declare a variable' type via the syntax \n",
    "\n",
    "``variable:type=value``\n",
    "\n",
    "Note that all NumPy arrays always refer to an underlying data type; you can specify the type at creation time via the directive\n",
    "\n",
    "``dtype=...``\n",
    "\n",
    "or you cast existing arrays using the ``.astype()`` method."
   ]
  },
  {
   "cell_type": "code",
   "execution_count": null,
   "id": "88a0de20",
   "metadata": {},
   "outputs": [],
   "source": [
    "# Creating an array of integers\n",
    "int_vect = np.array([1,2,3,4,5], dtype=np.int32)\n",
    "print(int_vect.dtype)\n",
    "\n",
    "# Cast int array to float array:\n",
    "float_vect = int_vect.astype(np.float32)\n",
    "print(float_vect.dtype)\n",
    "\n",
    "# As we can see, multiplying with standard * two vectors will simply multiply components pairwise\n",
    "# and output another vector. In fact we will see later on why.\n",
    "print(int_vect * float_vect)"
   ]
  },
  {
   "cell_type": "markdown",
   "id": "fcba8a53",
   "metadata": {},
   "source": [
    "The features of NumPy arrays can be inspected via a series of attributes such as ``size``, ``shape``, and ``ndim``. This is particularly useful when working with multi-dimensional vectors or matrices.  "
   ]
  },
  {
   "cell_type": "code",
   "execution_count": null,
   "id": "bf54c80f",
   "metadata": {},
   "outputs": [],
   "source": [
    "matr = np.array([[1,2,3,4],[5,6,7,8]])\n",
    "print(\"The dimension of the matrix is: {}\\n\".format(matr.ndim))\n",
    "print(\"The shape of the matrix is: {}\\n\".format(matr.shape))\n",
    "print(\"The size of the matrix is: {}\\n\".format(matr.size))\n",
    "print(\"The data type of the matrix is: {}\\n\".format(matr.dtype))"
   ]
  },
  {
   "cell_type": "markdown",
   "id": "e51e9c67",
   "metadata": {},
   "source": [
    "## Reshaping"
   ]
  },
  {
   "cell_type": "markdown",
   "id": "7204e179",
   "metadata": {},
   "source": [
    "The structure of NumPy arrays can be modified using is the ``.reshape()`` method; note that the new shape must contain the same number of elements as the original shape. "
   ]
  },
  {
   "cell_type": "code",
   "execution_count": null,
   "id": "9eebca20",
   "metadata": {},
   "outputs": [],
   "source": [
    "# Creating a matrix of sequentials numbers:\n",
    "matr = np.arange(10,20).reshape(5,2)\n",
    "print(\"A matrix of size 5,2:\\n{}\\n\".format(matr))\n",
    "\n",
    "matr = matr.reshape(2,5)\n",
    "print(\"A matrix of size 2,5:\\n{}\\n\".format(matr))"
   ]
  },
  {
   "cell_type": "markdown",
   "id": "13e1c811",
   "metadata": {},
   "source": [
    "## Accessing data with slicing"
   ]
  },
  {
   "cell_type": "markdown",
   "id": "f9a26b69",
   "metadata": {},
   "source": [
    "One elegant and easy way of accessing data in arrays is by the mean of slicing. Slices are specific subsets of the array data. \n",
    "\n",
    "The standard notation for a 1D array would be ``start:end:step`` where ``end`` is exclusive. If ``end`` is omitted, it defaults to the end of the array (inclusive)."
   ]
  },
  {
   "cell_type": "code",
   "execution_count": null,
   "id": "5beab69f",
   "metadata": {},
   "outputs": [],
   "source": [
    "# Create a 1D array of sequential numbers.\n",
    "vect = np.arange(12)\n",
    "print(\"The first five elements are: {}\\n\".format(vect[:5]))\n",
    "print(\"The even elements of the array are: {}\\n\".format(vect[::2]))\n",
    "\n",
    "# It is also useful when trying to change only specific parts of the array.\n",
    "vect_1_added = vect.copy()\n",
    "vect_1_added[::2] += 1\n",
    "print(vect_1_added, \"\\n\")\n",
    "\n",
    "# Creating a matrix of size 10x10 filled with 0s.\n",
    "matr = np.zeros((11,11), dtype=np.int32)\n",
    "\n",
    "# Adding ones on the 5th column:\n",
    "matr[:, 5] = 1\n",
    "print(\"The matrix with 1s only on 5th column:\\n{}\\n\".format(matr))\n",
    "\n",
    "# Adding ones to 5th row:\n",
    "matr[5, :] = 1\n",
    "print(\"The matrix with 1s only on 5th column and 5th row:\\n{}\\n\".format(matr))"
   ]
  },
  {
   "cell_type": "markdown",
   "id": "650070da",
   "metadata": {},
   "source": [
    "## Broadcasting"
   ]
  },
  {
   "cell_type": "markdown",
   "id": "e8ce4c7a",
   "metadata": {},
   "source": [
    "Last but not least, broadcasting is a built-in method used by NumPy to apply transformations to arrays in an elegant and concise way. When appling operations to arrays of different sizes, NumPy attempts to extend (\"broadcast\") the smaller array so that it matches the size of the larger one. \n",
    "\n",
    "For example, when adding a vector ``vect`` to a matrix ``M``, the broadcasting step will expand the vector into a properly sized matrix."
   ]
  },
  {
   "cell_type": "code",
   "execution_count": null,
   "id": "3015f6b0",
   "metadata": {},
   "outputs": [],
   "source": [
    "# Create a vector of length 5\n",
    "vect = np.array([1,2,3,4,5])\n",
    "\n",
    "# Matrix of 1s\n",
    "matr = np.ones((4,5), dtype=np.int64)\n",
    "\n",
    "print(\"The matrix: \\n{}\\n and the vector:{}\\n\".format(matr, vect))\n",
    "\n",
    "res_1 = vect + matr \n",
    "print(\"Adding vect to matrix gives: \\n{}\\n\".format(res_1))\n",
    "\n",
    "# Note that you need at least ONE matching dimension:\n",
    "matr_2 = np.ones((4,4,5), dtype=np.int64)\n",
    "res_2 = matr_2 + vect\n",
    "\n",
    "print(\"Adding vect to array of matrices gives: \\n{}\\n\".format(res_2))"
   ]
  },
  {
   "cell_type": "markdown",
   "id": "32be4a65",
   "metadata": {},
   "source": [
    "Be aware that, for broacasting to work, the arrays must have at least one matching dimension:"
   ]
  },
  {
   "cell_type": "code",
   "execution_count": null,
   "id": "db7140e7",
   "metadata": {},
   "outputs": [],
   "source": [
    "# Create a vector of length 5\n",
    "vect = np.array([1,2,3,4,5])\n",
    "\n",
    "# Matrix of 1s of size 4x6\n",
    "matr = np.ones((4,6), dtype=np.int64)\n",
    "\n",
    "try:\n",
    "    res_3 = matr + vect\n",
    "except ValueError as error:\n",
    "    print(\"Broadcasting error: \", error)"
   ]
  },
  {
   "cell_type": "markdown",
   "id": "19d151da",
   "metadata": {},
   "source": [
    "More details on broadcasting are availabe [here](https://numpy.org/devdocs/user/basics.broadcasting.html)."
   ]
  },
  {
   "cell_type": "markdown",
   "id": "e35260d3",
   "metadata": {},
   "source": [
    "## Your turn!"
   ]
  },
  {
   "cell_type": "markdown",
   "id": "481faeb4",
   "metadata": {},
   "source": [
    "### Exercise: reshaping a vector into a matrix\n",
    "\n",
    "The following code takes all the pixels in a square image and stores them one after the other in a single 4096-element vector."
   ]
  },
  {
   "cell_type": "code",
   "execution_count": null,
   "id": "ba2417b5-4686-4159-a76f-373446ce6b34",
   "metadata": {},
   "outputs": [],
   "source": [
    "original_image = np.array(plt.imread('img/cameraman.jpg'), dtype=int)\n",
    "vect = np.ravel(original_image, \"C\")"
   ]
  },
  {
   "cell_type": "markdown",
   "id": "4701e5d2-0d74-48f9-9365-a951e51d36c7",
   "metadata": {},
   "source": [
    "Write the code to reshape the vector into the original square image:"
   ]
  },
  {
   "cell_type": "code",
   "execution_count": null,
   "id": "264aa542-67f7-452e-b76f-04a8be728f52",
   "metadata": {},
   "outputs": [],
   "source": [
    "img = ... # write your code here"
   ]
  },
  {
   "cell_type": "code",
   "execution_count": null,
   "id": "50dff085-3cce-47be-b38c-dac835a1f9ee",
   "metadata": {
    "tags": [
     "solution"
    ]
   },
   "outputs": [],
   "source": [
    "# SOLUTION\n",
    "\n",
    "# 4096 = 64 * 64\n",
    "img = vect.reshape(64, 64)"
   ]
  },
  {
   "cell_type": "code",
   "execution_count": null,
   "id": "cb1e863e-4092-4612-90c7-0d84c8337950",
   "metadata": {},
   "outputs": [],
   "source": [
    "# You can use these to compare your result. \n",
    "plt.matshow(original_image)\n",
    "plt.matshow(img);"
   ]
  },
  {
   "cell_type": "markdown",
   "id": "e9ecbfc1-77f5-4e7e-86d0-655706687cf6",
   "metadata": {},
   "source": [
    "### Exercise: slicing\n",
    "\n",
    "Consider the following two-dimensional array:"
   ]
  },
  {
   "cell_type": "code",
   "execution_count": null,
   "id": "bc0525be",
   "metadata": {},
   "outputs": [],
   "source": [
    "a = np.array([[1,  2,  3,  4],\n",
    "              [5,  6,  7,  8],\n",
    "              [9, 10, 11, 12]])"
   ]
  },
  {
   "cell_type": "markdown",
   "id": "d569bde1-500d-4267-81a7-ab7c40f839af",
   "metadata": {},
   "source": [
    "Use slicing to extract the following subarrays:\n",
    "- The second row of the array.\n",
    "- The second column of the array.\n",
    "- The subarray consisting of the first two rows and the first two columns.\n",
    "- The subarray consisting of the last two rows and the last two columns."
   ]
  },
  {
   "cell_type": "code",
   "execution_count": null,
   "id": "53237e39-ea9d-4d3f-9a9c-ea7a01a963b8",
   "metadata": {},
   "outputs": [],
   "source": [
    "# your code here"
   ]
  },
  {
   "cell_type": "code",
   "execution_count": null,
   "id": "830eea36-4216-48b5-a456-4690cb895087",
   "metadata": {
    "tags": [
     "solution"
    ]
   },
   "outputs": [],
   "source": [
    "# SOLUTION\n",
    "\n",
    "print('Second row: ', a[1])     \n",
    "print('Second column: ', a[:,1])   \n",
    "print('First two rows and columns:\\n{}'.format(a[:2,:2])) \n",
    "print('Last two rows and columns:\\n{}'.format(a[-2:,-2:])) "
   ]
  },
  {
   "cell_type": "markdown",
   "id": "a4be1c75-2353-4c38-8221-05b0af25a828",
   "metadata": {},
   "source": [
    "Use slicing to modify the following subarrays:\n",
    "- Replace the second row with the values [13, 14, 15, 16].\n",
    "- Replace the third column with the values [17, 18, 19].\n",
    "- Replace the subarray consisting of the first two rows and the first two columns with the values [[20, 21], [22, 23]].\n",
    "- Use slicing to extract all the elements of the array except for the first row and the last column."
   ]
  },
  {
   "cell_type": "code",
   "execution_count": null,
   "id": "36425a81-63a5-4c3c-a3e1-9f6fb693afcc",
   "metadata": {},
   "outputs": [],
   "source": [
    "# your code here"
   ]
  },
  {
   "cell_type": "code",
   "execution_count": null,
   "id": "d4e39a1f",
   "metadata": {
    "tags": [
     "solution"
    ]
   },
   "outputs": [],
   "source": [
    "# SOLUTION\n",
    " \n",
    "b = a.copy()\n",
    "b[1] = [13, 14, 15, 16]\n",
    "print('Replaced second row:\\n{}'.format(b))\n",
    "\n",
    "b = a.copy()\n",
    "b[:,2] = [17, 18, 19]\n",
    "print('Replaced third column:\\n{}'.format(b))\n",
    "\n",
    "b = a.copy()\n",
    "b[:2,:2] = [[20, 21],[22,23]]\n",
    "print('Replaced first two rows and columns:\\n{}'.format(b))\n",
    "\n",
    "print('all elements except first row and last column:\\n{}'.format(a[1:,:-1]))"
   ]
  },
  {
   "cell_type": "markdown",
   "id": "0659bb9b",
   "metadata": {
    "tags": []
   },
   "source": [
    "# Linear algebra with NumPy"
   ]
  },
  {
   "cell_type": "markdown",
   "id": "d5c088d0",
   "metadata": {},
   "source": [
    "## Basic operators\n",
    "\n",
    "In NumPy, most of the common linear algebra operations are already implemented. \n",
    "- inner product (aka dot product) of two vectors: ``np.vdot``\n",
    "- matrix-vector or matrix-matrix standard multiplication: ``np.dot(M1,v1)`` or ``@`` \n",
    "- matrix inversion: ``np.linalg.inv``. \n",
    "- matrix transposition: ``.T``. \n",
    "- matrix L2 norm: ``np.linalg.norm``.\n",
    "- solving a system of linear equations: ``np.linalg.solve``.\n",
    "\n",
    "You can find many other useful information [here](https://numpy.org/doc/stable/reference/routines.linalg.html)."
   ]
  },
  {
   "cell_type": "code",
   "execution_count": null,
   "id": "0e1f2396",
   "metadata": {},
   "outputs": [],
   "source": [
    "# If we instantiate two vectors:\n",
    "v_1 = np.random.rand(5)\n",
    "v_2 = np.random.rand(5) * (-1)\n",
    "\n",
    "v_dot = np.vdot(v_1, v_2)\n",
    "print(\"v_1 is:{}\\nv_2 is:{}\".format(v_1, v_2))\n",
    "print(\"Their dot product is: {}\".format(v_dot))\n",
    "\n",
    "# If we instantiate one matrix and one vector:\n",
    "M_1 = np.arange(1, 7).reshape(3, 2)\n",
    "v_1 = np.ones(2)\n",
    "M_dot = np.dot(M_1, v_1)\n",
    "print(\"The matrix vector product gives a vector of size 3x1: {}\".format(M_dot))\n",
    "\n",
    "# If we instantiate two matrices:\n",
    "M_1 = np.array([[1, 2], [3, 4], [5, 6]])\n",
    "M_2 = np.array([[1, 2, 3], [4, 5, 6]])\n",
    "M_dot = np.dot(M_1, M_2)\n",
    "print(\"The matrix product gives a matrix of size 3x3: \\n{}\".format(M_dot))"
   ]
  },
  {
   "cell_type": "markdown",
   "id": "f4e4bf5c",
   "metadata": {},
   "source": [
    "### Exercise: matrix-vector operations\n",
    "\n",
    "Let $A$ be the matrix : $$A = \\begin{bmatrix} 1 & 2 & 1 \\\\ 3 & 0 & 1 \\\\ 0 & 2 & 4 \\end{bmatrix}$$\n",
    "and $\\mathbf{v, w}$ the vectors: $$\\mathbf{v} = \\begin{bmatrix} 1 \\\\ 2 \\\\ 4 \\end{bmatrix} \\\\ \\mathbf{w} = \\begin{bmatrix} 2 \\\\ 4 \\\\ 6 \\end{bmatrix}$$\n",
    "\n",
    "Complete the code below. "
   ]
  },
  {
   "cell_type": "code",
   "execution_count": null,
   "id": "0ca8275c",
   "metadata": {},
   "outputs": [],
   "source": [
    "# define the matrix A and the vectors v and w\n",
    "A = ... \n",
    "v = ...\n",
    "w = ...\n",
    "\n",
    "# compute the product of matrix A and vector v\n",
    "print(\"Av = \", ...)\n",
    "\n",
    "# compute the product of the transpose of vector w and matrix A\n",
    "print(\"w^T A = \", ...)\n",
    "\n",
    "# compute the dot product of vectors v and w\n",
    "print(\"< v , w > = \", ...)\n",
    "\n",
    "# compute the transpose of matrix A\n",
    "print(\"A^T = \", ...)"
   ]
  },
  {
   "cell_type": "code",
   "execution_count": null,
   "id": "dcd06909-02ad-446f-b679-973d2a1dff1c",
   "metadata": {
    "tags": [
     "solution"
    ]
   },
   "outputs": [],
   "source": [
    "# SOLUTION\n",
    "\n",
    "# define the matrix A and the vectors v and w\n",
    "A = np.array([[1, 2, 1], [3, 0, 1], [0, 2, 4]])\n",
    "v = np.array([1, 2, 4]).T\n",
    "w = np.array([2, 4, 6]).T\n",
    "\n",
    "# compute the product of matrix A and vector v\n",
    "print(\"Av = \", A @ v)\n",
    "\n",
    "# compute the product of the transpose of vector w and matrix A\n",
    "print(\"w^T A = \", w.T @ A)\n",
    "\n",
    "# compute the dot product of vectors v and w\n",
    "print(\"< v , w > = \", v.T @ w)\n",
    "\n",
    "# compute the transpose of matrix A\n",
    "print(\"A^T = \", A.T)"
   ]
  },
  {
   "cell_type": "markdown",
   "id": "a939d0ae-b727-4e08-99ef-a3a7e1100acd",
   "metadata": {
    "tags": []
   },
   "source": [
    "### Exercise: linear systems of equations\n",
    "\n",
    "Solve the following linear system of equations:\n",
    "\n",
    "$$\n",
    "\\left\\{\n",
    "    \\begin{align*}\n",
    "        2x_0 + x_1 &= 10 \\\\\n",
    "        x_0 - 3x_1 &= -4\n",
    "    \\end{align*}\n",
    "\\right.\n",
    "$$"
   ]
  },
  {
   "cell_type": "code",
   "execution_count": null,
   "id": "dda9dee6-68ba-42b1-85f2-85ca693ccd55",
   "metadata": {},
   "outputs": [],
   "source": [
    "# your code"
   ]
  },
  {
   "cell_type": "code",
   "execution_count": null,
   "id": "e9fbc7a6-e361-4165-8ca0-931e54a12dbd",
   "metadata": {
    "tags": [
     "solution"
    ]
   },
   "outputs": [],
   "source": [
    "# SOLUTION\n",
    "\n",
    "A = np.array([[2, 1], [1, -3]])\n",
    "b = np.array([10, -4]).T\n",
    "\n",
    "x = np.linalg.inv(A) @ b"
   ]
  },
  {
   "cell_type": "code",
   "execution_count": null,
   "id": "128c248d-7407-4d2f-aea4-b8a988e8b850",
   "metadata": {
    "tags": [
     "solution"
    ]
   },
   "outputs": [],
   "source": [
    "# Let's verify your solution\n",
    "print(\"yeah!\" if np.allclose(A @ x, b) else 'nope!')"
   ]
  },
  {
   "cell_type": "markdown",
   "id": "890d53b4-7444-46c1-bd61-f5afd1e8f714",
   "metadata": {},
   "source": [
    "## Change of basis\n",
    "\n",
    "A vector space has an infinite number of possible bases and we can move from the representation in one base to another via a change of basis matrix. \n",
    "\n",
    "Assume we are in $\\mathbb{R}^N$ and that we have a basis $\\{\\mathbf{v}_k\\}$, $k = 0, 1, \\ldots, N-1$. Any vector in $\\mathbb{R}^N$ can be expressed as the linear combination\n",
    "\n",
    "$$\n",
    "  \\mathbf{x} = \\sum_{n=0}^{N-1} \\alpha_n \\mathbf{v}_n\n",
    "$$\n",
    "\n",
    "for a given set of coefficients $\\alpha_n$. If we build an $N \\times N$ matrix $\\mathbf{V}$ where the _columns_ are the $N$ basis vectors, we can write in compact form\n",
    "\n",
    "$$\n",
    "  \\mathbf{x} = \\mathbf{V}\\begin{bmatrix} \\alpha_0 \\\\ \\vdots \\\\ \\alpha_{N-1} \\end{bmatrix}\n",
    "$$\n",
    "\n",
    "Consider now another basis $\\{\\mathbf{w}_k\\}$ and use these new basis vectors as the columns of a matrix $\\mathbf{W}$; the goal is to find a set of $N$ coefficients $\\beta_n$ so that\n",
    "\n",
    "$$\n",
    "  \\mathbf{x} = \\mathbf{W}\\begin{bmatrix} \\beta_0 \\\\ \\vdots \\\\ \\beta_{N-1} \\end{bmatrix}\n",
    "$$\n",
    "\n",
    "We have\n",
    "\n",
    "$$\n",
    "  \\begin{bmatrix} \\beta_0 \\\\ \\vdots \\\\ \\beta_{N-1} \\end{bmatrix} = \\mathbf{W}^{-1}\\mathbf{x} = \\mathbf{W}^{-1}\\mathbf{V}\\begin{bmatrix} \\alpha_0 \\\\ \\vdots \\\\ \\alpha_{N-1} \\end{bmatrix}\n",
    "$$\n",
    "\n",
    "The $N\\times N$ matrix $\\mathbf{C} = \\mathbf{W}^{-1}\\mathbf{V}$ is called the \"change of basis matrix. "
   ]
  },
  {
   "cell_type": "markdown",
   "id": "ab6fbc5a-0340-4079-b87d-2db143ddbdb5",
   "metadata": {},
   "source": [
    "### Exercise: change of basis matrix\n",
    "\n",
    "The following function generates a random basis for $\\mathbb{R}^N$ and returns the basis vectors (whose elements are integer-valued) as the columns of an $N \\times N$ matrix (for more details, if you're curious, see [here](https://en.wikipedia.org/wiki/Diagonally_dominant_matrix))."
   ]
  },
  {
   "cell_type": "code",
   "execution_count": null,
   "id": "9b266ee9-5dcb-4d19-aaae-518821ccbddb",
   "metadata": {},
   "outputs": [],
   "source": [
    "def random_basis(N):\n",
    "    V = (-5 + 10 * np.random.rand(N, N)).astype(int)\n",
    "    mx = np.sum(np.abs(V), axis=1)\n",
    "    np.fill_diagonal(V, mx)\n",
    "    return V"
   ]
  },
  {
   "cell_type": "markdown",
   "id": "8c595b73-6b94-4dc0-bc28-745a0aedaa67",
   "metadata": {},
   "source": [
    "Write a function that takes two bases as input and returns the change-of-basis matrix from the first basis to the second. "
   ]
  },
  {
   "cell_type": "code",
   "execution_count": null,
   "id": "8ecaae3f-9992-41ef-83a7-92493d481812",
   "metadata": {},
   "outputs": [],
   "source": [
    "def cob(V, W):\n",
    "    # your code here\n",
    "    pass"
   ]
  },
  {
   "cell_type": "code",
   "execution_count": null,
   "id": "061d9dab-311d-4904-ab85-082bbed180af",
   "metadata": {
    "tags": [
     "solution"
    ]
   },
   "outputs": [],
   "source": [
    "# SOLUTION\n",
    "\n",
    "def cob(V, W):\n",
    "    return np.linalg.inv(W) @ V"
   ]
  },
  {
   "cell_type": "markdown",
   "id": "dfa10e07-8841-43a1-9c43-2d81d43afa00",
   "metadata": {},
   "source": [
    "Let's test it a few times:"
   ]
  },
  {
   "cell_type": "code",
   "execution_count": null,
   "id": "2fa689dd-a5ff-46e7-9f21-56bb80220d92",
   "metadata": {},
   "outputs": [],
   "source": [
    "for n in range(0, 100):\n",
    "    V = random_basis(5)    \n",
    "    W = random_basis(5)\n",
    "    C = cob(V, W)\n",
    "    if not np.allclose(np.linalg.det(V)/np.linalg.det(W), np.linalg.det(C)):\n",
    "        print(\"oups, numerical precision issues?\")"
   ]
  },
  {
   "cell_type": "markdown",
   "id": "17ae4905",
   "metadata": {
    "tags": []
   },
   "source": [
    "# Basis vectors for telecommunications"
   ]
  },
  {
   "cell_type": "markdown",
   "id": "6ede077a",
   "metadata": {},
   "source": [
    "A discrete-time signal can be considered as a vector $\\mathbf{x}$ in a high-dimensional space. When we consider the sequence of samples in a signal, we are implicitly using the canonical basis and every sample is thus associated to a single basis vector. \n",
    "\n",
    "If you try and transmit the signal over a medium that may corrupt the transmitted values, errors are going to affect every sample independently. One key idea in robust data transmission is to encode the signal using a different basis that provides more robustness with respect to data loss.\n",
    "\n",
    "In this section we will explore one such basis, called the Haar basis."
   ]
  },
  {
   "cell_type": "markdown",
   "id": "30d0f7c7-a8d3-4e54-9ae5-ea3f57aedf46",
   "metadata": {},
   "source": [
    "## The search for a good basis\n",
    "\n",
    "When looking for a good basis, these are our usual wishes:\n",
    "\n",
    " * we want the basis to be orthonormal (or at least orthogonal) so that basis decomposition is obtained simply via a series of inner products;\n",
    " * we want the basis to be able to represent the signal information robustly so that a few basis vectos can capture most of the information contained in the signal. This will ensure resilence against data loss;\n",
    " * we want the basis to be easy to compute.\n",
    "\n",
    "One such basis is the **Haar basis**. While we cannot go into too many details in this notebook, curious people can read further on the topic [here](https://chengtsolin.wordpress.com/2015/04/15/real-time-2d-discrete-wavelet-transform-using-opengl-compute-shader/). Mathematical formulas aside, the Haar basis works by encoding the information in a *hierarchical* way: \n",
    " * the first basis vector encodes the average value of the signal\n",
    " * the second basis vector encodes the difference between the averages of the first and second halves of the signal\n",
    " * and so on, with every subsequent basis vector encoding more detailed information\n",
    " \n",
    "With this encoding, we can \"get away\" with having even only a few coefficients survive the transmission process and we can still have a good approximation of the original signal. "
   ]
  },
  {
   "cell_type": "markdown",
   "id": "ce39039e-7b1d-4179-888c-b3128cefebcb",
   "metadata": {},
   "source": [
    "## The Haar basis\n",
    "\n",
    "To keep things simple, we will limit ourselves to real-valued signals whose length is a power of two. The following function computes the Haar basis for $\\mathbb{R}^{2^M}$; it returns a matrix whose columns contain the $2^M$ basis vectors."
   ]
  },
  {
   "cell_type": "code",
   "execution_count": null,
   "id": "6e81ed9a-8f7e-4904-a440-a29a9b320260",
   "metadata": {},
   "outputs": [],
   "source": [
    "def haar_basis(M):\n",
    "    N = 2 ** M\n",
    "\n",
    "    z = np.resize(1.*np.arange(N)/N, (len(1.*np.arange(N)), len(1.*np.arange(N)/N)))\n",
    "    k = np.transpose(np.resize(1.*np.arange(N), (len(1.*np.arange(N)/N), len(1.*np.arange(N)))))\n",
    "    \n",
    "    p  = np.floor(np.log(np.maximum(1,k))/np.log(2))\n",
    "    q  = k - (2**p) + 1\n",
    "    z1 = (q-1)/(2**p)\n",
    "    z2 = (q-0.5)/(2**p)\n",
    "    z3 = q/(2**p)\n",
    "    A  = (1/np.sqrt(N)) * ((( 2**(p/2.)) * ((z >= z1) & (z < z2))) + ((-2**(p/2.)) * ((z >= z2) & (z < z3))))\n",
    "    A[0,:] = 1/np.sqrt(N)\n",
    "    return A.T"
   ]
  },
  {
   "cell_type": "markdown",
   "id": "9bf22346-f8f2-40bb-8601-4cd2933d4b6e",
   "metadata": {},
   "source": [
    "Let's look at the basis vectors for a space of size $2^3 = 8$:"
   ]
  },
  {
   "cell_type": "code",
   "execution_count": null,
   "id": "65838773-39b0-4d46-8fee-72ed8c03f1ab",
   "metadata": {},
   "outputs": [],
   "source": [
    "plt.figure(figsize=(10,5))\n",
    "H = haar_basis(3)\n",
    "for n in range(0, 8):\n",
    "    plt.subplot(2, 4, n + 1)\n",
    "    plt.stem(H[:,n], use_line_collection=True)\n",
    "plt.tight_layout(pad=2)"
   ]
  },
  {
   "cell_type": "markdown",
   "id": "6c068e84-aa80-43bd-b65a-15d4beb4f548",
   "metadata": {},
   "source": [
    "### Exercise: check for orthogonality\n",
    "\n",
    "Verify that the Haar basis is indeed an orthonormal basis"
   ]
  },
  {
   "cell_type": "code",
   "execution_count": null,
   "id": "b381c207-7aa0-4de3-8830-9547a7d8bea5",
   "metadata": {},
   "outputs": [],
   "source": [
    "# your code here"
   ]
  },
  {
   "cell_type": "code",
   "execution_count": null,
   "id": "3b60bf16-6dab-4bb0-9ce1-db77471fef49",
   "metadata": {
    "tags": [
     "solution"
    ]
   },
   "outputs": [],
   "source": [
    "# SOLUTION\n",
    "\n",
    "H = haar_basis(3)\n",
    "# since the Haar basis is real, we simply need to transpose without conjugation\n",
    "print(np.allclose(H @ H.T, np.eye(len(H))))\n",
    "print(np.allclose(H.T @ H, np.eye(len(H))))"
   ]
  },
  {
   "cell_type": "markdown",
   "id": "ee31c0bf",
   "metadata": {},
   "source": [
    "## Signal decomposition in the Haar Basis"
   ]
  },
  {
   "cell_type": "markdown",
   "id": "bdb40f48-0123-462f-9573-95fa76c8bb24",
   "metadata": {},
   "source": [
    "Let's first see if we can correctly encode a basic signal in the Haar basis and reconstruct it afterwards. Since the basis is orthonormal, this is an easy task."
   ]
  },
  {
   "cell_type": "code",
   "execution_count": null,
   "id": "acef3b93-6782-4776-9e41-67e7d0db5b2d",
   "metadata": {},
   "outputs": [],
   "source": [
    "# Let's define some test signals of length 64\n",
    "M = 6\n",
    "N = 2 ** M\n",
    "\n",
    "test_signal = [np.zeros(N), np.zeros(N)]\n",
    "# first test signal is a box sequence\n",
    "test_signal[0][(N//4):(N//4 + N//2)] = 1\n",
    "\n",
    "# second one a sinusoid that completes 2 periods over the length of the signal\n",
    "test_signal[1] = np.sin(4 * np.pi * np.arange(0, N) / N)\n",
    "\n",
    "for n, sig in enumerate(test_signal):\n",
    "    plt.subplot(1, 2, n+1)\n",
    "    plt.plot(test_signal[n])"
   ]
  },
  {
   "cell_type": "markdown",
   "id": "29768ce9-99ec-4965-acc4-a8b08c63ab21",
   "metadata": {},
   "source": [
    "### Exercise: decomposition and reconstruction\n",
    "\n",
    "Write a function to compute the Haar decomposition of a test signal and another function to reconstruct a signal from its Haar coefficients"
   ]
  },
  {
   "cell_type": "code",
   "execution_count": null,
   "id": "893886d4-6ebf-4aaf-8889-480d1a65da6d",
   "metadata": {},
   "outputs": [],
   "source": [
    "def haar_decomposition(x):\n",
    "    # your code here\n",
    "    pass"
   ]
  },
  {
   "cell_type": "code",
   "execution_count": null,
   "id": "6451d297-59e3-46ce-ab5d-b20075156d26",
   "metadata": {},
   "outputs": [],
   "source": [
    "def haar_reconstruction(x):\n",
    "    # your code here\n",
    "    pass"
   ]
  },
  {
   "cell_type": "code",
   "execution_count": null,
   "id": "273958a9-9b50-4815-b931-bfd4318c345c",
   "metadata": {
    "tags": [
     "solution"
    ]
   },
   "outputs": [],
   "source": [
    "# SOLUTION\n",
    "\n",
    "def haar_decomposition(x):\n",
    "    # make sure the length of the input vector is a power of two\n",
    "    N = len(x)\n",
    "    M = int(np.log(N) / np.log(2))\n",
    "    assert 2 ** M == N, 'input length must be a power of two'\n",
    "    return haar_basis(M).T @ x\n",
    "\n",
    "def haar_reconstruction(x):\n",
    "    N = len(x)\n",
    "    M = int(np.log(N) / np.log(2))\n",
    "    assert 2 ** M == N, 'input length must be a power of two'\n",
    "    return haar_basis(M) @ x"
   ]
  },
  {
   "cell_type": "markdown",
   "id": "a18f0620-fd2e-4135-b569-6ca7758d26ed",
   "metadata": {},
   "source": [
    "Let's check it out on the test signals we defined earlier:"
   ]
  },
  {
   "cell_type": "code",
   "execution_count": null,
   "id": "5f952afc-f175-4e4f-baea-0df0b338c10f",
   "metadata": {},
   "outputs": [],
   "source": [
    "for n, sig in enumerate(test_signal):\n",
    "    hc = haar_decomposition(sig)\n",
    "    plt.subplot(2, 2, 2*n+1)\n",
    "    plt.plot(hc)    \n",
    "    plt.subplot(2, 2, 2*n+2)\n",
    "    plt.plot(haar_reconstruction(hc))"
   ]
  },
  {
   "cell_type": "markdown",
   "id": "3e368ca3-d7ac-47cf-b3da-819e01e2eebc",
   "metadata": {},
   "source": [
    "## Robustness of the Haar representation\n",
    "\n",
    "As you should have noticed from the previous example, decomposing the test signals onto the Haar basis results in a set of values where many of the coefficients are small. If we end up \"losing\" some of the coefficients that are small in magnitude, the impact on the reconstruction will be more tolerable in terms of overall error. \n",
    "\n",
    "Let's verify this assumption by recontructing the test signals from only the first $k$ largest Haar coefficients:"
   ]
  },
  {
   "cell_type": "code",
   "execution_count": null,
   "id": "881d1be0-9c09-4e94-af41-2e550c266ab8",
   "metadata": {},
   "outputs": [],
   "source": [
    "def compress(x, k):\n",
    "    hc = haar_decomposition(x)\n",
    "    idx = np.argsort(np.abs(hc))[::-1][:k]\n",
    "    coeff_subset = np.zeros(len(x))\n",
    "    coeff_subset[idx[:k]] = hc[idx[:k]]\n",
    "    return haar_reconstruction(coeff_subset)"
   ]
  },
  {
   "cell_type": "markdown",
   "id": "0fde05e0-d8d9-4933-a9eb-bcb43db43aa0",
   "metadata": {},
   "source": [
    "For the box function, only a few coefficients are enough:\n"
   ]
  },
  {
   "cell_type": "code",
   "execution_count": null,
   "id": "0d9f7f8c-ddb5-4375-bd66-c122aff121d2",
   "metadata": {},
   "outputs": [],
   "source": [
    "P = 4\n",
    "for p in range(1, P+1):\n",
    "    plt.subplot(P // 4, 4, p)\n",
    "    k = p\n",
    "    plt.plot(compress(test_signal[0], k), label=f'{k} coeffs')\n",
    "    plt.legend()"
   ]
  },
  {
   "cell_type": "markdown",
   "id": "77f40c00-8ae2-442c-98a6-f5ef7d56472b",
   "metadata": {},
   "source": [
    "whereas for the sine function the approximation converges more slowly:"
   ]
  },
  {
   "cell_type": "code",
   "execution_count": null,
   "id": "ff93ff0e-1d69-4797-8a50-d2c4f8582697",
   "metadata": {},
   "outputs": [],
   "source": [
    "P = 12\n",
    "for p in range(1, P+1):\n",
    "    plt.subplot(P // 4, 4, p)\n",
    "    k = 1 if p == 1 else (p - 1) * 5\n",
    "    plt.plot(compress(test_signal[1], k), label=f'{k} coeffs')\n",
    "    plt.legend()"
   ]
  }
 ],
 "metadata": {
  "kernelspec": {
   "display_name": "Python 3 (ipykernel)",
   "language": "python",
   "name": "python3"
  },
  "language_info": {
   "codemirror_mode": {
    "name": "ipython",
    "version": 3
   },
   "file_extension": ".py",
   "mimetype": "text/x-python",
   "name": "python",
   "nbconvert_exporter": "python",
   "pygments_lexer": "ipython3",
   "version": "3.12.3"
  }
 },
 "nbformat": 4,
 "nbformat_minor": 5
}
