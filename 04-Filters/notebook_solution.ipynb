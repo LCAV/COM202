{
 "cells": [
  {
   "cell_type": "markdown",
   "id": "b8d95824-bce1-4b08-ae39-c696b8d04aae",
   "metadata": {},
   "source": [
    "<div style=\"margin: 0 auto 30px; height: 60px; border: 2px solid gray; border-radius: 6px;\">\n",
    "  <div style=\"float: left;\"><img src=\"img/epfl.png\" /></div>\n",
    "  <div style=\"float: right; margin: 20px 30px 0; font-size: 10pt; font-weight: bold;\"><a href=\"https://moodle.epfl.ch/course/view.php?id=18253\">COM202 - Signal Processing</a></div>\n",
    "</div>\n",
    "<div style=\"clear: both; font-size: 30pt; font-weight: bold; color: #483D8B;\">\n",
    "    Lab 7: Discrete-time Filters\n",
    "</div>"
   ]
  },
  {
   "cell_type": "markdown",
   "id": "b61885d7-baba-4670-8be2-8fb2b911fda2",
   "metadata": {},
   "source": [
    "In this notebook we will learn how to implement and use two discrete-time  filters called the Leaky Integrator and the Moving Average. In spite of their simplicity, these two lowpass filters are extremely useful and they often represent a good initial stand-in for more complex filters when prototyping a signal processing application."
   ]
  },
  {
   "cell_type": "code",
   "execution_count": null,
   "id": "45c82e53-6767-4af2-af81-90b2701ec69e",
   "metadata": {
    "tags": []
   },
   "outputs": [],
   "source": [
    "%matplotlib inline\n",
    "import matplotlib.pyplot as plt\n",
    "import numpy as np\n",
    "import IPython\n",
    "import scipy.signal as sp\n",
    "from scipy.io import wavfile\n",
    "\n",
    "# interactivity library:\n",
    "from ipywidgets import interact, interactive, fixed, interact_manual\n",
    "import ipywidgets as widgets"
   ]
  },
  {
   "cell_type": "code",
   "execution_count": null,
   "id": "b81259e0-25e4-4c8d-bb25-32f6466a9d07",
   "metadata": {},
   "outputs": [],
   "source": [
    "plt.rcParams[\"figure.figsize\"] = (14,4)"
   ]
  },
  {
   "cell_type": "markdown",
   "id": "9bdf5945-3c02-4de0-960d-a9fdebd0aa5b",
   "metadata": {},
   "source": [
    "# Implementing discrete-time filters\n",
    "\n",
    "The input-output relationship for a realizable causal filter can always be expressed as a constant-coefficient difference equation (CCDE) of the form\n",
    "\\[\n",
    "    y[n] = \\sum_{k=0}^{M} b_k x[n-k] - \\sum_{k=1}^{N} a_k y[n-k] \n",
    "\\]\n",
    "\n",
    "The CCDE is an algorithm using only scalar multiplications, additions, and memory cells to implement the required delays. Although ready-made filtering functions are available in SciPy, it's always instructive to try and code a digital filter from scratch in order to understand the finer details of a practical implementation. "
   ]
  },
  {
   "cell_type": "markdown",
   "id": "a87a7809-7b3b-4628-8ec1-3564268306ba",
   "metadata": {},
   "source": [
    "## Filters as Python functions\n",
    "\n",
    "Using Python and NumPy, filters can be implemented as standalone [pure functions](https://en.wikipedia.org/wiki/Pure_function); the arguments are going to be\n",
    "\n",
    " * an array containing the entire input signal\n",
    " * the CCDE coefficients $a_k$ and $b_k$\n",
    "\n",
    "and the return value is going to be an array, with the same size as the input, containing the entire output signal, as shown in this template:"
   ]
  },
  {
   "cell_type": "code",
   "execution_count": null,
   "id": "4bdd3f41-c5c8-4542-b6f7-3f2fdb0b8ca3",
   "metadata": {},
   "outputs": [],
   "source": [
    "def dt_filter(x: np.ndarray, filter_parameters) -> np.ndarray:\n",
    "    y = np.zeros(len(x))\n",
    "    for n in range(0, len(x)):\n",
    "        y[n] = ...  # compute each output sample        \n",
    "    return y"
   ]
  },
  {
   "cell_type": "markdown",
   "id": "f64ba038-5cad-45c3-a4c1-1b8168acca04",
   "metadata": {},
   "source": [
    "### Causality and zero initial conditions\n",
    "\n",
    "Filters are considered causal by default, and therefore the computation of each output sample $y[n]$ involves only _past_ input and output samples.\n",
    "\n",
    "The input passed as an argument is interpreted as an array containing the values $x[0], x[1], \\ldots, x[N-1]$. We assume _zero initial conditions_, which means:\n",
    "\n",
    " * the input is a causal sequence, i.e., $x[n] = 0$ for $n <  0$; if the algorithm requires past values of $x[n]$ for negative values of the index $x$, these values are assumed to be zero\n",
    " * for recursive filters whose CCDE uses past _output_ values, we set $y[n] = 0$ for $n < 0$; this is equivalent to initializing all delay elements at zero"
   ]
  },
  {
   "cell_type": "markdown",
   "id": "ad7116d0-4f77-48c6-9fcf-c628b929d86f",
   "metadata": {},
   "source": [
    "### Termination\n",
    "\n",
    "The input to the filtering function is an array of length $N$ and, by convention, the return value is also an array of length $N$. Note however that this does not mean that $y[n] = 0$ for $n \\ge N$, it simply means that no more output samples can be computed unless more input samples are provided.\n",
    "\n",
    "In fact, if for instance we were to assume that $x[n]=0$ for $n \\ge N$, an IIR filter would produce an infinite-length output sequence $y[n]$. Sometimes, it is useful to append a suitable amount of zeros to the input array so that the output can naturally decay to a small amplitude once the actual data in the array has been processed."
   ]
  },
  {
   "cell_type": "markdown",
   "id": "c921de67-fb62-4f81-912a-b932f85f5602",
   "metadata": {},
   "source": [
    "## The Leaky Integrator\n",
    "\n",
    "The following function implements a Leaky Integrator described by the constant-coefficient difference equation (CCDE) \n",
    "\n",
    "$$\n",
    "    y[n] = \\lambda y[n-1] + (1-\\lambda)x[n], \\qquad 0 < \\lambda < 1.\n",
    "$$"
   ]
  },
  {
   "cell_type": "code",
   "execution_count": null,
   "id": "8317cb25-3532-4b7a-aa8e-85d2f3ca1d91",
   "metadata": {},
   "outputs": [],
   "source": [
    "def leaky(x: np.ndarray, lam: float) -> np.ndarray:\n",
    "    y = np.zeros(len(x))\n",
    "    for n in range(0, len(x)):\n",
    "        y[n] = lam * y[n-1] + (1 - lam) * x[n]        \n",
    "    return y"
   ]
  },
  {
   "cell_type": "markdown",
   "id": "d4f18020-2cc2-463c-90ec-d94e337cc0dd",
   "metadata": {},
   "source": [
    "### Ensuring zero initial conditions \n",
    "\n",
    "The Leaky Integrator is a recursive (IIR) filter and its output at time $n$ depends on the output at time $n-1$; assuming zero initial conditions, when $n=0$ the required \"previous output value\" is $y[-1] = 0$. \n",
    "\n",
    "In the implementation above, when `n > 0` the expression `y[n-1]` is indeed pointing to the previously-computed output value. In the first iteration, however, `n` is equal to zero and so the expression `y[n-1]` is equivalent to `y[-1]`. Contrary to many other programming languages Python allows negative indexing so that  `y[-1]` actually points to the _last_ element in the array `y`. Since the output array `y` is pre-allocated and filled with zeros, `y[-1]` is indeed equal to zero as required."
   ]
  },
  {
   "cell_type": "markdown",
   "id": "b445d32e-f249-4ad3-a369-af00e54d33a5",
   "metadata": {
    "editable": true,
    "slideshow": {
     "slide_type": ""
    },
    "tags": []
   },
   "source": [
    "### Testing the code\n",
    "\n",
    "The impulse response of the Leaky Integrator is $h[n] = (1-\\lambda)\\lambda^n u[n]$ and we can verify that the above implementation is correct by comparing the theoretical values to the output of the function when the input is a (truncated) delta sequence:"
   ]
  },
  {
   "cell_type": "code",
   "execution_count": null,
   "id": "395dceb3-0d48-4443-899f-d962d7c2490f",
   "metadata": {},
   "outputs": [],
   "source": [
    "N = 100\n",
    "lam = 0.95\n",
    "plt.stem(leaky(np.r_[1, np.zeros(N-1)], lam), 'C0', basefmt='C0-', label=r\"$h[n]$ (using the filter)\");\n",
    "plt.plot((1 - lam) * lam ** np.arange(0, N), 'C1', linewidth=2, label=r\"$(1-\\lambda)\\lambda^n$ (theoretical impulse response)\");\n",
    "plt.legend();"
   ]
  },
  {
   "cell_type": "markdown",
   "id": "4f20972a-b2fd-4b28-adec-0a0aa5f1dc88",
   "metadata": {},
   "source": [
    "## The Moving Average\n",
    "\n",
    "The causal Moving Average filter of length $M$ is described by the CCDE\n",
    "\n",
    "$$\n",
    "    y[n] = \\frac{1}{M}\\sum_{k=0}^{M-1}x[n-k].\n",
    "$$\n",
    "\n",
    "The Moving Average is an FIR filter, that is, each output sample is computed using only past input samples; in a practical implementation, values for $x[n]$ when $n<0$ are equal to zero because of the causality assumption for $x[n]$."
   ]
  },
  {
   "cell_type": "markdown",
   "id": "25702151-fbca-4f97-a8e1-76cdd8d77366",
   "metadata": {},
   "source": [
    "### Exercise: implement the Moving Average filter\n",
    "\n",
    "Complete the code below"
   ]
  },
  {
   "cell_type": "code",
   "execution_count": null,
   "id": "1597e0ec-47e7-4a62-9ca5-cde76aac38af",
   "metadata": {},
   "outputs": [],
   "source": [
    "def mavg(x: np.ndarray, M: int) -> np.ndarray:\n",
    "    ...        \n",
    "    return y"
   ]
  },
  {
   "cell_type": "code",
   "execution_count": null,
   "id": "9dfef730-d031-4f0b-9a63-e4970ddf3ec5",
   "metadata": {
    "editable": true,
    "slideshow": {
     "slide_type": ""
    },
    "tags": [
     "solution"
    ]
   },
   "outputs": [],
   "source": [
    "# SOLUTION\n",
    "\n",
    "def mavg(x: np.ndarray, M: int) -> np.ndarray:\n",
    "    N = len(x)\n",
    "    y = np.zeros(N)\n",
    "    # prepend M-1 zeros to x so that we can always \"go back\" M samples to compute the average\n",
    "    x = np.r_[np.zeros(M-1), x]\n",
    "    for n in range(0, N):\n",
    "        # we can use the built-in averaging function in numpy over the previous M samples\n",
    "        y[n] = np.mean(x[n:n+M])        \n",
    "    return y"
   ]
  },
  {
   "cell_type": "markdown",
   "id": "4728a98e-77ec-4334-9622-65e06e00c25a",
   "metadata": {},
   "source": [
    "Let's test your implementation:"
   ]
  },
  {
   "cell_type": "code",
   "execution_count": null,
   "id": "e2075950-9804-46c2-87a5-fad9c14d6609",
   "metadata": {},
   "outputs": [],
   "source": [
    "y = mavg((-1) ** np.arange(0, 40), 20)  # test signal, filtered\n",
    "print('good job!' if np.sum(y[1::2]) == 0 and np.sum(y[:20:2]) == 0.5 else 'Sorry, try again!')"
   ]
  },
  {
   "cell_type": "markdown",
   "id": "55edefb0-08ac-4f9a-822f-e1d6523ffa96",
   "metadata": {
    "editable": true,
    "slideshow": {
     "slide_type": ""
    },
    "tags": []
   },
   "source": [
    "# Applications: Denoising\n",
    "\n",
    "In a denoising scenario we have a \"clean\" signal $x[n]$ that has been corrupted by an additive noise signal $\\eta[n]$; we only have access to $\\hat{x}[n] = x[n] + \\eta[n]$ and we would like to recover $x[n]$.\n",
    "\n",
    "In general, without further assumptions, this is not a solvable problem. However, it is generally the case that the signal and the noise have very different characteristics and, in this case, we can try to reduce the amount of noise via filtering. Typically, if we look in the time domain:\n",
    " * the clean signal is varying slowly and smoothly\n",
    " * the noise is low-amplitude with respect to the signal and it varies very fast from one sample to the next.\n",
    " \n",
    "These two characteristics translate to the following properties in the frequency domain:\n",
    " * the clean signal contains most of its energy in the low frequencies around zero\n",
    " * the noise has a full-band spectrum, with almost equal energy at all frequencies."
   ]
  },
  {
   "cell_type": "markdown",
   "id": "8084a998-a144-42b6-a471-397445560719",
   "metadata": {},
   "source": [
    "## A signal generator\n",
    "\n",
    "The following function can be used to generate an $N$-point smooth signal together with a noise-corrupted version at the specified signal to noise ratio; the spectrum of the smooth signal will contain most of its energy in the $[-B\\pi, B\\pi]$ range. You don't need to worry about how the function works, simply use it as a black box with the syntax\n",
    "\n",
    "`x = sig_gen(N, SRN, B)`\n",
    "\n",
    "where\n",
    " * `N` is the number of samples\n",
    " * `SNR` is the signal to noise ratio in dB\n",
    " * `B` is the positive bandwidth of the clean signal expressed as a percentage of the maximum bandwidth; small values (e.g. 2%) will yield slow-varying signals, and vice-versa"
   ]
  },
  {
   "cell_type": "code",
   "execution_count": null,
   "id": "34c40b0d-689e-441d-bae0-cb602da2f74c",
   "metadata": {
    "editable": true,
    "jupyter": {
     "source_hidden": true
    },
    "slideshow": {
     "slide_type": ""
    },
    "tags": []
   },
   "outputs": [],
   "source": [
    "# Only for the very curious students!!\n",
    "\n",
    "def sig_gen(N: int, SNR: float, B=4, x=None) -> [np.ndarray, np.ndarray]:\n",
    "    B /= 100.0\n",
    "    if x is None:\n",
    "        # build a smooth signal by creating a DFT vector X of length 2 * int(N * B) + 2 and\n",
    "        #  taking a 2N-point inverse DFT. The resulting signal will be bandlimited to 2pi * B.\n",
    "        # X[0] = 0 to ensure zero mean; other values randomly distributed over [-1, 1]\n",
    "        X = np.r_[0, np.random.uniform(-1, 1, 2 * int(N * B) + 1)]\n",
    "        # at this point the signal's energy is the number of nonzero DFT coefficients times\n",
    "        #  their variance, divided by the number of time samples: (2NB)(1/3)/(2N) = B / 3\n",
    "        # We take the real part only, so energy is B / 6\n",
    "        # To get a signal with approx unit peak, normalize by sqrt of twice the power\n",
    "        #  (pretending the signal is sinusoidal so that peak = RMS * sqrt(2))\n",
    "        x = np.real(np.fft.ifft(X, 2*N))[:N] / np.sqrt(2 * B / 3 / N)\n",
    "    # amplitude of the noise from the desired SNR, knowing that now signal energy is 0.125\n",
    "    a = np.sqrt((3.0 / 8.0) / np.power(10, SNR / 10)) \n",
    "    return x, x + np.random.uniform(-a, a, len(x))"
   ]
  },
  {
   "cell_type": "markdown",
   "id": "48af684f-1f07-423c-950a-5aa7f2b38dbf",
   "metadata": {
    "editable": true,
    "slideshow": {
     "slide_type": ""
    },
    "tags": []
   },
   "source": [
    "Use the following interactive widget to play with the SNR and the B parameters and try to get a feel for their effect on the  signal generated by the function:"
   ]
  },
  {
   "cell_type": "code",
   "execution_count": null,
   "id": "873e98a4-2e45-4760-baa4-6cb656073cf9",
   "metadata": {},
   "outputs": [],
   "source": [
    "class DisplaySignal:\n",
    "    def __init__(self):\n",
    "        self.N = 500\n",
    "        self.SNR, self.B = 0, 2\n",
    "        self.x, self.x_hat = None, None\n",
    "\n",
    "    def display(self, SNR=12, B=2, param=None):\n",
    "        if SNR != self.SNR or B != self.B:\n",
    "            self.x, self.x_hat = sig_gen(self.N, SNR, B, x=(self.x if B == self.B else None)) \n",
    "        self.SNR, self.B = SNR, B\n",
    "        plt.plot(self.x_hat, 'C3', lw=1, label='noisy');\n",
    "        plt.plot(self.x, 'C0', lw=2, label='clean');\n",
    "        y = self.filter(param)\n",
    "        if y is not None:\n",
    "            plt.plot(y, 'C2', lw=4, label='denoised');\n",
    "        plt.ylim(-1.2,1.2)\n",
    "        plt.legend(loc=\"upper right\");\n",
    "\n",
    "    def filter(self, param):\n",
    "        return None"
   ]
  },
  {
   "cell_type": "code",
   "execution_count": null,
   "id": "846e79da-d0ca-4370-b970-8decb4562c39",
   "metadata": {},
   "outputs": [],
   "source": [
    "interact(DisplaySignal().display, SNR=(0.0, 50.0), B=(1, 10, 1), param=fixed(None));"
   ]
  },
  {
   "cell_type": "markdown",
   "id": "b2469401-c448-42b4-8c5c-662442467085",
   "metadata": {
    "editable": true,
    "slideshow": {
     "slide_type": ""
    },
    "tags": []
   },
   "source": [
    "### Exercise: checking the SNR\n",
    "\n",
    "Given a noise-corrupted signal $\\hat{x}[n] = x[n] + \\eta[n]$, the signal-to-noise ratio is expressed in dB and is computed as \n",
    "\n",
    "$$\n",
    "    \\text{SNR}_{\\hat{x}} = 10 \\log_{10}\\left(\\frac{E_x}{E_\\eta}\\right)\n",
    "$$\n",
    "\n",
    "where $E_x$ is the energy of the clean signal and $E_\\eta$ is the energy of the noise. \n",
    "\n",
    "Generate a noisy signal and verify numerically that the SNR of the sequence returned by `sig_gen()` is indeed close to the SNR passed as an argument to the function."
   ]
  },
  {
   "cell_type": "code",
   "execution_count": null,
   "id": "546859ce-34e4-4db9-b758-5b9d3d24cf3a",
   "metadata": {
    "editable": true,
    "slideshow": {
     "slide_type": ""
    },
    "tags": []
   },
   "outputs": [],
   "source": [
    "N, SNR = 1000, 30\n",
    "x, x_hat = sig_gen(N, SNR)\n",
    "\n",
    "E_x = ...\n",
    "E_eta = ...\n",
    "SNR_exp = ...\n",
    "print(SNR_exp)"
   ]
  },
  {
   "cell_type": "code",
   "execution_count": null,
   "id": "165ca76e-8d1a-4666-ad7f-e95afcd58844",
   "metadata": {
    "editable": true,
    "slideshow": {
     "slide_type": ""
    },
    "tags": [
     "solution"
    ]
   },
   "outputs": [],
   "source": [
    "# SOLUTION\n",
    "\n",
    "x, x_hat = sig_gen(N, SNR)\n",
    "E_x = np.sum(x ** 2)\n",
    "E_eta = np.sum((x_hat - x) ** 2)\n",
    "SNR_exp = 10 * np.log10(E_x / E_eta)\n",
    "print(SNR_exp)"
   ]
  },
  {
   "cell_type": "markdown",
   "id": "e6b32af4-1f84-48ff-8bfc-67a78a768f63",
   "metadata": {
    "editable": true,
    "slideshow": {
     "slide_type": ""
    },
    "tags": []
   },
   "source": [
    "## Denoising with a leaky integrator\n",
    "\n",
    "The following interactive widget allows you to play with the SNR of the noisy signal and with the parameter $\\lambda$ of a leaky integrator to see the denoising performance of the filter in the time domain. Try to find a value for $\\lambda$ that provides a good compromise between removal of the noise and preservation of the original clean signal."
   ]
  },
  {
   "cell_type": "code",
   "execution_count": null,
   "id": "24a76e77-889f-49f1-a631-687f65d3587a",
   "metadata": {
    "editable": true,
    "slideshow": {
     "slide_type": ""
    },
    "tags": []
   },
   "outputs": [],
   "source": [
    "class DenoiseLeaky(DisplaySignal):\n",
    "    def filter(self, param):\n",
    "        return leaky(self.x_hat, param)"
   ]
  },
  {
   "cell_type": "code",
   "execution_count": null,
   "id": "2ba46319-6efe-47c3-b0b5-1df945baf3c8",
   "metadata": {},
   "outputs": [],
   "source": [
    "interact(DenoiseLeaky().display, SNR=(0.0, 50.0), B=(1, 10, 1), \n",
    "         param=widgets.FloatSlider(min=0.48, max=0.99, step=0.02, value=0.6, description='lambda'));"
   ]
  },
  {
   "cell_type": "markdown",
   "id": "b8b3e648-b9d0-45fd-b36e-5ed105684f35",
   "metadata": {
    "editable": true,
    "slideshow": {
     "slide_type": ""
    },
    "tags": []
   },
   "source": [
    "### Exercise: denoising in frequency\n",
    "\n",
    "<div style=\"float: right; margin: 0 10px 0 30px;\"><img src=\"img/plot.png\" width=\"250\"></div>\n",
    "\n",
    "Plot the magnitude spectra of the clean, noisy, and denoised signals, together with the magnitude response of the leaky integrator, using the values for SNR, $B$, and $\\lambda$ that you found satisfactory by using the widget. \n",
    "\n",
    "Remember that the magnitude response of the Leaky Integrator is \n",
    "\n",
    "$$\n",
    "    |H(\\omega)| = \\frac{(1-\\lambda)}{\\sqrt{1 - 2\\lambda \\cos\\omega + \\lambda^2}}.\n",
    "$$\n",
    "\n",
    "To obtain the plot:\n",
    " * plot the filter's magnitude response over the $[-\\pi, \\pi]$ interval using the above formula for $|H(\\omega)|$\n",
    " * compute $E_x$, the energy of the clean signal, then normalize the clean, noisy and denoised signals by $2\\sqrt{E_x}$ before computing their DFTs\n",
    " * plot the magnitude of the DFTs so that they are aligned with the frequency response of the filter (using the techniques we developed in Lab 2.b for DFT plots)\n",
    "\n",
    "In the end you should obtain three plots similar to those shown here on the right."
   ]
  },
  {
   "cell_type": "code",
   "execution_count": null,
   "id": "c1e89fd6-074f-4b49-9a7d-fe7e060e0980",
   "metadata": {
    "editable": true,
    "slideshow": {
     "slide_type": ""
    },
    "tags": []
   },
   "outputs": [],
   "source": [
    "PTS, SNR, B, lam = 500, 12, 2, 0.8\n",
    "x, x_hat = sig_gen(PTS, SNR, B)\n",
    "\n",
    "# your code here\n",
    "..."
   ]
  },
  {
   "cell_type": "code",
   "execution_count": null,
   "id": "2bb60123-043e-4da8-b86b-4f44720acd8a",
   "metadata": {
    "editable": true,
    "slideshow": {
     "slide_type": ""
    },
    "tags": [
     "solution"
    ]
   },
   "outputs": [],
   "source": [
    "# SOLUTION\n",
    "PTS, SNR, B, lam = 500, 12, 2, 0.8\n",
    "x, x_hat = sig_gen(PTS, SNR, B)\n",
    "\n",
    "d = leaky(x_hat, lam)\n",
    "norm = 2 * np.sqrt(np.sum(x ** 2))\n",
    "\n",
    "w = np.linspace(-np.pi, np.pi, 2000)\n",
    "H = (1 - lam) / np.sqrt(1 - 2 * lam * np.cos(w) + lam**2)\n",
    "\n",
    "for sig, label, color in [(x, 'clean', 'C0'), (x_hat, 'noisy', 'C3'), (d, 'denoised', 'C2')]:\n",
    "    plt.figure()\n",
    "    S = np.abs(np.fft.fftshift(np.fft.fft(sig / norm)))\n",
    "    plt.plot(np.linspace(-np.pi, np.pi, len(S)), S, c=color, label=label);  # linspace(-pi, pi) is correct if PTS is even.\n",
    "                                                                            # For PTS odd the bounds would have to be shifted slightly.\n",
    "    plt.plot(w, H, 'C1', lw=3, label='mag resp')\n",
    "    plt.xlabel(f\"$\\\\omega$\")\n",
    "    plt.legend();"
   ]
  },
  {
   "cell_type": "markdown",
   "id": "5997913c-95bb-4e5b-b08c-0b9e875490b7",
   "metadata": {
    "editable": true,
    "slideshow": {
     "slide_type": ""
    },
    "tags": []
   },
   "source": [
    "## Denoising with a Moving Average filter\n",
    "\n",
    "In this section we will explore the denoising properties of a moving average filter by adapting the code of the previous section."
   ]
  },
  {
   "cell_type": "markdown",
   "id": "ba0aab2c-9062-4162-be91-6360200f1032",
   "metadata": {
    "editable": true,
    "slideshow": {
     "slide_type": ""
    },
    "tags": []
   },
   "source": [
    "### Exercise: MA denoising in time\n",
    "\n",
    "Modify the code for the [leaky integrator denoising widget](#Denoising-with-a-leaky-integrator) so that it uses a moving average filter instead; in the new function, the interactive widget will need to pass the desired length for the filter. "
   ]
  },
  {
   "cell_type": "code",
   "execution_count": null,
   "id": "8bb4a741-3848-4a8e-a48c-c952428bf08a",
   "metadata": {},
   "outputs": [],
   "source": [
    "class DenoiseMA(DisplaySignal):\n",
    "    ... # your code here"
   ]
  },
  {
   "cell_type": "code",
   "execution_count": null,
   "id": "36685bd3-c740-4823-a18f-4acb1f5e0e1b",
   "metadata": {
    "editable": true,
    "slideshow": {
     "slide_type": ""
    },
    "tags": [
     "solution"
    ]
   },
   "outputs": [],
   "source": [
    "# SOLUTION\n",
    "\n",
    "class DenoiseMA(DisplaySignal):\n",
    "    def filter(self, param):\n",
    "        return mavg(self.x_hat, param)"
   ]
  },
  {
   "cell_type": "code",
   "execution_count": null,
   "id": "174764c9-a03b-415b-b2d4-5ce3077e5f0a",
   "metadata": {},
   "outputs": [],
   "source": [
    "interact(DenoiseMA().display, SNR=(0.0, 50.0), B=(1, 10, 1), \n",
    "         param=widgets.IntSlider(min=2, max=100, step=1, value=5, description='M'));"
   ]
  },
  {
   "attachments": {},
   "cell_type": "markdown",
   "id": "53a7a987-4968-4b87-8bde-666abaeaf28f",
   "metadata": {
    "tags": [
     "solution"
    ]
   },
   "source": [
    "### Exercise: MA denoising in frequency\n",
    "\n",
    "Modify the code in you wrote for the exercise [\"denoising in frequency\"](#Exercise:-denoising-in-frequency) so that the plots show the magnitude response and the filtering results of a moving average filter.\n",
    "\n",
    "The magnitude response in this case is going to be\n",
    "\n",
    "$$\n",
    "    |H(\\omega)| = \\frac{1}{M}\\left|\\frac{\\sin(M \\omega/2)}{\\sin(\\omega / 2)}\\right|.\n",
    "$$"
   ]
  },
  {
   "cell_type": "code",
   "execution_count": null,
   "id": "b147d20d-b11f-46b4-b0e5-ded33dcfb86a",
   "metadata": {
    "tags": [
     "solution"
    ]
   },
   "outputs": [],
   "source": [
    "# SOLUTION\n",
    "PTS, SNR, B, M = 500, 12, 2, 20\n",
    "x, x_hat = sig_gen(PTS, SNR, B)\n",
    "\n",
    "d = mavg(x_hat, M)\n",
    "norm = 2 * np.sqrt(np.sum(x ** 2))\n",
    "\n",
    "w = np.linspace(-np.pi, np.pi, 2000)\n",
    "H = np.abs(np.sin(M * w / 2) / np.sin(w / 2) / M)\n",
    "\n",
    "for sig, label, color in [(x, 'clean', 'C0'), (x_hat, 'noisy', 'C3'), (d, 'denoised', 'C2')]:\n",
    "    plt.figure()\n",
    "    S = np.abs(np.fft.fftshift(np.fft.fft(sig / norm)))\n",
    "    plt.plot(np.linspace(-np.pi, np.pi, len(S)), S, c=color, label=label);  \n",
    "    plt.plot(w, H, 'C1', lw=3, label='mag resp')\n",
    "    plt.legend();"
   ]
  },
  {
   "cell_type": "markdown",
   "id": "adf5873a-665d-40ae-b86d-01e253ef3ad6",
   "metadata": {},
   "source": [
    "# Applications: Detrending (aka DC removal)\n",
    "\n",
    "In many (if not all) signal processing applications, we prefer signals to be _balanced,_ that is, we want the average value of the signal to be zero. Indeed, all physical processing devices (and digital devices in particular) can only deal with a finite range of possible input values before things like distortion or breakdown start to happen, and this nominal input range is usually centered around zero. If a signal is not balanced, it will not be able to fully use the available input range of a processing device.\n",
    "\n",
    "As an example, assume that a processing device can only accept input values in the interval $[-1, 1]$; a signal $x[n]$ such that $\\max_n\\{x[n]\\} = 0.8$ and $\\min_n\\{x[n]\\} = -0.8$ will be processed without problems; but the unbalanced signal $y[n] = x[n] + 0.5$ will exceed the device's input limits even though the signal's range, $\\max_n\\{y[n]\\} - \\min_n\\{y[n]\\}$, is the same as for $x[n]$."
   ]
  },
  {
   "cell_type": "markdown",
   "id": "5e70603a-a6f6-4637-b84e-e8bc84f56768",
   "metadata": {},
   "source": [
    "## DC removal\n",
    "\n",
    "The mean of a signal is also known as its DC (direct current) component, since a physical signal with a constant voltage offset will cause a direct (i.e. non-alternating) current to flow into a resistive load. This is obviously a waste of power, hence the need to remove such an offset.\n",
    "\n",
    "As you may have noticed while playing with the interactive widgets before, if you push the value of $\\lambda$ very close to one in a Leaky integrator or if you use a large value of $M$ in the moving average, the output of the filter tends to converge to the mean of the signal.\n",
    "\n",
    "The idea, therefore, is to use a Leaky Integrator or a Moving Average filter to locally _detrend_ a signal, that is, remove its estimated local mean value to balanced the signal."
   ]
  },
  {
   "cell_type": "markdown",
   "id": "ede37a93-d790-41ec-8ca2-c0dacfd26742",
   "metadata": {},
   "source": [
    "### Exercise: average estimation with Leaky Integrator and Moving Average\n",
    "\n",
    "The following cell creates a signal and offsets it by a constant amount. Use a Leaky Integrator and a Moving Average filter to estimate the value of the offset in order to balance back the signal. Compute the empirical mean of the entire signal and find the values for $\\lambda$ and $M$ that provide a good estimate over time"
   ]
  },
  {
   "cell_type": "code",
   "execution_count": null,
   "id": "be02ecc2-5bc2-43f3-bbfc-ebbcd6ad0177",
   "metadata": {},
   "outputs": [],
   "source": [
    "def sig_gen_DC(dc_offset, N=2000, SNR=100, B=4):\n",
    "    x, _ = sig_gen(N, SNR, B)\n",
    "    return x + dc_offset"
   ]
  },
  {
   "cell_type": "code",
   "execution_count": null,
   "id": "d77ae804-a70b-4e69-a3ab-b9c9cfff0356",
   "metadata": {},
   "outputs": [],
   "source": [
    "# change these two values until you get a reasonably good estimate of the offset\n",
    "lam = 0.5\n",
    "M = 2"
   ]
  },
  {
   "cell_type": "code",
   "execution_count": null,
   "id": "d69c2ddc-1c96-4ddd-863e-caba9eeebef8",
   "metadata": {},
   "outputs": [],
   "source": [
    "offset = 0.4\n",
    "x = sig_gen_DC(offset)\n",
    "m = np.mean(x)\n",
    "\n",
    "avg_li = leaky(x, lam)\n",
    "avg_ma = mavg(x, M)\n",
    "\n",
    "plt.axhline(offset, label='true offset')\n",
    "plt.axhline(m, label='empirical average')\n",
    "plt.plot(avg_li, 'C2', label='LI estimate' )\n",
    "plt.plot(avg_ma, 'C3', label='MA estimate')\n",
    "plt.legend();"
   ]
  },
  {
   "cell_type": "code",
   "execution_count": null,
   "id": "a6e05184-0c47-4c8a-9e51-70cf31373099",
   "metadata": {
    "tags": [
     "solution"
    ]
   },
   "outputs": [],
   "source": [
    "# this shows the deviation from the actual offset (percentage)\n",
    "\n",
    "plt.plot(100 * (offset - avg_li) / offset, 'C2', label='leaky' )\n",
    "plt.plot(100 * (offset - avg_ma) / offset, 'C3', label='m-avg')\n",
    "plt.legend();"
   ]
  },
  {
   "cell_type": "code",
   "execution_count": null,
   "id": "63765194-cdce-470c-9799-f8c5343740b9",
   "metadata": {
    "editable": true,
    "slideshow": {
     "slide_type": ""
    },
    "tags": [
     "solution"
    ]
   },
   "outputs": [],
   "source": [
    "# SOLUTION\n",
    "\n",
    "# these are reasonable values\n",
    "lam = 0.995\n",
    "M = 300"
   ]
  },
  {
   "cell_type": "markdown",
   "id": "95f58027",
   "metadata": {},
   "source": [
    "# Filtering Music"
   ]
  },
  {
   "cell_type": "markdown",
   "id": "625dae81",
   "metadata": {},
   "source": [
    "The lowpass filters provided by the leaky integrator and the moving average are very simple, too simple in fact to be used in applications such as audio processing. In this section we will use more advanced filters to extract specific audio frequencies from a music file.\n",
    "\n",
    "Let's load a short audio clip and play it"
   ]
  },
  {
   "cell_type": "code",
   "execution_count": null,
   "id": "0957746e",
   "metadata": {},
   "outputs": [],
   "source": [
    "music_sf, music = wavfile.read('data/sm.wav')\n",
    "IPython.display.Audio(music, rate=music_sf)"
   ]
  },
  {
   "cell_type": "markdown",
   "id": "33dcf26a",
   "metadata": {},
   "source": [
    "## Extracting the treble\n",
    "\n",
    "Suppose we are interested in the high-frequency content of the music signal, which usually contain very interesting information about percussive instruments such as the drums. Usually, we can get a good feel for the parts played by the hi-hat and cymbals if we discard all frequencies below 7KHz. \n",
    "\n",
    "Let's use an FIR highpass; note that, to design a highpass, we choose an odd number of taps in order to obtain a type I filter (symmetric with integer delay):"
   ]
  },
  {
   "cell_type": "code",
   "execution_count": null,
   "id": "64bf3f17",
   "metadata": {},
   "outputs": [],
   "source": [
    "# Transition band and high cutoff frequency\n",
    "tb = 100  # Transition band (Hz)\n",
    "fh = 4000  # High cutoff frequency for the high-pass filter (Hz)\n",
    "\n",
    "# Length of the filter\n",
    "M = 1601  # Number of taps in the filter (higher number means more precise filtering)\n",
    "\n",
    "# Design the filter using the Remez (Parks-McClellan) algorithm\n",
    "treble_filter = sp.remez(M, [0, fh - tb, fh, music_sf/2], [0, 1], fs=music_sf, maxiter=50)"
   ]
  },
  {
   "cell_type": "markdown",
   "id": "18cde7da",
   "metadata": {},
   "source": [
    "- **Transition Band (tb**): Frequency range over which the filter transitions from stop-band to pass-band.\n",
    "\n",
    "- **High Cutoff Frequency (fh)**: Frequencies below this will be attenuated.\n",
    "\n",
    "- **Length of Filter (M)**: Number of taps in the filter, affecting precision.\n",
    "\n",
    "Let's plot the filter's magnitude response on a dB scale:"
   ]
  },
  {
   "cell_type": "code",
   "execution_count": null,
   "id": "05751b23",
   "metadata": {},
   "outputs": [],
   "source": [
    "w, HH = sp.freqz(treble_filter, 1, 1024)\n",
    "plt.semilogy(w/np.pi * (music_sf/2), np.abs(HH));"
   ]
  },
  {
   "cell_type": "markdown",
   "id": "ae97b206",
   "metadata": {},
   "source": [
    "Now we can apply the filter and listen to the results:"
   ]
  },
  {
   "cell_type": "code",
   "execution_count": null,
   "id": "b4fbd109",
   "metadata": {},
   "outputs": [],
   "source": [
    "treble = sp.lfilter(treble_filter, [1], music)\n",
    "IPython.display.Audio(data = treble, rate = music_sf)"
   ]
  },
  {
   "attachments": {},
   "cell_type": "markdown",
   "id": "5159a012-9f71-4238-acc1-f7ac392ce637",
   "metadata": {},
   "source": [
    "## Extracting and enhacing the bass\n",
    "\n",
    "Imagine you are a recording engineer and you want to enhance the low end of the music I am producing. My idea is to extract the low frequencies, amplify them, and then add them back to the signal.\n",
    "\n",
    "Let's start by desining a low pass filter."
   ]
  },
  {
   "cell_type": "code",
   "execution_count": null,
   "id": "4a967a95-fab0-4530-8a4f-6c5fe4b16499",
   "metadata": {},
   "outputs": [],
   "source": [
    "music_sf"
   ]
  },
  {
   "cell_type": "markdown",
   "id": "01ed94dd",
   "metadata": {
    "editable": true,
    "slideshow": {
     "slide_type": ""
    },
    "tags": []
   },
   "source": [
    "### Exercise: low-frequency extraction\n",
    "\n",
    "Design a Type I FIR lowpass filter of length 3501 taps, with cutoff frequency 200 Hz and a 50-Hz-wide transition band. "
   ]
  },
  {
   "cell_type": "code",
   "execution_count": null,
   "id": "aad2829a",
   "metadata": {},
   "outputs": [],
   "source": [
    "tb = 50  # Transition band (Hz)\n",
    "fc = 200  # Cutoff frequency for the low-pass filter (Hz)\n",
    "M = 3501  # Length of the filter (number of taps)\n",
    "\n",
    "# your code here :\n",
    "bass_filter = ...\n"
   ]
  },
  {
   "cell_type": "code",
   "execution_count": null,
   "id": "cef6d06b",
   "metadata": {
    "editable": true,
    "slideshow": {
     "slide_type": ""
    },
    "tags": [
     "solution"
    ]
   },
   "outputs": [],
   "source": [
    "# SOLUTION \n",
    "\n",
    "bass_filter = sp.remez(M, [0, fc, fc+tb, music_sf/2], [1, 0], fs=music_sf, maxiter=50)"
   ]
  },
  {
   "cell_type": "markdown",
   "id": "65b72dfe",
   "metadata": {},
   "source": [
    "Let's plot the magnitude response :"
   ]
  },
  {
   "cell_type": "code",
   "execution_count": null,
   "id": "82c8c54b",
   "metadata": {},
   "outputs": [],
   "source": [
    "w, H = sp.freqz(bass_filter, 1, 1024)\n",
    "plt.semilogy(w[0:200]/np.pi * (music_sf/2), np.abs(H[0:200]));"
   ]
  },
  {
   "cell_type": "markdown",
   "id": "1f86d792",
   "metadata": {},
   "source": [
    "Now apply the filter and extract the bass :"
   ]
  },
  {
   "cell_type": "code",
   "execution_count": null,
   "id": "0e39ea29",
   "metadata": {},
   "outputs": [],
   "source": [
    "#your code here :\n",
    "bass = ..."
   ]
  },
  {
   "cell_type": "code",
   "execution_count": null,
   "id": "99c9c540",
   "metadata": {
    "editable": true,
    "slideshow": {
     "slide_type": ""
    },
    "tags": [
     "solution"
    ]
   },
   "outputs": [],
   "source": [
    "# SOLUTION\n",
    "\n",
    "bass = sp.lfilter(bass_filter, 1.0, music)"
   ]
  },
  {
   "cell_type": "code",
   "execution_count": null,
   "id": "d19a0156",
   "metadata": {},
   "outputs": [],
   "source": [
    "IPython.display.Audio(data = bass, rate = music_sf)"
   ]
  },
  {
   "cell_type": "markdown",
   "id": "3c5ea12a-f5f0-4f47-ba52-81d24154be8d",
   "metadata": {},
   "source": [
    "### Enhancing the bass\n",
    "\n",
    "Cool, we have the bass part! In order to enhance its presence in the final mix, the idea is to add back to the audio file a scaled-up version of it. There is one important detail, however: the filter introduces a processing delay so the audio and the bass are now out of sync!\n",
    "\n",
    "We can see this if we plot the very first note of the audio excerpt:"
   ]
  },
  {
   "cell_type": "code",
   "execution_count": null,
   "id": "5c3f3b30-6f59-4d57-abc9-e9cb15d8060c",
   "metadata": {},
   "outputs": [],
   "source": [
    "s = slice(0, 120000)\n",
    "plt.plot(music[s]);\n",
    "plt.plot(bass[s]);"
   ]
  },
  {
   "cell_type": "markdown",
   "id": "be808857-da1b-4e81-941a-a945e107e081",
   "metadata": {},
   "source": [
    "If we zoom in and start plotting from the beginning of the first note, we can see that there is a delay of about half the FIR's length:"
   ]
  },
  {
   "cell_type": "code",
   "execution_count": null,
   "id": "5f585527",
   "metadata": {},
   "outputs": [],
   "source": [
    "s = slice(16600, 50000)\n",
    "plt.plot(music[s]);\n",
    "plt.plot(bass[s]);\n",
    "plt.axvline(0, color='C3')\n",
    "plt.axvline((M-1)/2, color='C3')"
   ]
  },
  {
   "cell_type": "markdown",
   "id": "49fddb3a-a60b-49a6-9b6e-4bd60f4ea07d",
   "metadata": {},
   "source": [
    "Indeed, a Type I FIR with $M$ taps ($M$ odd) introduces a delay of $D = (M-1)/2$ samples. We can compensate for this in two ways:\n",
    " * here, since we're working \"offline\", we can just discard the first $D$ samples from the bass signal\n",
    " * in a real-time application, we would need to delay the original signal by $D$ samples to re-align it with the lowpass output"
   ]
  },
  {
   "cell_type": "code",
   "execution_count": null,
   "id": "58886c7d",
   "metadata": {},
   "outputs": [],
   "source": [
    "shifted_bass = bass[(M-1)//2:]\n",
    "\n",
    "plt.plot(music[s]);\n",
    "plt.plot(shifted_bass[s]);"
   ]
  },
  {
   "cell_type": "markdown",
   "id": "91a1428e",
   "metadata": {},
   "source": [
    "Nice. We can now amplify the bass if we want, add it back to our original signal and we are done ! Feel free to play around with the values to see how it changes !"
   ]
  },
  {
   "cell_type": "code",
   "execution_count": null,
   "id": "c50c1c68",
   "metadata": {},
   "outputs": [],
   "source": [
    "amplification_factor = 2\n",
    "\n",
    "valid_range = slice(0, len(shifted_bass))\n",
    "enhanced_bass = amplification_factor * shifted_bass\n",
    "enhanced_audio = music[valid_range] + enhanced_bass\n",
    "\n",
    "IPython.display.Audio(enhanced_audio, rate = music_sf)"
   ]
  },
  {
   "cell_type": "code",
   "execution_count": null,
   "id": "5bf7cba3",
   "metadata": {},
   "outputs": [],
   "source": [
    "# Time vector for plotting\n",
    "t = np.arange(len(shifted_bass)) / music_sf\n",
    "\n",
    "plt.figure(figsize=(12, 6))\n",
    "\n",
    "#Plot the bass vs bass enhanced signal\n",
    "plt.subplot(2, 1, 1)\n",
    "plt.plot(t, bass[valid_range], label='Bass Signal', color='red')\n",
    "plt.plot(t, enhanced_bass[valid_range], label='Bass Enhanced Signal', alpha=0.7)\n",
    "plt.title('Bass vs Bass Enhanced Signal')\n",
    "plt.xlabel('Time [s]')\n",
    "plt.grid(True)\n",
    "plt.legend()\n",
    "\n",
    "\n",
    "# Plot the results\n",
    "plt.subplot(2, 1, 2)\n",
    "plt.plot(t, music[valid_range], label='Original Signal', color='blue')\n",
    "plt.plot(t, enhanced_audio[valid_range], label='Bass Enhanced Audio', alpha=0.7)\n",
    "plt.title('Original vs Bass Enhanced Audio')\n",
    "plt.xlabel('Time [s]')\n",
    "plt.grid(True)\n",
    "plt.legend()\n",
    "\n",
    "plt.tight_layout()"
   ]
  },
  {
   "cell_type": "markdown",
   "id": "9afc5886-bd9c-4d5f-9530-57361e49b936",
   "metadata": {},
   "source": [
    "# A last trick for the road"
   ]
  },
  {
   "cell_type": "markdown",
   "id": "48d8bf12-5fa6-4285-967a-32404a74714a",
   "metadata": {},
   "source": [
    "Let's finish with a fun and surprising trick. Let's load an audio file and play it; you shouldn't hear anything:"
   ]
  },
  {
   "cell_type": "code",
   "execution_count": null,
   "id": "e5487350-00a2-4a3e-b481-7ab2c42bf483",
   "metadata": {},
   "outputs": [],
   "source": [
    "fs, s = wavfile.read('data/testing.wav')\n",
    "IPython.display.Audio(s, rate=fs)"
   ]
  },
  {
   "cell_type": "markdown",
   "id": "e259d3d2-c625-4190-ac94-51279bba5608",
   "metadata": {},
   "source": [
    "What if we filter the signal before playing? "
   ]
  },
  {
   "cell_type": "code",
   "execution_count": null,
   "id": "c732f5cb-8d80-40d6-8ea5-5ca7ba9fa471",
   "metadata": {},
   "outputs": [],
   "source": [
    "M = 36\n",
    "IPython.display.Audio(mavg(s, M), rate=fs)"
   ]
  },
  {
   "cell_type": "markdown",
   "id": "d534bb47-34ce-404d-8d02-e34612c552cd",
   "metadata": {},
   "source": [
    "Still nothing. But check this out:"
   ]
  },
  {
   "cell_type": "code",
   "execution_count": null,
   "id": "7e1f778f-a16d-41e7-8566-da031df3314e",
   "metadata": {},
   "outputs": [],
   "source": [
    "IPython.display.Audio(mavg(s ** 2, M), rate=fs)"
   ]
  },
  {
   "cell_type": "markdown",
   "id": "0391d462-d299-4a09-b7a5-5c788c5f5eca",
   "metadata": {},
   "source": [
    "Cool, isn't it? Can you figure out what happened and why squaring the signal made the audio magically appear? \n",
    "\n",
    "If you feel like investigating, start by looking at plots of the signal both in the time and in the frequency domain, and then try to understand how the original signal was generated. If after a while you're still clueless, you may want to use this [hint](https://en.wikipedia.org/wiki/Crystal_detector). "
   ]
  },
  {
   "cell_type": "markdown",
   "id": "f1f6e4b7-13b0-46b3-b792-189e2f69b43f",
   "metadata": {
    "tags": [
     "solution"
    ]
   },
   "source": [
    "## Solution\n",
    "\n",
    "OK, this is going to be long so take it as a little \"detective story\" in Signal Processing and proceed only if you are interested!\n",
    "\n",
    "### An initial time-domain exploration\n",
    "\n",
    "As a first step in our investigation, let's look at the mystery signal in the time domain:"
   ]
  },
  {
   "cell_type": "code",
   "execution_count": null,
   "id": "47828f90-4cfc-47f8-8859-4df37908df38",
   "metadata": {
    "tags": [
     "solution"
    ]
   },
   "outputs": [],
   "source": [
    "plt.plot(s);"
   ]
  },
  {
   "cell_type": "markdown",
   "id": "ad444870-6044-45b8-b165-b0abc706bad9",
   "metadata": {
    "tags": [
     "solution"
    ]
   },
   "source": [
    "This plot is not helping much even though, if we zoom in to look at the details we can see that it is oscillating very fast:"
   ]
  },
  {
   "cell_type": "code",
   "execution_count": null,
   "id": "3a568d86-1eaf-46bf-8a60-79b67ab744b7",
   "metadata": {
    "tags": [
     "solution"
    ]
   },
   "outputs": [],
   "source": [
    "chunk = s[50000:50480] \n",
    "plt.plot(chunk);"
   ]
  },
  {
   "cell_type": "markdown",
   "id": "eb192cee-0326-482d-b79c-0e4f2430e355",
   "metadata": {
    "tags": [
     "solution"
    ]
   },
   "source": [
    "Note that the sampling frequency of the signal is 96 kHz, which is very high, and so the 480 samples shown in the previous plot correspond to only 5 ms of audio data. Yet, over this short time span the signal appears to oscillate more than 200 times, which corresponds to a frequency of at least 40 kHz, totally outside of the human hearing range.\n",
    "\n",
    "By the way, you don't need to count the oscillations by hand; a good estimate is provided by half the number of zero crossings of the signal, and to find the number of zero crossings we need to simply count the number of times two successive samples have opposite sign:"
   ]
  },
  {
   "cell_type": "code",
   "execution_count": null,
   "id": "9ff489cf-62eb-412a-bcf9-81f8a13f315b",
   "metadata": {
    "tags": [
     "solution"
    ]
   },
   "outputs": [],
   "source": [
    "np.sum(chunk[:-1] * chunk[1:] < 0)"
   ]
  },
  {
   "cell_type": "markdown",
   "id": "e1ed20e6-2fcc-4ed6-a4b3-56ff404fdd3d",
   "metadata": {
    "tags": [
     "solution"
    ]
   },
   "source": [
    "### Moving to the frequency domain\n",
    "\n",
    "If we move to the frequency domain, we can confirm that the mystery signal is indeed bandpass; we can use the plotting tricks developed in lab 4 to label the frequency axis to see that the spectral content occupies a small region centered around 44 kHz and extending by approximately 4000 Hz to the left and to the right of the center frequency."
   ]
  },
  {
   "cell_type": "code",
   "execution_count": null,
   "id": "4628ee7e-882d-4290-89ff-2c86b0c36882",
   "metadata": {
    "tags": [
     "solution"
    ]
   },
   "outputs": [],
   "source": [
    "L = int(len(s)/2)\n",
    "S = np.abs(np.fft.fft(s))[:L]\n",
    "plt.semilogy(np.linspace(0, fs/2, L), S);\n",
    "print('peak at ', np.argmax(S) / L / 2 * fs)"
   ]
  },
  {
   "cell_type": "markdown",
   "id": "d1b7b54c-f560-4521-a9f7-165789e31dec",
   "metadata": {
    "tags": [
     "solution"
    ]
   },
   "source": [
    "A plausible hypothesis at this point is that the signal is a modulated audio signal and we can check this quickly by demodulating and playing the result:"
   ]
  },
  {
   "cell_type": "code",
   "execution_count": null,
   "id": "42921a1e-b49d-40e3-a05e-8ad0ecaaf05e",
   "metadata": {
    "tags": [
     "solution"
    ]
   },
   "outputs": [],
   "source": [
    "demod = s * np.cos(2 * np.pi * (44000.0 / 96000.0) * np.arange(0, len(s)))\n",
    "IPython.display.Audio(demod, rate=fs)"
   ]
  },
  {
   "cell_type": "markdown",
   "id": "31b5ecf9-4095-4e6d-9972-e06e9642dc29",
   "metadata": {
    "tags": [
     "solution"
    ]
   },
   "source": [
    "Bingo! But there are two more issues: how does the squaring operation manage to replace demodulation and why do we hear an annoying whistle?"
   ]
  },
  {
   "cell_type": "markdown",
   "id": "acf0bce8-108f-416d-8f23-284a51ad425c",
   "metadata": {
    "tags": [
     "solution"
    ]
   },
   "source": [
    "### Demodulation via squaring\n",
    "\n",
    "The first part is relatively easy: if we assume that the original signal is of the form $s[n] = x[n]\\cos(\\omega_c n)$, where $\\omega_c = 2\\pi (44000 / 96000) = (11/12)\\pi$ is the carrier frequency, then \n",
    "\n",
    "$$\n",
    "   s^2[n] = x^2[n]\\cos^2(\\omega_c n) = \\frac{1}{2}x^2[n] + \\frac{1}{2}x^2[n]\\cos(2\\omega_c n)\n",
    "$$\n",
    "\n",
    "The squaring operation, therefore, performs a demodulation of sorts and returns a baseband signal ($x^2[n]$) plus a modulated copy at twice the original carrier frequency. There are some details to keep in mind though: in general, the square of a _balanced_ audio signal will be a severely distorted version of the original, since the negative portions of the waveform become positive. You can check this using the original signal used to create this example:"
   ]
  },
  {
   "cell_type": "code",
   "execution_count": null,
   "id": "8f796656-83dc-409d-99e7-b1b7c9c7b9e6",
   "metadata": {
    "tags": [
     "solution"
    ]
   },
   "outputs": [],
   "source": [
    "fs_o, x_orig = wavfile.read('data/speech.wav')\n",
    "x_orig = x_orig / 32768.0  # rescale the range over [-1, 1]\n",
    "IPython.display.Audio(x_orig, rate=fs_o)"
   ]
  },
  {
   "cell_type": "code",
   "execution_count": null,
   "id": "5567373b-85de-4451-9961-4dbb3b5feb34",
   "metadata": {
    "tags": [
     "solution"
    ]
   },
   "outputs": [],
   "source": [
    "IPython.display.Audio(x_orig * x_orig, rate=fs_o)"
   ]
  },
  {
   "cell_type": "markdown",
   "id": "5e002c2d-d1e6-4b1e-b33e-de355fd51bc6",
   "metadata": {
    "tags": [
     "solution"
    ]
   },
   "source": [
    "However, we can avoid this problem if we ensure that the signal is always positive:"
   ]
  },
  {
   "cell_type": "code",
   "execution_count": null,
   "id": "bd0993fe-38c5-4fcf-a91f-70053a25f5e5",
   "metadata": {
    "tags": [
     "solution"
    ]
   },
   "outputs": [],
   "source": [
    "offset = 1\n",
    "x = x_orig + offset\n",
    "IPython.display.Audio(x * x, rate=fs_o)"
   ]
  },
  {
   "cell_type": "markdown",
   "id": "004f6445-eb51-4367-8e66-74bfbc85b6e8",
   "metadata": {
    "tags": [
     "solution"
    ]
   },
   "source": [
    "Now, when this positive signal is modulated, we will obtain\n",
    "\n",
    "$$\n",
    "    s[n] = x[n]\\cos(\\omega_c n) = \\cos(\\omega_c n) + x_{\\text{orig}}[n]\\cos(\\omega_c n)\n",
    "$$\n",
    "\n",
    "and the first term in the expression for $s[n]$ explains the prominent spectral lines at $\\pm\\omega_c$ that were apparent in the spectrum of the modulated signal. But, with this trick, when we \"demodulate\" with a squaring operation, the baseband copy $x^2[n]$ won't sound distorted. "
   ]
  },
  {
   "cell_type": "markdown",
   "id": "113bcd6d-bb0f-4433-a4d0-cb92ce9a3f77",
   "metadata": {
    "tags": [
     "solution"
    ]
   },
   "source": [
    "### The irritating \"whistle\"\n",
    "\n",
    "We still have to understand (and fix) the fact that we hear an audible whistle if we try to play $s^2[n]$ as-is, without filtering. It turns out that this problem is due the combined effects of the signal's amplitude offset and of aliasing. \n",
    "\n",
    "Remember that the carrier frequency here is $\\omega_c = (11/12)\\pi$ so that $2\\omega_c > \\pi$; because of the $2\\pi$ periodicity of discrete-time sinusoids, $\\cos(2\\omega_c n) = \\cos(2(11/12)\\pi n) = \\cos((\\pi/6) n)$ and so the spectrum of the demodulated signal will contain a strong spectral line at $\\omega_w = \\pi/6$.\n",
    "\n",
    "At our sampling rate of 96 kHz, this corresponds to a frequency $f_w = 8$ kHz, which is perfectly (and disturbingly) audible. "
   ]
  },
  {
   "cell_type": "code",
   "execution_count": null,
   "id": "b7d0de91-f74a-44d5-9c9b-d1f6a986f09f",
   "metadata": {
    "tags": [
     "solution"
    ]
   },
   "outputs": [],
   "source": [
    "S = np.abs(np.fft.fft(s * s))[:L]\n",
    "plt.plot(np.linspace(0, fs/2, L), S);"
   ]
  },
  {
   "cell_type": "markdown",
   "id": "75545f8f-e2b0-4f57-9b3f-2ecdc84c835e",
   "metadata": {
    "tags": [
     "solution"
    ]
   },
   "source": [
    "To remove this component we need to filter out the cross-modulation terms around $\\omega_w$; unfortunately, since the original signal extends up to 4 kHz, a simple Leaky Integrator would not work because its transition band is too wide. You can try it here and see that no value of $\\lambda$ will be able to remove enough of the whistle while preserving the speech signal."
   ]
  },
  {
   "cell_type": "code",
   "execution_count": null,
   "id": "032509c7-88ce-447b-ba79-678e3ae1b1e2",
   "metadata": {
    "tags": [
     "solution"
    ]
   },
   "outputs": [],
   "source": [
    "lam = 0.98\n",
    "IPython.display.Audio(leaky(s * s, lam), rate=fs)"
   ]
  },
  {
   "cell_type": "code",
   "execution_count": null,
   "id": "3f54053e-c3c6-482e-afd7-e6ed7e779dc8",
   "metadata": {
    "tags": [
     "solution"
    ]
   },
   "outputs": [],
   "source": [
    "plt.plot(np.linspace(0, fs/2, L), S / np.max(S), label=\"signal spectrum\");\n",
    "\n",
    "w = np.linspace(0, np.pi, L)[1:]\n",
    "plt.plot(\n",
    "    fs * w / np.pi / 2, \n",
    "    (1 - lam) / np.sqrt(1 - 2 * lam * np.cos(w) + lam**2),\n",
    "    label=\"leaky integrator response\",\n",
    ");\n",
    "plt.legend();"
   ]
  },
  {
   "cell_type": "markdown",
   "id": "b3ab8656-e58a-470f-8ee1-e23491d9090d",
   "metadata": {
    "tags": [
     "solution"
    ]
   },
   "source": [
    "Normally in this situation we should use a more advanced filter with a steep transition band, such as an elliptic filter with cutoff frequency above 4 kHz:"
   ]
  },
  {
   "cell_type": "code",
   "execution_count": null,
   "id": "7d48ec1b-ae8f-46df-9924-84e66f5e7abb",
   "metadata": {
    "tags": [
     "solution"
    ]
   },
   "outputs": [],
   "source": [
    "b, a = sp.ellip(6, .1, 60, 5000 / fs)\n",
    "IPython.display.Audio(sp.lfilter(b, a, s * s), rate=fs)"
   ]
  },
  {
   "cell_type": "code",
   "execution_count": null,
   "id": "431faa76-797d-4e9a-8fd4-0afb3e7f8a79",
   "metadata": {
    "tags": [
     "solution"
    ]
   },
   "outputs": [],
   "source": [
    "plt.plot(np.linspace(0, fs/2, L), S / np.max(S), label=\"signal spectrum\");\n",
    "\n",
    "wb, Hb = sp.freqz(b, a, L);\n",
    "plt.plot(fs * wb / np.pi / 2, np.abs(Hb), label=\"filter spectrum\");\n",
    "plt.legend();"
   ]
  },
  {
   "cell_type": "markdown",
   "id": "411df2ad-0955-46dd-9c00-cc22359525bf",
   "metadata": {
    "tags": [
     "solution"
    ]
   },
   "source": [
    "In this case, however, we can be clever and use a simple Moving Average because:\n",
    " * the frequency of the whistle is a rational multiple of $2\\pi$.\n",
    " * we know that the frequency response of a Moving Average of length $M$ will be exactly zero at all multiples of $2\\pi/M$. \n",
    " \n",
    "The spectral line causing the whistle sound is at $\\omega_w = \\pi/6$, so any MA filter where $M$ is a multiple of 12 will kill it. We want to choose $M$ as large as possible but sufficiently small to preserve the speech signal; $M=36$ seems to be a good compromise:"
   ]
  },
  {
   "cell_type": "code",
   "execution_count": null,
   "id": "1b0d08ef-72a2-4393-887c-920d8a815565",
   "metadata": {
    "tags": [
     "solution"
    ]
   },
   "outputs": [],
   "source": [
    "plt.plot(np.linspace(0, fs/2, L), S / np.max(S), label=\"signal spectrum\");\n",
    "\n",
    "M = 36\n",
    "w = np.linspace(0, np.pi, L)[1:]\n",
    "plt.plot(\n",
    "    fs * w / np.pi / 2, \n",
    "    np.abs(np.sin(M * w / 2) / np.sin(w / 2) / M),\n",
    "    label=\"MA spectrum\",\n",
    ");\n",
    "plt.legend();"
   ]
  }
 ],
 "metadata": {
  "kernelspec": {
   "display_name": "Python 3 (ipykernel)",
   "language": "python",
   "name": "python3"
  },
  "language_info": {
   "codemirror_mode": {
    "name": "ipython",
    "version": 3
   },
   "file_extension": ".py",
   "mimetype": "text/x-python",
   "name": "python",
   "nbconvert_exporter": "python",
   "pygments_lexer": "ipython3",
   "version": "3.12.3"
  }
 },
 "nbformat": 4,
 "nbformat_minor": 5
}
