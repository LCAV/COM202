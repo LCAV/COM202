{
 "cells": [
  {
   "cell_type": "markdown",
   "metadata": {
    "editable": true,
    "slideshow": {
     "slide_type": ""
    },
    "tags": []
   },
   "source": [
    "<div style=\"margin: 0 auto 30px; height: 60px; border: 2px solid gray; border-radius: 6px;\">\n",
    "  <div style=\"float: left;\"><img src=\"img/epfl.png\" /></div>\n",
    "  <div style=\"float: right; margin: 20px 30px 0; font-size: 10pt; font-weight: bold;\"><a href=\"https://moodle.epfl.ch/course/view.php?id=18253\">COM202 - Signal Processing</a></div>\n",
    "</div>\n",
    "<div style=\"clear: both; font-size: 30pt; font-weight: bold; color: #483D8B;\">\n",
    "    Lab 1: Introduction to Python, Numpy and Matplotlib\n",
    "</div>"
   ]
  },
  {
   "cell_type": "markdown",
   "metadata": {},
   "source": [
    "Welcome to the first Signal Processing lab! The goal of this initial Jupyter notebook is to introduce (or review) the basics of Python and of the numerical libraries that we will use in the rest of the labs.\n",
    "\n",
    "In recent years, Python has become an increasingly popular programming language with the signal processing community, primarily due to the availability of powerful libraries such as Numpy, SciPy, and MatPlotlib. These numerical toolboxes have reached a level of maturity and completeness that puts them on a par with proprietary (and costly) software frameworks such as Matlab. In this notebook we will cover the most important functionalities that these library offer and highlight how nicely they play with the Jupyter notebook paradigm. "
   ]
  },
  {
   "cell_type": "markdown",
   "metadata": {},
   "source": [
    "# Preliminaries "
   ]
  },
  {
   "cell_type": "markdown",
   "metadata": {},
   "source": [
    "## Python \n",
    "\n",
    "Given that this is a class developed for Computer Science students, we will assume you are already quite familiar with programming; the goal here is not to teach you how to code but simply to point out some of the specificitiess of the Python language. \n",
    "\n",
    "If you feel that your could benefit from a more in-depth introduction to Python, the Internet abounds with very good tutorials such as [this one](https://www.freecodecamp.org/news/the-python-guide-for-beginners/)"
   ]
  },
  {
   "cell_type": "markdown",
   "metadata": {},
   "source": [
    "## Libraries\n",
    "\n",
    "With Python, you immediately gain access to a vast number of open-source libraries developed by the community. Libraries are composed of different modules, and each module can be imported individually in your own code if only a subset of the library's functionalities are needed.\n",
    "\n",
    "In order to use a library or one of its modules, the library must be intstalled in you Python environment. For this, you can use a package manager such as ``pip`` or ``conda`` if you use the Anaconda distribution. Here's an example of how to install the ``numpy`` and ``matplotlib`` libraries using pip from the terminal:\n",
    "\n",
    "    python -m pip install -U numpy\n",
    "    python -m pip install -U matplotlib\n",
    "\n",
    "Once a library is installed, you can import it (or any of its modules) into your Python program using the ``import`` statement, which also allows you to choose alternate aliases for the associeated namespace:"
   ]
  },
  {
   "cell_type": "code",
   "execution_count": null,
   "metadata": {},
   "outputs": [],
   "source": [
    "import numpy as np\n",
    "import matplotlib.pyplot as plt\n",
    "import IPython\n",
    "import math"
   ]
  },
  {
   "cell_type": "markdown",
   "metadata": {},
   "source": [
    "## Getting help\n",
    "\n",
    "The Python `help()` function is a handy tool for understanding modules, functions, and more. It provides built-in access to the the official documentation directly from within the Python environment.\n",
    "\n",
    "For instance, if you want to know more about the `sqrt` function in the `math` module, you can type `help(math.sqrt)`. This will display a brief summary of what the function does, a description of its mandatory and optional parameters, the return type, and so on.\n",
    "\n",
    "By calling `help()` without arguments. an interactive help session will start. To exit the help session, just type `quit` and press enter. **Try it for yourself!**"
   ]
  },
  {
   "cell_type": "code",
   "execution_count": null,
   "metadata": {},
   "outputs": [],
   "source": [
    "# uncomment the statement below to run the interactive help; the line is \n",
    "#  commented so that if you run all notebook cells, the execution doesn't stop here.\n",
    "\n",
    "#help()"
   ]
  },
  {
   "cell_type": "markdown",
   "metadata": {},
   "source": [
    "# Python Lists\n",
    "\n",
    "Python has several basic data types, including integers, floats, and strings; they are behaving as expected and Python will automatically upcast numerical types if needed.\n",
    "To know a variable's type, you can use of the `type()` built-in function. \n",
    "\n",
    "In Python, data arrays are known as _lists_;  a list is a _mutable_ ordered collection of items of any type (\"mutable\" means that the values in the list can be changed)."
   ]
  },
  {
   "cell_type": "markdown",
   "metadata": {},
   "source": [
    "## Creating lists\n",
    "\n",
    "There are many ways to define a list; explicitly, for instance, you can use a comma-separated sequence of items enclosed in square brackets, e.g. "
   ]
  },
  {
   "cell_type": "code",
   "execution_count": null,
   "metadata": {},
   "outputs": [],
   "source": [
    "my_list = [\"Code\", \"Favtutor\", \"Machine Learning\", \"Students\", \"Studies\", \"Java\", \"Python\"]"
   ]
  },
  {
   "cell_type": "markdown",
   "metadata": {},
   "source": [
    "Another way is to populate a list by reading data from disk. As a fun and more realistic example, let's load a digital audio signal into a list and play the result (don't worry too much about the code details but feel free to look up any function you're curious about)"
   ]
  },
  {
   "cell_type": "code",
   "execution_count": null,
   "metadata": {},
   "outputs": [],
   "source": [
    "from scipy.io import wavfile\n",
    "\n",
    "Fs, piano = wavfile.read(\"data/piano.wav\")\n",
    "IPython.display.Audio(piano, rate=Fs)"
   ]
  },
  {
   "attachments": {},
   "cell_type": "markdown",
   "metadata": {},
   "source": [
    "## List indexing and slicing\n",
    "\n",
    "Extraction of a single element from a list can be achieved by single indexing : \n",
    "\n",
    " `my_list[2]` returns `\"Machine Learning\"` \n",
    "\n",
    "Like in Java, lists are indexed from 0. In Python, on the other hand, elements can also be indexed *backwards* starting from the end of the list by using negative values; not that this allows you to select, say, the last element of a list even if the length is unknown\n",
    "\n",
    " `my_list[-1]` returns `\"python\"`\n",
    "\n",
    "The following list manipulation examples refer to the following diagram \n",
    "\n",
    "<img src=\"img/list_indices.png\" width=600/>\n",
    "\n",
    "* sub-arrays can be extracted by *slicing*; the following syntax will return the elements from the start index up to **but not including** the end index:\n",
    "\n",
    "  `my_list[2:6]` returns `[\"Machine Learning\", \"Students\", \"Studies\", \"Java\"]`\n",
    "\n",
    "* in a slice, if the `start` index is omitted, its value is assumed to be $0$:\n",
    "\n",
    "  `my_list[:n]` is the same as `my_list[0:n]`\n",
    "\n",
    "* similarly, if the `end` index is omitted, the slice will contain all elementsd from the start index up to the end of the list (including the last element):\n",
    "\n",
    "  `my_list[n:]` is the same as `my_list[n:7]`\n",
    "\n",
    "* slices can include a step size as an optional third slice parameter\n",
    "\n",
    "  `my_list[2::2]` returns `[\"Machine Learning\", \"Studies\", \"python\"]`\n",
    "\n",
    "\n",
    "Finally, note that slicing indexes can be defined as `slice` objects and reused: "
   ]
  },
  {
   "cell_type": "code",
   "execution_count": null,
   "metadata": {},
   "outputs": [],
   "source": [
    "odd_elements = slice(1,10,2)\n",
    "\n",
    "print(my_list[odd_elements])\n",
    "print(piano[odd_elements])"
   ]
  },
  {
   "cell_type": "markdown",
   "metadata": {},
   "source": [
    "### Exercise: subsampling\n",
    "\n",
    "Use slicing to extract one out of every 4 samples from the audio signal that was loaded earlier; play the result and compare it to the original. Can you change one of the parameters in the playing function so that the sliced signal has the same pitch as the original?"
   ]
  },
  {
   "cell_type": "code",
   "execution_count": null,
   "metadata": {},
   "outputs": [],
   "source": [
    "piano_sub = ..."
   ]
  },
  {
   "cell_type": "code",
   "execution_count": null,
   "metadata": {
    "editable": true,
    "slideshow": {
     "slide_type": ""
    },
    "tags": [
     "solution"
    ]
   },
   "outputs": [],
   "source": [
    "#SOLUTION\n",
    "piano_sub = piano[::4]\n",
    "\n",
    "IPython.display.Audio(piano_sub, rate=Fs)"
   ]
  },
  {
   "cell_type": "markdown",
   "metadata": {},
   "source": [
    "Let's now play the sliced signal but reduce the sampling rate by the slicing step; can you explain intuitively what's happening?"
   ]
  },
  {
   "cell_type": "code",
   "execution_count": null,
   "metadata": {
    "editable": true,
    "slideshow": {
     "slide_type": ""
    },
    "tags": []
   },
   "outputs": [],
   "source": [
    "IPython.display.Audio(piano_sub, rate=Fs/4)"
   ]
  },
  {
   "cell_type": "markdown",
   "metadata": {},
   "source": [
    "### Exercise: time reversal\n",
    "\n",
    "Time-reverse the audio signal using slicing (hint: the step size can be negative too!)"
   ]
  },
  {
   "cell_type": "code",
   "execution_count": null,
   "metadata": {},
   "outputs": [],
   "source": [
    "piano_rev = ..."
   ]
  },
  {
   "cell_type": "code",
   "execution_count": null,
   "metadata": {
    "editable": true,
    "slideshow": {
     "slide_type": ""
    },
    "tags": [
     "solution"
    ]
   },
   "outputs": [],
   "source": [
    "#SOLUTION\n",
    "piano_rev = piano[::-1]\n",
    "\n",
    "#Let's listen to the reversed signal\n",
    "IPython.display.Audio(piano_rev, rate=Fs)"
   ]
  },
  {
   "cell_type": "markdown",
   "metadata": {},
   "source": [
    "## List comprehension\n",
    "\n",
    "List comprehensions provides a concise way to create lists based on other lists; the list is created by applying a given expression to the elements of an existing list, possibly with coditional execution. The general syntax is\n",
    "\n",
    "  `[f(x) for x in list]`\n",
    "\n",
    "For instance:"
   ]
  },
  {
   "cell_type": "code",
   "execution_count": null,
   "metadata": {},
   "outputs": [],
   "source": [
    "pw2 = [2 ** x for x in range(10)]\n",
    "print(\"powers of 2:\", pw2)"
   ]
  },
  {
   "cell_type": "markdown",
   "metadata": {},
   "source": [
    "### Exercise\n",
    "\n",
    "Create a list named containing 10 consecutive values of a sinusoidal signal (you can use the `sin` function from the `math` module)"
   ]
  },
  {
   "cell_type": "code",
   "execution_count": null,
   "metadata": {},
   "outputs": [],
   "source": [
    "sin_signal = ...\n",
    "print(\"sin signal:\", sin_signal)"
   ]
  },
  {
   "cell_type": "code",
   "execution_count": null,
   "metadata": {
    "editable": true,
    "slideshow": {
     "slide_type": ""
    },
    "tags": [
     "solution"
    ]
   },
   "outputs": [],
   "source": [
    "# SOLUTION\n",
    "\n",
    "sin_signal = [ math.sin(x) for x in range(10) ]\n",
    "print(\"sinusoidal signal:\", sin_signal)"
   ]
  },
  {
   "attachments": {},
   "cell_type": "markdown",
   "metadata": {},
   "source": [
    "# Data visualization with MatplotLib\n",
    "\n",
    "One of the (if not _the_) most widely used plotting library in Python is Matplotlib. In Jupyter notebooks Matplotlib can produce its output inline directly after the cell containing the plotting directives. Instead of trying to list the library's functionalities, here are some usage examples that will reappear in the rest of the labs."
   ]
  },
  {
   "cell_type": "code",
   "execution_count": null,
   "metadata": {},
   "outputs": [],
   "source": [
    "# Generate sample data for the plots\n",
    "n = np.arange(0, 100) # 100 values of the discrete-time index n\n",
    "N = 50                # samples per period\n",
    "w = 2 * np.pi / N     # discrete time frequency is 2pi / N\n",
    "x1 = np.sin(w * n)\n",
    "x2= np.cos(w * n) "
   ]
  },
  {
   "cell_type": "markdown",
   "metadata": {},
   "source": [
    "## Basic plots\n",
    "\n",
    "Plotting a data set is as easy as invoking `plt.plot`.(Note that we follow the statement by a semicolon (';') otherwise Jupyter will print the return value of the plot function; try to remove the semicolon to see the result.)"
   ]
  },
  {
   "cell_type": "code",
   "execution_count": null,
   "metadata": {},
   "outputs": [],
   "source": [
    "plt.plot(x1);"
   ]
  },
  {
   "cell_type": "markdown",
   "metadata": {},
   "source": [
    "In the plot above, the data points contained in `x` are plotted against their index value (i.e. from 0 to 99)but you can specify the values for the horizontal axis as an array with the same length as the data array. Here for example we plot the sinusoid against the value of its phase"
   ]
  },
  {
   "cell_type": "code",
   "execution_count": null,
   "metadata": {},
   "outputs": [],
   "source": [
    "plt.plot(n * w, x1);"
   ]
  },
  {
   "cell_type": "markdown",
   "metadata": {},
   "source": [
    "You can change the size of a plot in two ways, either by instantiating the figure explicitly or by changing the default size"
   ]
  },
  {
   "cell_type": "code",
   "execution_count": null,
   "metadata": {},
   "outputs": [],
   "source": [
    "plt.figure(figsize=(10, 2))\n",
    "plt.plot(n, x1);"
   ]
  },
  {
   "cell_type": "code",
   "execution_count": null,
   "metadata": {},
   "outputs": [],
   "source": [
    "# this will make all subsequent plots this size\n",
    "plt.rcParams[\"figure.figsize\"] = (12,4)"
   ]
  },
  {
   "cell_type": "markdown",
   "metadata": {},
   "source": [
    "## Stem plots (aka \"lollipop plots\")\n",
    "\n",
    "Discrete-time signals are usually drawn using stem plots in order to emphasize the fact that they are a _countable sequence_ of values and not a continuous-time function."
   ]
  },
  {
   "cell_type": "code",
   "execution_count": null,
   "metadata": {},
   "outputs": [],
   "source": [
    "plt.stem(n, x1);"
   ]
  },
  {
   "cell_type": "markdown",
   "metadata": {
    "jp-MarkdownHeadingCollapsed": true
   },
   "source": [
    "Stem plots generally look too \"busy\" when there are too many data points; in these cases therefore we prefer to plot signals the same way in which we would graph a function. In Matplotlib, this means that we will can use `plt.stem` if the data points are few or when we want to explicitly show the discrete-time nature of the signal; when dealing with a large amout of data we will use `plt.plot` instead, which will allow us to observe the overall amplitude envelope of a signal.\n",
    "\n",
    "We can encode these preferences in a utility function like so:"
   ]
  },
  {
   "cell_type": "code",
   "execution_count": null,
   "metadata": {},
   "outputs": [],
   "source": [
    "def plot_data(data, *args, **kwargs):\n",
    "    MAX_SIZE = 60\n",
    "    if len(data) > MAX_SIZE:\n",
    "        plt.plot(data, *args, **kwargs)\n",
    "    else: \n",
    "        plt.stem(data, *args, **kwargs)"
   ]
  },
  {
   "cell_type": "markdown",
   "metadata": {},
   "source": [
    "Remember our original audio signal of a piano note ? Let's have a look at it."
   ]
  },
  {
   "cell_type": "code",
   "execution_count": null,
   "metadata": {},
   "outputs": [],
   "source": [
    "plot_data(piano, 'g')\n",
    "plt.ylabel(\"Amplitude\")\n",
    "plt.title(\"Original Signal\");"
   ]
  },
  {
   "cell_type": "markdown",
   "metadata": {},
   "source": [
    "Interesting, let's now zoom in and have a look at specific part of the signal."
   ]
  },
  {
   "cell_type": "code",
   "execution_count": null,
   "metadata": {},
   "outputs": [],
   "source": [
    "plot_data(piano[5000:5050])\n",
    "plt.ylabel(\"Amplitude\")\n",
    "plt.title(\"Zoomed-in view of the original signal\")"
   ]
  },
  {
   "cell_type": "markdown",
   "metadata": {},
   "source": [
    "## Colors and lines\n",
    "\n",
    "In Matplotlib you can customize virtually any plotting parameter; note that you can use LaTeX notation in labels, as well as f-strings."
   ]
  },
  {
   "cell_type": "code",
   "execution_count": null,
   "metadata": {},
   "outputs": [],
   "source": [
    "# First line with various customizations\n",
    "plt.plot(\n",
    "    n, x1,                  # we're plotting y1 against x\n",
    "    label=f\"$\\\\sin(2\\\\pi n / {N})$\",      # the label can be used to draw a legend\n",
    "    color=\"blue\",           # Line color\n",
    "    linestyle=\"--\",         # Dashed line\n",
    "    linewidth=2,            # Line width\n",
    "    marker=\"o\",             # Circular markers\n",
    "    markersize=6,           # Marker size\n",
    "    markerfacecolor=\"red\",  # Marker color\n",
    "    markeredgecolor=\"black\",# Marker edge color\n",
    "    alpha=0.8               # Transparency\n",
    ")\n",
    "\n",
    "# Second line with different customizations\n",
    "plt.plot(\n",
    "    n, x2, \n",
    "    label=f\"$\\\\cos(2\\\\pi n / {N})$\",\n",
    "    color=\"green\",        \n",
    "    linestyle=\"-.\",          # Dash-dot line\n",
    "    linewidth=2, \n",
    "    marker=\"s\",              # Square markers\n",
    "    markersize=6, \n",
    "    markerfacecolor=\"yellow\",\n",
    "    markeredgecolor=\"black\",\n",
    "    alpha=0.8\n",
    ")\n",
    "\n",
    "# Add titles and labels\n",
    "plt.title(\"sinusoidal signals in discrete time\")\n",
    "plt.xlabel(\"$n$\")\n",
    "plt.ylabel(\"$x[n]$\")\n",
    "\n",
    "# Add grid, legend, and limits\n",
    "plt.grid(True)\n",
    "plt.legend(fontsize=12)\n",
    "\n",
    "# you can change the limits of the axes\n",
    "plt.xlim(0, 35)\n",
    "plt.ylim(-1.5, 1.5)\n",
    "\n",
    "# Display the plot and close it to release memory (these are optional but good practice)\n",
    "plt.show()\n",
    "plt.close()"
   ]
  },
  {
   "cell_type": "markdown",
   "metadata": {},
   "source": [
    "## Subplots\n",
    "\n",
    "Another useful Matplotlib tool is subplots, often used to show multiple plots at a time."
   ]
  },
  {
   "cell_type": "code",
   "execution_count": null,
   "metadata": {},
   "outputs": [],
   "source": [
    "def my_plot(x, attr, label, title):\n",
    "    plt.plot(x, attr, label=label)\n",
    "    plt.legend()\n",
    "    plt.title(title)\n",
    "\n",
    "\n",
    "# Plotting sin(x) in the top-left\n",
    "plt.subplot(2,2,1)\n",
    "my_plot(x1, 'b', f'$\\\\sin(2\\\\pi n / {N})$', 'subplot(2,2,1)')\n",
    "\n",
    "# Plotting cos(x) in the top-right\n",
    "plt.subplot(2,2,2)\n",
    "my_plot(x2, 'g:', f'$\\\\cos(2\\\\pi n / {N})$', 'subplot(2,2,2)')\n",
    "\n",
    "# Plotting sin(x)*cos(x) in the bottom-left\n",
    "plt.subplot(2,2,3)\n",
    "my_plot(x1 * x2, 'm-.', f'$\\\\sin(2\\\\pi n / {N})\\\\cos(2\\\\pi n / {N})$', 'subplot(2,2,3)')\n",
    "\n",
    "# Plotting all three in the bottom-right\n",
    "plt.subplot(2,2,4)\n",
    "my_plot(x1, 'b', f'$\\\\sin(2\\\\pi n / {N})$', 'subplot(2,2,1)')\n",
    "my_plot(x2, 'g:', f'$\\\\cos(2\\\\pi n / {N})$', 'subplot(2,2,2)')\n",
    "my_plot(x1 * x2, 'm-.', f'$\\\\sin(2\\\\pi n / {N})\\\\cos(2\\\\pi n / {N})$', 'subplot(2,2,3)')\n",
    "\n",
    "plt.tight_layout()  # Ensures that title, labels, and axes do not overlap"
   ]
  },
  {
   "cell_type": "markdown",
   "metadata": {},
   "source": [
    "### Exercise:\n",
    "\n",
    "Using the above code block as a template, plot the first 30 points of the audio signal, of its subsampled and of its time-reversd versions, first individually and then all in the same plot. Use different colors and linestyles in the plots. "
   ]
  },
  {
   "cell_type": "code",
   "execution_count": null,
   "metadata": {
    "editable": true,
    "slideshow": {
     "slide_type": ""
    },
    "tags": [
     "solution"
    ]
   },
   "outputs": [],
   "source": [
    "# SOLUTION\n",
    "\n",
    "data_slice = slice(0, 30)\n",
    "\n",
    "plt.subplot(2,2,1)\n",
    "plt.plot(piano[data_slice], 'b')\n",
    "plt.title('original')\n",
    "\n",
    "plt.subplot(2,2,2)\n",
    "plt.plot(piano_sub[data_slice], 'g')\n",
    "plt.title('subsampled')\n",
    "\n",
    "plt.subplot(2,2,3)\n",
    "plt.plot(piano_rev[data_slice], 'm')\n",
    "plt.title('time-reversed')\n",
    "\n",
    "# Plotting all three in the bottom-right\n",
    "plt.subplot(2,2,4)\n",
    "plt.plot(piano[data_slice], 'b', label='original')\n",
    "plt.plot(piano_sub[data_slice], 'g', label='subsampled')\n",
    "plt.plot(piano_rev[data_slice], 'm', label='time-reversed')\n",
    "plt.legend()\n",
    "\n",
    "plt.tight_layout()  # Ensures that title, labels, and axes do not overlap"
   ]
  },
  {
   "attachments": {},
   "cell_type": "markdown",
   "metadata": {},
   "source": [
    "# NumPy\n",
    "\n",
    "NumPy is a well-established numerical library originally designed for vector and matrix operations (linear algebra). NumPy is an extremely popular tool and learning it is a good investment not only for our signal processing class but for all sorts of different applications and use-cases.\n",
    "\n",
    "To get you started, this lab will focus on some simple linear algebra operations using NumPy and present a final application in image processing using the so-called Haar Basis."
   ]
  },
  {
   "attachments": {},
   "cell_type": "markdown",
   "metadata": {},
   "source": [
    "## NumPy Arrays\n",
    "\n",
    "NumPy arrays are an efficient implementation of Python lists for numerical data types. There are two standard ways of creating NumPy arrays:\n",
    " * transform a list object via type casting\n",
    " * use NumPy's various built-in functions"
   ]
  },
  {
   "cell_type": "code",
   "execution_count": null,
   "metadata": {},
   "outputs": [],
   "source": [
    "# Here we create a two-dimensional array from Python lists.\n",
    "matr = np.array([[1,2,3],[4,5,6]])\n",
    "\n",
    "# There exist various built-in functions to easily create different array objects:\n",
    "vect = np.ones(5)\n",
    "\n",
    "id_matrix = np.eye(5)\n",
    "\n",
    "one_matrix = np.ones((5,3))\n",
    "\n",
    "mat_array = np.zeros((2,3,3))\n",
    "mat_array[:] = np.eye(3)\n",
    "\n",
    "print(f\"1D vector: \\n{vect}\\n\")\n",
    "print(f\"2D matrix: \\n{matr}\\n\")\n",
    "print(f\"Identity matrix: \\n{id_matrix}\\n\")\n",
    "print(f\"Matrix of ones: \\n{one_matrix}\\n\")\n",
    "print(f\"Array of identity matrices: \\n{mat_array}\\n\")"
   ]
  },
  {
   "attachments": {},
   "cell_type": "markdown",
   "metadata": {},
   "source": [
    "### Data types\n",
    "\n",
    "All NumPy arrays refer to an underlying data type; you can specify the type at creation time via the directive\n",
    "\n",
    "``dtype=...``\n",
    "\n",
    "or you cast existing arrays using the ``.astype()`` method."
   ]
  },
  {
   "cell_type": "code",
   "execution_count": null,
   "metadata": {},
   "outputs": [],
   "source": [
    "# Creating an array of integers\n",
    "int_vect = np.array([1,2,3,4,5], dtype=np.int32)\n",
    "print(int_vect.dtype)\n",
    "\n",
    "# Cast int array to float array:\n",
    "float_vect = int_vect.astype(np.float32)\n",
    "print(float_vect.dtype)\n",
    "\n",
    "# As we can see, multiplying with standard * two vectors will simply multiply components pairwise\n",
    "# and output another vector. In fact we will see later on why.\n",
    "print(int_vect * float_vect)"
   ]
  },
  {
   "cell_type": "markdown",
   "metadata": {},
   "source": [
    "The features of NumPy arrays can be inspected via a series of attributes such as ``size``, ``shape``, and ``ndim``. This is particularly useful when working with multi-dimensional vectors or matrices.  "
   ]
  },
  {
   "cell_type": "code",
   "execution_count": null,
   "metadata": {},
   "outputs": [],
   "source": [
    "matr = np.array([[1,2,3,4],[5,6,7,8]])\n",
    "print(\"The dimension of the matrix is: {}\\n\".format(matr.ndim))\n",
    "print(\"The shape of the matrix is: {}\\n\".format(matr.shape))\n",
    "print(\"The size of the matrix is: {}\\n\".format(matr.size))\n",
    "print(\"The data type of the matrix is: {}\\n\".format(matr.dtype))"
   ]
  },
  {
   "cell_type": "markdown",
   "metadata": {},
   "source": [
    "### Reshaping"
   ]
  },
  {
   "cell_type": "markdown",
   "metadata": {},
   "source": [
    "The structure of NumPy arrays can be modified using is the ``.reshape()`` method; note that the new shape must contain the same number of elements as the original shape. "
   ]
  },
  {
   "cell_type": "code",
   "execution_count": null,
   "metadata": {},
   "outputs": [],
   "source": [
    "# Creating a matrix of sequentials numbers:\n",
    "matr = np.arange(10,20).reshape(5,2)\n",
    "print(\"A matrix of size 5,2:\\n{}\\n\".format(matr))\n",
    "\n",
    "matr = matr.reshape(2,5)\n",
    "print(\"A matrix of size 2,5:\\n{}\\n\".format(matr))"
   ]
  },
  {
   "cell_type": "markdown",
   "metadata": {},
   "source": [
    "### Broadcasting"
   ]
  },
  {
   "cell_type": "markdown",
   "metadata": {},
   "source": [
    "Last but not least, broadcasting is a built-in method used by NumPy to apply transformations to arrays in an elegant and concise way. When appling operations to arrays of different sizes, NumPy attempts to extend (\"broadcast\") the smaller array so that it matches the size of the larger one. \n",
    "\n",
    "For example, when adding a vector ``vect`` to a matrix ``M``, the broadcasting step will expand the vector into a properly sized matrix."
   ]
  },
  {
   "cell_type": "code",
   "execution_count": null,
   "metadata": {},
   "outputs": [],
   "source": [
    "# Create a vector of length 5\n",
    "vect = np.array([1,2,3,4,5])\n",
    "\n",
    "# Matrix of 1s\n",
    "matr = np.ones((4,5), dtype=np.int64)\n",
    "\n",
    "print(f'A matrix M: \\n{matr}\\nand a vector v:\\n{vect}\\n')\n",
    " \n",
    "print(f'v + M =\\n{vect + matr}\\n')\n",
    "print(f'M + v =\\n{matr + vect}\\n')\n",
    "\n",
    "# Note that you need at least ONE matching dimension:\n",
    "matr_array = np.ones((4,4,5), dtype=np.int64)\n",
    "\n",
    "print(f'A matrix array X: \\n{matr_array}\\n')\n",
    "print(f'v + X =\\n{vect + matr_array}\\n')"
   ]
  },
  {
   "cell_type": "markdown",
   "metadata": {},
   "source": [
    "Be aware that, for broacasting to work, the arrays must have at least one matching dimension:"
   ]
  },
  {
   "cell_type": "code",
   "execution_count": null,
   "metadata": {},
   "outputs": [],
   "source": [
    "# Create a vector of length 5\n",
    "vect = np.array([1,2,3,4,5])\n",
    "\n",
    "# Matrix of 1s of size 4x6\n",
    "matr = np.ones((4,6), dtype=np.int64)\n",
    "\n",
    "try:\n",
    "    res_3 = matr + vect\n",
    "except ValueError as error:\n",
    "    print(\"Broadcasting error: \", error)"
   ]
  },
  {
   "cell_type": "markdown",
   "metadata": {},
   "source": [
    "More details on broadcasting are availabe [here](https://numpy.org/devdocs/user/basics.broadcasting.html)."
   ]
  },
  {
   "cell_type": "markdown",
   "metadata": {},
   "source": [
    "### Exercise: reshaping a vector into a matrix\n",
    "\n",
    "The following code takes all the pixels in a square image and stores them one after the other in a single 4096-element vector."
   ]
  },
  {
   "cell_type": "code",
   "execution_count": null,
   "metadata": {},
   "outputs": [],
   "source": [
    "original_image = np.array(plt.imread('img/cameraman.jpg'), dtype=int)\n",
    "vect = np.ravel(original_image, \"C\")"
   ]
  },
  {
   "cell_type": "markdown",
   "metadata": {},
   "source": [
    "Write the code to reshape the vector back into the original square image:"
   ]
  },
  {
   "cell_type": "code",
   "execution_count": null,
   "metadata": {},
   "outputs": [],
   "source": [
    "img = ... # write your code here"
   ]
  },
  {
   "cell_type": "code",
   "execution_count": null,
   "metadata": {
    "editable": true,
    "slideshow": {
     "slide_type": ""
    },
    "tags": [
     "solution"
    ]
   },
   "outputs": [],
   "source": [
    "# SOLUTION\n",
    "\n",
    "# 4096 = 64 * 64\n",
    "img = vect.reshape(64, 64)"
   ]
  },
  {
   "cell_type": "code",
   "execution_count": null,
   "metadata": {},
   "outputs": [],
   "source": [
    "plt.subplot(1,2,1)\n",
    "plt.imshow(original_image);\n",
    "plt.subplot(1,2,2)\n",
    "try:\n",
    "    plt.imshow(img);\n",
    "except TypeError:\n",
    "    pass"
   ]
  },
  {
   "cell_type": "markdown",
   "metadata": {},
   "source": [
    "# Linear algebra with NumPy"
   ]
  },
  {
   "cell_type": "markdown",
   "metadata": {},
   "source": [
    "## Basic operators\n",
    "\n",
    "NumPy provides most of the common linear algebra operations:\n",
    "- inner product (aka dot product) of two vectors: ``np.vdot``\n",
    "- matrix-vector or matrix-matrix standard multiplication: ``np.dot(M1,v1)`` or ``@`` \n",
    "- matrix inversion: ``np.linalg.inv``. \n",
    "- matrix transposition: ``.T``. \n",
    "- matrix L2 norm: ``np.linalg.norm``.\n",
    "- solving a system of linear equations: ``np.linalg.solve``.\n",
    "\n",
    "Below are some examples of vector-matrix manipulations; you can find more useful pointers [here](https://numpy.org/doc/stable/reference/routines.linalg.html)"
   ]
  },
  {
   "cell_type": "code",
   "execution_count": null,
   "metadata": {},
   "outputs": [],
   "source": [
    "# instantiate two vectors:\n",
    "v_1 = (np.random.rand(5) * 10).astype(int)\n",
    "v_2 = (-np.random.rand(5) * 10).astype(int)\n",
    "print(f'random vectors:\\n v_1 = {v_1}\\n v_2 = {v_2}')\n",
    "print(f'inner product:\\n <v_1, v_2> = {np.vdot(v_1, v_2)}\\n')\n",
    "\n",
    "# instantiate one matrix and one vector\n",
    "M_1 = np.arange(1, 11).reshape(2, 5)\n",
    "print(f'matrix M_1 =\\n{M_1}')\n",
    "print(f'matrix-vector product will assume v_1 is a column vector:\\n M_1 v_1 = {np.dot(M_1, v_1)}\\n')\n",
    "\n",
    "A = np.arange(1, 10).reshape(3, 3)\n",
    "b = np.ones(3)\n",
    "print(f'matrix A =\\n{A}\\nvector b = \\n{b}')\n",
    "print('careful with square matrices! Vectors will be cast as row or column automatically')\n",
    "print(f'A b = {np.dot(A, b)}')\n",
    "print(f'b A = {np.dot(b, A)}\\n')\n",
    "\n",
    "# instantiate two matrices:\n",
    "M_2 = np.array([[1, 2], [3, 4], [5, 6]])\n",
    "M_3 = np.array([[1, 2, 3], [4, 5, 6]])\n",
    "print(f'matrix M_2 =\\n{M_2}')\n",
    "print(f'matrix M_3 =\\n{M_3}')\n",
    "print(f'matrix products:\\n M_2 M_3 =\\n{np.dot(M_2, M_3)}')\n",
    "print(f'M_3 M_2 =\\n{np.dot(M_3, M_2)}')"
   ]
  },
  {
   "cell_type": "markdown",
   "metadata": {},
   "source": [
    "### Exercise: matrix-vector operations\n",
    "\n",
    "Let $A$ be the matrix : $$A = \\begin{bmatrix} 1 & 2 & 1 \\\\ 3 & 0 & 1 \\\\ 0 & 2 & 4 \\end{bmatrix}$$\n",
    "and $\\mathbf{v, w}$ the vectors: $$\\mathbf{v} = \\begin{bmatrix} 1 \\\\ 2 \\\\ 4 \\end{bmatrix} \\\\ \\mathbf{w} = \\begin{bmatrix} 2 \\\\ 4 \\\\ 6 \\end{bmatrix}$$\n",
    "\n",
    "Complete the code below. "
   ]
  },
  {
   "cell_type": "code",
   "execution_count": null,
   "metadata": {},
   "outputs": [],
   "source": [
    "# define the matrix A and the vectors v and w\n",
    "A = ... \n",
    "v = ...\n",
    "w = ...\n",
    "\n",
    "# compute the product of matrix A and vector v\n",
    "print(\"Av = \", ...)\n",
    "\n",
    "# compute the product of the transpose of vector w and matrix A\n",
    "print(\"w^T A = \", ...)\n",
    "\n",
    "# compute the dot product of vectors v and w\n",
    "print(\"< v , w > = \", ...)\n",
    "\n",
    "# compute the transpose of matrix A\n",
    "print(\"A^T = \", ...)"
   ]
  },
  {
   "cell_type": "code",
   "execution_count": null,
   "metadata": {
    "editable": true,
    "slideshow": {
     "slide_type": ""
    },
    "tags": [
     "solution"
    ]
   },
   "outputs": [],
   "source": [
    "# SOLUTION\n",
    "\n",
    "# define the matrix A and the vectors v and w\n",
    "A = np.array([[1, 2, 1], [3, 0, 1], [0, 2, 4]])\n",
    "v = np.array([1, 2, 4]).T\n",
    "w = np.array([2, 4, 6]).T\n",
    "\n",
    "# compute the product of matrix A and vector v\n",
    "print(\"Av = \", A @ v)\n",
    "\n",
    "# compute the product of the transpose of vector w and matrix A\n",
    "print(\"w^T A = \", w.T @ A)\n",
    "\n",
    "# compute the dot product of vectors v and w\n",
    "print(\"< v , w > = \", v.T @ w)\n",
    "\n",
    "# compute the transpose of matrix A\n",
    "print(\"A^T = \", A.T)"
   ]
  },
  {
   "cell_type": "markdown",
   "metadata": {},
   "source": [
    "### Exercise: change of basis in $\\mathbb{R}^N$\n",
    "\n",
    "**Short linear algebra review:** A vector space has an infinite number of possible bases and we can move from the representation in one base to another via a change of basis matrix. \n",
    "\n",
    "Assume $\\{\\mathbf{v}_k\\}$, $k = 0, 1, \\ldots, N-1$ is a basis for $\\mathbb{R}^N$, the space of length-$N$ tuples of real numbers. Any vector $\\mathbf{x} \\in \\mathbb{R}^N$ can be expressed as a linear combination\n",
    "\n",
    "$$\n",
    "  \\mathbf{x} = \\sum_{n=0}^{N-1} \\alpha_n \\mathbf{v}_n\n",
    "$$\n",
    "\n",
    "where the set of coefficients $\\alpha_n$ is unique. In compact form we can write\n",
    "\n",
    "$$\n",
    "  \\mathbf{x} = \\mathbf{V}\\begin{bmatrix} \\alpha_0 \\\\ \\vdots \\\\ \\alpha_{N-1} \\end{bmatrix}\n",
    "$$\n",
    "\n",
    "where $\\mathbf{V}$ is an $N \\times N$ matrix whsoe _columns_ are the $N$ basis vectors. \n",
    "\n",
    "Consider now another basis $\\{\\mathbf{w}_k\\}$ and call $\\mathbf{W}$ the matrix whose columns are the vectors $\\{\\mathbf{w}_k\\}$; to express $\\mathbf{x}$ in terms of this new basis we need to find a set of $N$ coefficients $\\beta_n$ so that\n",
    "\n",
    "$$\n",
    "  \\mathbf{x} = \\mathbf{W}\\begin{bmatrix} \\beta_0 \\\\ \\vdots \\\\ \\beta_{N-1} \\end{bmatrix}\n",
    "$$\n",
    "\n",
    "From this we have\n",
    "\n",
    "$$\n",
    "  \\begin{bmatrix} \\beta_0 \\\\ \\vdots \\\\ \\beta_{N-1} \\end{bmatrix} = \\mathbf{W}^{-1}\\mathbf{x} = \\mathbf{W}^{-1}\\mathbf{V}\\begin{bmatrix} \\alpha_0 \\\\ \\vdots \\\\ \\alpha_{N-1} \\end{bmatrix} = \\mathbf{C}\\begin{bmatrix} \\alpha_0 \\\\ \\vdots \\\\ \\alpha_{N-1} \\end{bmatrix}\n",
    "$$\n",
    "\n",
    "The $N\\times N$ matrix $\\mathbf{C} = \\mathbf{W}^{-1}\\mathbf{V}$ is called the \"change of basis\" matrix. "
   ]
  },
  {
   "cell_type": "markdown",
   "metadata": {},
   "source": [
    "**The exercise:** The following function generates a random basis for $\\mathbb{R}^N$ and returns the basis vectors (whose elements are integer-valued) as the columns of an $N \\times N$ matrix (for more details, if you're curious, see [here](https://en.wikipedia.org/wiki/Diagonally_dominant_matrix))."
   ]
  },
  {
   "cell_type": "code",
   "execution_count": null,
   "metadata": {},
   "outputs": [],
   "source": [
    "def random_basis(N):\n",
    "    V = (-5 + 10 * np.random.rand(N, N)).astype(int)\n",
    "    mx = np.sum(np.abs(V), axis=1)\n",
    "    np.fill_diagonal(V, mx)\n",
    "    return V"
   ]
  },
  {
   "cell_type": "markdown",
   "metadata": {},
   "source": [
    "Write a function that takes two basis matrices as inputs and returns the change-of-basis matrix from the first basis to the second. "
   ]
  },
  {
   "cell_type": "code",
   "execution_count": null,
   "metadata": {},
   "outputs": [],
   "source": [
    "def cob(V, W):\n",
    "    \"\"\"Computes the change of basis matrix from basis V to basis W.\"\"\"\n",
    "    # your code here\n",
    "    pass"
   ]
  },
  {
   "cell_type": "code",
   "execution_count": null,
   "metadata": {
    "editable": true,
    "slideshow": {
     "slide_type": ""
    },
    "tags": [
     "solution"
    ]
   },
   "outputs": [],
   "source": [
    "# SOLUTION\n",
    "\n",
    "def cob(V, W):\n",
    "    \"\"\"Computes the change of basis matrix from basis V to basis W.\"\"\"\n",
    "    return np.linalg.inv(W) @ V"
   ]
  },
  {
   "cell_type": "markdown",
   "metadata": {},
   "source": [
    "Let's test it a few times:"
   ]
  },
  {
   "cell_type": "code",
   "execution_count": null,
   "metadata": {},
   "outputs": [],
   "source": [
    "for n in range(0, 100):\n",
    "    V = random_basis(5)    \n",
    "    W = random_basis(5)\n",
    "    C = cob(V, W)\n",
    "    if not np.allclose(np.linalg.det(V)/np.linalg.det(W), np.linalg.det(C)):\n",
    "        print(\"oups, numerical precision issues?\")"
   ]
  },
  {
   "attachments": {},
   "cell_type": "markdown",
   "metadata": {},
   "source": [
    "# Application example: robust data encoding\n",
    "\n",
    "Consider the problem of an unreliable communication channel that is affected by \"drop-outs\", that is, the connectivity between transmitter and receiver breaks down before all the data has been received. If a finite-length, discrete-time signal is sent over such a channel one sample at a time, a drop-out will result in a complete loss of information for the tail end of the signal. \n",
    "\n",
    "An more robust approach in these cases is to convert the signal into a format that allows for a _progressive decoding_, that is, a format in which every data sample successfully refines the _entire_ signal reconstruction. With this, if the tail end of the data is lost, the received information will be enough to reconstruct a global approximation of the original signal.\n",
    "\n",
    "A length-$N$ discrete-time signal is equivalent to a vector $\\mathbf{x} \\in \\mathbb{R}^N$ and, when we consider the individual sample values over time, these are in fact the coefficients of the vector's decomposition over the canonical basis for $\\mathbb{R}^N$. The canonical basis vectors are called \"maximally sparse\" because in each vector only one element is nonzero; as a consequence the information they carry is completely localized in the position of the nonzero element.\n",
    "\n",
    "To gain robustness with respect to data loss, we should instead use a basis in which the information carried by every basis vector is spread over all elements of the original signal. Additionally, we would like the basis to decompose a signal in a hyerarchical way, that is, in a way where most of the information is contained in as few basis decomposition coefficients as possible. In this section we will explore one such basis, called the Haar basis."
   ]
  },
  {
   "cell_type": "markdown",
   "metadata": {},
   "source": [
    "## The Haar basis\n",
    "\n",
    "When looking for a good basis, what we usually want is the following:\n",
    "\n",
    " * we want the basis to be orthonormal (or at least orthogonal) so that basis decomposition is obtained simply via a series of inner products;\n",
    " * we want the basis to be able to represent the signal information robustly so that a few basis vectors can capture most of the information contained in the signal. This will ensure resilence against data loss;\n",
    " * we want the basis to be easy to compute.\n",
    "\n",
    "One such basis is the **Haar basis**, whose properties and mathematical details are described in detail [here](https://chengtsolin.wordpress.com/2015/04/15/real-time-2d-discrete-wavelet-transform-using-opengl-compute-shader/) for the more interested readers. In a nutshell, the Haar basis provides a *hierarchical* encoding of the information contained in a data vector: \n",
    " * the coefficient for the first basis vector encodes the average value of the data\n",
    " * the coefficient for the second basis vector encodes the difference between the averages of the first half and the second half of the data\n",
    " * every subsequent coefficient encodes a difference between the averages of alternating sets of data points\n",
    " \n",
    "With this encoding, the original data vector can be built incrementally with every additional Haar coefficient, which allows for a partial reconstruction even if some coefficients are not available.\n"
   ]
  },
  {
   "cell_type": "markdown",
   "metadata": {},
   "source": [
    "### Computing the Haar basis\n",
    "\n",
    "To keep things simple, we will limit ourselves to real-valued signals whose length is a power of two. The following function computes the Haar basis for $\\mathbb{R}^{2^M}$; it returns a matrix whose columns contain the $2^M$ basis vectors."
   ]
  },
  {
   "cell_type": "code",
   "execution_count": null,
   "metadata": {},
   "outputs": [],
   "source": [
    "def haar_basis(M):\n",
    "    \"\"\"Add args to make clearer for ec=xercisr \"\"\"\n",
    "    N = 2 ** M\n",
    "\n",
    "    z = np.resize(1.*np.arange(N)/N, (len(1.*np.arange(N)), len(1.*np.arange(N)/N)))\n",
    "    k = np.transpose(np.resize(1.*np.arange(N), (len(1.*np.arange(N)/N), len(1.*np.arange(N)))))\n",
    "    \n",
    "    p  = np.floor(np.log(np.maximum(1,k))/np.log(2))\n",
    "    q  = k - (2**p) + 1\n",
    "    z1 = (q-1)/(2**p)\n",
    "    z2 = (q-0.5)/(2**p)\n",
    "    z3 = q/(2**p)\n",
    "    A  = (1/np.sqrt(N)) * ((( 2**(p/2.)) * ((z >= z1) & (z < z2))) + ((-2**(p/2.)) * ((z >= z2) & (z < z3))))\n",
    "    A[0,:] = 1/np.sqrt(N)\n",
    "    return A.T"
   ]
  },
  {
   "cell_type": "markdown",
   "metadata": {},
   "source": [
    "Let's look at the basis vectors for a space of size $2^3 = 8$:"
   ]
  },
  {
   "cell_type": "code",
   "execution_count": null,
   "metadata": {},
   "outputs": [],
   "source": [
    "def show_haar(M: int):\n",
    "    H = haar_basis(M)\n",
    "    \n",
    "    r = 2 ** (M - 2)\n",
    "    plt.figure(figsize=(10,5))\n",
    "    for n in range(0, 2 ** M):\n",
    "        plt.subplot(r, 4, n + 1)\n",
    "        plt.stem(H[:,n])\n",
    "    plt.tight_layout(pad=2)"
   ]
  },
  {
   "cell_type": "code",
   "execution_count": null,
   "metadata": {},
   "outputs": [],
   "source": [
    "show_haar(3)"
   ]
  },
  {
   "cell_type": "markdown",
   "metadata": {},
   "source": [
    "### Exercise: check for orthogonality\n",
    "\n",
    "Verify that the Haar basis is indeed an orthonormal basis"
   ]
  },
  {
   "cell_type": "code",
   "execution_count": null,
   "metadata": {
    "editable": true,
    "slideshow": {
     "slide_type": ""
    },
    "tags": []
   },
   "outputs": [],
   "source": [
    "H = haar_basis(3)\n",
    "# your code here\n"
   ]
  },
  {
   "cell_type": "code",
   "execution_count": null,
   "metadata": {
    "editable": true,
    "slideshow": {
     "slide_type": ""
    },
    "tags": []
   },
   "outputs": [],
   "source": [
    "# SOLUTION\n",
    "H = haar_basis(3)\n",
    "# since the Haar basis is real, we simply need to transpose without conjugation\n",
    "print(np.allclose(H @ H.T, np.eye(len(H))))\n",
    "print(np.allclose(H.T @ H, np.eye(len(H))))"
   ]
  },
  {
   "cell_type": "markdown",
   "metadata": {},
   "source": [
    "## Decomposing and reconstructing a signal in the Haar Basis"
   ]
  },
  {
   "cell_type": "markdown",
   "metadata": {},
   "source": [
    "Using simple testsignals, we want to compute their Haar basis decomposition and verify that the process is invertible by recovering the original data."
   ]
  },
  {
   "cell_type": "code",
   "execution_count": null,
   "metadata": {},
   "outputs": [],
   "source": [
    "# Let's define some test signals of length 64\n",
    "M = 6\n",
    "N = 2 ** M\n",
    "\n",
    "test_signal = [np.zeros(N), np.zeros(N)]\n",
    "# first test signal is a box sequence\n",
    "test_signal[0][(N//4):(N//4 + N//2)] = 1\n",
    "\n",
    "# second one a sinusoid that completes 2 periods over the length of the signal\n",
    "test_signal[1] = np.sin(4 * np.pi * np.arange(0, N) / N)\n",
    "\n",
    "for n, sig in enumerate(test_signal):\n",
    "    plt.subplot(1, 2, n+1)\n",
    "    plt.plot(test_signal[n])"
   ]
  },
  {
   "cell_type": "markdown",
   "metadata": {},
   "source": [
    "### Signal decomposition\n",
    "\n",
    "The following function computes the Haar decomposition coefficients; it's an easy task because the basis is orthonormal."
   ]
  },
  {
   "cell_type": "code",
   "execution_count": null,
   "metadata": {},
   "outputs": [],
   "source": [
    "def haar_decomposition(x : np.ndarray) -> np.ndarray:\n",
    "    # make sure the length of the input vector is a power of two\n",
    "    N = len(x)\n",
    "    M = int(np.log(N) / np.log(2))\n",
    "    assert 2 ** M == N, 'input length must be a power of two'\n",
    "    return haar_basis(M).T @ x"
   ]
  },
  {
   "cell_type": "markdown",
   "metadata": {},
   "source": [
    "### Exercise: reconstruction\n",
    "\n",
    "Write a function to reconstruct a signal from its Haar coefficients."
   ]
  },
  {
   "cell_type": "code",
   "execution_count": null,
   "metadata": {},
   "outputs": [],
   "source": [
    "def haar_reconstruction(w : np.ndarray) -> np.ndarray:\n",
    "    pass"
   ]
  },
  {
   "cell_type": "code",
   "execution_count": null,
   "metadata": {
    "editable": true,
    "slideshow": {
     "slide_type": ""
    },
    "tags": [
     "solution"
    ]
   },
   "outputs": [],
   "source": [
    "# SOLUTION\n",
    "\n",
    "def haar_reconstruction(w : np.ndarray) -> np.ndarray:\n",
    "    N = len(w)\n",
    "    M = int(np.log(N) / np.log(2))\n",
    "    assert 2 ** M == N, 'input length must be a power of two'\n",
    "    return haar_basis(M) @ w"
   ]
  },
  {
   "cell_type": "markdown",
   "metadata": {},
   "source": [
    "Let's check it out on the test signals we defined earlier:"
   ]
  },
  {
   "cell_type": "code",
   "execution_count": null,
   "metadata": {},
   "outputs": [],
   "source": [
    "plt.figure(figsize=(10, 5))\n",
    "for n, sig in enumerate(test_signal):\n",
    "    hc = haar_decomposition(sig)\n",
    "    plt.subplot(2, 2, 2*n+1)\n",
    "    plt.plot(hc)    \n",
    "    plt.subplot(2, 2, 2*n+2)\n",
    "    plt.plot(haar_reconstruction(hc))\n",
    "plt.tight_layout()"
   ]
  },
  {
   "cell_type": "markdown",
   "metadata": {},
   "source": [
    "## Robustness of the Haar representation\n",
    "\n",
    "As you should have noticed from the previous example, decomposing the test signals onto the Haar basis results in a set of values where many of the coefficients are small. If we end up \"losing\" some of the coefficients that are small in magnitude, the impact on the reconstruction will be more tolerable in terms of overall error. \n",
    "\n",
    "Let's verify this assumption by recontructing the test signals from only the first $k$ **largest** Haar coefficients:"
   ]
  },
  {
   "cell_type": "code",
   "execution_count": null,
   "metadata": {},
   "outputs": [],
   "source": [
    "def compress(x, k):\n",
    "    hc = haar_decomposition(x)\n",
    "    idx = np.argsort(np.abs(hc))[::-1][:k]\n",
    "    coeff_subset = np.zeros(len(x))\n",
    "    coeff_subset[idx[:k]] = hc[idx[:k]]\n",
    "    return haar_reconstruction(coeff_subset)"
   ]
  },
  {
   "cell_type": "markdown",
   "metadata": {},
   "source": [
    "For the box function, only a few coefficients are enough:\n"
   ]
  },
  {
   "cell_type": "code",
   "execution_count": null,
   "metadata": {},
   "outputs": [],
   "source": [
    "P = 4\n",
    "for p in range(1, P+1):\n",
    "    plt.subplot(P // 4, 4, p)\n",
    "    plt.plot(compress(test_signal[0], p))\n",
    "    plt.title(f'{p} largest coeff')\n",
    "plt.tight_layout()"
   ]
  },
  {
   "cell_type": "markdown",
   "metadata": {},
   "source": [
    "For the sinusoidal signal we need more coefficients:"
   ]
  },
  {
   "cell_type": "code",
   "execution_count": null,
   "metadata": {
    "editable": true,
    "slideshow": {
     "slide_type": ""
    },
    "tags": []
   },
   "outputs": [],
   "source": [
    "P = 12\n",
    "for p in range(1, P+1):\n",
    "    plt.subplot(P // 4, 4, p)\n",
    "    k = 1 if p == 1 else (p - 1) * 5\n",
    "    plt.plot(compress(test_signal[1], k))\n",
    "    plt.title(f'{k} coeff')\n",
    "plt.tight_layout()"
   ]
  }
 ],
 "metadata": {
  "kernelspec": {
   "display_name": "Python 3 (ipykernel)",
   "language": "python",
   "name": "python3"
  },
  "language_info": {
   "codemirror_mode": {
    "name": "ipython",
    "version": 3
   },
   "file_extension": ".py",
   "mimetype": "text/x-python",
   "name": "python",
   "nbconvert_exporter": "python",
   "pygments_lexer": "ipython3",
   "version": "3.12.3"
  }
 },
 "nbformat": 4,
 "nbformat_minor": 4
}
