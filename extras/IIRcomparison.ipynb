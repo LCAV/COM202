{
 "cells": [
  {
   "cell_type": "code",
   "execution_count": null,
   "id": "9924a090-6b4f-4360-9aa9-802763b319a4",
   "metadata": {},
   "outputs": [],
   "source": [
    "%matplotlib inline\n",
    "import matplotlib as mpl\n",
    "import matplotlib.pyplot as plt\n",
    "import numpy as np\n",
    "import scipy.signal as sp"
   ]
  },
  {
   "cell_type": "code",
   "execution_count": null,
   "id": "6b3999fc-b87a-4df2-a7ab-56d8c21ede43",
   "metadata": {},
   "outputs": [],
   "source": [
    "plt.rcParams[\"figure.figsize\"] = (14,4)"
   ]
  },
  {
   "cell_type": "code",
   "execution_count": null,
   "id": "18d3f9d1-7e3a-4149-98b7-d0fa2a3eb3f8",
   "metadata": {},
   "outputs": [],
   "source": [
    "def compare_responses(tfs, labels, cutoff=None, whole=False, dB=False, points=2001, axis=None):\n",
    "    EPS = 1e-20\n",
    "    \n",
    "    ax_mg = plt.subplots()[1] if axis is None else axis\n",
    "    ax_mg.set_ylabel('dB' if dB else 'magnitude', color='C0')\n",
    "    ax_mg.grid()    \n",
    "    #'#1f77b4', '#ff7f0e', '#2ca02c', '#d62728', '#9467bd', '#8c564b', '#e377c2', '#7f7f7f', '#bcbd22', '#17becf'\n",
    "    ax_mg.set_prop_cycle('color', ['#1f77b4', '#9467bd', '#7f7f7f', '#17becf']) #plt.cm.viridis(np.linspace(0, .8, len(tfs))))\n",
    "    ax_ph = ax_mg.twinx()\n",
    "    ax_ph.set_prop_cycle('color', ['#2ca02c', '#bcbd22', '#17becf']) #plt.cm.summer(np.linspace(0, .5, len(tfs))))\n",
    "    ax_ph.set_ylabel('phase', color='C2')\n",
    "    ax_ph.set_yticks(np.pi * np.array([-1, -0.5, 0, 0.5, 1]))\n",
    "    ax_ph.set_yticklabels(['$-\\pi$', '$-\\pi/2$', 0, '$\\pi/2$', '$\\pi$'], color='C2')\n",
    "    plt.xticks(np.pi * np.array([-1, -0.5, 0, 0.5, 1]), ['$-\\pi$', '$-\\pi/2$', 0, '$\\pi/2$', '$\\pi$'])\n",
    "    \n",
    "    w = np.linspace(-np.pi, np.pi, points)\n",
    "    for ix, tf in enumerate(tfs):    \n",
    "        w, H = sp.freqz(*tf, worN=w)\n",
    "        M = 20 * np.log10(np.abs(np.where(H == 0, EPS, H))) if dB else np.abs(H)\n",
    "        ax_mg.plot(w, M, lw=2, label=labels[ix])\n",
    "        ax_ph.plot(w, np.angle(H), alpha=.5, label=labels[ix])\n",
    "    \n",
    "    if cutoff is not None:\n",
    "        ax_mg.axhline(y=-3 if dB else np.sqrt(0.5), linewidth=0.5, color='r')    \n",
    "        ax_mg.axvline(x=cutoff, linewidth=0.5, color='r');\n",
    "    ax_mg.legend(loc='upper left')\n",
    "    ax_ph.legend(loc='upper right')\n",
    "    ax_mg.axis('tight')\n",
    "    if dB:\n",
    "        fs = float(dB)\n",
    "        fs = fs if fs < 0 else -100\n",
    "        ax_mg.set_ylim([max(fs, min(M)), None])    \n",
    "    if not whole:\n",
    "        plt.xlim(0, np.pi)"
   ]
  },
  {
   "cell_type": "markdown",
   "id": "a801ded4-016b-46b9-81a2-e9ad0fdd7465",
   "metadata": {},
   "source": [
    "We are going to compare lowpass filters with the same order and same cutoff frequency. To fulfill the design requirement each filter's magnitude response must have 6 dB attenuation at the cutoff frequency (i.e. $H(e^{j\\omega_c}) = 1/\\sqrt{2}$).\n",
    "\n",
    "In each example the design parameters are tuned to match the remaining characteristics."
   ]
  },
  {
   "cell_type": "markdown",
   "id": "4739ab7b-7f9c-40f4-b637-bd6f60323c95",
   "metadata": {},
   "source": [
    "### Phase\n",
    "If we match the stopband attenuations, the phase response of Butterworth filters is the closest to a linear phase response (Chebyshev and elliptic are very similar)"
   ]
  },
  {
   "cell_type": "code",
   "execution_count": null,
   "id": "d4978b83-476f-4fda-b1cc-c28b28522f01",
   "metadata": {},
   "outputs": [],
   "source": [
    "N = 4\n",
    "cutoff = 0.25\n",
    "\n",
    "compare_responses([\n",
    "    sp.butter(N, cutoff), \n",
    "    sp.cheby1(N, 3, cutoff), \n",
    "    sp.ellip(N, 3, 60, cutoff)\n",
    "], ['butterworth', 'chebyshev', 'elliptic'], cutoff=np.pi*cutoff, dB=-60)"
   ]
  },
  {
   "cell_type": "markdown",
   "id": "071c31f0-ea4a-4da2-839b-40d328eaa300",
   "metadata": {},
   "source": [
    "### Ripples in passband\n",
    "\n",
    "If we match the stopband attenuations, the ripples in passband are larger for an elliptic filter"
   ]
  },
  {
   "cell_type": "code",
   "execution_count": null,
   "id": "b981dbd5-f797-447c-ac7f-77442cc72d72",
   "metadata": {},
   "outputs": [],
   "source": [
    "# plotting in linear scale to better see the ripples\n",
    "\n",
    "compare_responses([\n",
    "    sp.butter(N, cutoff), \n",
    "    sp.cheby1(N, 2.5, cutoff), \n",
    "    sp.ellip(N, 2, 40, cutoff)\n",
    "], ['butterworth', 'chebyshev', 'elliptic'], cutoff=np.pi*cutoff)"
   ]
  },
  {
   "cell_type": "markdown",
   "id": "4190a5a2-ad3d-4cf3-8333-73b67c06aef7",
   "metadata": {},
   "source": [
    "### Stopband attenuation\n",
    "\n",
    "The stopband attenuation for a Butterworth is dependent only the order $N$. For Chebyshev and elliptic with the same equiripple error in passband, we can obtain more attenuation with an elliptic"
   ]
  },
  {
   "cell_type": "code",
   "execution_count": null,
   "id": "5e073e7b-b8fb-4f2d-9e60-449196613b7f",
   "metadata": {},
   "outputs": [],
   "source": [
    "compare_responses([\n",
    "    sp.butter(N, cutoff), \n",
    "    sp.cheby1(N, 2.5, cutoff), \n",
    "    sp.ellip(N, 2.5, 80, cutoff)\n",
    "], ['butterworth', 'chebyshev', 'elliptic'], cutoff=np.pi*cutoff, dB=-100)"
   ]
  },
  {
   "cell_type": "code",
   "execution_count": null,
   "id": "e0aade62-a8e8-461d-8b08-562a7d95f252",
   "metadata": {},
   "outputs": [],
   "source": []
  }
 ],
 "metadata": {
  "kernelspec": {
   "display_name": "Python 3",
   "language": "python",
   "name": "python3"
  },
  "language_info": {
   "codemirror_mode": {
    "name": "ipython",
    "version": 3
   },
   "file_extension": ".py",
   "mimetype": "text/x-python",
   "name": "python",
   "nbconvert_exporter": "python",
   "pygments_lexer": "ipython3",
   "version": "3.8.8"
  }
 },
 "nbformat": 4,
 "nbformat_minor": 5
}
