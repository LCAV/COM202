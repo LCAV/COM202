{
 "cells": [
  {
   "cell_type": "code",
   "execution_count": null,
   "id": "9c4ffc71-08f6-4576-9b3e-9910d1179b0a",
   "metadata": {},
   "outputs": [],
   "source": [
    "%matplotlib widget\n",
    "import matplotlib.pyplot as plt\n",
    "from mpl_toolkits import mplot3d\n",
    "import numpy as np"
   ]
  },
  {
   "cell_type": "markdown",
   "id": "990c3ade-208a-4ac1-8269-4b69db17abb1",
   "metadata": {},
   "source": [
    "The following function produces an interactive 3D plot showing the magnitude of a rational transfer function of the form \n",
    "\n",
    "\n"
   ]
  },
  {
   "cell_type": "code",
   "execution_count": null,
   "id": "ca141865-3f20-4758-aeb1-2c1b866571b1",
   "metadata": {},
   "outputs": [],
   "source": [
    "def zmag(b, a, z_lim=2, H_lim=10, P=30):\n",
    "    # b, a: transfer function coefficients\n",
    "    # z_lim: max value of |Re(z)|, |Im(z)| for the plot\n",
    "    # H_lim: max value for |H(z)|\n",
    "    # P: number of points for real and imag axes\n",
    "    \n",
    "    def H_mag(b, a, z):\n",
    "        # compute magnitude of transfer function H(z) = (\\sum b_k z^{-k})/(\\sum a_k z^{-k})\n",
    "        #  over the given set of values for z\n",
    "        B, A = b[0] * np.ones_like(z), a[0] * np.ones_like(z)\n",
    "        iz = 1 / z\n",
    "        for k in range(1, max(len(a), len(b))):\n",
    "            B += (b[k] * iz) if k < len(b) else 0\n",
    "            A += (a[k] * iz) if k < len(a) else 0\n",
    "            iz = iz / z \n",
    "        return np.abs(B / A)\n",
    "       \n",
    "    # compute the magnitude over a grid    \n",
    "    H = np.zeros((P, P))\n",
    "    t = np.linspace(-z_lim, z_lim, P)\n",
    "    for ix, z_r in enumerate(t):\n",
    "        H[:,ix] = H_mag(b, a, z_r + 1j * t)        \n",
    "    H[H > H_lim] = H_lim\n",
    "    \n",
    "    # compute the magnitude over the unit circle\n",
    "    uc = np.exp(-1j * np.linspace(-np.pi, np.pi, 200))\n",
    "    F = H_mag(b, a, uc)\n",
    "    \n",
    "    fig = plt.figure()\n",
    "    ax = plt.axes(projection='3d')\n",
    "    ax.set_xlabel('Re(z)')\n",
    "    ax.set_ylabel('Im(z)')\n",
    "    ax.set_zlabel('|H(z)|');\n",
    "\n",
    "    ax.plot_wireframe(*np.meshgrid(t, t), H)\n",
    "    ax.plot3D(np.real(uc), np.imag(uc), F, c='red', lw=3)"
   ]
  },
  {
   "cell_type": "code",
   "execution_count": null,
   "id": "f0f0dfb9-ecc3-411f-8c1a-ff363801b1aa",
   "metadata": {},
   "outputs": [],
   "source": [
    "zmag([1, -0.5, -1.5], [1, -0.4, 0.4])"
   ]
  }
 ],
 "metadata": {
  "kernelspec": {
   "display_name": "Python 3",
   "language": "python",
   "name": "python3"
  },
  "language_info": {
   "codemirror_mode": {
    "name": "ipython",
    "version": 3
   },
   "file_extension": ".py",
   "mimetype": "text/x-python",
   "name": "python",
   "nbconvert_exporter": "python",
   "pygments_lexer": "ipython3",
   "version": "3.8.8"
  }
 },
 "nbformat": 4,
 "nbformat_minor": 5
}
