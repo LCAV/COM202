{
 "cells": [
  {
   "cell_type": "markdown",
   "metadata": {},
   "source": [
    "# AFSK Data Transmission\n",
    "\n",
    "In this notebook we will implement a fully-functional Binary Frequency Shift Keying data transmission system working in the audio band (hence the \"A\" in AFSK). From Wikipedia:\n",
    "\n",
    "> Frequency-shift keying (FSK) is a frequency modulation scheme in which digital information is transmitted through discrete frequency changes of a carrier signal. [...] The simplest FSK is binary FSK (BFSK) [where] a pair of discrete frequencies transmit binary (0s and 1s) information. With this scheme, the 1 is called the mark frequency and the 0 is called the space frequency. \n",
    "\n",
    "In our implementation the two frequencies are in the audible range and therefore this transmission scheme can be used to send information from a loudspeaker to a microphone if desired. "
   ]
  },
  {
   "cell_type": "code",
   "execution_count": null,
   "metadata": {},
   "outputs": [],
   "source": [
    "import numpy as np\n",
    "import scipy.signal as sp\n",
    "import matplotlib.pyplot as plt\n",
    "%matplotlib inline\n",
    "\n",
    "import IPython"
   ]
  },
  {
   "cell_type": "code",
   "execution_count": null,
   "metadata": {},
   "outputs": [],
   "source": [
    "plt.rcParams[\"figure.figsize\"] = (14,4)"
   ]
  },
  {
   "cell_type": "markdown",
   "metadata": {},
   "source": [
    "## Some utility functions"
   ]
  },
  {
   "cell_type": "code",
   "execution_count": null,
   "metadata": {},
   "outputs": [],
   "source": [
    "def save_audio(audio, filename):\n",
    "    from scipy.io import wavfile\n",
    "    resc = np.array(32600 * audio, dtype=np.int16)\n",
    "    wavfile.write(filename, 32000, resc)"
   ]
  },
  {
   "cell_type": "code",
   "execution_count": null,
   "metadata": {},
   "outputs": [],
   "source": [
    "def plot_mag_spec(data, Fs=2*np.pi, pts=None, maxf=None, minf=None, one_sided=True):\n",
    "    pts = len(data) if pts is None else pts\n",
    "    w = Fs * (np.arange(0, pts) / pts - 0.5)\n",
    "    X = np.abs(np.fft.fftshift(np.fft.fft(data, pts)))\n",
    "    \n",
    "    maxf = Fs / 2 if maxf is None else maxf\n",
    "    minf = -Fs / 2 if minf is None else minf\n",
    "    if one_sided and minf < 0:\n",
    "        minf = 0\n",
    "    start = max(0, int(pts * (Fs / 2 + minf) / Fs))\n",
    "    stop = min(pts, int(pts * (Fs / 2 + maxf) / Fs))\n",
    "    \n",
    "    #fig = plt.figure(figsize=(14,4))\n",
    "    #fig.add_subplot(111).plot(w[start:stop], X[start:stop]);    \n",
    "    plt.plot(w[start:stop], X[start:stop]);"
   ]
  },
  {
   "cell_type": "markdown",
   "metadata": {},
   "source": [
    "## Transmission protocol"
   ]
  },
  {
   "cell_type": "markdown",
   "metadata": {},
   "source": [
    "### Data transmission\n",
    "\n",
    "During data transmission, every zero in the input bitstram will result in a signal segment containing a sinusoid at the so-called \"space\" frequency while ones will be encoded by a segment containing a sinusoid at the so-called \"mark\" frequency. These \"segments\" are called **symbol intervals** and they are of equal length.\n",
    "\n",
    "In order to minimize the effective bandwidth of the transmitted signal, the transition between segments at different frequencies is performed by preserving the phase of the signal and jump discontinuities are thus avoided. An example is as follows:"
   ]
  },
  {
   "cell_type": "code",
   "execution_count": null,
   "metadata": {},
   "outputs": [],
   "source": [
    "N = 500\n",
    "x = np.zeros(N)\n",
    "phase = 0\n",
    "for n in range(0, N):\n",
    "    x[n] = np.sin(phase)\n",
    "    phase = phase + 2 * np.pi / (20 if n & 0x80 else 40)\n",
    "plt.plot(x);"
   ]
  },
  {
   "cell_type": "code",
   "execution_count": null,
   "metadata": {},
   "outputs": [],
   "source": []
  },
  {
   "cell_type": "markdown",
   "metadata": {},
   "source": [
    "The duration of each symbol interval is determined by the desired data rate in terms of bits per second (BPS). Obviously, there is an upper limit on the achievable rate, since decoding of the transmitted signal demands that at least a few full cycles of either sinusoidal oscillations are produced for each input bit.\n",
    "\n",
    "Transmission reliability is also dependent on the bit rate, with lower rates providing redundancy and thus more robustness to noise. A detailed analysis of the bit error rate for FSK signaling is beyond the scope of this notebook but many references can be found online."
   ]
  },
  {
   "cell_type": "markdown",
   "metadata": {},
   "source": [
    "### Synchronization\n",
    "\n",
    "One of the major difficulties in the design of a receiver is designing a synchronization mechanism that \"locks\" the receiver to the timing reference of the transmitter. In this simple implementation we won't attempt to design any sophisticated timing recovery system but we will still need to provide the receiver with a reference \"start time\" that can be used to determine the boundaries between successive symbol intervals in the incoming signal into symbol segments as accurately as possible. \n",
    "\n",
    "This is achieved by means of a synchronization preamble; the transmitter will:\n",
    " 1. send a pilot sinusoid at a pre-defined frequency to alert the receiver of an incoming data stream\n",
    " 1. introduce a phase reversal in the pilot at time $t_0$\n",
    " 1. start sending data at time $t_0 + t_d$\n",
    " \n",
    "The value of $t_d$ is known at the receiver and so, if the phase reversal is correctly detected, receiver synchronization can be achieved."
   ]
  },
  {
   "cell_type": "markdown",
   "metadata": {},
   "source": [
    "## The Transmitter\n",
    "\n",
    "The implementation of the transmitter is straightforward:\n"
   ]
  },
  {
   "cell_type": "code",
   "execution_count": null,
   "metadata": {},
   "outputs": [],
   "source": [
    "class AFSK:\n",
    "    # transmission protocol:\n",
    "    #  - at least 500ms of pilot tone\n",
    "    #  - phase reversal at waveform peak\n",
    "    #  - 200ms pilot\n",
    "    #  - 200ms silence\n",
    "    #  - data\n",
    "    # by convention, a zero is SPACE, a 1 is MARK\n",
    "    MARK_FREQ = 1200\n",
    "    SPACE_FREQ = 2200\n",
    "    PILOT_FREQ = 400\n",
    "    BPS = 100     # bits per second\n",
    "    PILOT_HEAD = 0.5 # seconds\n",
    "    PILOT_TAIL = 0.4 # seconds\n",
    "    GAP_LEN = 0.2 # seconds        "
   ]
  },
  {
   "cell_type": "code",
   "execution_count": null,
   "metadata": {},
   "outputs": [],
   "source": [
    "class Transmitter(AFSK):\n",
    "    def __init__(self, Fs=32000):\n",
    "        # sampling frequency\n",
    "        self.Fs = Fs\n",
    "        # samples per symbol\n",
    "        self.spb = int(Fs / self.BPS) \n",
    "        \n",
    "    def transmit(self, text):\n",
    "        # convert string to bitstream\n",
    "        return self.transmit_bits(''.join(format(ord(i), '08b') for i in text))\n",
    "        \n",
    "    def transmit_random(self, num_bits):\n",
    "        bitstream = []\n",
    "        # use a simple feedforward scrambler with H(z) = 1 + z^{-18} + z^{-23} fed with ones\n",
    "        buf, ix = np.zeros(23, dtype=np.uint8), 0\n",
    "        for n in range(0, num_bits):\n",
    "            buf[ix] = 0x01 ^ buf[(ix + 17) % 23] ^ buf[(ix + 22) % 23]\n",
    "            bitstream.append(buf[ix])\n",
    "            ix = (ix + 1) % 23\n",
    "        return self.transmit_bits(''.join(str(i) for i in bitstream))\n",
    "        \n",
    "    def transmit_bits(self, bits, num_times=1):\n",
    "        # prepare output array\n",
    "        pilot_head_len = int(self.Fs * self.PILOT_HEAD)\n",
    "        pilot_tail_len = int(self.Fs * self.PILOT_TAIL)\n",
    "        preamble_len = pilot_head_len + pilot_tail_len + int(self.Fs * self.GAP_LEN)\n",
    "        y = np.zeros(preamble_len + len(bits) * self.spb * num_times + self.spb)\n",
    "        \n",
    "        # send pilot head; pilot head must end with phase 0 or pi\n",
    "        pilot_frequency = 2 * np.pi * self.PILOT_FREQ / self.Fs\n",
    "        y[:pilot_head_len] = np.flipud(np.cos(pilot_frequency * np.arange(0, pilot_head_len)))\n",
    "        y[pilot_head_len:pilot_head_len+pilot_tail_len] = -np.cos(pilot_frequency * np.arange(0, pilot_tail_len))\n",
    "        \n",
    "        \n",
    "        # send data after gap\n",
    "        ix = preamble_len\n",
    "        # SPACE and MARK phase increments\n",
    "        phase_inc = 2 * np.pi * np.array([self.SPACE_FREQ, self.MARK_FREQ]) / self.Fs\n",
    "        phase = 0\n",
    "        for t in range(0, num_times):\n",
    "            for k in range(0, len(bits)):\n",
    "                for n in range(0, self.spb):\n",
    "                    y[ix] = np.cos(phase)\n",
    "                    ix += 1\n",
    "                    phase += phase_inc[int(bits[k])]\n",
    "                    while phase > 2 * np.pi:\n",
    "                        phase -= 2* np.pi\n",
    "        return y  "
   ]
  },
  {
   "cell_type": "markdown",
   "metadata": {},
   "source": [
    "### The audio data stream\n",
    "\n",
    "Because the AFSK trasmitter operates in the audio band, we can listen to the resulting signal; note the phase reversal in the initial pilot tone and the data stream starting after the gap."
   ]
  },
  {
   "cell_type": "code",
   "execution_count": null,
   "metadata": {},
   "outputs": [],
   "source": [
    "Fs = 32000\n",
    "y = Transmitter(Fs).transmit_random(1000)\n",
    "IPython.display.Audio(y, rate=Fs)"
   ]
  },
  {
   "cell_type": "markdown",
   "metadata": {},
   "source": [
    "Here is the shape of the signal; note how the envelope is flat, which makes FSK the preferred transmission system for channels exhibiting nonlinear characteristics."
   ]
  },
  {
   "cell_type": "code",
   "execution_count": null,
   "metadata": {},
   "outputs": [],
   "source": [
    "plt.plot(y);"
   ]
  },
  {
   "cell_type": "markdown",
   "metadata": {},
   "source": [
    "We can zoom in on the phase reversal in the pilot tone: "
   ]
  },
  {
   "cell_type": "code",
   "execution_count": null,
   "metadata": {},
   "outputs": [],
   "source": [
    "plt.plot(y[15600:16400]);"
   ]
  },
  {
   "cell_type": "markdown",
   "metadata": {},
   "source": [
    "and on a portion of the data stream:"
   ]
  },
  {
   "cell_type": "code",
   "execution_count": null,
   "metadata": {},
   "outputs": [],
   "source": [
    "plt.plot(y[101000:103000]);"
   ]
  },
  {
   "cell_type": "markdown",
   "metadata": {},
   "source": [
    "The spectrum of the AFSK signal shows that most of the energy is concentrated around the two carrier frequencies:"
   ]
  },
  {
   "cell_type": "code",
   "execution_count": null,
   "metadata": {},
   "outputs": [],
   "source": [
    "plot_mag_spec(y[50000:], Fs=Fs, maxf=5000)"
   ]
  },
  {
   "cell_type": "markdown",
   "metadata": {},
   "source": [
    "## The Receiver"
   ]
  },
  {
   "cell_type": "markdown",
   "metadata": {},
   "source": [
    "### Basic detection mechanism\n",
    "\n",
    "The simplest demodulation mechanism for BPSK is provided by an _incoherent_ receiver, that is, by a receiver that does not try to lock to the phase of the incoming signal. Instead, we use two narrowband filters centered on the mark and space pilot frequencies; with this\n",
    " * the power at each filter's output is accumulated over time\n",
    " * at the end of each symbol interval the two energy values are compared to decide whether a zero or a one was transmitted\n",
    " * the power accumulators are reset\n",
    "\n",
    "If the main disturbance introduced by the channel is noise, and if the power spectral density of the noise is the same over the two carrier frequencies (which is the case if the noise is additive and white), incoherent detection works quite well.\n",
    "\n",
    "A nonflat channel response, on the other hand, would affect the amplitude of the two carriers differently and would have to be compensated for via an equalizer. We will not address this problem here."
   ]
  },
  {
   "cell_type": "code",
   "execution_count": null,
   "metadata": {},
   "outputs": [],
   "source": [
    "class Filter:\n",
    "    # generic class to implement the transfer function H(z) = B(z)/A(z)\n",
    "    # filter computes also the output power via a leaky integrator\n",
    "    def __init__(self, b, a, leak=0.95):\n",
    "        assert len(a) == len(b), 'must have same number of coefficients in filter -- zero pad if necessary'\n",
    "        self.a = a\n",
    "        self.b = b\n",
    "        self.N = len(a)\n",
    "        self.y = [0] * self.N\n",
    "        self.x = [0] * self.N\n",
    "        self.ix = 0\n",
    "        self.value = 0\n",
    "        self.leak = leak\n",
    "        self.power = 0\n",
    "\n",
    "    def compute(self, x):\n",
    "        self.x[self.ix] = x\n",
    "        self.value = self.b[0] * x\n",
    "        for n in range(1, self.N):\n",
    "            k = (self.ix + self.N - n ) % self.N\n",
    "            self.value += self.b[n] * self.x[k] - self.a[n] * self.y[k]\n",
    "        self.y[self.ix] = self.value\n",
    "        self.ix = (self.ix + 1) % self.N\n",
    "        self.power = self.leak * self.power + (1 - self.leak) * self.value * self.value\n",
    "        return self.value\n",
    "    \n",
    "    \n",
    "class EllipticBandpass(Filter):\n",
    "    def __init__(self, order, center, bw, Fs, ripple=2.5, att=50, leak=0.95):\n",
    "        W = np.array([center - bw/2, center + bw/2]) / (Fs/2)\n",
    "        super().__init__(*sp.ellip(order, ripple, att, W, btype='bandpass'), leak=leak)"
   ]
  },
  {
   "cell_type": "code",
   "execution_count": null,
   "metadata": {},
   "outputs": [],
   "source": []
  },
  {
   "cell_type": "markdown",
   "metadata": {},
   "source": [
    "### Channel impairments\n",
    "\n",
    "As is always the case in communications systems, receiver design is much more complicated than transmitter design since the receiver needs to try and compensate for the impairments in the signal introduced by the channel.\n",
    "\n",
    "In this simple implementation we will address only two problems:\n",
    " * reversing the attenuation introduced by the channel via an Automatic Gain Control (AGC) module\n",
    " * establishing a reliable timing reference"
   ]
  },
  {
   "cell_type": "markdown",
   "metadata": {},
   "source": [
    "#### AGC\n",
    "\n",
    "The following AGC circuit computes a smooth estimate of the current input power via a slow integrator and adapts the gain factor in order for the input signal to have the prescribed target power when scaled by said gain factor."
   ]
  },
  {
   "cell_type": "code",
   "execution_count": null,
   "metadata": {},
   "outputs": [],
   "source": [
    "class AGC:\n",
    "    # automatic gain control cricuit\n",
    "    def __init__(self, target=1, alpha=0.01, lmb=0.995):\n",
    "        self.max_gain = 50\n",
    "        self.target = target\n",
    "        self.alpha = alpha\n",
    "        self.lmb = lmb\n",
    "        self.input_power = 1\n",
    "        self.gain = 1\n",
    "\n",
    "    def set_speed(self, alpha):\n",
    "        self.alpha = alpha\n",
    "\n",
    "    def update(self, x):\n",
    "        self.input_power = self.lmb * self.input_power + (1 - self.lmb) * x * x\n",
    "        self.gain += self.alpha * (self.target - self.input_power)\n",
    "        self.gain = max(0, min(self.gain, self.max_gain))"
   ]
  },
  {
   "cell_type": "markdown",
   "metadata": {},
   "source": [
    "#### Timing reference\n",
    "\n",
    "As we said, the transmitter sends a preamble consisting of a sinusoid in which a timing reference is encoded by an abrupt phase shift of $\\pi$ radians. The location in time of this phase reversal becomes the reference start time for the receiver; we assume that the internal clocks of transmitter and receivers are working at the same frequency and therefore establishing a reference time once is all that's needed for decoding.\n",
    "\n",
    "Initially, the receiver monitors the output power of a bandpass filter centered over the pilot's frequency; when this power exceeds a given threshold, pilot detection is achieved and the receiver looks for a phase reversal. To do so, the input is filtered with  a notch filter centered on the pilot's frequency; the notch \"kills\" the pilot when the latter is stable but any discontinuity in the pilot results in a large negative value for the output."
   ]
  },
  {
   "cell_type": "code",
   "execution_count": null,
   "metadata": {},
   "outputs": [],
   "source": [
    "class Notch:\n",
    "    # simple complex-zero-pair notch filter\n",
    "    def __init__(self, center, Fs):\n",
    "        self.c = -2 * np.cos(2 * np.pi * center / Fs)\n",
    "        self.x1 = 0\n",
    "        self.x2 = 0\n",
    "        self.value = 0\n",
    "        \n",
    "    def compute(self, x):\n",
    "        self.value = x + self.c * self.x1 + self.x2\n",
    "        self.x2 = self.x1\n",
    "        self.x1 = x\n",
    "        return self.value        "
   ]
  },
  {
   "cell_type": "markdown",
   "metadata": {},
   "source": [
    "Here is a simple demonstration of the process (which, in \"real life\", will have to deal with potential false positives)"
   ]
  },
  {
   "cell_type": "code",
   "execution_count": null,
   "metadata": {},
   "outputs": [],
   "source": [
    "pilot_filter = EllipticBandpass(3, AFSK().PILOT_FREQ, 700, Fs, leak=0.995)\n",
    "timing_detector = Notch(AFSK().PILOT_FREQ, Fs)\n",
    "\n",
    "pilot = Transmitter(Fs).transmit_random(0)\n",
    "pp = np.zeros(len(pilot))\n",
    "pr = np.zeros(len(pilot))\n",
    "for n in range(0, len(pilot)):\n",
    "    pilot_filter.compute(pilot[n])\n",
    "    pr[n] = timing_detector.compute(pilot[n])\n",
    "    pp[n] = pilot_filter.power\n",
    "plt.plot(pp[15700:16200], label='pilot power')\n",
    "plt.plot(pr[15700:16200], label='power of notched pilot')\n",
    "plt.legend();"
   ]
  },
  {
   "cell_type": "markdown",
   "metadata": {},
   "source": [
    "### Implementation details\n",
    "\n",
    "The receiver's main loop is structured as a state machine: every input sample is first scaled by the gain computed by the AGC module and fed back to the AGC module for gain updates; then, the sample is dispatched to the appropriate code section according to the internal state:\n",
    "  * ``WAIT_PILOT``: waiting for the appearance of a pilot at the nominal frequency\n",
    "  * ``WAIT_SYNC``: detect potential phase reversals in the pilot until the pilot ends. Upon detection a timer is started with the known delay between phase reversal and beginning of data\n",
    "  * ``WAIT_DATA``: waiting for the countdown to reach zero after the pilot ends\n",
    "  * ``ONLINE``: decoding incoming data stream\n"
   ]
  },
  {
   "cell_type": "code",
   "execution_count": null,
   "metadata": {},
   "outputs": [],
   "source": [
    "class Receiver(AFSK):\n",
    "    # state machine\n",
    "    WAIT_PILOT = 0\n",
    "    WAIT_SYNC = 10\n",
    "    WAIT_DATA = 30\n",
    "    ONLINE = 40\n",
    "    \n",
    "    monitor = {}\n",
    "    m_ix = 0\n",
    "\n",
    "    def __init__(self):\n",
    "        # received operates at fixed rate\n",
    "        self.Fs = 32000\n",
    "        # samples per bit\n",
    "        self.spb = self.Fs / self.BPS\n",
    "\n",
    "        # leaky integrator to compute signal power\n",
    "        self.signal = Filter([1], [1], leak=0.995)\n",
    "        \n",
    "        # Automatic Gain Control\n",
    "        self.agc = AGC(1, 0.005)\n",
    "        self.agc_wait_len = int(self.Fs * 0.3)\n",
    "\n",
    "        # pilot and timing\n",
    "        self.timing_detector = Notch(self.PILOT_FREQ, self.Fs)\n",
    "        self.reference_power = 0\n",
    "        self.timing_reference = [-0.5, 0] # threshold, time\n",
    "\n",
    "        # bandpass filters for PILOT, MARK and SPACE\n",
    "        self.pilot = EllipticBandpass(3, self.PILOT_FREQ, 700, self.Fs, leak=0.995)\n",
    "        self.mark = EllipticBandpass(3, self.MARK_FREQ, 900, self.Fs)\n",
    "        self.space = EllipticBandpass(3, self.SPACE_FREQ, 900, self.Fs)\n",
    "\n",
    "        # collect incoming bits into bytes\n",
    "        self.decision = 0\n",
    "        self.octet = ''\n",
    "\n",
    "        # state machine\n",
    "        self.state = self.WAIT_PILOT\n",
    "        self.timer = self.agc_wait_len # time to wait after detecting a pilot for the AGC to stabilize\n",
    "        self.ix = 0\n",
    "        \n",
    "    def receive(self, audio, plot_internals=False):\n",
    "        self.monitor = {\n",
    "            'signal': np.zeros(len(audio)),\n",
    "            'gain': np.zeros(len(audio)),\n",
    "            'power': np.zeros(len(audio)),\n",
    "            'pilot': np.zeros(len(audio)),\n",
    "            'decision': np.zeros(len(audio)),\n",
    "            'timing': np.zeros(len(audio)),\n",
    "        }\n",
    "        self.m_ix = 0\n",
    "        for x in audio:\n",
    "            self.receive_sample(x)\n",
    "   \n",
    "        if plot_internals:\n",
    "            for key in ['signal', 'power', 'pilot', 'gain']: #\n",
    "                plt.plot(self.monitor[key], label=key)\n",
    "            plt.legend(loc=\"upper center\")\n",
    "        \n",
    "        return self.monitor\n",
    "        \n",
    "    def receive_sample(self, x):\n",
    "        x *= self.agc.gain  # apply gain control and update AGC\n",
    "        self.agc.update(x)        \n",
    "        \n",
    "        self.signal.compute(x)  # compute signal power\n",
    "\n",
    "        if self.state == self.WAIT_PILOT:\n",
    "            self.pilot.compute(x)\n",
    "            if self.pilot.power > 0.25 * self.signal.power:\n",
    "                self.timing_detector.compute(x)\n",
    "                self.timer -= 1\n",
    "                if self.timer <= 0:\n",
    "                    # pilot detected; wait for phase reversal\n",
    "                    self.reference_power = 0.1 * self.pilot.power\n",
    "                    self.timing_reference = [-np.sqrt(self.pilot.power), self.ix]\n",
    "                    # turn off AGC until data arrives\n",
    "                    self.agc.set_speed(0.00)\n",
    "                    self.state = self.WAIT_SYNC\n",
    "                    print(f'pilot detected ({self.ix})')\n",
    "            else:\n",
    "                self.timer = self.agc_wait_len\n",
    "\n",
    "        elif self.state == self.WAIT_SYNC:\n",
    "            self.pilot.compute(x)\n",
    "            pr = self.timing_detector.compute(x) \n",
    "            # detect phase reversal and keep track of location\n",
    "            if pr < self.timing_reference[0]:\n",
    "                self.timing_reference = [pr, self.ix]\n",
    "                print(f'timing reference: {self.timing_reference}')\n",
    "            if self.pilot.power <  self.reference_power:\n",
    "                self.pilot.power = 0\n",
    "                # number of samples before data starts:\n",
    "                self.timer = int((self.PILOT_TAIL + self.GAP_LEN) * self.Fs) - (self.ix - self.timing_reference[1])\n",
    "                self.state = self.WAIT_DATA\n",
    "                print(f'pilot end detected at {self.ix}')\n",
    "                \n",
    "        elif self.state == self.WAIT_DATA:\n",
    "            self.pilot.compute(x)\n",
    "            # start running mark and space narrowband filters\n",
    "            self.mark.compute(x)\n",
    "            self.space.compute(x)\n",
    "            self.timer -= 1\n",
    "            if self.timer <= 0:\n",
    "                # slow down AGC\n",
    "                self.agc.gain *= 0.5\n",
    "                self.agc.set_speed(0.002)\n",
    "                self.decision = 0\n",
    "                self.octet = ''\n",
    "                self.timer = self.spb\n",
    "                self.state = self.ONLINE\n",
    "                print(f'data starts ({self.ix})\\n')\n",
    "\n",
    "        elif self.state == self.ONLINE:\n",
    "            self.mark.compute(x)\n",
    "            self.space.compute(x)\n",
    "            # accumulate power from bandpass filters and decide on bit value at the end of the symbol period\n",
    "            self.decision += abs(self.mark.value)\n",
    "            self.decision -= abs(self.space.value)\n",
    "            self.timer -= 1\n",
    "            if self.timer <= 0:\n",
    "                self.octet += '1' if (self.decision > 0) else '0'\n",
    "                if len(self.octet) == 8:\n",
    "                    print(chr(int(self.octet, 2)), end='', flush=True)\n",
    "                    self.octet = ''\n",
    "                self.decision = 0\n",
    "                self.timer += self.spb\n",
    "                if self.signal.power < self.reference_power:\n",
    "                    self.pilot.power = 0\n",
    "                    self.state = self.WAIT_PILOT\n",
    "                    print(f'\\n\\ndata signal lost, waiting for new pilot tone')\n",
    "\n",
    "        self.ix += 1\n",
    "        \n",
    "        self.monitor['signal'][self.m_ix] = x\n",
    "        self.monitor['gain'][self.m_ix] = self.agc.gain\n",
    "        self.monitor['power'][self.m_ix] = self.signal.power\n",
    "        self.monitor['pilot'][self.m_ix] = self.pilot.power\n",
    "        self.monitor['decision'][self.m_ix] = self.decision\n",
    "        self.monitor['timing'][self.m_ix] = self.timing_detector.value\n",
    "        self.m_ix += 1"
   ]
  },
  {
   "cell_type": "markdown",
   "metadata": {},
   "source": [
    "### Testing back-to-back"
   ]
  },
  {
   "cell_type": "code",
   "execution_count": null,
   "metadata": {},
   "outputs": [],
   "source": [
    "y = Transmitter(Fs).transmit(\"hello, and welcome to this DSP class. I hope you will find signal processing interesting and fun!\")\n",
    "Receiver().receive(y, plot_internals=True);"
   ]
  },
  {
   "cell_type": "markdown",
   "metadata": {},
   "source": [
    "### A more realistic test\n",
    "\n",
    "This decoding test uses an audio file played over a cell phone loudspeaker and recorded with a laptop microphone; you can clearly hear the background noise:"
   ]
  },
  {
   "cell_type": "code",
   "execution_count": null,
   "metadata": {},
   "outputs": [],
   "source": [
    "from scipy.io import wavfile\n",
    "f, audio = wavfile.read('out.wav')\n",
    "audio = audio / max(abs(audio))\n",
    "assert f==32000, 'Receiver works at a sampling rate of 32KHz'\n",
    "IPython.display.Audio(audio, rate=Fs)"
   ]
  },
  {
   "cell_type": "markdown",
   "metadata": {},
   "source": [
    "The loudpseaker, the microphone and the audio circuitry also affects the signal; here you can see how the phase reversal in the pilot becomes \"smeared\" over time:"
   ]
  },
  {
   "cell_type": "code",
   "execution_count": null,
   "metadata": {},
   "outputs": [],
   "source": [
    "plt.plot(audio[18500:19500]);"
   ]
  },
  {
   "cell_type": "markdown",
   "metadata": {},
   "source": [
    "As a consequence, there will be several false positives in the phase reversal detection process. By keeping the result with the largest energy value we are able to achieve synchronization."
   ]
  },
  {
   "cell_type": "code",
   "execution_count": null,
   "metadata": {},
   "outputs": [],
   "source": [
    "m = Receiver().receive(audio, plot_internals=True);"
   ]
  },
  {
   "cell_type": "markdown",
   "metadata": {},
   "source": [
    "In particular, note how much more difficult it is to detect the phase reversal over an acoustic channel:"
   ]
  },
  {
   "cell_type": "code",
   "execution_count": null,
   "metadata": {},
   "outputs": [],
   "source": [
    "plt.plot((m['pilot'][18800:19100]))\n",
    "plt.plot(m['timing'][18800:19100]);"
   ]
  }
 ],
 "metadata": {
  "kernelspec": {
   "display_name": "Python 3 (ipykernel)",
   "language": "python",
   "name": "python3"
  },
  "language_info": {
   "codemirror_mode": {
    "name": "ipython",
    "version": 3
   },
   "file_extension": ".py",
   "mimetype": "text/x-python",
   "name": "python",
   "nbconvert_exporter": "python",
   "pygments_lexer": "ipython3",
   "version": "3.12.3"
  }
 },
 "nbformat": 4,
 "nbformat_minor": 4
}
