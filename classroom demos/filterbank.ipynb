{
 "cells": [
  {
   "cell_type": "markdown",
   "metadata": {},
   "source": [
    "# PQMF - filterbank decomposition"
   ]
  },
  {
   "cell_type": "code",
   "execution_count": null,
   "metadata": {
    "editable": true,
    "slideshow": {
     "slide_type": ""
    },
    "tags": []
   },
   "outputs": [],
   "source": [
    "# Import necessary libraries\n",
    "import numpy as np\n",
    "import scipy.signal as sp\n",
    "import matplotlib.pyplot as plt\n",
    "\n",
    "plt.rcParams[\"figure.figsize\"] = (12,3)"
   ]
  },
  {
   "cell_type": "code",
   "execution_count": null,
   "metadata": {
    "jupyter": {
     "source_hidden": true
    }
   },
   "outputs": [],
   "source": [
    "def mag_DFT(x, points=None):\n",
    "    L = (points or len(x)) // 2\n",
    "    points = 2 * L + 1\n",
    "    w = 2 * np.pi * np.arange(-L, L+1) / points\n",
    "    return w, np.abs(np.fft.fftshift(np.fft.fft(x, points)))"
   ]
  },
  {
   "cell_type": "markdown",
   "metadata": {},
   "source": [
    "The following functions creates the PQMF modulated filterbank; you can skip the details"
   ]
  },
  {
   "cell_type": "code",
   "execution_count": null,
   "metadata": {
    "jupyter": {
     "source_hidden": true
    }
   },
   "outputs": [],
   "source": [
    "def PQMF(K, L):\n",
    "    # K: number of bands\n",
    "    # length of impulse response will be M=2L+1\n",
    "    \n",
    "    M = 2 * L + 1\n",
    "    w = np.kaiser(M, 10)\n",
    "    n = np.arange(-L, L + 1)\n",
    "\n",
    "    fft_length = int(2 ** np.ceil(np.log(M) / np.log(2)))\n",
    "    index = fft_length // (4 * K)\n",
    "    omega = np.pi / (2 * K)\n",
    "        \n",
    "    step_size = 1e-2\n",
    "    decay = 0.5\n",
    "    min_error = np.inf\n",
    "    for _ in range(100):\n",
    "        with np.errstate(invalid=\"ignore\"):\n",
    "            h = np.sin(omega * n) / (np.pi * n)\n",
    "        h[L] = omega / np.pi\n",
    "        prototype_filter = h * w\n",
    "        H = np.fft.rfft(prototype_filter, n=fft_length)\n",
    "        error = np.square(np.abs(H[index])) - 0.5\n",
    "        \n",
    "        abs_error = np.abs(error)\n",
    "        if abs_error < 1e-6:\n",
    "            break  # convergence\n",
    "        if abs_error < min_error:\n",
    "            min_error = abs_error\n",
    "        else:\n",
    "            step_size *= decay\n",
    "            \n",
    "        omega -= np.sign(error) * step_size\n",
    "\n",
    "    filters = []\n",
    "    for k in range(K):\n",
    "        a = ((2 * k + 1) * np.pi / (2 * K)) * n\n",
    "        b = (-1) ** k * (np.pi / 4)\n",
    "        c = 2 * prototype_filter\n",
    "        filters.append(c * np.cos(a + b))\n",
    "\n",
    "    return np.asarray(filters)\n"
   ]
  },
  {
   "cell_type": "markdown",
   "metadata": {},
   "source": [
    "## Four-band filterbank"
   ]
  },
  {
   "cell_type": "code",
   "execution_count": null,
   "metadata": {},
   "outputs": [],
   "source": [
    "BANDS = 4\n",
    "\n",
    "fb = PQMF(BANDS, 127)\n",
    "for h in fb:\n",
    "    plt.plot(*mag_DFT(h, 1024))"
   ]
  },
  {
   "cell_type": "markdown",
   "metadata": {},
   "source": [
    "## Create a test signal with one spectral line per band"
   ]
  },
  {
   "cell_type": "code",
   "execution_count": null,
   "metadata": {},
   "outputs": [],
   "source": [
    "N = 1000\n",
    "x = np.zeros(N)\n",
    "for k in range(BANDS):\n",
    "    x += np.cos(np.pi / BANDS * (k + 0.5) * np.arange(N) + k * np.pi) / (k+1) \n",
    "\n",
    "s = slice(200,300)\n",
    "plt.plot(x[s], 'k');"
   ]
  },
  {
   "cell_type": "code",
   "execution_count": null,
   "metadata": {},
   "outputs": [],
   "source": [
    "for h in fb:\n",
    "    plt.plot(*mag_DFT(h, 1024))\n",
    "plt.plot(*mag_DFT(x / N * 2), 'k');"
   ]
  },
  {
   "cell_type": "markdown",
   "metadata": {},
   "source": [
    "## Subband decomposition"
   ]
  },
  {
   "cell_type": "code",
   "execution_count": null,
   "metadata": {},
   "outputs": [],
   "source": [
    "sbs = np.zeros((BANDS, len(x)))\n",
    "for k in range(BANDS):\n",
    "    sbs[k] = sp.lfilter(fb[k], [1], x)"
   ]
  },
  {
   "cell_type": "markdown",
   "metadata": {},
   "source": [
    "## Subband signals before downsampling\n",
    "\n",
    "Before downsamping, each subband signal contains a single spectral line at the original frequency"
   ]
  },
  {
   "cell_type": "code",
   "execution_count": null,
   "metadata": {},
   "outputs": [],
   "source": [
    "for k in range(BANDS):\n",
    "    plt.subplot(2,2,k+1)\n",
    "    plt.plot(sbs[k][s], f'C{k}')\n",
    "plt.tight_layout()"
   ]
  },
  {
   "cell_type": "code",
   "execution_count": null,
   "metadata": {},
   "outputs": [],
   "source": [
    "for k in range(4):\n",
    "    plt.subplot(2,2,k+1)\n",
    "    plt.plot(*mag_DFT(sbs[k]), f'C{k}')\n",
    "plt.tight_layout()"
   ]
  },
  {
   "cell_type": "markdown",
   "metadata": {},
   "source": [
    "## Subband signals after downsampling\n",
    "\n",
    "After downsampling, all subband content is automatically demodulated, so the four oscillation (which oiginally were in the middle of their respective subbands) appear to be at the same frequency as the oscillation in the first subband "
   ]
  },
  {
   "cell_type": "code",
   "execution_count": null,
   "metadata": {},
   "outputs": [],
   "source": [
    "for k in range(BANDS):\n",
    "    plt.subplot(2,2,k+1)\n",
    "    plt.plot(sbs[k][s][::BANDS], f'C{k}')\n",
    "plt.tight_layout()"
   ]
  }
 ],
 "metadata": {
  "kernelspec": {
   "display_name": "Python 3 (ipykernel)",
   "language": "python",
   "name": "python3"
  },
  "language_info": {
   "codemirror_mode": {
    "name": "ipython",
    "version": 3
   },
   "file_extension": ".py",
   "mimetype": "text/x-python",
   "name": "python",
   "nbconvert_exporter": "python",
   "pygments_lexer": "ipython3",
   "version": "3.12.3"
  }
 },
 "nbformat": 4,
 "nbformat_minor": 4
}
