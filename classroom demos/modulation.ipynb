{
 "cells": [
  {
   "cell_type": "markdown",
   "id": "67d65a02-0aea-4c26-82b8-07a56a439b35",
   "metadata": {},
   "source": [
    "# Modulation and demodulation of an audio signal using the built-in soundcard"
   ]
  },
  {
   "cell_type": "code",
   "execution_count": null,
   "id": "a689d7d8-b1e3-4551-b035-594fc6a5f4e9",
   "metadata": {},
   "outputs": [],
   "source": [
    "import matplotlib\n",
    "import matplotlib.pyplot as plt\n",
    "import numpy as np\n",
    "import scipy.signal as sp\n",
    "import IPython\n",
    "from scipy.io import wavfile"
   ]
  },
  {
   "cell_type": "code",
   "execution_count": null,
   "id": "786dcfc5-4dff-4ac3-a45d-8c1c68c96506",
   "metadata": {},
   "outputs": [],
   "source": [
    "plt.rcParams[\"figure.figsize\"] = (9,2.5)"
   ]
  },
  {
   "cell_type": "markdown",
   "id": "0ce79bb8-7428-4597-a687-346ccec4edac",
   "metadata": {},
   "source": [
    "The following functions can be used as a black box for now"
   ]
  },
  {
   "cell_type": "code",
   "execution_count": null,
   "id": "9201f4c4-b149-4607-b334-6affd4efea55",
   "metadata": {
    "jupyter": {
     "source_hidden": true
    }
   },
   "outputs": [],
   "source": [
    "# Simple second order lowpass filter\n",
    "\n",
    "def LPF(fc, sf, Q=(1/np.sqrt(2))):\n",
    "    \"\"\"Biquad lowpass filter\"\"\"\n",
    "    w = 2 * np.pi * fc / sf\n",
    "    alpha = np.sin(w) / (2 * Q)\n",
    "    c = np.cos(w)\n",
    "    a = np.array([1 + alpha, -2 * c, 1 - alpha])\n",
    "    b = np.array([(1 - c) / 2, 1 - c, (1 - c) / 2])\n",
    "    return b / a[0], a / a[0]"
   ]
  },
  {
   "cell_type": "code",
   "execution_count": null,
   "id": "32961096-62e1-442d-a62b-2b1f621156c2",
   "metadata": {
    "jupyter": {
     "source_hidden": true
    }
   },
   "outputs": [],
   "source": [
    "def magnitude_response(b, a, sf, points=None, color='C1'):\n",
    "    L = (points or max(len(a), len(b))) // 2\n",
    "    points = 2 * L + 1\n",
    "    w = 2 * np.pi * np.arange(-L, L+1) / points\n",
    "    A, B = np.zeros(points, dtype='complex'), np.zeros(points, dtype='complex')\n",
    "    for n, bn in enumerate(b):\n",
    "        B += bn * np.exp(-1j * n * w)\n",
    "    for n, an in enumerate(a):\n",
    "        A += an * np.exp(-1j * n * w)\n",
    "    A, B = np.abs(A), np.abs(B)\n",
    "    M = B / np.where(A == 0, 1e-20, A)\n",
    "    f = w / np.pi * sf / 2\n",
    "    plt.plot(f, M, color, lw=2)"
   ]
  },
  {
   "cell_type": "code",
   "execution_count": null,
   "id": "e4fd15ce-11d0-4b5e-aad6-c4e148ba1329",
   "metadata": {
    "jupyter": {
     "source_hidden": true
    }
   },
   "outputs": [],
   "source": [
    "def plot_mag_spec(data, Fs=2*np.pi):\n",
    "    pts = len(data)\n",
    "    w = Fs * (np.arange(0, pts) / pts - 0.5)\n",
    "    X = np.abs(np.fft.fftshift(np.fft.fft(data, pts)))\n",
    "    plt.plot(w, X);"
   ]
  },
  {
   "cell_type": "code",
   "execution_count": null,
   "id": "7663e314-f9c7-4724-a1e0-e014b453355a",
   "metadata": {
    "editable": true,
    "slideshow": {
     "slide_type": ""
    },
    "tags": [
     "solution"
    ]
   },
   "outputs": [],
   "source": [
    "# default sampling frequency for notebook\n",
    "fs = 96000"
   ]
  },
  {
   "cell_type": "code",
   "execution_count": null,
   "id": "8805c592-4981-46b8-b329-5dc019cd4228",
   "metadata": {
    "editable": true,
    "slideshow": {
     "slide_type": ""
    },
    "tags": [
     "solution"
    ]
   },
   "outputs": [],
   "source": [
    "# load audio file sampled at 96K. Actual audio is bandlimited to 8 kHz (max positive frequency)\n",
    "\n",
    "audio_fs, audio = wavfile.read(\"audio96.wav\")\n",
    "assert audio_fs == fs, f'must use audio at {fs} Hz'\n",
    "audio /= np.max(np.abs(audio))\n",
    "\n",
    "plot_mag_spec(audio, Fs=fs)"
   ]
  },
  {
   "cell_type": "code",
   "execution_count": null,
   "id": "c385b0b3-52bb-4e41-938a-97b13e14542a",
   "metadata": {
    "editable": true,
    "slideshow": {
     "slide_type": ""
    },
    "tags": [
     "solution"
    ]
   },
   "outputs": [],
   "source": [
    "IPython.display.Audio(audio, rate=fs)"
   ]
  },
  {
   "cell_type": "code",
   "execution_count": null,
   "id": "4d02468d-03bd-4048-a6b7-77eadfcc29cb",
   "metadata": {
    "editable": true,
    "slideshow": {
     "slide_type": ""
    },
    "tags": [
     "solution"
    ]
   },
   "outputs": [],
   "source": [
    "# we modulate the audio signal using a carrier at 38 kHz. Positive bandwidth will be [30 kHz, 96 kHz[\n",
    "\n",
    "carrier_freq = 38000\n",
    "\n",
    "am_carrier = np.cos(2 * np.pi * carrier_freq / fs * np.arange(0, len(audio)))\n",
    "am_signal = am_carrier * audio\n",
    "\n",
    "plot_mag_spec(am_signal, Fs=fs)"
   ]
  },
  {
   "cell_type": "code",
   "execution_count": null,
   "id": "4719be26",
   "metadata": {
    "editable": true,
    "slideshow": {
     "slide_type": ""
    },
    "tags": [
     "solution"
    ]
   },
   "outputs": [],
   "source": [
    "# modulated audio is outside of hearing range\n",
    "\n",
    "IPython.display.Audio(am_signal, rate=fs)"
   ]
  },
  {
   "cell_type": "code",
   "execution_count": null,
   "id": "cd03628e-614f-4529-b1fa-e5d08d5a900a",
   "metadata": {
    "editable": true,
    "slideshow": {
     "slide_type": ""
    },
    "tags": [
     "solution"
    ]
   },
   "outputs": [],
   "source": [
    "# demodulation: we can recover the baseband audio via multiplication by the carrier\n",
    "#  we still have the cross-modulation sidebands that are disturbing since they overlap the hearing range\n",
    "\n",
    "# note that, because of aliasing, the center frequency of the sidebands is (38 kHz * 2) wrapped over the [-48 kHz, 48 kHz] interval\n",
    "# 38 * 2 = 76; 76 - 96 = -20. Sidebands are at +20 kHz and -20 kHz\n",
    "\n",
    "bb_signal = am_carrier * am_signal\n",
    "plot_mag_spec(bb_signal, Fs=fs)"
   ]
  },
  {
   "cell_type": "code",
   "execution_count": null,
   "id": "45dcdba6",
   "metadata": {
    "editable": true,
    "slideshow": {
     "slide_type": ""
    },
    "tags": [
     "solution"
    ]
   },
   "outputs": [],
   "source": [
    "IPython.display.Audio(bb_signal, rate=fs)"
   ]
  },
  {
   "cell_type": "code",
   "execution_count": null,
   "id": "89b5f8a7-e3fc-4636-8fd0-916955dc2c6e",
   "metadata": {},
   "outputs": [],
   "source": [
    "# let's use a simple second-order IIR lowpass to remove the sidebands:\n",
    "\n",
    "b, a = LPF(3000, fs)\n",
    "magnitude_response(b, a, fs, points=1000)\n",
    "plot_mag_spec(bb_signal / 5000, Fs=fs)"
   ]
  },
  {
   "cell_type": "code",
   "execution_count": null,
   "id": "fc806b15-165a-490f-b7b3-828e31ef0443",
   "metadata": {},
   "outputs": [],
   "source": [
    "# final demodulation\n",
    "\n",
    "demod = sp.lfilter(b, a, bb_signal)\n",
    "\n",
    "plot_mag_spec(demod, Fs=fs)"
   ]
  },
  {
   "cell_type": "code",
   "execution_count": null,
   "id": "f33aeb3e",
   "metadata": {
    "editable": true,
    "slideshow": {
     "slide_type": ""
    },
    "tags": [
     "solution"
    ]
   },
   "outputs": [],
   "source": [
    "IPython.display.Audio(demod, rate=fs)"
   ]
  },
  {
   "cell_type": "code",
   "execution_count": null,
   "id": "ffd4fec1-b7bc-4b21-99d4-3a3521300204",
   "metadata": {},
   "outputs": [],
   "source": []
  }
 ],
 "metadata": {
  "kernelspec": {
   "display_name": "Python 3 (ipykernel)",
   "language": "python",
   "name": "python3"
  },
  "language_info": {
   "codemirror_mode": {
    "name": "ipython",
    "version": 3
   },
   "file_extension": ".py",
   "mimetype": "text/x-python",
   "name": "python",
   "nbconvert_exporter": "python",
   "pygments_lexer": "ipython3",
   "version": "3.12.3"
  }
 },
 "nbformat": 4,
 "nbformat_minor": 5
}
