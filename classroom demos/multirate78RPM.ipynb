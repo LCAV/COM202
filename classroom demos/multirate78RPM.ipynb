{
 "cells": [
  {
   "cell_type": "code",
   "execution_count": null,
   "id": "f42fbce8-4180-46a6-8d8a-19e8070c3d8e",
   "metadata": {},
   "outputs": [],
   "source": [
    "import numpy as np\n",
    "import matplotlib.pyplot as plt\n",
    "import IPython\n",
    "import scipy.signal as sp\n",
    "from scipy.io import wavfile\n",
    "\n",
    "plt.rcParams[\"figure.figsize\"] = (12,3)"
   ]
  },
  {
   "cell_type": "code",
   "execution_count": null,
   "id": "852c0448-99e7-41a9-ac2a-acdf196298d3",
   "metadata": {},
   "outputs": [],
   "source": [
    "rpm, s = wavfile.read('data/sandman78.wav')\n",
    "print(rpm)\n",
    "IPython.display.Audio(s, rate=rpm)"
   ]
  },
  {
   "cell_type": "code",
   "execution_count": null,
   "id": "ec397875-ea9b-4646-9972-5b1a7abaf647",
   "metadata": {},
   "outputs": [],
   "source": [
    "IPython.display.Audio(s, rate=3300)"
   ]
  },
  {
   "cell_type": "code",
   "execution_count": null,
   "id": "f2b710a0-029b-4568-854c-12469cdebd25",
   "metadata": {},
   "outputs": [],
   "source": [
    "Fs, x = wavfile.read('data/sandman33.wav')\n",
    "print(Fs)\n",
    "IPython.display.Audio(x, rate=Fs)"
   ]
  },
  {
   "cell_type": "code",
   "execution_count": null,
   "id": "2da56958-3833-4f66-aa20-4d0e74766466",
   "metadata": {},
   "outputs": [],
   "source": [
    "IPython.display.Audio(x[::2], rate=Fs)"
   ]
  },
  {
   "cell_type": "code",
   "execution_count": null,
   "id": "d6bc1c0b-11fd-4273-b2d8-fef7c2ee88ba",
   "metadata": {},
   "outputs": [],
   "source": [
    "78/33"
   ]
  },
  {
   "cell_type": "code",
   "execution_count": null,
   "id": "0e47cea4-d0cc-4143-8a6d-07705feb9ab2",
   "metadata": {},
   "outputs": [],
   "source": [
    "np.kron([1,2,3], [1, 0, 1, 0, 0])"
   ]
  },
  {
   "cell_type": "code",
   "execution_count": null,
   "id": "e1153696-ce20-4c98-8282-de1b74ff1e39",
   "metadata": {},
   "outputs": [],
   "source": [
    "y = np.kron(x, [1, 0])[::5]"
   ]
  },
  {
   "cell_type": "code",
   "execution_count": null,
   "id": "c4c3d45d-cdb1-4fe8-b99f-b1f8febf6cac",
   "metadata": {},
   "outputs": [],
   "source": [
    "IPython.display.Audio(y, rate=Fs)"
   ]
  },
  {
   "cell_type": "code",
   "execution_count": null,
   "id": "76912a3d-2d76-4f5c-ac09-3e4c1d4bf78a",
   "metadata": {},
   "outputs": [],
   "source": [
    "UP = 11\n",
    "DOWN = 26\n",
    "\n",
    "y = np.kron(x, np.r_[1, np.zeros(UP-1)])[::DOWN]\n",
    "IPython.display.Audio(y, rate=Fs)"
   ]
  },
  {
   "cell_type": "code",
   "execution_count": null,
   "id": "6f80772e-fdc3-45ff-9e85-f93f80f673ad",
   "metadata": {},
   "outputs": [],
   "source": [
    "b, a = sp.butter(4, 1/DOWN)\n",
    "\n",
    "xu = np.kron(x, np.r_[1, np.zeros(10)])\n",
    "xi = sp.lfilter(b, a, xu)\n",
    "y = xi[::DOWN]\n",
    "\n",
    "IPython.display.Audio(y, rate=Fs)"
   ]
  },
  {
   "cell_type": "code",
   "execution_count": null,
   "id": "d76d7384-eaf6-42db-8443-dc02c87c64de",
   "metadata": {},
   "outputs": [],
   "source": [
    "N = 17\n",
    "p = 5\n",
    "\n",
    "x = np.sin(2*np.pi / N * p * np.arange(N))"
   ]
  },
  {
   "cell_type": "code",
   "execution_count": null,
   "id": "95a8e471-aeab-418e-b764-d0301fcedcd8",
   "metadata": {},
   "outputs": [],
   "source": [
    "plt.stem(x)"
   ]
  },
  {
   "cell_type": "code",
   "execution_count": null,
   "id": "c5efbd4c-9205-4c30-a730-577ba9df047f",
   "metadata": {},
   "outputs": [],
   "source": [
    "X = np.fft.fft(x)"
   ]
  },
  {
   "cell_type": "code",
   "execution_count": null,
   "id": "71e6bb74-f159-42e5-95a6-bf74ded5665a",
   "metadata": {},
   "outputs": [],
   "source": [
    "plt.stem(np.round(X.real, 3))"
   ]
  },
  {
   "cell_type": "code",
   "execution_count": null,
   "id": "599b6317-f75f-4747-8a92-a42bd7284e90",
   "metadata": {},
   "outputs": [],
   "source": [
    "plt.stem(np.round(X.imag, 3))"
   ]
  },
  {
   "cell_type": "code",
   "execution_count": null,
   "id": "1d4b663f-5785-41d5-9d5a-1b6a97b648fa",
   "metadata": {},
   "outputs": [],
   "source": []
  }
 ],
 "metadata": {
  "kernelspec": {
   "display_name": "Python 3 (ipykernel)",
   "language": "python",
   "name": "python3"
  },
  "language_info": {
   "codemirror_mode": {
    "name": "ipython",
    "version": 3
   },
   "file_extension": ".py",
   "mimetype": "text/x-python",
   "name": "python",
   "nbconvert_exporter": "python",
   "pygments_lexer": "ipython3",
   "version": "3.12.3"
  }
 },
 "nbformat": 4,
 "nbformat_minor": 5
}
