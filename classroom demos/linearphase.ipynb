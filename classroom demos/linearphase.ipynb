{
 "cells": [
  {
   "cell_type": "markdown",
   "metadata": {},
   "source": [
    "# Linear vs nonlinear phase"
   ]
  },
  {
   "cell_type": "code",
   "execution_count": null,
   "metadata": {
    "editable": true,
    "slideshow": {
     "slide_type": ""
    },
    "tags": []
   },
   "outputs": [],
   "source": [
    "# Import necessary libraries\n",
    "import numpy as np\n",
    "import scipy.signal as sp\n",
    "import matplotlib.pyplot as plt\n",
    "import matplotlib.patches as patches\n",
    "import ipywidgets as wg\n",
    "\n",
    "plt.rcParams[\"figure.figsize\"] = (12,3)"
   ]
  },
  {
   "cell_type": "markdown",
   "metadata": {},
   "source": [
    "# Physical analogy: refraction\n",
    "\n",
    "<div margin: 30px;\"><img src=\"img/refraction.jpg\" width=\"600\"></div>"
   ]
  },
  {
   "cell_type": "markdown",
   "metadata": {},
   "source": [
    "<div margin: 30px;\"><img src=\"img/prism.jpg\" width=\"600\"></div>"
   ]
  },
  {
   "cell_type": "markdown",
   "metadata": {
    "editable": true,
    "slideshow": {
     "slide_type": ""
    },
    "tags": []
   },
   "source": [
    "## Square wave from oscillations\n",
    "\n",
    "An antisymmetric, balanced, discrete-time square wave can be expressed as\n",
    "$$\n",
    "    \\mathbf{q} = \\frac{1}{N} \\sum_{k=0}^{N-1} Q[k] \\mathbf{w}_k \n",
    "$$\n",
    "with\n",
    "$$\n",
    "    Q[k] = \\begin{cases} 0 & k \\text{~even} \\\\ \\displaystyle \\frac{-2j}{\\tan(\\pi k /N)}  & k \\text{~odd} \\end{cases}\n",
    "$$\n",
    "\n",
    "\n",
    "Let's see what happens if we mess with the phase of the DFT coefficients"
   ]
  },
  {
   "cell_type": "code",
   "execution_count": null,
   "metadata": {},
   "outputs": [],
   "source": [
    "def wrap(x, r):\n",
    "    d = 2 * r if np.isscalar(r) else np.abs(r[0] - r[1])\n",
    "    s = 0 if np.isscalar(r) else (r[0] + r[1]) / 2\n",
    "    return x - d * np.floor((x - s) / d + 0.5)"
   ]
  },
  {
   "cell_type": "code",
   "execution_count": null,
   "metadata": {
    "editable": true,
    "jupyter": {
     "source_hidden": true
    },
    "slideshow": {
     "slide_type": ""
    },
    "tags": []
   },
   "outputs": [],
   "source": [
    "class sqw:\n",
    "    def __init__(self, N):\n",
    "        assert N % 2 == 0, 'N must be even'\n",
    "        self.N = N\n",
    "        rpp = np.exp(2j * (np.random.rand(N // 2 - 1) - 0.5) * np.pi)\n",
    "        self.rp = 2 * np.pi * (np.random.rand(N // 2) - 0.5)    #np.r_[0, rpp, 0, np.conj(rpp[::-1])]\n",
    "\n",
    "    def show(self, L, delay=0, random_phase=False):\n",
    "        Q = np.zeros(self.N, dtype=complex)\n",
    "        phase_offset = delay * 2 * np.pi / self.N\n",
    "        for m in range(L//2+1):\n",
    "            k = 2 * m + 1\n",
    "            Q[k] = 2 / np.tan(np.pi / self.N * k) * np.exp(1j * (-np.pi / 2 + phase_offset * k + (self.rp[k] if random_phase else 0)))\n",
    "            Q[self.N-k] = np.conj(Q[k])\n",
    "        q = np.fft.ifft(Q).real\n",
    "        \n",
    "        plt.figure(figsize=(16, 6));\n",
    "        plt.subplot(1,2,1)\n",
    "        plt.plot(q)\n",
    "        plt.title(f\"partial sum with {2*L+1} terms\" + (f\", linear phase factor {2 * delay / self.N :.2f} $\\\\pi$\" if delay != 0 else \"\"))\n",
    "        plt.grid()\n",
    "        plt.ylim(-2,2)\n",
    "        plt.subplot(2,2,2)\n",
    "        plt.stem(np.abs(Q[:self.N]))\n",
    "        plt.title(f\"$|Q[k]|$\")\n",
    "        plt.subplot(2,2,4)\n",
    "        plt.stem(wrap(np.angle(Q[:self.N]), np.pi))\n",
    "        plt.ylim(-3.4,3.4)\n",
    "        plt.title(f\"$\\\\angle Q[k]$\")\n",
    "        plt.tight_layout()    \n",
    "\n",
    "    def interact(self):\n",
    "        return wg.interactive(self.show, L=wg.IntSlider(min=1, max=self.N//2-1, value=1, step=2), \n",
    "               delay=wg.IntSlider(min=-self.N//2, max=self.N//2, value=0, description='linear phase factor'))"
   ]
  },
  {
   "cell_type": "code",
   "execution_count": null,
   "metadata": {},
   "outputs": [],
   "source": [
    "sqw(100).interact()"
   ]
  },
  {
   "cell_type": "markdown",
   "metadata": {
    "slideshow": {
     "slide_type": "slide"
    }
   },
   "source": [
    "# Effects of linear phase on signal shape"
   ]
  },
  {
   "cell_type": "markdown",
   "metadata": {},
   "source": [
    "The following functions can be used as a black box for now"
   ]
  },
  {
   "cell_type": "code",
   "execution_count": null,
   "metadata": {
    "jupyter": {
     "source_hidden": true
    }
   },
   "outputs": [],
   "source": [
    "def magnitude_response(b, a, sf, points=None, color='C0'):\n",
    "    L = (points or max(len(a), len(b))) // 2\n",
    "    points = 2 * L + 1\n",
    "    w = 2 * np.pi * np.arange(-L, L+1) / points\n",
    "    A, B = np.zeros(points, dtype='complex'), np.zeros(points, dtype='complex')\n",
    "    for n, bn in enumerate(b):\n",
    "        B += bn * np.exp(-1j * n * w)\n",
    "    for n, an in enumerate(a):\n",
    "        A += an * np.exp(-1j * n * w)\n",
    "    A, B = np.abs(A), np.abs(B)\n",
    "    M = B / np.where(A == 0, 1e-20, A)\n",
    "    f = w / np.pi * sf / 2\n",
    "    plt.plot(f, M, color, lw=2)"
   ]
  },
  {
   "cell_type": "code",
   "execution_count": null,
   "metadata": {
    "jupyter": {
     "source_hidden": true
    }
   },
   "outputs": [],
   "source": [
    "def SRRC(K, beta, L=6):\n",
    "    # Type-I FIR truncation of a root-raised-cosine impulse response with\n",
    "    #  cutoff frequency pi/K and rolloff beta. The impulse is truncated after\n",
    "    #  L bauds (ie, the filter will have 2LK + 1 taps); usually L=6.\n",
    "    N = int(L * K)\n",
    "    r = np.zeros(2 * N + 1)\n",
    "    for n in range(-N, N+1):   \n",
    "        t = n / K  # from baud rate to sampling rate\n",
    "        if n == 0:\n",
    "            r[n+N] = 1.0 - beta + (4 * beta / np.pi)\n",
    "        elif np.abs(n) == K / (4 * beta):\n",
    "            r[n+N] = (beta / np.sqrt(2)) * (((1 + 2 / np.pi) * \\\n",
    "                     (np.sin(np.pi / (4 * beta)))) + ((1 - 2 / np.pi) * (np.cos(np.pi / (4 * beta)))))\n",
    "        else:\n",
    "            r[n+N] = (np.sin(np.pi * (1 - beta) * t) + 4 * beta * t * np.cos(np.pi * (1 + beta) * t)) / \\\n",
    "                    (np.pi * t * (1 - (4 * beta * t) * (4 * beta * t)))\n",
    "    return r / np.sqrt(K)"
   ]
  },
  {
   "cell_type": "markdown",
   "metadata": {},
   "source": [
    "this is a typical impulse used for transmitting information"
   ]
  },
  {
   "cell_type": "code",
   "execution_count": null,
   "metadata": {},
   "outputs": [],
   "source": [
    "r = SRRC(10, 0.3)\n",
    "plt.plot(r);"
   ]
  },
  {
   "cell_type": "markdown",
   "metadata": {},
   "source": [
    "the pulse is nice bcecause it has a compact spectrum with controllable width"
   ]
  },
  {
   "cell_type": "code",
   "execution_count": null,
   "metadata": {},
   "outputs": [],
   "source": [
    "magnitude_response(r, [1], sf=2*np.pi)"
   ]
  },
  {
   "cell_type": "markdown",
   "metadata": {},
   "source": [
    "here is a simple transmitter, sending well-spaced positive and negative pulses"
   ]
  },
  {
   "cell_type": "code",
   "execution_count": null,
   "metadata": {},
   "outputs": [],
   "source": [
    "def modulate(bits, K, spacing=None):\n",
    "    spacing = spacing or 2 * K\n",
    "    rc = SRRC(K, 0.3)\n",
    "    M = len(rc)\n",
    "    x = np.zeros(bits * spacing * K + M)\n",
    "    for n in range(bits):\n",
    "        ix = n * spacing * K\n",
    "        x[ix:ix+M] += np.sign(np.random.randn()) * rc\n",
    "    return x"
   ]
  },
  {
   "cell_type": "code",
   "execution_count": null,
   "metadata": {},
   "outputs": [],
   "source": [
    "K = 10\n",
    "x = modulate(10, K)\n",
    "\n",
    "plt.plot(x);"
   ]
  },
  {
   "cell_type": "markdown",
   "metadata": {},
   "source": [
    "the spectrum of the transmitted signal has the same shape of the individual pulse"
   ]
  },
  {
   "cell_type": "code",
   "execution_count": null,
   "metadata": {},
   "outputs": [],
   "source": [
    "magnitude_response(x, [1], sf=2*np.pi, color='C0');"
   ]
  },
  {
   "cell_type": "markdown",
   "metadata": {},
   "source": [
    "let's build a matched linear-phase lowpass filter. This can be used to remove out-of-band noise, for instance"
   ]
  },
  {
   "cell_type": "code",
   "execution_count": null,
   "metadata": {},
   "outputs": [],
   "source": [
    "L = 150\n",
    "M = 2 * L + 1\n",
    "h = sp.remez(M, [0, 1/K, 1.3/K, 1], [1, 0], weight=[1, 1], Hz=2)\n",
    "\n",
    "magnitude_response(x / 10, [1], sf=2*np.pi)\n",
    "magnitude_response(h, [1], sf=2*np.pi, color='C1')"
   ]
  },
  {
   "cell_type": "markdown",
   "metadata": {},
   "source": [
    "if we filter the transmitted signal, the shape of the pulses is preserved"
   ]
  },
  {
   "cell_type": "code",
   "execution_count": null,
   "metadata": {},
   "outputs": [],
   "source": [
    "w = sp.lfilter(h, 1, x)[len(h)//2:]\n",
    "\n",
    "plt.plot(x)\n",
    "plt.plot(w);"
   ]
  },
  {
   "cell_type": "markdown",
   "metadata": {},
   "source": [
    "now let's randomize the phase of the filter so it becomes nonlinear. This does not change the magnitude repsonse of the filter"
   ]
  },
  {
   "cell_type": "code",
   "execution_count": null,
   "metadata": {},
   "outputs": [],
   "source": [
    "p = (np.random.rand(L) - 0.5) * 2 * np.pi\n",
    "p = np.r_[ [0], p, -p[::-1] ]\n",
    "\n",
    "hn = np.real(np.fft.ifft(np.abs(np.fft.fft(h)) * np.exp(1j * p)))"
   ]
  },
  {
   "cell_type": "code",
   "execution_count": null,
   "metadata": {},
   "outputs": [],
   "source": [
    "magnitude_response(h, [1], sf=2*np.pi, color='C1')\n",
    "magnitude_response(hn, [1], sf=2*np.pi, color='C3')"
   ]
  },
  {
   "cell_type": "markdown",
   "metadata": {},
   "source": [
    "but look at the shape of the output"
   ]
  },
  {
   "cell_type": "code",
   "execution_count": null,
   "metadata": {},
   "outputs": [],
   "source": [
    "v = sp.lfilter(hn, 1, x)[len(h)//2:]\n",
    "\n",
    "plt.plot(x)\n",
    "plt.plot(w)\n",
    "plt.plot(v, 'C3');"
   ]
  },
  {
   "cell_type": "code",
   "execution_count": null,
   "metadata": {},
   "outputs": [],
   "source": [
    "s = slice(400, 800)\n",
    "plt.plot(x[s])\n",
    "plt.plot(w[s])\n",
    "plt.plot(v[s], 'C3');"
   ]
  }
 ],
 "metadata": {
  "kernelspec": {
   "display_name": "Python 3 (ipykernel)",
   "language": "python",
   "name": "python3"
  },
  "language_info": {
   "codemirror_mode": {
    "name": "ipython",
    "version": 3
   },
   "file_extension": ".py",
   "mimetype": "text/x-python",
   "name": "python",
   "nbconvert_exporter": "python",
   "pygments_lexer": "ipython3",
   "version": "3.12.3"
  }
 },
 "nbformat": 4,
 "nbformat_minor": 4
}
