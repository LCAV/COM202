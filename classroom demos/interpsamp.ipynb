{
 "cells": [
  {
   "cell_type": "markdown",
   "metadata": {
    "editable": true,
    "slideshow": {
     "slide_type": ""
    },
    "tags": []
   },
   "source": [
    "<style>       \n",
    "    hr{\n",
    "        height: 4px;\n",
    "        background-color: rgb(247,148,9);\n",
    "        border: none;\n",
    "    }\n",
    "</style>\n",
    "<div style=\"color=white;\n",
    "           display:fill;\n",
    "           border-radius:5px;\n",
    "           background-color:rgb(34,41,49)\">\n",
    "<hr>\n",
    "\n",
    "<div style=\"clear: both; font-size: 30pt; font-weight: bold;\">\n",
    "    Interpolation and sampling\n",
    "</div>\n",
    "<hr>\n",
    "</div>"
   ]
  },
  {
   "cell_type": "code",
   "execution_count": null,
   "metadata": {
    "editable": true,
    "slideshow": {
     "slide_type": ""
    },
    "tags": []
   },
   "outputs": [],
   "source": [
    "# Import necessary libraries\n",
    "import numpy as np\n",
    "import matplotlib.pyplot as plt\n",
    "import ipywidgets as wg\n",
    "import IPython\n",
    "import scipy.signal as sp\n",
    "from scipy.io import wavfile\n",
    "\n",
    "plt.rcParams[\"figure.figsize\"] = (12,3)"
   ]
  },
  {
   "cell_type": "markdown",
   "metadata": {
    "editable": true,
    "slideshow": {
     "slide_type": ""
    },
    "tags": []
   },
   "source": [
    "### Exercise\n",
    "\n",
    "Complete the code below so that it plots the samples of the function $x_c(t)$ at a sampling rate $F_s$. Once you have that, plot the result for $F_s = 100$, $F_s = 20$, $F_s = 10$, and $F_s = 9.9$.\n",
    "\n",
    "For $F_s = 9.9$ extend the range of the plot and look at the pattern of the samples; what can you say?"
   ]
  },
  {
   "cell_type": "code",
   "execution_count": null,
   "metadata": {
    "editable": true,
    "slideshow": {
     "slide_type": ""
    },
    "tags": []
   },
   "outputs": [],
   "source": [
    "def x_c(t, f0=10):\n",
    "    return np.cos(2 * np.pi * f0 * t)\n",
    "\n",
    "T = 10\n",
    "t = np.linspace(0, T, 1000)\n",
    "plt.plot(t, x_c(t))\n",
    "\n",
    "Fs = 9.9\n",
    "tn = np.arange(0, T, 1/Fs)\n",
    "plt.plot(tn, x_c(tn), 'ro');"
   ]
  },
  {
   "cell_type": "markdown",
   "metadata": {
    "editable": true,
    "slideshow": {
     "slide_type": ""
    },
    "tags": []
   },
   "source": [
    "# Interpolation\n",
    "\n",
    "Here's a function to generate $N$ samples of a discrete-time sinusoid with frequency $\\omega_0 = \\pi / 4$"
   ]
  },
  {
   "cell_type": "code",
   "execution_count": null,
   "metadata": {},
   "outputs": [],
   "source": [
    "def mycos(N):\n",
    "    return np.cos(np.pi / 4 * np.arange(N))"
   ]
  },
  {
   "cell_type": "code",
   "execution_count": null,
   "metadata": {},
   "outputs": [],
   "source": [
    "plt.stem(mycos(20));"
   ]
  },
  {
   "cell_type": "markdown",
   "metadata": {
    "editable": true,
    "slideshow": {
     "slide_type": ""
    },
    "tags": []
   },
   "source": [
    "Let's play the signal using the soundcard of your PC; the interpolation frequency $F_s$ determines the continuous-time frequency as \n",
    "\n",
    "$$\n",
    "    f_0 = \\frac{\\omega_c}{2\\pi}F_s = \\frac{F_s}{8} \\text{~Hz}\n",
    "$$\n",
    "\n",
    "E.g., for $F_s = 4000$ Hz, $f_0 = 500$ Hz."
   ]
  },
  {
   "cell_type": "code",
   "execution_count": null,
   "metadata": {
    "editable": true,
    "scrolled": true,
    "slideshow": {
     "slide_type": ""
    },
    "tags": []
   },
   "outputs": [],
   "source": [
    "Fs = 8000\n",
    "IPython.display.Audio(mycos(2 * Fs), rate=Fs)"
   ]
  },
  {
   "cell_type": "markdown",
   "metadata": {},
   "source": [
    "# Aliasing of sinusoids"
   ]
  },
  {
   "cell_type": "code",
   "execution_count": null,
   "metadata": {},
   "outputs": [],
   "source": [
    "Fs = 4000\n",
    "\n",
    "for f in np.arange(400, 3000, 400):\n",
    "    if f == Fs / 2:\n",
    "        continue\n",
    "    x = np.cos(2 * np.pi * f / Fs * np.arange(Fs))\n",
    "    print(f'f={f}, w/pi={2*f/Fs}, fo={f - Fs*np.floor(f/Fs + 0.5)}')\n",
    "    display(IPython.display.Audio(x, rate=Fs))"
   ]
  },
  {
   "cell_type": "markdown",
   "metadata": {
    "editable": true,
    "slideshow": {
     "slide_type": ""
    },
    "tags": []
   },
   "source": [
    "\n",
    "# Aliasing of audio signals\n",
    "\n",
    "The frequency folding caused by too low a sampling rate is particularly disruptive when it comes to audio signals. "
   ]
  },
  {
   "cell_type": "code",
   "execution_count": null,
   "metadata": {},
   "outputs": [],
   "source": [
    "Fs_audio, x_audio = wavfile.read('data/music.wav')\n",
    "IPython.display.Audio(x_audio, rate=Fs_audio)"
   ]
  },
  {
   "cell_type": "code",
   "execution_count": null,
   "metadata": {},
   "outputs": [],
   "source": [
    "print(Fs_audio)"
   ]
  },
  {
   "cell_type": "code",
   "execution_count": null,
   "metadata": {},
   "outputs": [],
   "source": [
    "K = 5\n",
    "\n",
    "IPython.display.Audio(x_audio[::K], rate=Fs_audio/K)"
   ]
  },
  {
   "cell_type": "code",
   "execution_count": null,
   "metadata": {},
   "outputs": [],
   "source": [
    "x_f = sp.lfilter(*sp.butter(8, 0.5 / K), x_audio)\n",
    "IPython.display.Audio(x_f[::K], rate=Fs_audio/K)"
   ]
  },
  {
   "cell_type": "code",
   "execution_count": null,
   "metadata": {},
   "outputs": [],
   "source": []
  }
 ],
 "metadata": {
  "kernelspec": {
   "display_name": "Python 3 (ipykernel)",
   "language": "python",
   "name": "python3"
  },
  "language_info": {
   "codemirror_mode": {
    "name": "ipython",
    "version": 3
   },
   "file_extension": ".py",
   "mimetype": "text/x-python",
   "name": "python",
   "nbconvert_exporter": "python",
   "pygments_lexer": "ipython3",
   "version": "3.12.3"
  }
 },
 "nbformat": 4,
 "nbformat_minor": 4
}
