{
 "cells": [
  {
   "cell_type": "markdown",
   "metadata": {
    "editable": true,
    "slideshow": {
     "slide_type": ""
    },
    "tags": []
   },
   "source": [
    "<div style=\"margin: 0 auto 30px; height: 60px; border: 2px solid gray; border-radius: 6px;\">\n",
    "  <div style=\"float: left;\"><img src=\"assets/epfl.png\" /></div>\n",
    "  <div style=\"float: right; margin: 20px 30px 0; font-size: 10pt; font-weight: bold;\"><a href=\"https://moodle.epfl.ch/course/view.php?id=18253\">COM202 - Signal Processing</a></div>\n",
    "</div>\n",
    "<div style=\"clear: both; font-size: 30pt; font-weight: bold; color: #483D8B;\">\n",
    "    Lab 2.A: understanding the discrete Fourier transform\n",
    "</div>"
   ]
  },
  {
   "cell_type": "markdown",
   "metadata": {
    "editable": true,
    "slideshow": {
     "slide_type": ""
    },
    "tags": []
   },
   "source": [
    "In this two-part notebook we will study the properties and the applications of the Discrete Fourier Transform (DFT), arguably the most important analysis tool in digital signal processing. \n",
    "\n",
    "In this first part we will incrementally work our way to the definition of the DFT by showing\n",
    " * we will introduce the idea of signal decomposition, where we express a signal as the sum of elementary building blocks\n",
    " * we will show by example how to build signals using harmonic sines and cosines as building blocks\n",
    " * we will move to the more efficient family of complex-valued harmonic oscillation (the Fourier basis)\n",
    " * we will explore the properties of the Fourier basis\n",
    "\n",
    "At the end of this lab you should be able to \n",
    "- understand that any signal can be built as a linear combination of sinusoids\n",
    "- understand the symmetries and periodicities of the Fourier basic elements"
   ]
  },
  {
   "cell_type": "code",
   "execution_count": null,
   "metadata": {
    "editable": true,
    "slideshow": {
     "slide_type": ""
    },
    "tags": []
   },
   "outputs": [],
   "source": [
    "# Import necessary libraries\n",
    "import numpy as np\n",
    "import matplotlib.pyplot as plt\n",
    "import matplotlib.patches as patches\n",
    "import ipywidgets as wg\n",
    "\n",
    "plt.rcParams[\"figure.figsize\"] = (12,3)"
   ]
  },
  {
   "cell_type": "code",
   "execution_count": null,
   "metadata": {
    "editable": true,
    "jupyter": {
     "source_hidden": true
    },
    "slideshow": {
     "slide_type": ""
    },
    "tags": []
   },
   "outputs": [],
   "source": [
    "# These are helper functions for the interactive plots used later in the notebook. No need to study or understand\n",
    "#  the code unless you are interested in advanced plotting and interactive widgets\n",
    "\n",
    "UC_LIM = 1.4\n",
    "UC_ARW = 0.1\n",
    "UC_ARC = 0.8\n",
    "UC_TXT = 1.2\n",
    "UC_PSZ = 5\n",
    "\n",
    "def wcolor(w):\n",
    "    if np.isclose(w, 0) or np.isclose(w, np.pi):\n",
    "        return 'C0'\n",
    "    elif w > 0:\n",
    "        return 'C2'\n",
    "    else:\n",
    "        return 'C3'\n",
    "    \n",
    "def arc(a=0, b=2*np.pi, r=1, pts=60, col='C0', arrow=False):\n",
    "    theta = np.linspace(a, b, pts)\n",
    "    plt.plot(r * np.cos(theta), r * np.sin(theta), color=col, linewidth=2)\n",
    "    if arrow:\n",
    "        d = np.sign(b) * UC_ARW\n",
    "        x = r * np.array([np.cos(b-d), np.sin(b-d)])\n",
    "        y = r * np.array([np.cos(b), np.sin(b)]) - x\n",
    "        plt.arrow(*x, *y, shape='full', lw=1, length_includes_head=True, head_width=.08, color=col)\n",
    "\n",
    "def ucsetup():\n",
    "    plt.gcf().set_figheight(UC_PSZ)\n",
    "    plt.gca().set_aspect('equal', 'box') \n",
    "    plt.gca().set(xlim=(-UC_LIM, UC_LIM), ylim=(-UC_LIM, UC_LIM))\n",
    "    plt.axvline(0, linewidth=0.8, color='k')\n",
    "    plt.axhline(0, linewidth=0.8, color='k')\n",
    "    plt.axis('off')  \n",
    "    arc()\n",
    "    \n",
    "def ucpoint(w, lb='', col='C2'):\n",
    "    x, y = np.cos(w), np.sin(w)\n",
    "    plt.plot([0, x], [0, y], color=col)\n",
    "    plt.plot(x, y, 'o', color=col)\n",
    "    plt.text(UC_TXT * x, UC_TXT * y, lb, ha='center', va='bottom' if np.round(y)==0 else 'center')          \n",
    "\n",
    "def ctspin(w):\n",
    "    w = np.fmod(w, 2 * np.pi)\n",
    "    ucsetup()\n",
    "    ucpoint(w, f'$e^{{j\\\\theta}}$', wcolor(w))\n",
    "    arc(0, w, r=UC_ARC, col='C1', arrow=True)\n",
    "    return w\n",
    "\n",
    "def dtspin(N, k, n=None):\n",
    "    ucsetup()\n",
    "    w = 2 * np.pi / N * k\n",
    "    for m in range(n+1 if n is not None else N):\n",
    "        ucpoint(w * m, f'$w_{{{k}}}[{m}]$', wcolor(np.pi - w))\n",
    "    ab = [0, w] if n is None else [w * (n-1), w * n]\n",
    "    arc(*ab, r=UC_ARC, col='C1', arrow=True)\n",
    "\n",
    "def ccspin(N, k, n=1):\n",
    "    ucsetup()\n",
    "    w = 2 * np.pi / N * k * n\n",
    "    ucpoint(w, f'$w_{{{k}}}[{n}]$')\n",
    "    ucpoint(-w, f'$w_{{{N-k}}}[{n}]$', 'C3')\n",
    "    plt.plot([np.cos(w), np.cos(w)], [np.sin(w), -np.sin(w)], 'C6')\n",
    "    plt.plot([np.cos(w), np.cos(w)], [np.sin(w), -np.sin(w)], 'oC6')\n",
    "    plt.plot([0, np.cos(w)], [0, 0], 'C9')\n",
    "    plt.plot(np.cos(w), 0, 'oC9')\n",
    "  \n",
    "def show_cex(N:int, k:int):\n",
    "    w = 2 * np.pi / N * k\n",
    "    cex = np.round(np.exp(1j * w * np.arange(N)), 3)\n",
    "    plt.subplot(1,2,1)\n",
    "    ucsetup()\n",
    "    arc(0, w, r=UC_ARC, col='C1', arrow=True)    \n",
    "    pts = {np.round(np.fmod(w * n, 2 * np.pi), 2): n for n in range(N-1,-1,-1)}\n",
    "    for p, n in pts.items():\n",
    "        ucpoint(n * w, f'$w_{{{k}}}[{n}]$', 'C2' if n < 2 else 'lightgray')\n",
    "    plt.subplot(2,2,2)\n",
    "    plt.stem(cex.real)\n",
    "    plt.title(f'$\\\\mathrm{{Re}}\\\\{{\\\\mathbf{{w}}_{{{k}}}\\\\}} = \\\\mathbf{{c}}_{{{k}}}$')\n",
    "    plt.subplot(2,2,4)\n",
    "    plt.stem(cex.imag)\n",
    "    plt.title(f'$\\\\mathrm{{Im}}\\\\{{\\\\mathbf{{w}}_{{{k}}}\\\\}} = \\\\mathbf{{s}}_{{{k}}}$')\n",
    "    plt.tight_layout()\n",
    "\n",
    "def show_freqs(N:int):\n",
    "    ucsetup()    \n",
    "    for k in range(N):\n",
    "        w = 2 * np.pi / N * k\n",
    "        if k < N / 2:\n",
    "            ucpoint(w, f'$\\\\omega_{{{k}}}$', wcolor(w))\n",
    "        elif k == N / 2:\n",
    "            ucpoint(np.pi, f'$\\\\omega_{{{k}}} = \\\\pi$', wcolor(0))\n",
    "        else:\n",
    "            ucpoint(w, f'$\\\\omega_{{{k}}} = -\\\\omega_{{{N-k}}}$', wcolor(np.pi - w))\n",
    "    plt.title(f'$N = {N}$')\n",
    "\n",
    "def display_sbs(interactive_widget):\n",
    "    c = interactive_widget.children\n",
    "    controls = wg.HBox(c[:-1], layout=wg.Layout(align_items='center'))\n",
    "    return display(wg.HBox([controls, c[-1]]))"
   ]
  },
  {
   "cell_type": "markdown",
   "metadata": {
    "editable": true,
    "slideshow": {
     "slide_type": ""
    },
    "tags": []
   },
   "source": [
    "# Introduction\n",
    "\n",
    "The fundamental intuition of Fourier analysis is that a signal, no matter how complicated its \"shape\", can always be represented as a weighted sum of sinusoidal oscillations; a Fourier transform is the method to compute the value of the necessary weights. \n",
    "\n",
    "In this notebook, all signals are going to be discrete-time signals of finite length $N$; unless otherwise noted, **we will assume $N$ to be an even integer**. A length-$N$ signal $\\mathbf{x}$ is simply an array of $N$ complex values; just like in C or Python, the individual samples will be denoted with an integer index within square brackets:\n",
    "$$\n",
    "  x[n], \\qquad n = 0, 1, \\ldots, N-1.\n",
    "$$"
   ]
  },
  {
   "cell_type": "markdown",
   "metadata": {
    "editable": true,
    "slideshow": {
     "slide_type": ""
    },
    "tags": []
   },
   "source": [
    "## Warmup: two test signals\n",
    "\n",
    "In the rest of this notebook we will use two simple test signals, defined below. These signals are uniquely defined for $0 \\le n < N$ but they can also be considered as periodic signals with period $N$; this will be useful when we will express them as the sum of $N$-periodic sinusoids."
   ]
  },
  {
   "cell_type": "markdown",
   "metadata": {
    "editable": true,
    "slideshow": {
     "slide_type": ""
    },
    "tags": []
   },
   "source": [
    "### A discrete-time square wave\n",
    "\n",
    "A balanced, discrete-time square wave with period $N$ samples is defined over $[0, N-1]$ as\n",
    "$$\n",
    "    q[n] = \\begin{cases} 0 & n =0, N/2 \\\\ 1 & 0 < n < N/2 \\\\ -1 & N/2 < n < N \\end{cases}\n",
    "$$\n",
    "and prolonged by periodicity over $\\mathbb{Z}$. We assume $N$ even, so that $N/2$ is an integer; the square wave is antisymmetric around its midpoint $N/2$, hence the adjective of \"balanced\".\n",
    "\n",
    "In Python, we can easily implement a generator for this signal using the modulo operation:"
   ]
  },
  {
   "cell_type": "code",
   "execution_count": null,
   "metadata": {
    "editable": true,
    "slideshow": {
     "slide_type": ""
    },
    "tags": []
   },
   "outputs": [],
   "source": [
    "def sqw(N: int, n: np.ndarray=None) -> np.ndarray:\n",
    "    # if no index range then return the values over [0, N-1]    \n",
    "    n = np.arange(N) if n is None else n\n",
    "    q = np.ones_like(n).astype(float)\n",
    "    q[np.mod(n, N/2) == 0] = 0\n",
    "    q[np.mod(n, N) > N/2] *= -1\n",
    "    return q"
   ]
  },
  {
   "cell_type": "markdown",
   "metadata": {
    "editable": true,
    "slideshow": {
     "slide_type": ""
    },
    "tags": []
   },
   "source": [
    "Here is the first period of the square wave"
   ]
  },
  {
   "cell_type": "code",
   "execution_count": null,
   "metadata": {
    "editable": true,
    "slideshow": {
     "slide_type": ""
    },
    "tags": []
   },
   "outputs": [],
   "source": [
    "N = 64\n",
    "plt.stem(sqw(N));"
   ]
  },
  {
   "cell_type": "markdown",
   "metadata": {
    "editable": true,
    "slideshow": {
     "slide_type": ""
    },
    "tags": []
   },
   "source": [
    "but we can also plot as many periods as we like:"
   ]
  },
  {
   "cell_type": "code",
   "execution_count": null,
   "metadata": {
    "editable": true,
    "slideshow": {
     "slide_type": ""
    },
    "tags": []
   },
   "outputs": [],
   "source": [
    "P = 12\n",
    "n = np.arange(-P * N, P * N)\n",
    "plt.plot(n, sqw(N, n));"
   ]
  },
  {
   "cell_type": "markdown",
   "metadata": {
    "editable": true,
    "slideshow": {
     "slide_type": ""
    },
    "tags": []
   },
   "source": [
    "### Exercise: a discrete-time triangular wave\n",
    "\n",
    "A discrete-time triangular signal with period $N$ samples is defined over $[0, N-1]$ as\n",
    "$$\n",
    "    t[n] = \\frac{4}{N}\\left|n - \\frac{N}{2}\\right| - 1\n",
    "$$\n",
    "and prolonged by periodicity over $\\mathbb{Z}$.\n",
    "\n",
    "Complete the code below to implement a generator for the periodic triangular signal."
   ]
  },
  {
   "cell_type": "code",
   "execution_count": null,
   "metadata": {
    "editable": true,
    "slideshow": {
     "slide_type": ""
    },
    "tags": []
   },
   "outputs": [],
   "source": [
    "def tri(N: int, n: np.ndarray=None) -> np.ndarray:\n",
    "    n = np.arange(N) if n is None else n\n",
    "    t = ...\n",
    "    return t"
   ]
  },
  {
   "cell_type": "code",
   "execution_count": null,
   "metadata": {
    "editable": true,
    "slideshow": {
     "slide_type": ""
    },
    "tags": []
   },
   "outputs": [],
   "source": [
    "N = 64\n",
    "plt.stem(tri(N));"
   ]
  },
  {
   "cell_type": "code",
   "execution_count": null,
   "metadata": {
    "editable": true,
    "slideshow": {
     "slide_type": ""
    },
    "tags": []
   },
   "outputs": [],
   "source": [
    "P = 10\n",
    "n = np.arange(-P * N, P * N)\n",
    "plt.plot(n, tri(N, n));"
   ]
  },
  {
   "cell_type": "markdown",
   "metadata": {
    "editable": true,
    "slideshow": {
     "slide_type": ""
    },
    "tags": []
   },
   "source": [
    "## Assembling signals from elementary building blocks\n",
    "\n",
    "The general idea behind any of the transform used in signal processing is the ability to express a signal as a linear combinations of elements drawn from a set of atomic building blocks with specific properties. A very convenient way to look at this comes from the equivalence between this decomposition and performing a change of basis in a vector space; the atomic elements are the basis vectors and the coefficients in the new basis simply express the same information as in the original signal in a different reference system. Still, even without the machinery of linear algebra, we can develop a good intuition for the process using numerical examples."
   ]
  },
  {
   "cell_type": "markdown",
   "metadata": {
    "editable": true,
    "slideshow": {
     "slide_type": ""
    },
    "tags": []
   },
   "source": [
    "### An elementary decomposition\n",
    "\n",
    "Before introducing the sinusoidal elements used in Fourier analysis, consider the set $D_N = \\{\\boldsymbol{\\delta}_k\\}_{0\\le k < N}$, where\n",
    "$$\n",
    "  \\delta_k[n] = \\begin{cases} 1 & n = k \\\\ 0 & n \\neq k \\end{cases}\n",
    "$$\n",
    "Each element in $D_N$ is a _time-selective_ element: the single nonzero value in $\\boldsymbol{\\delta}_k$ only encodes the information associated to the time index $n=k$."
   ]
  },
  {
   "cell_type": "code",
   "execution_count": null,
   "metadata": {
    "editable": true,
    "slideshow": {
     "slide_type": ""
    },
    "tags": []
   },
   "outputs": [],
   "source": [
    "def delta(k:int, N:int) -> np.ndarray:\n",
    "    d = np.zeros(N)\n",
    "    d[k] = 1\n",
    "    return d"
   ]
  },
  {
   "cell_type": "code",
   "execution_count": null,
   "metadata": {},
   "outputs": [],
   "source": [
    "plt.figure(figsize=(12, 2))\n",
    "\n",
    "N = 4\n",
    "for k in range(N):\n",
    "    plt.subplot(1, N, k+1)\n",
    "    plt.stem(delta(k, N))\n",
    "    plt.title(f'$\\\\boldsymbol{{\\\\delta}}_{k}$')\n",
    "plt.tight_layout()"
   ]
  },
  {
   "cell_type": "markdown",
   "metadata": {
    "editable": true,
    "slideshow": {
     "slide_type": ""
    },
    "tags": []
   },
   "source": [
    "The set $D_N$ provides the simplest example of signal decomposition; indeed, it's obvious that any $N$-point signal $\\mathbf{x}$ can be expressed as\n",
    "$$\n",
    "    \\mathbf{x} = \\sum_{k=0}^{N-1} d_k\\, \\boldsymbol{\\delta}_k; \n",
    "$$\n",
    "trivially, the coefficients of the linear combination are just the original signal values:\n",
    "$$\n",
    "    d_k = x[k].\n",
    "$$"
   ]
  },
  {
   "cell_type": "code",
   "execution_count": null,
   "metadata": {
    "editable": true,
    "slideshow": {
     "slide_type": ""
    },
    "tags": []
   },
   "outputs": [],
   "source": [
    "# you can use any signal\n",
    "x = sqw(10)\n",
    "\n",
    "# reconstruct the signal using atomic time elements\n",
    "N = len(x)\n",
    "y = np.zeros(N)\n",
    "for k in range(N):\n",
    "    y += x[k] * delta(k, N)\n",
    "\n",
    "plt.subplot(1,2,1)\n",
    "plt.stem(x)\n",
    "plt.title('$\\\\mathbf{{x}}$')\n",
    "plt.subplot(1,2,2)\n",
    "plt.stem(y)\n",
    "plt.title(f'$\\\\sum t_k \\\\, \\\\boldsymbol{{\\\\delta}}_k$')\n",
    "plt.tight_layout()"
   ]
  },
  {
   "cell_type": "markdown",
   "metadata": {
    "editable": true,
    "slideshow": {
     "slide_type": ""
    },
    "tags": []
   },
   "source": [
    "# Assembling signals from sinusoidal components\n",
    "\n",
    "A signal decomposition using the _time-selective_ elements $\\boldsymbol{\\delta}_k$ is clearly self-evident but it's a useful starting point to understand the DFT. In Fourier analysis the goal remains the same: expressing a signal as a sum of atomic components; but now the elements are _frequency-selective_ instead, that is, each atomic component is an oscillation at a given frequency.\n",
    "\n",
    "To develop an intuition for how this works, let's start by manually \"assembling\" the test signals we introduced earlier using a set of real-valued sinusoids. "
   ]
  },
  {
   "cell_type": "markdown",
   "metadata": {
    "editable": true,
    "slideshow": {
     "slide_type": ""
    },
    "tags": []
   },
   "source": [
    "## Harmonic sines and cosines\n",
    "\n",
    "Consider the family of discrete-time sine waves $S_N = \\{\\mathbf{s}_k\\}_{0\\le k < N}$ where\n",
    "$$\n",
    "    s_k[n] = \\sin\\left(\\omega_k\\,n\\right) \\qquad \\omega_k = \\frac{2\\pi}{N}k\n",
    "$$\n",
    "The $k$-th element in the family is an oscillation with _angular frequency_ $\\omega_k$ and, since all frequencies are integer multiples of the base frequency $2\\pi/N$, the oscillations in $S_N$ are called _harmonic_.\n",
    "\n",
    "Similarly, let $C_N = \\{\\mathbf{c}_k\\}_{0\\le k < N}$ be a family of $N$ harmonic _cosines_, where\n",
    "$$\n",
    "    c_k[n] = \\cos\\left(\\omega_k\\,n\\right), \\qquad \\omega_k = \\frac{2\\pi}{N}k\n",
    "$$"
   ]
  },
  {
   "cell_type": "markdown",
   "metadata": {
    "editable": true,
    "slideshow": {
     "slide_type": ""
    },
    "tags": []
   },
   "source": [
    "### Exercise: generators for harmonic sines and cosines \n",
    "\n",
    "Complete the function prototypes below so that they return the values of $s_k[n]$ and $c_k[n]$, respectively, for an arbitrary set of time values $n$"
   ]
  },
  {
   "cell_type": "code",
   "execution_count": null,
   "metadata": {
    "editable": true,
    "slideshow": {
     "slide_type": ""
    },
    "tags": []
   },
   "outputs": [],
   "source": [
    "def sin_N(N:int, k:int, n:np.ndarray=None) -> np.ndarray:\n",
    "    # if n is not specified, return the values over the [0, N-1] interval\n",
    "    n = np.arange(N) if n is None else n\n",
    "    ... # your code here\n",
    "    return s\n",
    "\n",
    "def cos_N(N:int, k:int, n:np.ndarray=None) -> np.ndarray:\n",
    "    # if n is not specified, return the values over the [0, N-1] interval\n",
    "    n = np.arange(N) if n is None else n\n",
    "    ... # your code here\n",
    "    return c"
   ]
  },
  {
   "cell_type": "markdown",
   "metadata": {
    "editable": true,
    "slideshow": {
     "slide_type": ""
    },
    "tags": []
   },
   "source": [
    "Let’s check that it works by plotting a few sinusoids over the range $[0, N-1]$:"
   ]
  },
  {
   "cell_type": "code",
   "execution_count": null,
   "metadata": {
    "editable": true,
    "slideshow": {
     "slide_type": ""
    },
    "tags": []
   },
   "outputs": [],
   "source": [
    "N = 1000\n",
    "for i, k in enumerate([1, 3, 5, 11]):\n",
    "    # use different amplitude scaling to make the plot more readable\n",
    "    plt.plot((2 - i/2) * sin_N(N, k))"
   ]
  },
  {
   "cell_type": "markdown",
   "metadata": {
    "editable": true,
    "slideshow": {
     "slide_type": ""
    },
    "tags": []
   },
   "source": [
    "### Building a square wave with sines\n",
    "\n",
    "Although we won't formally derive it here, it's relatively easy to show that the square wave $\\mathbf{q}$ can be built using the elements in $S_N$ as \n",
    "$$\n",
    "    \\mathbf{q} = \\sum_{k=0}^{N-1} \\alpha_k\\, \\mathbf{s}_k\n",
    "$$\n",
    "with\n",
    "$$\n",
    "    \\alpha_k = \\begin{cases} 0 & k \\mathrm{~even} \\\\ \\displaystyle \\frac{2}{N\\tan(\\pi k /N)}  & k \\mathrm{~odd} \\end{cases}\n",
    "$$\n",
    "Perhaps surprisingly, it appears that a linear combination of smooth sine waves can reproduce a signal with abrupt amplitude jumps. \n",
    "\n",
    "Here is an implementation of the square wave generator using a sum of sines; we can verify numerically that the result is identical to the original square wave:"
   ]
  },
  {
   "cell_type": "code",
   "execution_count": null,
   "metadata": {
    "editable": true,
    "slideshow": {
     "slide_type": ""
    },
    "tags": []
   },
   "outputs": [],
   "source": [
    "def sqw_sines(N: int, n: np.ndarray=None, L: int=0) -> np.ndarray:\n",
    "    n = np.arange(N) if n is None else n\n",
    "    q = np.zeros_like(n).astype(float)   \n",
    "    for k in range(1, N if L == 0 else L, 2):          \n",
    "        a = 2 / (N * np.tan(np.pi / N * k))\n",
    "        q += a * sin_N(N, k, n) \n",
    "    return q"
   ]
  },
  {
   "cell_type": "code",
   "execution_count": null,
   "metadata": {
    "editable": true,
    "slideshow": {
     "slide_type": ""
    },
    "tags": []
   },
   "outputs": [],
   "source": [
    "M = 10\n",
    "np.allclose(sqw_sines(M), sqw(M))"
   ]
  },
  {
   "cell_type": "code",
   "execution_count": null,
   "metadata": {
    "editable": true,
    "slideshow": {
     "slide_type": ""
    },
    "tags": []
   },
   "outputs": [],
   "source": [
    "N, P = 64, 12\n",
    "n = np.arange(-P * N, P * N)\n",
    "plt.plot(n, sqw_sines(N, n));"
   ]
  },
  {
   "cell_type": "markdown",
   "metadata": {
    "editable": true,
    "slideshow": {
     "slide_type": ""
    },
    "tags": []
   },
   "source": [
    "By plotting partial sums we can appreciate how the square signal emerges incrementally as more sinusoidal components are added together; you should also note two things:\n",
    " * since all the even-indexed coefficients are zero, the partial sum only changes every 2 steps\n",
    " * it appears as if the shape of the square wave has already emerged after using only $N/2$ terms in the sum; this is not a coincidence and the reason will be clearer by the end of the notebook "
   ]
  },
  {
   "cell_type": "code",
   "execution_count": null,
   "metadata": {
    "editable": true,
    "slideshow": {
     "slide_type": ""
    },
    "tags": []
   },
   "outputs": [],
   "source": [
    "def plot_partial(wave, N):\n",
    "    def render(N, L):\n",
    "        plt.figure(figsize=(8, 3));\n",
    "        plt.plot(wave(N, L=L))\n",
    "        plt.title(f\"partial sum with {L} terms\")\n",
    "        plt.grid()\n",
    "        plt.ylim(-1.1,1.1)\n",
    "\n",
    "    return wg.interactive(render, wave=wg.fixed(wave), N=wg.fixed(N), L=wg.IntSlider(2, 2, N,2))"
   ]
  },
  {
   "cell_type": "code",
   "execution_count": null,
   "metadata": {
    "editable": true,
    "slideshow": {
     "slide_type": ""
    },
    "tags": []
   },
   "outputs": [],
   "source": [
    "plot_partial(sqw_sines, 200)"
   ]
  },
  {
   "cell_type": "markdown",
   "metadata": {
    "editable": true,
    "slideshow": {
     "slide_type": ""
    },
    "tags": []
   },
   "source": [
    "### Exercise: building a triangular wave with cosines\n",
    "\n",
    "The triangular wave $\\mathbf{t}$ can be expressed as a linear combination of harmonic cosines in $C_N$:\n",
    "$$\n",
    "    \\mathbf{t} = \\sum_{k=0}^{N-1} \\beta_k\\, \\mathbf{c}_k\n",
    "$$\n",
    "where\n",
    "$$\n",
    "    \\beta_k = \\begin{cases} 0 & k \\mathrm{~even} \\\\ \\displaystyle \\left[\\frac{2}{N}\\,\\left(1 + \\frac{1}{\\tan(\\pi k/N)}\\right)\\right]^2 & k \\mathrm{~odd} \\end{cases}\n",
    "$$\n",
    "\n",
    "Implement a generator for the triangle wave using harmonic cosines."
   ]
  },
  {
   "cell_type": "code",
   "execution_count": null,
   "metadata": {
    "editable": true,
    "slideshow": {
     "slide_type": ""
    },
    "tags": []
   },
   "outputs": [],
   "source": [
    "def tri_cosines(N: int, n: np.ndarray=None, L: int=0) -> np.ndarray:\n",
    "    n = np.arange(N) if n is None else n\n",
    "    ...\n",
    "    return t"
   ]
  },
  {
   "cell_type": "code",
   "execution_count": null,
   "metadata": {
    "editable": true,
    "slideshow": {
     "slide_type": ""
    },
    "tags": []
   },
   "outputs": [],
   "source": [
    "M = 1002\n",
    "np.allclose(tri_cosines(M), tri(M))"
   ]
  },
  {
   "cell_type": "code",
   "execution_count": null,
   "metadata": {
    "editable": true,
    "slideshow": {
     "slide_type": ""
    },
    "tags": []
   },
   "outputs": [],
   "source": [
    "N, P = 64, 12\n",
    "n = np.arange(-P * N, P * N)\n",
    "plt.plot(n, tri_cosines(N, n));"
   ]
  },
  {
   "cell_type": "code",
   "execution_count": null,
   "metadata": {
    "editable": true,
    "slideshow": {
     "slide_type": ""
    },
    "tags": []
   },
   "outputs": [],
   "source": [
    "plot_partial(tri_cosines, 100)"
   ]
  },
  {
   "cell_type": "markdown",
   "metadata": {
    "editable": true,
    "slideshow": {
     "slide_type": ""
    },
    "tags": []
   },
   "source": [
    "## Symmetries\n",
    "\n",
    "All the harmonic cosines in $C_N$ are symmetric signals whereas all the harmonic sines in $S_N$ are antisymmetric:\n",
    "\\begin{align}\n",
    "    c_{k}[n] &= c_k[N-n] \\\\\n",
    "    s_{k}[n] &= -s_k[N-n]\n",
    "\\end{align}\n",
    "As a consequence, a signal generated using elements of $C_N$ will also be symmetric (as in the case of the triangular wave); similarly, a signal generated using only elements of $S_N$ will always be antisymmetric. If we want to build signals with no symmetries, we need to use elements from _both_ $C_N$ and $S_N$ in the linear combination:\n",
    "$$\n",
    "    \\mathbf{x} = \\sum_{k=0}^{N-1} \\alpha_k\\, \\mathbf{s}_k + \\sum_{k=0}^{N-1} \\beta_k\\, \\mathbf{c}_k\n",
    "$$"
   ]
  },
  {
   "cell_type": "markdown",
   "metadata": {
    "editable": true,
    "slideshow": {
     "slide_type": ""
    },
    "tags": []
   },
   "source": [
    "## How do we compute the coefficients?\n",
    "\n",
    "So far, in the examples on how to build a signal with harmonic sines and cosines, the coefficients for the linear combination of sinusoidal elements have just been \"given\" without a derivation; and so, of course, the big question is: how can we compute the coefficients needed to generate an arbitrary signal? The answer is going to be provided by the DFT analysis formula.Before we get to it, however, let's introduce a new family of sinusoidal building blocks that will greatly simplify both the notation and the implementation of the DFT algorithms. \n",
    "\n",
    "As we just saw, to generate an arbitrary signal we need elements from $S_N$ and $C_N$ at the same time; but this makes the notation messy since we need to keep track of two distinct sums with different summation ranges and coefficients. Instead, it is much more convenient to use _complex-valued sinusoids_ as the elementary building blocks. There are three main advantages to this choice:\n",
    " * the notation becomes more compact than by using sines and cosines\n",
    " * trigonometric relations translate to simple complex algebra\n",
    " * a linear combination of complex-valued sinusoids can be used to build both real-valued or complex-valued signals."
   ]
  },
  {
   "cell_type": "markdown",
   "metadata": {
    "editable": true,
    "slideshow": {
     "slide_type": ""
    },
    "tags": []
   },
   "source": [
    "Let $W_N = \\{\\mathbf{w}_k\\}_{0 \\le k < N}$ be the family of complex-valued harmonic oscillations of length $N$ defined as\n",
    "$$\n",
    "    w_k[n] = e^{j\\omega_k n}, \\quad \\omega_k = \\frac{2\\pi}{N}k.\n",
    "$$\n",
    "Any length-$N$ signal $\\mathbf{x}$ can be expressed as the linear combination\n",
    "$$\n",
    "    \\mathbf{x} = \\frac{1}{N} \\sum_{k=0}^{N-1} X[k] \\mathbf{w}_k;\n",
    "$$\n",
    "the vector of $N$ complex-valued coefficients $\\mathbf{X}$ is called the Discrete Fourier Transform of $\\mathbf{x}$ and it can be computed as \n",
    "$$\n",
    "  \\mathbf{X} = \\sum^{N-1}_{n=0} x[n] \\mathbf{w}^*_n.\n",
    "$$\n",
    "\n",
    "Let's unpack this one piece at a time"
   ]
  },
  {
   "cell_type": "markdown",
   "metadata": {
    "editable": true,
    "slideshow": {
     "slide_type": ""
    },
    "tags": []
   },
   "source": [
    "## The complex exponential\n",
    "\n",
    "The expression $e^{j\\theta}$ represents a point on the unit circle in the complex plane placed at an angle of $\\theta$ radians measured _counterclockwise_ from the horizontal axis. The Cartesian coordinates of this point on the plane are its real and imaginary parts, that is, \n",
    "$$\n",
    "    e^{j\\theta} = cos\\theta + j\\sin\\theta.\n",
    "$$\n",
    "\n",
    "Note that:\n",
    " * the position of the point is a $2\\pi$-periodic function of the angle: $e^{j(\\theta + 2m\\pi)} = e^{j\\theta}$ for any $m \\in \\mathbb{Z}$\n",
    " * if the angle is negative, the position of the point is measured _clockwise_ from the real axis\n",
    " * complex conjugation flips the sign of the angle: $(e^{j\\theta})^* = e^{-j\\theta}$\n",
    "\n",
    "Because of the $2\\pi$-periodicity, it is customary to _wrap_ the phase of a complex exponential over the interval $[-\\pi, \\pi]$; indeed, any point on the upper half of the unit circle can be reached via a **counterclockwise** rotation with $0 \\le \\theta \\le \\pi$ radians while points on the lower half can be reached via a **clockwise** rotation with $-\\pi \\le \\theta \\le 0$"
   ]
  },
  {
   "cell_type": "code",
   "execution_count": null,
   "metadata": {},
   "outputs": [],
   "source": [
    "ws = wg.FloatSlider(value=0, min=-15, max=15, description='$\\\\theta$')\n",
    "display_sbs(wg.interactive(ctspin, w=ws))"
   ]
  },
  {
   "cell_type": "markdown",
   "metadata": {
    "editable": true,
    "slideshow": {
     "slide_type": ""
    },
    "tags": []
   },
   "source": [
    "## Complex-valued harmonic oscillations\n",
    "\n",
    "The family $W_N = \\{\\mathbf{w}_k\\}_{0 \\le k < N}$ is a set of $N$ discrete-time, complex-valued, harmonic oscillations where\n",
    "$$\n",
    "    w_k[n] = e^{j\\omega_k n} = \\cos(\\omega_k n) + j \\sin(\\omega_k n), \\qquad \\omega_k = \\frac{2\\pi}{N}k\n",
    "$$\n",
    "The $N$ samples in $\\mathbf{w}_k$ describe the position of a point on the complex plane that rotates _counterclockwise_ around the unit circle in angular increments of $\\omega_k$ radians; the Cartesian coordinates of $w_k[n]$ are thus the cosine and the sine of the angle $\\omega_k n$:\n",
    "\n",
    "With NumPy, complex-valued computations are straightforward and we can generate the elements in $W_N$ as:"
   ]
  },
  {
   "cell_type": "code",
   "execution_count": null,
   "metadata": {
    "editable": true,
    "slideshow": {
     "slide_type": ""
    },
    "tags": []
   },
   "outputs": [],
   "source": [
    "def cex_N(N:int, k:int, n:np.ndarray=None) -> np.ndarray:\n",
    "    n = np.arange(N) if n is None else n\n",
    "    return np.exp(2j * np.pi / N * k * n)"
   ]
  },
  {
   "cell_type": "markdown",
   "metadata": {},
   "source": [
    "The following interactive plot displays the samples in $\\mathbf{w}_k$ as points on the complex plane and as plots of their real and imaginary parts (if multiple points fall on the same position, only the first label is shown):"
   ]
  },
  {
   "cell_type": "code",
   "execution_count": null,
   "metadata": {
    "editable": true,
    "slideshow": {
     "slide_type": ""
    },
    "tags": []
   },
   "outputs": [],
   "source": [
    "N = 16\n",
    "display_sbs(wg.interactive(show_cex, N=wg.fixed(N), k=wg.IntSlider(1, 1, N-1)))"
   ]
  },
  {
   "cell_type": "markdown",
   "metadata": {
    "editable": true,
    "slideshow": {
     "slide_type": ""
    },
    "tags": []
   },
   "source": [
    "### Positive and negative frequencies\n",
    "\n",
    "The complex values in $\\mathbf{w}_k$ describe the trajectory of a point that rotates **counterclockwise** on the unit circle in discrete steps of $\\omega_k = (2\\pi/N)k$ radians. However, when $\\omega_k > \\pi$ (that is, when $k > N/2$), the trajectory is equivalent to a **clockwise** rotation with _negative_ step size $-(2\\pi - \\omega_k)$. Therefore:\n",
    "\n",
    " * for $0 \\le k \\le N / 2$ the frequency associated to $\\mathbf{w}_k$ is positive, between zero and $\\pi$; the complex oscillation rotates counterclockwise around the unit circle\n",
    " * for $N/2 < k < N$ the frequency associated to $\\mathbf{w}_k$ is _negative_, between $\\pi$ and zero; the complex oscillation rotates clockwise around the unit circle\n",
    "\n",
    "The following interactive widget allows you get a feeling for this phenomenon. Start with $k$ small and move the slider for $n$ to see the counterclockwise movement around the unit circle. Now set $k$ around its maximum value and see how the sequence of points appear to be moving clockwise."
   ]
  },
  {
   "cell_type": "code",
   "execution_count": null,
   "metadata": {
    "editable": true,
    "slideshow": {
     "slide_type": ""
    },
    "tags": []
   },
   "outputs": [],
   "source": [
    "N = 16\n",
    "ks, ns = wg.IntSlider(1, 1, N-1), wg.IntSlider(1, 1, N-1)\n",
    "def reset_n(*args):\n",
    "    ns.value = 1\n",
    "ks.observe(reset_n, 'value')\n",
    "display_sbs(wg.interactive(dtspin, N=wg.fixed(N), n=ns, k=ks))"
   ]
  },
  {
   "cell_type": "markdown",
   "metadata": {
    "editable": true,
    "slideshow": {
     "slide_type": ""
    },
    "tags": []
   },
   "source": [
    "### Relationship to sines and cosines\n",
    "\n",
    "Because of periodicity we have\n",
    "$$\n",
    "    w_{N-k}[n] = e^{j(2\\pi/N)(N-k)n} = e^{-j\\omega_k n} = (e^{j\\omega_k n})^* = (w_{k}[n])^*\n",
    "$$\n",
    "or, in vector notation, remembering the index symmetries of harmonic sines and cosines,\n",
    "$$\n",
    "  \\mathbf{w}_{N-k} = \\mathbf{c}_{N-k} + j\\,\\mathbf{s}_{N-k} = \\mathbf{c}_{k} - j\\,\\mathbf{s}_{k} = \\mathbf{w}^*_k\n",
    "$$\n",
    "\n",
    "This means that every complex oscillation in $W_N$ has a \"companion\" spinning at the same angular speed but in the opposite direction; these complementary elements can be added and subtracted to obtain real-valued sinusoids:\n",
    "\\begin{align}\n",
    "    \\mathbf{w}_k + \\mathbf{w}_{N-k} &= 2\\,\\mathbf{c}_k \\\\\n",
    "    \\mathbf{w}_k - \\mathbf{w}_{N-k} &= 2j\\,\\mathbf{s}_k \\\\\n",
    "\\end{align}\n",
    "\n",
    "The following widget allows you to visualize the relationship between the real and imaginary parts of $w_k[n]$ and $w_{N-k}[n]$; remember that if $k < N/2$ then $w_k[n]$ will be associated to a positive frequency $\\omega_k$ while $w_{N-k}[n]$ to the _negative_ frequency $-\\omega_k$"
   ]
  },
  {
   "cell_type": "code",
   "execution_count": null,
   "metadata": {
    "editable": true,
    "slideshow": {
     "slide_type": ""
    },
    "tags": []
   },
   "outputs": [],
   "source": [
    "display_sbs(wg.interactive(ccspin, N=wg.fixed(N), n=ns, k=ks))"
   ]
  },
  {
   "cell_type": "markdown",
   "metadata": {
    "editable": true,
    "slideshow": {
     "slide_type": ""
    },
    "tags": []
   },
   "source": [
    "## Building signals with the Fourier basis: the IDFT\n",
    "\n",
    "Any length-$N$ discrete-time signal $\\mathbf{x}$ can be expressed as a linear combination of $N$ harmonic complex exponentials:\n",
    "$$\n",
    "    \\mathbf{x} = \\frac{1}{N} \\sum_{k=0}^{N-1} X[k] \\mathbf{w}_k.\n",
    "$$\n",
    "This expression is called the _inverse DFT_; the (direct) DFT is the algorithm to compute the values of the Fourier coefficients $\\mathbf{X}$. In this section we will just verify that we can use the IDFT to build our test signals."
   ]
  },
  {
   "cell_type": "markdown",
   "metadata": {
    "editable": true,
    "slideshow": {
     "slide_type": ""
    },
    "tags": []
   },
   "source": [
    "### Symmetries\n",
    "\n",
    "If $\\mathbf{X}$ is a vector of complex-valued Fourier coefficients, let $X[k] = X_r[k] + j\\,X_i[k]$. Here are two important cases:\n",
    "\n",
    " 1. **real, symmetric coefficients:** If $X_r[k] = X_r[N-k]$ and $X_i[k] = 0$, then the imaginary parts of the complex oscillations will cancel out and the signal will be real and symmetric:\n",
    "\\begin{align}\n",
    "    x[n] &= \\frac{1}{N}\\left( X_r[0] + \\sum_{k=1}^{N/2-1} X_r[k] (w_k[n] + w_{N-k}[n]) + X_r[N-1]w_{N/2}[n]\\right) \\\\\n",
    "      &= \\frac{1}{N}\\left( X_r[0] + (-1)^nX_r[N-1] + \\sum_{k=1}^{N/2-1} 2X_r[k] \\, \\cos(\\omega_k n) \\right) \\in \\mathbb{R}\n",
    "\\end{align}  \n",
    " 1. **imaginary, antisymmetric coefficients:** If $X_i[k] = -X_i[N-k]$ and $X_r[k] = 0$, then the real parts of the complex oscillations will cancel out and the signal will be real and antisymmetric\n",
    "\\begin{align}\n",
    "    x[n] &= \\frac{1}{N}\\sum_{k=1}^{N/2-1} j\\,X_i[k] (w_k[n] - w_{N-k}[n]) \\\\\n",
    "      &= -\\frac{1}{N} \\sum_{k=1}^{N/2-1} 2X_i[k] \\, \\sin(\\omega_k n)  \\in \\mathbb{R}\n",
    "\\end{align}  \n",
    "\n",
    "Therefore:\n",
    " * if the coefficients are real and symmetric the signal will be real and symmetric\n",
    " * if the coefficients are imaginary and antisymmetric, the signal will be real and antisymmetric\n",
    "\n",
    "Similarly, if a signal is real-valued:\n",
    " * the real part of its Fourier coefficients will be symmetric\n",
    " * the imaginary part of its Fourier coefficients will be antisymmetric\n",
    " * the magnitude of its Fourier coefficients will be symmetric"
   ]
  },
  {
   "cell_type": "markdown",
   "metadata": {
    "editable": true,
    "slideshow": {
     "slide_type": ""
    },
    "tags": []
   },
   "source": [
    "### Example: gnerating sines and cosines\n",
    "\n",
    "Consider an $N$-point vector $\\mathbf{A}_i$ with only two complex-conjugate nonzero values:\n",
    "$$\n",
    "    A_i[k] = \\begin{cases} (N/2)a & k = i \\\\ (N/2)a^* & k = N-i \\\\ 0 & \\text{otherwise} \\end{cases}\n",
    "$$\n",
    "According to the formulas we just derived, if we take the IDFT of $\\mathbf{A}_i$ we should obtain\n",
    "$$\n",
    "    \\mathrm{IDFT}\\{\\mathbf{A}_i\\} = \\begin{cases} \\mathbf{c}_i & \\text{if $a$ is real} \\\\ -\\mathbf{s}_i & \\text{if $a$ is imaginary} \\end{cases}\n",
    "$$\n",
    "\n",
    "Let's verify this numerically; to compute the IDFT we will use NumPy's built-in `np.fft.ifft` routine.\n"
   ]
  },
  {
   "cell_type": "code",
   "execution_count": null,
   "metadata": {
    "editable": true,
    "slideshow": {
     "slide_type": ""
    },
    "tags": []
   },
   "outputs": [],
   "source": [
    "def testIDFT(N, i, a):\n",
    "    A = np.zeros(N).astype(complex)\n",
    "    A[i] = (N / 2) * a\n",
    "    A[N-i] = (N / 2) * np.conj(a)\n",
    "    x = np.fft.ifft(A)\n",
    "    plt.plot(cos_N(N, i), label=f'$\\\\mathbf{{c}}_{{{i}}}$')\n",
    "    plt.plot(-sin_N(N, i), label=f'$-\\\\mathbf{{s}}_{{{i}}}$')\n",
    "    plt.plot(x.real, 'o', label=f'IDFT{{$\\\\mathbf{{A}}_{{{i}}}$}}')  \n",
    "    plt.legend()"
   ]
  },
  {
   "cell_type": "code",
   "execution_count": null,
   "metadata": {
    "editable": true,
    "slideshow": {
     "slide_type": ""
    },
    "tags": []
   },
   "outputs": [],
   "source": [
    "testIDFT(64, 3, 1)"
   ]
  },
  {
   "cell_type": "code",
   "execution_count": null,
   "metadata": {
    "editable": true,
    "slideshow": {
     "slide_type": ""
    },
    "tags": []
   },
   "outputs": [],
   "source": [
    "testIDFT(64, 5, 1j)"
   ]
  },
  {
   "cell_type": "markdown",
   "metadata": {
    "editable": true,
    "slideshow": {
     "slide_type": ""
    },
    "tags": []
   },
   "source": [
    "### Example: square wave revisited\n",
    "\n",
    "The square wave is antisymmetric so its expression using the IDFT will be\n",
    "$$\n",
    "    \\mathbf{q} = \\frac{1}{N} \\sum_{k=0}^{N-1} Q[k] \\mathbf{w}_k = \\sum_{k=1}^{N/2-1} -\\frac{2}{N}Q_i[k] \\, \\mathbf{s}_k\n",
    "$$\n",
    "By comparing this to the earlier expression using sines we can derive the Fourier coefficients for the square wave: \n",
    "$$\n",
    "    Q[k] = \\begin{cases} 0 & k \\text{~even} \\\\ \\displaystyle \\frac{-2j}{\\tan(\\pi k /N)}  & k \\text{~odd} \\end{cases}\n",
    "$$"
   ]
  },
  {
   "cell_type": "code",
   "execution_count": null,
   "metadata": {
    "editable": true,
    "slideshow": {
     "slide_type": ""
    },
    "tags": []
   },
   "outputs": [],
   "source": [
    "def sqw_idft(N: int, n: np.ndarray=None) -> np.ndarray:\n",
    "    n = np.arange(N) if n is None else np.mod(n, N)\n",
    "    q = np.fft.ifft([-2j / np.tan(np.pi / N * k) if k % 2 == 1 else 0 for k in range(N)]).real\n",
    "    return q[n]"
   ]
  },
  {
   "cell_type": "code",
   "execution_count": null,
   "metadata": {
    "editable": true,
    "slideshow": {
     "slide_type": ""
    },
    "tags": []
   },
   "outputs": [],
   "source": [
    "M = 1002\n",
    "np.allclose(sqw_idft(M), sqw(M))"
   ]
  },
  {
   "cell_type": "markdown",
   "metadata": {
    "editable": true,
    "slideshow": {
     "slide_type": ""
    },
    "tags": []
   },
   "source": [
    "### Exercise: triangular wave revisited\n",
    "\n",
    "Complete the code below to generate a triangular wave using the IDFT; the Fourier coefficients are \n",
    "$$\n",
    "    T[k] = \\begin{cases} 0 & k \\text{~even} \\\\ \\displaystyle \\frac{4}{N}\\,\\left(1 + \\frac{1}{\\tan^2(\\pi k/N)}\\right) & k \\text{~odd} \\end{cases}\n",
    "$$"
   ]
  },
  {
   "cell_type": "code",
   "execution_count": null,
   "metadata": {
    "editable": true,
    "slideshow": {
     "slide_type": ""
    },
    "tags": []
   },
   "outputs": [],
   "source": [
    "def tri_idft(N: int, n: np.ndarray=None) -> np.ndarray:\n",
    "    n = np.arange(N) if n is None else np.mod(n, N)\n",
    "    ... # your code here\n",
    "    return t[n]"
   ]
  },
  {
   "cell_type": "markdown",
   "metadata": {
    "editable": true,
    "slideshow": {
     "slide_type": ""
    },
    "tags": []
   },
   "source": [
    "Using the same reasoning as before, but considering that the triangular wave is symmetric, we can write\n"
   ]
  },
  {
   "cell_type": "code",
   "execution_count": null,
   "metadata": {
    "editable": true,
    "slideshow": {
     "slide_type": ""
    },
    "tags": []
   },
   "outputs": [],
   "source": [
    "M = 14\n",
    "np.allclose(tri_idft(M), tri(M))"
   ]
  },
  {
   "cell_type": "markdown",
   "metadata": {
    "editable": true,
    "slideshow": {
     "slide_type": ""
    },
    "tags": []
   },
   "source": [
    "## Parity\n",
    "\n",
    "So far we have always assumed that all signals have _even_ length $N = 2M$; in this case, the signal's midpoint $N/2 = M$ is also an integer. If $N$ is odd, so that $N = 2M+1$, everything we discussed remains valid as long as we replace the non-integer value $N/2$ with the integer index $(N-1)/2 = M$. \n",
    "\n",
    "In terms of the Fourier basis, the main difference between $N$ even and odd is that, for $N$ even, the set $W_{N}$ contains an oscillation at the maximum discrete-time frequency $\\pi$ which is not present for $N$ odd. Indeed, if $N=2M$,\n",
    "$$\n",
    "    w_{M}[n] = e^{j\\frac{2\\pi}{2M}Mn} = e^{j\\pi n} = (-1)^n\n",
    "$$\n",
    "Note that this is consistent with the index symmetry of the Fourier elements given by $\\mathbf{w}_{N-k} = \\mathbf{w}^*_k$; for $k=M$ this becomes $\\mathbf{w}_{M} = \\mathbf{w}^*_M$ which requires $\\mathbf{w}_{M}$ to be real-valued. \n",
    "\n",
    "The following plot shows the $N$ angular frequencies $\\omega_k$ associated to the elements of $W_{N}$ and $W_{N+1}$:"
   ]
  },
  {
   "cell_type": "code",
   "execution_count": null,
   "metadata": {
    "editable": true,
    "slideshow": {
     "slide_type": ""
    },
    "tags": []
   },
   "outputs": [],
   "source": [
    "def odd_even(N):\n",
    "    plt.subplot(1,2,1)\n",
    "    show_freqs(N)\n",
    "    plt.subplot(1,2,2)\n",
    "    show_freqs(N+1)\n",
    "\n",
    "display_sbs(wg.interactive(odd_even, N=wg.IntSlider(3, 3, 20)))"
   ]
  },
  {
   "cell_type": "markdown",
   "metadata": {
    "editable": true,
    "slideshow": {
     "slide_type": ""
    },
    "tags": []
   },
   "source": [
    "Just as for the frequency $\\omega_0 = 1$, the frequency $\\omega = \\pi$ can be interpreted indifferently as positive or negative since\n",
    "$$\n",
    "    e^{j\\pi n} = e^{-j\\pi n}.\n",
    "$$\n",
    "This will be important in the second part of this notebook, when we address the question of how to plot the set Fourier coefficients"
   ]
  }
 ],
 "metadata": {
  "kernelspec": {
   "display_name": "Python 3 (ipykernel)",
   "language": "python",
   "name": "python3"
  },
  "language_info": {
   "codemirror_mode": {
    "name": "ipython",
    "version": 3
   },
   "file_extension": ".py",
   "mimetype": "text/x-python",
   "name": "python",
   "nbconvert_exporter": "python",
   "pygments_lexer": "ipython3",
   "version": "3.12.3"
  }
 },
 "nbformat": 4,
 "nbformat_minor": 4
}
