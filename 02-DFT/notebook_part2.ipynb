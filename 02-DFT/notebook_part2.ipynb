{
 "cells": [
  {
   "cell_type": "markdown",
   "metadata": {
    "editable": true,
    "slideshow": {
     "slide_type": ""
    },
    "tags": []
   },
   "source": [
    "<div style=\"margin: 0 auto 30px; height: 60px; border: 2px solid gray; border-radius: 6px;\">\n",
    "  <div style=\"float: left;\"><img src=\"assets/epfl.png\" /></div>\n",
    "  <div style=\"float: right; margin: 20px 30px 0; font-size: 10pt; font-weight: bold;\"><a href=\"https://moodle.epfl.ch/course/view.php?id=18253\">COM202 - Signal Processing</a></div>\n",
    "</div>\n",
    "<div style=\"clear: both; font-size: 30pt; font-weight: bold; color: #483D8B;\">\n",
    "    Lab 2.B: the DFT: implementation, frequency plots, applications\n",
    "</div>"
   ]
  },
  {
   "cell_type": "markdown",
   "metadata": {
    "editable": true,
    "slideshow": {
     "slide_type": ""
    },
    "tags": []
   },
   "source": [
    "In this two-part notebook we will study the properties and the applications of the Discrete Fourier Transform (DFT), arguably the most important analysis tool in digital signal processing. \n",
    "\n",
    "In this second part we will focus on more practical aspects of the DFT: \n",
    " * we will look at the DFT as a numerical algorithm that we can implement\n",
    " * we will study how to plot the DFT coefficients\n",
    " * we will look at the achievable frequency resolution and frequency identification\n",
    "\n",
    "At the end of this lab you should be able to \n",
    "- understand how to plot and interpret the spectrum of a signal\n",
    "- understand how to apply the DFT to real-world signals"
   ]
  },
  {
   "cell_type": "code",
   "execution_count": null,
   "metadata": {
    "editable": true,
    "slideshow": {
     "slide_type": ""
    },
    "tags": []
   },
   "outputs": [],
   "source": [
    "# Import necessary libraries\n",
    "import numpy as np\n",
    "import matplotlib.pyplot as plt\n",
    "import matplotlib.patches as patches\n",
    "import ipywidgets as wg\n",
    "\n",
    "plt.rcParams[\"figure.figsize\"] = (12,3)"
   ]
  },
  {
   "cell_type": "code",
   "execution_count": null,
   "metadata": {
    "editable": true,
    "jupyter": {
     "source_hidden": true
    },
    "slideshow": {
     "slide_type": ""
    },
    "tags": []
   },
   "outputs": [],
   "source": [
    "# These are helper functions for the interactive plots used later in the notebook. No need to study or understand\n",
    "#  the code unless you are interested in advanced plotting and interactive widgets\n",
    "\n",
    "UC_LIM = 1.4\n",
    "UC_ARW = 0.1\n",
    "UC_ARC = 0.8\n",
    "UC_TXT = 1.2\n",
    "UC_PSZ = 5\n",
    "\n",
    "def wcolor(w):\n",
    "    if np.isclose(w, 0) or np.isclose(w, np.pi):\n",
    "        return 'C0'\n",
    "    elif w > 0:\n",
    "        return 'C2'\n",
    "    else:\n",
    "        return 'C3'\n",
    "    \n",
    "def arc(a=0, b=2*np.pi, r=1, pts=60, col='C0', arrow=False):\n",
    "    theta = np.linspace(a, b, pts)\n",
    "    plt.plot(r * np.cos(theta), r * np.sin(theta), color=col, linewidth=2)\n",
    "    if arrow:\n",
    "        d = np.sign(b) * UC_ARW\n",
    "        x = r * np.array([np.cos(b-d), np.sin(b-d)])\n",
    "        y = r * np.array([np.cos(b), np.sin(b)]) - x\n",
    "        plt.arrow(*x, *y, shape='full', lw=1, length_includes_head=True, head_width=.08, color=col)\n",
    "\n",
    "def ucsetup():\n",
    "    plt.gcf().set_figheight(UC_PSZ)\n",
    "    plt.gca().set_aspect('equal', 'box') \n",
    "    plt.gca().set(xlim=(-UC_LIM, UC_LIM), ylim=(-UC_LIM, UC_LIM))\n",
    "    plt.axvline(0, linewidth=0.8, color='k')\n",
    "    plt.axhline(0, linewidth=0.8, color='k')\n",
    "    plt.axis('off')  \n",
    "    arc()\n",
    "    \n",
    "def ucpoint(w, lb='', col='C2'):\n",
    "    x, y = np.cos(w), np.sin(w)\n",
    "    plt.plot([0, x], [0, y], color=col)\n",
    "    plt.plot(x, y, 'o', color=col)\n",
    "    plt.text(UC_TXT * x, UC_TXT * y, lb, ha='center', va='bottom' if np.round(y)==0 else 'center')          \n",
    "\n",
    "def ctspin(w):\n",
    "    w = np.fmod(w, 2 * np.pi)\n",
    "    ucsetup()\n",
    "    ucpoint(w, f'$e^{{j\\\\theta}}$', wcolor(w))\n",
    "    arc(0, w, r=UC_ARC, col='C1', arrow=True)\n",
    "    return w\n",
    "\n",
    "def dtspin(N, k, n=None):\n",
    "    ucsetup()\n",
    "    w = 2 * np.pi / N * k\n",
    "    for m in range(n+1 if n is not None else N):\n",
    "        ucpoint(w * m, f'$w_{{{k}}}[{m}]$', wcolor(np.pi - w))\n",
    "    ab = [0, w] if n is None else [w * (n-1), w * n]\n",
    "    arc(*ab, r=UC_ARC, col='C1', arrow=True)\n",
    "\n",
    "def ccspin(N, k, n=1):\n",
    "    ucsetup()\n",
    "    w = 2 * np.pi / N * k * n\n",
    "    ucpoint(w, f'$w_{{{k}}}[{n}]$')\n",
    "    ucpoint(-w, f'$w_{{{N-k}}}[{n}]$', 'C3')\n",
    "    plt.plot([np.cos(w), np.cos(w)], [np.sin(w), -np.sin(w)], 'C6')\n",
    "    plt.plot([np.cos(w), np.cos(w)], [np.sin(w), -np.sin(w)], 'oC6')\n",
    "    plt.plot([0, np.cos(w)], [0, 0], 'C9')\n",
    "    plt.plot(np.cos(w), 0, 'oC9')\n",
    "  \n",
    "def show_cex(N:int, k:int):\n",
    "    w = 2 * np.pi / N * k\n",
    "    cex = np.round(np.exp(1j * w * np.arange(N)), 3)\n",
    "    plt.subplot(1,2,1)\n",
    "    ucsetup()\n",
    "    arc(0, w, r=UC_ARC, col='C1', arrow=True)    \n",
    "    pts = {np.round(np.fmod(w * n, 2 * np.pi), 2): n for n in range(N-1,-1,-1)}\n",
    "    for p, n in pts.items():\n",
    "        ucpoint(n * w, f'$w_{{{k}}}[{n}]$', 'C2' if n < 2 else 'lightgray')\n",
    "    plt.subplot(2,2,2)\n",
    "    plt.stem(cex.real)\n",
    "    plt.title(f'$\\\\mathrm{{Re}}\\\\{{\\\\mathbf{{w}}_{{{k}}}\\\\}} = \\\\mathbf{{c}}_{{{k}}}$')\n",
    "    plt.subplot(2,2,4)\n",
    "    plt.stem(cex.imag)\n",
    "    plt.title(f'$\\\\mathrm{{Im}}\\\\{{\\\\mathbf{{w}}_{{{k}}}\\\\}} = \\\\mathbf{{s}}_{{{k}}}$')\n",
    "    plt.tight_layout()\n",
    "\n",
    "def show_freqs(N:int):\n",
    "    ucsetup()    \n",
    "    for k in range(N):\n",
    "        w = 2 * np.pi / N * k\n",
    "        if k < N / 2:\n",
    "            ucpoint(w, f'$\\\\omega_{{{k}}}$', wcolor(w))\n",
    "        elif k == N / 2:\n",
    "            ucpoint(np.pi, f'$\\\\omega_{{{k}}} = \\\\pi$', wcolor(0))\n",
    "        else:\n",
    "            ucpoint(w, f'$\\\\omega_{{{k}}} = -\\\\omega_{{{N-k}}}$', wcolor(np.pi - w))\n",
    "    plt.title(f'$N = {N}$')\n",
    "\n",
    "def display_sbs(interactive_widget):\n",
    "    c = interactive_widget.children\n",
    "    controls = wg.HBox(c[:-1], layout=wg.Layout(align_items='center'))\n",
    "    return display(wg.HBox([controls, c[-1]]))"
   ]
  },
  {
   "cell_type": "markdown",
   "metadata": {
    "editable": true,
    "slideshow": {
     "slide_type": ""
    },
    "tags": []
   },
   "source": [
    "# Introduction\n",
    "\n",
    "The first part of this lab addressed the fundamental idea of Fourier analysis: signals can be decomposed into elementary sinusoidal components with no loss of information and this transformation of a signal from the time domain to the frequency domain is efficiently described by means of a family of harmonic complex exponentials. \n",
    "\n",
    "In this second part we will move to more practical aspects of Fourier analysis for finite-length signals. We begin by defining here as well a few test signals used in later examples."
   ]
  },
  {
   "cell_type": "markdown",
   "metadata": {
    "editable": true,
    "slideshow": {
     "slide_type": ""
    },
    "tags": []
   },
   "source": [
    "## Test signals\n",
    "\n",
    "In part 1 of this two-part notebook we introduced two test signals, the square wave and the triangular wave, whose generating functions are as follows:"
   ]
  },
  {
   "cell_type": "code",
   "execution_count": null,
   "metadata": {
    "editable": true,
    "slideshow": {
     "slide_type": ""
    },
    "tags": []
   },
   "outputs": [],
   "source": [
    "def sqw(N: int, n: np.ndarray=None) -> np.ndarray:\n",
    "    n = np.arange(N) if n is None else n\n",
    "    return np.sign(np.mod(n, N/2)) * np.sign(N/2 - np.mod(n, N))\n",
    "\n",
    "def tri(N: int, n: np.ndarray=None) -> np.ndarray:\n",
    "    n = np.arange(N) if n is None else n\n",
    "    return (4 / N) * np.abs(np.mod(n, N) - N / 2) - 1 "
   ]
  },
  {
   "cell_type": "markdown",
   "metadata": {
    "editable": true,
    "slideshow": {
     "slide_type": ""
    },
    "tags": []
   },
   "source": [
    "In this part we will also use a third test signal, a linear ramp going from -1 to +1 over $N$ samples; note that $N$ is no longer assumed to be even. The ramp can be made $N$-periodic, in which case the resulting signal is often called a \"sawtooth\" wave."
   ]
  },
  {
   "cell_type": "code",
   "execution_count": null,
   "metadata": {
    "editable": true,
    "slideshow": {
     "slide_type": ""
    },
    "tags": []
   },
   "outputs": [],
   "source": [
    "N = 64\n",
    "plt.stem(sqw(N));"
   ]
  },
  {
   "cell_type": "code",
   "execution_count": null,
   "metadata": {
    "editable": true,
    "slideshow": {
     "slide_type": ""
    },
    "tags": []
   },
   "outputs": [],
   "source": [
    "plt.stem(tri(N));"
   ]
  },
  {
   "cell_type": "code",
   "execution_count": null,
   "metadata": {
    "editable": true,
    "slideshow": {
     "slide_type": ""
    },
    "tags": []
   },
   "outputs": [],
   "source": [
    "def ramp(N:int, n: np.ndarray=None) -> np.ndarray:\n",
    "    n = np.arange(N) if n is None else n\n",
    "    return 2 * np.mod(n, N) / (N-1) - 1"
   ]
  },
  {
   "cell_type": "code",
   "execution_count": null,
   "metadata": {
    "editable": true,
    "slideshow": {
     "slide_type": ""
    },
    "tags": []
   },
   "outputs": [],
   "source": [
    "plt.stem(ramp(N));"
   ]
  },
  {
   "cell_type": "markdown",
   "metadata": {
    "editable": true,
    "slideshow": {
     "slide_type": ""
    },
    "tags": []
   },
   "source": [
    "# The DFT\n",
    "\n",
    "Let $W_N = \\{\\mathbf{w}_k\\}_{0 \\le k < N}$ be the family of complex-valued harmonic oscillations of length $N$ defined as\n",
    "$$\n",
    "    w_k[n] = e^{j\\omega_k n}, \\quad \\omega_k = \\frac{2\\pi}{N}k.\n",
    "$$\n",
    "Any length-$N$ signal $\\mathbf{x}$ can be expressed as the linear combination\n",
    "$$\n",
    "    \\mathbf{x} = \\frac{1}{N} \\sum_{k=0}^{N-1} X[k] \\mathbf{w}_k;\n",
    "$$\n",
    "the vector of $N$ complex-valued coefficients $\\mathbf{X}$ is called the Discrete Fourier Transform of $\\mathbf{x}$ and it can be computed as \n",
    "$$\n",
    "  \\mathbf{X} = \\sum^{N-1}_{n=0} x[n] \\mathbf{w}^*_n.\n",
    "$$\n",
    "\n",
    "The proof of this result is based on the orthogonality of the elements in $W_N$ and can be found in any textbook. "
   ]
  },
  {
   "cell_type": "markdown",
   "metadata": {
    "editable": true,
    "slideshow": {
     "slide_type": ""
    },
    "tags": []
   },
   "source": [
    "## Algorithmic implementation\n",
    "\n",
    "Using the definitions for the elements $\\mathbf{w}_k$, the DFT formulas can be rewritten in algorithmic form as such:\n",
    " * the _analysis_ formula, providing the DFT coefficients from the samples is\n",
    "$$\n",
    "  X[k] = \\sum^{N-1}_{n=0} x[n] e^{-j \\frac{2\\pi}{N}nk}\n",
    "$$\n",
    " * the _synthesis_ formula, providing the signal samples from the DFT coefficients is\n",
    "$$\n",
    "    x[n] = \\frac{1}{N} \\sum_{k=0}^{N-1} X[k] e^{j \\frac{2\\pi}{N} nk}.\n",
    "$$\n",
    "\n",
    "The DFT can be implemented very efficiently via the FFT algorithm, whose computational complexity is on the order of $N\\log_2 N$ operations. Although NumPy includes a built-in FFT routine, it is useful (at least once in a lifetime) to write a straightforward implementation of the DFT so here are a couple of exercises:"
   ]
  },
  {
   "cell_type": "markdown",
   "metadata": {
    "editable": true,
    "slideshow": {
     "slide_type": ""
    },
    "tags": []
   },
   "source": [
    "### Exercise: DFT implementation\n",
    "\n",
    "Complete the following DFT implementation"
   ]
  },
  {
   "cell_type": "code",
   "execution_count": null,
   "metadata": {
    "editable": true,
    "slideshow": {
     "slide_type": ""
    },
    "tags": []
   },
   "outputs": [],
   "source": [
    "def my_dft(x: np.ndarray) -> np.ndarray:\n",
    "    N = len(x)\n",
    "    X = np.zeros(N, dtype=complex)\n",
    "    ... # Your code here \n",
    "    return X"
   ]
  },
  {
   "cell_type": "markdown",
   "metadata": {
    "editable": true,
    "slideshow": {
     "slide_type": ""
    },
    "tags": []
   },
   "source": [
    "Let's verify if your implementation works:"
   ]
  },
  {
   "cell_type": "code",
   "execution_count": null,
   "metadata": {
    "editable": true,
    "slideshow": {
     "slide_type": ""
    },
    "tags": []
   },
   "outputs": [],
   "source": [
    "N = 100\n",
    "x = np.random.randn(N) + 1j * np.random.randn(N)\n",
    "np.allclose(my_dft(x), np.fft.fft(x))"
   ]
  },
  {
   "cell_type": "markdown",
   "metadata": {
    "editable": true,
    "slideshow": {
     "slide_type": ""
    },
    "tags": []
   },
   "source": [
    "### Exercise: IDFT implementation\n",
    "\n",
    "Complete the implementation for the inverse DFT"
   ]
  },
  {
   "cell_type": "code",
   "execution_count": null,
   "metadata": {
    "editable": true,
    "slideshow": {
     "slide_type": ""
    },
    "tags": []
   },
   "outputs": [],
   "source": [
    "def my_idft(X: np.ndarray) -> np.ndarray:\n",
    "    ... # Your code here \n",
    "    return x"
   ]
  },
  {
   "cell_type": "markdown",
   "metadata": {
    "editable": true,
    "slideshow": {
     "slide_type": ""
    },
    "tags": []
   },
   "source": [
    "Let's verify if your implementation works:"
   ]
  },
  {
   "cell_type": "code",
   "execution_count": null,
   "metadata": {
    "editable": true,
    "slideshow": {
     "slide_type": ""
    },
    "tags": []
   },
   "outputs": [],
   "source": [
    "np.allclose(my_idft(my_dft(x)), x)"
   ]
  },
  {
   "cell_type": "markdown",
   "metadata": {
    "editable": true,
    "slideshow": {
     "slide_type": ""
    },
    "tags": []
   },
   "source": [
    "### Exercise: Fourier coefficients for the square and triangular test signals\n",
    "\n",
    "In the first part of this two-part notebook we gave the formulas for the DFT coefficients of the square and triangular waves:\n",
    "\\begin{align}\n",
    "    Q[k] &= \\begin{cases} 0 & k \\text{~even} \\\\ \\displaystyle \\frac{-2j}{\\tan(\\pi k /N)}  & k \\text{~odd} \\end{cases} \\\\ \\\\\n",
    "    T[k] &= \\begin{cases} 0 & k \\text{~even} \\\\ \\displaystyle \\frac{4}{N}\\,\\left(1 + \\frac{1}{\\tan^2(\\pi k/N)}\\right) & k \\text{~odd} \\end{cases}\n",
    "\\end{align}\n",
    "\n",
    "Using the DFT algorithm, check that the numerical computation agrees with the theory."
   ]
  },
  {
   "cell_type": "code",
   "execution_count": null,
   "metadata": {
    "editable": true,
    "slideshow": {
     "slide_type": ""
    },
    "tags": []
   },
   "outputs": [],
   "source": [
    "# your code here\n",
    "\n",
    "Q_theory = ...\n",
    "Q_DFT = ...\n",
    "print('square wave:', np.allclose(Q_theory, Q_DFT))\n",
    "\n",
    "T_theory = ...\n",
    "T_DFT = ...\n",
    "print('triangular wave:', np.allclose(T_theory, T_DFT))"
   ]
  },
  {
   "cell_type": "markdown",
   "metadata": {
    "editable": true,
    "slideshow": {
     "slide_type": ""
    },
    "tags": []
   },
   "source": [
    "## Magnitude and phase\n",
    "\n",
    "Up to a normalization factor $1/N$, each complex-valued DFT coefficient $X[k]$ is the weight associated to the harmonic oscillation $\\mathbf{w}_k$ in the IDFT reconstruction formula. As such, it carries two pieces of information:\n",
    "\n",
    " * the magnitude $|X[k]|$ indicates \"how much\" of the signal $\\mathbf{x}$ is due to an oscillatory component at frequency $\\omega_k = (2\\pi/N)k$\n",
    " * the phase $\\angle X[k]$ indicates the phase shift that best aligns $\\mathbf{x}$ with $\\mathbf{w}_k$"
   ]
  },
  {
   "cell_type": "markdown",
   "metadata": {
    "editable": true,
    "slideshow": {
     "slide_type": ""
    },
    "tags": []
   },
   "source": [
    "### Example: phase-shifted sinusoid \n",
    "\n",
    "Consider the signal $x[n] = \\cos((2\\pi/N)k n + \\theta)$, an $N$-periodic cosine with an initial phase shift. Let's look at the magnitude and phase of its DFT"
   ]
  },
  {
   "cell_type": "code",
   "execution_count": null,
   "metadata": {
    "editable": true,
    "slideshow": {
     "slide_type": ""
    },
    "tags": []
   },
   "outputs": [],
   "source": [
    "N, k, theta = 32, 2, 0.7\n",
    "x = np.cos(2 * np.pi / N * k * np.arange(N) + theta)\n",
    "\n",
    "X = np.fft.fft(x)\n",
    "X_mag = np.round(np.abs(X), 2)\n",
    "X_phase = np.round(np.angle(X), 2)\n",
    "\n",
    "print(X_mag)"
   ]
  },
  {
   "cell_type": "markdown",
   "metadata": {
    "editable": true,
    "slideshow": {
     "slide_type": ""
    },
    "tags": []
   },
   "source": [
    "The only two nonzero coefficients are $X[k]$ and $X[N-k]$, consistent with the fact that the cosine has a frequency equal to $\\omega_k = (2\\pi/N)k$; the phase of these two coefficients is"
   ]
  },
  {
   "cell_type": "code",
   "execution_count": null,
   "metadata": {
    "editable": true,
    "slideshow": {
     "slide_type": ""
    },
    "tags": []
   },
   "outputs": [],
   "source": [
    "print(X_phase[np.argwhere(X_mag)])"
   ]
  },
  {
   "cell_type": "markdown",
   "metadata": {
    "editable": true,
    "slideshow": {
     "slide_type": ""
    },
    "tags": []
   },
   "source": [
    "and so we have $X[k] = (N/2)\\,e^{j\\theta}$ and $X[N-k] = (N/2)\\,e^{-j\\theta} = (X[1])^*$. Using the IDFT formula:\n",
    "\\begin{align}\n",
    "    x[n] &= (1/N)(X[k]w_k[n] + X[N-k]w_{N-k}[n]) \\\\ \\\\\n",
    "     &= (1/N)(X[k]\\,w_k[n] + (X[1]\\,w_k[n])^*) \\\\ \\\\\n",
    "     &= (2 / N)\\, \\Re\\{X[k]\\,w_k[n]\\} \\\\ \\\\ \n",
    "     &= (2 / N)\\, \\Re\\{(N / 2)\\,e^{j((2\\pi/N)kn + \\theta)}\\} \\\\ \\\\\n",
    "     &= \\cos((2\\pi/N)k n + \\theta)\n",
    "\\end{align}"
   ]
  },
  {
   "attachments": {},
   "cell_type": "markdown",
   "metadata": {
    "editable": true,
    "slideshow": {
     "slide_type": ""
    },
    "tags": []
   },
   "source": [
    "# Plotting the DFT\n",
    "\n",
    "The DFT coefficients are the _frequency-domain_ representation of the information contained in a signal; they form the so-called _spectrum_ of a signal and in this section we consider how to display this spectral information graphically.\n",
    "\n",
    "The most common spectral visualization is a plot of the DFT coefficients in magnitude (or squared magnitude); this shows how the signal's energy is distributed across the sinusoidal components that make up the signal. The simplest thing that we can do is just plot the magnitude of the DFT data vector as-is:"
   ]
  },
  {
   "cell_type": "code",
   "execution_count": null,
   "metadata": {
    "editable": true,
    "slideshow": {
     "slide_type": ""
    },
    "tags": []
   },
   "outputs": [],
   "source": [
    "N = 100\n",
    "plt.stem(np.abs(np.fft.fft(ramp(N))));"
   ]
  },
  {
   "cell_type": "markdown",
   "metadata": {
    "editable": true,
    "slideshow": {
     "slide_type": ""
    },
    "tags": []
   },
   "source": [
    "To make more sense of this plot, we need however to understand the structure of the the horizontal axis."
   ]
  },
  {
   "cell_type": "markdown",
   "metadata": {
    "editable": true,
    "slideshow": {
     "slide_type": ""
    },
    "tags": []
   },
   "source": [
    "## Positive and negative frequencies\n",
    "\n",
    "The magnitude of the $k$-th DFT coefficient indicates \"how much\" of the input signal is due to the sinusoidal building block $\\mathbf{w}_k$, whose angular frequency is $\\omega_k = (2\\pi/N)k$. As we have seen in the first part of the notebook, however, when the frequency becomes larger than $\\pi$, that is, when $k > N/2$, we prefer to think of  $\\mathbf{w}_k$ as an oscillation with _negative_ frequency $\\omega_k = (2\\pi/N)k - 2\\pi$. Mathematically, this is called \"wrapping\" the frequency over the $[-\\pi, \\pi]$ interval:"
   ]
  },
  {
   "cell_type": "code",
   "execution_count": null,
   "metadata": {
    "editable": true,
    "slideshow": {
     "slide_type": ""
    },
    "tags": []
   },
   "outputs": [],
   "source": [
    "def wrap(a):\n",
    "    return np.mod(a + np.pi, 2 * np.pi) - np.pi"
   ]
  },
  {
   "cell_type": "code",
   "execution_count": null,
   "metadata": {
    "editable": true,
    "slideshow": {
     "slide_type": ""
    },
    "tags": []
   },
   "outputs": [],
   "source": [
    "a = np.pi * np.linspace(-2, 2, 100)\n",
    "plt.plot(a, wrap(a));"
   ]
  },
  {
   "cell_type": "markdown",
   "metadata": {
    "editable": true,
    "slideshow": {
     "slide_type": ""
    },
    "tags": []
   },
   "source": [
    "The following table resumes the values and the properties of the frequencies associated to each DFT coefficient $X[k]$\n",
    "\n",
    "\n",
    "| DFT index     | frequency (wrapped)           | rotation           | notes                               |\n",
    "| :--------:    | :-------:                     | -------            |-------                              |\n",
    "| $k=0$         | $0$                           |  none              |                                     |\n",
    "| $0 < k < N/2$ | $0 < (2\\pi/N)k < \\pi$         |  CCW, slow to fast |                                     |\n",
    "| $k = N/2$     | $\\pm\\pi$                      |  fastest           | **this exists only if $N$ is even** |\n",
    "| $N/2 < k < N$ | $-\\pi < (2\\pi/N)(k - N)  < 0$ |  CW, fast to slow  |                                     |"
   ]
  },
  {
   "cell_type": "markdown",
   "metadata": {
    "editable": true,
    "slideshow": {
     "slide_type": ""
    },
    "tags": []
   },
   "source": [
    "### Example: identifying positive and negative frequencies\n",
    "\n",
    "The following function plots the magnitude of the DFT coefficients of a signal using different colors:\n",
    " * green for positive frequencies\n",
    " * red for negative frequencies\n",
    " * blue for the frequencies that can be considered positive or negative; one of them is the zero frequency (no rotation) and, when $N$ is even, we have also the fastest frequency $\\pi$ (a point rotating at $+\\pi$ (counterclockwise) produces the same sequence of positions as a point rotating at $-\\pi$ (clockwise)."
   ]
  },
  {
   "cell_type": "code",
   "execution_count": null,
   "metadata": {
    "editable": true,
    "slideshow": {
     "slide_type": ""
    },
    "tags": []
   },
   "outputs": [],
   "source": [
    "def plot_dft_split(arg):\n",
    "    if isinstance(arg, int):\n",
    "        X, N = np.abs(np.fft.fft(ramp(arg))), arg\n",
    "    else:\n",
    "        X, N = arg, len(arg)\n",
    "    plt.plot([0, N-1], [0, 0], 'k')\n",
    "    for k in range(N):\n",
    "        if k == 0 or k == N / 2:\n",
    "            color = 'C0'\n",
    "        elif k < N / 2:\n",
    "            color = 'C2'\n",
    "        else:\n",
    "            color = 'C3'\n",
    "        plt.stem([k], [X[k]], color)"
   ]
  },
  {
   "cell_type": "code",
   "execution_count": null,
   "metadata": {
    "editable": true,
    "slideshow": {
     "slide_type": ""
    },
    "tags": []
   },
   "outputs": [],
   "source": [
    "wg.interactive(plot_dft_split, arg=wg.IntSlider(min=3, max=128, value=64, description=r'N'))"
   ]
  },
  {
   "cell_type": "markdown",
   "metadata": {
    "editable": true,
    "slideshow": {
     "slide_type": ""
    },
    "tags": []
   },
   "source": [
    "## Zero-centered DFT\n",
    "\n",
    "For the puropose of visualization, it makes more sense to rearrange the DFT coefficients so that they are ordered by increasing frequency value, that is:\n",
    " * first we have the cooefficients associated to negative frequencies, from $-\\pi$ up to zero\n",
    " * then the coefficient with index zero \n",
    " * then the coefficients associated to positive frequencies, up to $\\pi$.\n",
    " \n",
    "Since we want the rearragned set of DFT values to have an equal number of points to the left and to the right of the origin, we need to remember that, for $N$ even, the coefficient associated to the maximum frequency $\\pi$ is both positive and negative, and therefore it must be used twice."
   ]
  },
  {
   "cell_type": "code",
   "execution_count": null,
   "metadata": {
    "editable": true,
    "slideshow": {
     "slide_type": ""
    },
    "tags": []
   },
   "outputs": [],
   "source": [
    "N = 5\n",
    "plt.subplot(1,2,1)\n",
    "show_freqs(N)\n",
    "plt.subplot(1,2,2)\n",
    "show_freqs(N+1)"
   ]
  },
  {
   "cell_type": "markdown",
   "metadata": {
    "editable": true,
    "slideshow": {
     "slide_type": ""
    },
    "tags": []
   },
   "source": [
    "### Exercise: rearranged frequency indexes\n",
    "\n",
    "Complete the function below so that it returns a vector of integers that point to the DFT coefficients rearranged around zero; for example: \n",
    " * for $N=5$, the function should return the array `[3, 4, 0, 1, 2]` \n",
    " * for $N=6$, it should return `[3, 4, 5, 0, 1, 2, 3]` (because $N$ is even)\n",
    "\n",
    "With such a function, we can easily plot the rearraged DFT via Numpy's index slicing:"
   ]
  },
  {
   "cell_type": "code",
   "execution_count": null,
   "metadata": {
    "editable": true,
    "slideshow": {
     "slide_type": ""
    },
    "tags": []
   },
   "outputs": [],
   "source": [
    "X = np.abs(np.fft.fft(ramp(6)))\n",
    "plt.subplot(1,2,1)\n",
    "plot_dft_split(X);\n",
    "plt.subplot(1,2,2)\n",
    "ix = np.array([3, 4, 5, 0, 1, 2, 3])\n",
    "plt.stem(X[ix]);"
   ]
  },
  {
   "cell_type": "code",
   "execution_count": null,
   "metadata": {
    "editable": true,
    "slideshow": {
     "slide_type": ""
    },
    "tags": []
   },
   "outputs": [],
   "source": [
    "def dft_idx(N):\n",
    "    return ..."
   ]
  },
  {
   "cell_type": "code",
   "execution_count": null,
   "metadata": {
    "editable": true,
    "slideshow": {
     "slide_type": ""
    },
    "tags": []
   },
   "outputs": [],
   "source": [
    "N=100\n",
    "X = np.abs(np.fft.fft(ramp(N)))\n",
    "ix = dft_idx(N)\n",
    "plt.stem(X[ix]);"
   ]
  },
  {
   "cell_type": "markdown",
   "metadata": {
    "editable": true,
    "slideshow": {
     "slide_type": ""
    },
    "tags": []
   },
   "source": [
    "## Labeling the frequency axis\n",
    "\n",
    "The final thing we need to do is properly labeling the frequency axis and this is achieved by mapping each DFT index $k$ to the frequency value of the associated oscillation $\\mathbf{w}_k$. For this there are three options:\n",
    " * we can use a value in radians wrapped over the $[-\\pi, \\pi]$ interval: $\\omega_k = \\text{wrap}((2\\pi/N)k)$\n",
    " * we can use the _normalized_ frequency values $\\omega_k/\\pi$, so that the range is $[-1, 1]$\n",
    " * if the signal is a sampled real-world signal and if we know its sampling frequency $F_s$, we can use values in hertz by multiplying the normalized frequencies by $F_s/2$; the frequency range will therefore span the $[-F_s/2, F_s/2]$ interval.\n",
    "\n",
    "The following function returns the magnitude DFT and a vector of frequency values ready for plotting\n",
    " * by default, it returns a frequency axis in radians\n",
    " * for normalized frequencies, use `f = 1`\n",
    " * for frequencies in herts, use `f = Fs / 2`"
   ]
  },
  {
   "cell_type": "code",
   "execution_count": null,
   "metadata": {
    "editable": true,
    "slideshow": {
     "slide_type": ""
    },
    "tags": []
   },
   "outputs": [],
   "source": [
    "def zcdftmag(x, f=np.pi):\n",
    "    N = len(x)\n",
    "    ix = dft_idx(N)                # [N/2, N/2 + 1, ... N-1, 0, 1, ... , N/2]\n",
    "    X = np.abs(np.fft.fft(x)[ix])  # N points for N evem, N+1 for n odd\n",
    "    ix[:N//2] -= N                 # [-N/2, -N/2+1, ..., -1, 0, 1, ..., N/2]\n",
    "    return 2 * f * ix / N, X "
   ]
  },
  {
   "cell_type": "code",
   "execution_count": null,
   "metadata": {
    "editable": true,
    "slideshow": {
     "slide_type": ""
    },
    "tags": []
   },
   "outputs": [],
   "source": [
    "N=100\n",
    "plt.stem(*zcdftmag(ramp(N), 1)); # normalized frequencies"
   ]
  },
  {
   "cell_type": "markdown",
   "metadata": {
    "editable": true,
    "slideshow": {
     "slide_type": ""
    },
    "tags": []
   },
   "source": [
    "### Bonus function: pretty-printing the frequency labels\n",
    "\n",
    "This function will reformat the frequency axis and label it with multiples of $\\pi/M$ for $M$ an integer of your choice:"
   ]
  },
  {
   "cell_type": "code",
   "execution_count": null,
   "metadata": {
    "editable": true,
    "slideshow": {
     "slide_type": ""
    },
    "tags": []
   },
   "outputs": [],
   "source": [
    "def pi_frac(M):\n",
    "    from fractions import Fraction\n",
    "    t, w = [], []\n",
    "    for d in range(-M, M+1):\n",
    "        t += [np.pi * d / M]\n",
    "        if d == 0:\n",
    "            w += [r'$0$']\n",
    "        else:\n",
    "            f = Fraction(d, M)\n",
    "            num = f.numerator\n",
    "            a = '-' if num == -1 else '' if num == 1 else str(num)\n",
    "            b = '' if f.denominator == 1 else f'/{f.denominator}'\n",
    "            w += [f'${a}\\\\pi{b}$']\n",
    "    plt.xticks(t, labels=w);"
   ]
  },
  {
   "cell_type": "code",
   "execution_count": null,
   "metadata": {
    "editable": true,
    "slideshow": {
     "slide_type": ""
    },
    "tags": []
   },
   "outputs": [],
   "source": [
    "N=100\n",
    "plt.stem(*zcdftmag(ramp(N)))\n",
    "pi_frac(4)"
   ]
  },
  {
   "cell_type": "markdown",
   "metadata": {
    "editable": true,
    "slideshow": {
     "slide_type": ""
    },
    "tags": []
   },
   "source": [
    "## Symmetric magnitude spectra\n",
    "\n",
    "By now you must have noticed that all the previous plots are symmetric, either around $N/2$ or, when the DFT coefficients are rearranged, around zero. This is because in all the examples we have computed the DFT of the real-valued ramp signal and, in fact, **the magnitude spectrum of a real-valued signal is always symmetric**. \n",
    "\n",
    "One important consequence is that, when dealing with real-valued signals, it is customary to plot the magnitude spectrum only over the positive frequencies. \n",
    "\n",
    "Note however that, for complex-valued signals, the magnitude spectrum is _not_ symmetric:"
   ]
  },
  {
   "cell_type": "code",
   "execution_count": null,
   "metadata": {
    "editable": true,
    "slideshow": {
     "slide_type": ""
    },
    "tags": []
   },
   "outputs": [],
   "source": [
    "N = 64\n",
    "plot_dft_split(np.abs(np.fft.fft(ramp(N) + 1j * tri(3, np.arange(N)))))"
   ]
  },
  {
   "cell_type": "markdown",
   "metadata": {
    "editable": true,
    "slideshow": {
     "slide_type": ""
    },
    "tags": []
   },
   "source": [
    "### Exercise: plot only the positive frequencies\n",
    "\n",
    "Modify the `zcdftmag` function so that, if required, it only returns the labes and values for the positive frequencies"
   ]
  },
  {
   "cell_type": "code",
   "execution_count": null,
   "metadata": {
    "editable": true,
    "slideshow": {
     "slide_type": ""
    },
    "tags": []
   },
   "outputs": [],
   "source": [
    "def zcdftmag(x, f=np.pi, pos_only=False):\n",
    "    N = len(x)\n",
    "    ix = ...\n",
    "    X = np.abs(np.fft.fft(x)[ix])\n",
    "    ix[:N//2] = ...\n",
    "    return 2 * f * ix / N, X "
   ]
  },
  {
   "cell_type": "code",
   "execution_count": null,
   "metadata": {
    "editable": true,
    "slideshow": {
     "slide_type": ""
    },
    "tags": []
   },
   "outputs": [],
   "source": [
    "N=100\n",
    "plt.stem(*zcdftmag(ramp(N), pos_only=True));"
   ]
  },
  {
   "cell_type": "markdown",
   "metadata": {
    "editable": true,
    "slideshow": {
     "slide_type": ""
    },
    "tags": []
   },
   "source": [
    "# The DFT as an analysis tool\n",
    "\n"
   ]
  },
  {
   "cell_type": "markdown",
   "metadata": {
    "editable": true,
    "slideshow": {
     "slide_type": ""
    },
    "tags": []
   },
   "source": [
    "## Frequency resolution\n",
    "\n",
    "In a DFT of size $N$, the frequency separation between two consecutive coefficients is $\\Delta_N = 2\\pi/N$; this value is called the _frequency resolution_ of the DFT and it is only dependent on $N$, that is, on the number of data samples.\n",
    "\n",
    "In reality, each DFT coefficient is associated not just to its nominal frequency $\\omega_k = (2\\pi/N)k$ but to a _frequency bin_ of width $\\Delta_N$, centered in $\\omega_k$. If a signal contains two or more sinusoidal components whose frequencies fall into the same frequency bin, they will not be _resolved_ by the DFT, in the sense that they will not be visible as separate spectral lines. Similarly, if a signal contains two sinusoids whose frequencies belong to neighboring bins, a plot of the DFT will not show clearly distinct spectral lines."
   ]
  },
  {
   "cell_type": "markdown",
   "metadata": {
    "editable": true,
    "slideshow": {
     "slide_type": ""
    },
    "tags": []
   },
   "source": [
    "### Example: resolving sinusoids\n",
    "\n",
    "Consider a length-$N$ signal defined by\n",
    "$$\n",
    "    x[n] = \\cos(\\omega_0 \\, n) + \\cos((\\omega_0 + \\delta) n), \\quad n = 0, 1, \\ldots, N-1\n",
    "$$ \n",
    "\n",
    "Since the signal contains two sinusoids, we expect its DFT to show two clear lines corresponding to the frequencies; but the two spectral peaks  will appear distinctly only if $\\delta > 2\\Delta_N$ (where \"distinctly\" indicates peaks separated by a clear gap).\n",
    "\n",
    "The following demo will allow you to get a feel for the resolution issues:\n",
    " * change the value of $\\delta$ and verify that the spectral lines start to be separated when $|\\delta/\\Delta| > 2$\n",
    " * for a fixed value of $\\delta$, change the length of the time-domain signal and see how it affects the resoltion\n",
    " * verify that the resolving power of the DFT does not depend on the frequency value $\\omega_0$"
   ]
  },
  {
   "cell_type": "code",
   "execution_count": null,
   "metadata": {
    "editable": true,
    "slideshow": {
     "slide_type": ""
    },
    "tags": []
   },
   "outputs": [],
   "source": [
    "def test_dft_res(N, w, d):\n",
    "    n = np.arange(0, N)\n",
    "    X = np.abs(np.fft.fft(np.cos(w * np.pi * n) + np.cos((w + d) * np.pi * n)))[:N//2]\n",
    "    plt.stem(X)\n",
    "    plt.title(f'$\\\\delta/\\\\Delta = {N * d / 2:.2f}$')"
   ]
  },
  {
   "cell_type": "code",
   "execution_count": null,
   "metadata": {
    "editable": true,
    "slideshow": {
     "slide_type": ""
    },
    "tags": []
   },
   "outputs": [],
   "source": [
    "wg.interactive(test_dft_res, N=wg.IntSlider(64, 32, 512), \n",
    "               w=wg.FloatSlider(value=0.25, min=0, max=1, step=0.01, description='$\\\\omega_0/\\\\pi$'), \n",
    "               d=wg.FloatSlider(value=0, min=-0.5, max=0.5, step=0.01, description='$\\\\delta/\\\\pi$'))"
   ]
  },
  {
   "cell_type": "markdown",
   "metadata": {
    "editable": true,
    "raw_mimetype": "",
    "slideshow": {
     "slide_type": ""
    },
    "tags": [],
    "vscode": {
     "languageId": "raw"
    }
   },
   "source": [
    "### Exercise: answer the following questions\n",
    "\n",
    " 1. Start from the initial values ($\\omega_0/\\pi = 0.25, \\delta/\\pi=0$) and change the value of $\\omega_0/\\pi$; when do you see a single nonzero DFT coefficient? What happens in the other cases?\n",
    " 2. Set $\\omega_0/\\pi=0.4$ and $\\delta/\\pi=0$; for what values of $N$ do you see a single spectral line?\n",
    " 3. Set $\\omega_0/\\pi=0.03$; for what value of $N$ can you see two clear spectral lines?"
   ]
  },
  {
   "cell_type": "markdown",
   "metadata": {
    "editable": true,
    "slideshow": {
     "slide_type": ""
    },
    "tags": []
   },
   "source": [
    "## Real-world frequencies\n",
    "\n",
    "For a signal whose sampling rate is known, we have seen earlier how to plot the DFT coefficients against real-world frequency values in hertz. As a reminder, the reasoning is as follows:\n",
    "\n",
    " * the $k$-th DFT coefficient is associated to a discrete-time oscillation with $k$ full periods over $N$ samples\n",
    " * at a sampling rate $F_s$, $N$ samples span $N/F_s$ seconds\n",
    " * the period of the oscillation is therefore $(N/F_s)/k$ and the frequency is $f_k = (k/N)F_s$\n",
    " \n",
    "The mapping from DFT index to frequency is therefore linear; this applies to the frequency resolution of the DFT as well which, in hertz, is equal to $\\Delta_f = F_s/N$ for a signal of length $N$."
   ]
  },
  {
   "cell_type": "markdown",
   "metadata": {
    "editable": true,
    "slideshow": {
     "slide_type": ""
    },
    "tags": []
   },
   "source": [
    "### Example: the magnitude spectrum of a piano note\n",
    "\n",
    "In the case of audio files, the sampling frequency is usually provided in the file metadata and Python provides convenient libraries to read both the metadata and the audio samples. Here for instance we load and play the recording of a single piano note:"
   ]
  },
  {
   "cell_type": "code",
   "execution_count": null,
   "metadata": {
    "editable": true,
    "slideshow": {
     "slide_type": ""
    },
    "tags": []
   },
   "outputs": [],
   "source": [
    "import IPython\n",
    "from scipy.io import wavfile\n",
    "\n",
    "Fs, piano = wavfile.read(\"data/piano.wav\")\n",
    "print(f'the audio sampling rate is {Fs} Hz')\n",
    "IPython.display.Audio(piano, rate=Fs)"
   ]
  },
  {
   "cell_type": "markdown",
   "metadata": {
    "editable": true,
    "slideshow": {
     "slide_type": ""
    },
    "tags": []
   },
   "source": [
    "Let's use the previous function to plot the spectrum of the note:"
   ]
  },
  {
   "cell_type": "code",
   "execution_count": null,
   "metadata": {
    "editable": true,
    "slideshow": {
     "slide_type": ""
    },
    "tags": []
   },
   "outputs": [],
   "source": [
    "# we don't need to compute the DFT of the whole signal, given its size\n",
    "plt.plot(*zcdftmag(piano[:32768], Fs /2, pos_only=True));"
   ]
  },
  {
   "cell_type": "markdown",
   "metadata": {
    "editable": true,
    "slideshow": {
     "slide_type": ""
    },
    "tags": []
   },
   "source": [
    "The plot shows what a spectrum analyzer would display. The clear spectral lines indicate a periodically repeating pattern in the time-domain waveform, which is the typical characteristic of musical sounds. We can easily verify this  by plotting a portion of the time-domain data:"
   ]
  },
  {
   "cell_type": "code",
   "execution_count": null,
   "metadata": {
    "editable": true,
    "slideshow": {
     "slide_type": ""
    },
    "tags": []
   },
   "outputs": [],
   "source": [
    "plt.plot(piano[9000:10000]);"
   ]
  },
  {
   "cell_type": "markdown",
   "metadata": {
    "editable": true,
    "slideshow": {
     "slide_type": ""
    },
    "tags": []
   },
   "source": [
    "## Musical pitch\n",
    "\n",
    "Sounds that contain a periodically repeating pattern evoke in a listener the sensation of musical _pitch_; waveforms with a pattern that repeats quickly are associated to notes in the so-called high register, whereas slowly repeating patterns produce notes in the low register. \n",
    "\n",
    "### The fundamental frequency\n",
    "\n",
    "In the frequency domain, waveforms with a pattern that repeats $f_0$ times per second will have a spectrum containing clearly distinct lines at all integer multiples of $f_0$, which is called the _fundamental frequency_ of the musical note. From the previous plot, for intance, we can see that the piano note has a clear set of spectral line whose first peak is in the vicinity of 200Hz.\n",
    "\n",
    "To determine the exact value of the fundamental frequency (to within the resolution afforded by the DFT's length) let's search for the precise location of the peak."
   ]
  },
  {
   "cell_type": "markdown",
   "metadata": {
    "editable": true,
    "slideshow": {
     "slide_type": ""
    },
    "tags": []
   },
   "source": [
    "### Exercise: find a local spectral peak\n",
    "\n",
    "Complete the following function so that it returns the frequency corresponding to the maximum value of the spectrum in the $[f_\\min, f_\\max]$ range:"
   ]
  },
  {
   "cell_type": "code",
   "execution_count": null,
   "metadata": {
    "editable": true,
    "slideshow": {
     "slide_type": ""
    },
    "tags": []
   },
   "outputs": [],
   "source": [
    "def search_peak(x, Fs, fmin, fmax):\n",
    "    pass"
   ]
  },
  {
   "cell_type": "markdown",
   "metadata": {
    "editable": true,
    "slideshow": {
     "slide_type": ""
    },
    "tags": []
   },
   "source": [
    "Let's test it:"
   ]
  },
  {
   "cell_type": "code",
   "execution_count": null,
   "metadata": {
    "editable": true,
    "slideshow": {
     "slide_type": ""
    },
    "tags": []
   },
   "outputs": [],
   "source": [
    "print('good job!' if np.abs(search_peak(piano, Fs, 200, 260) - 220.7) < 1 else 'sorry try again')"
   ]
  },
  {
   "cell_type": "markdown",
   "metadata": {
    "editable": true,
    "slideshow": {
     "slide_type": ""
    },
    "tags": []
   },
   "source": [
    "### From frequency to pitch\n",
    "\n",
    "In Western music, the pitch of a note is indicated using the name of the note in the 12-tone equal-tempered scale, followed by a number denoting the octave that the note belongs to; for more details, see for instance [here](https://en.wikipedia.org/wiki/Equal_temperament). A full list of nominal pitch frequencies is availble [here](https://pages.mtu.edu/~suits/notefreqs.html).\n",
    "\n",
    "The following function converts a frequency value in hertz to pitch notation:"
   ]
  },
  {
   "cell_type": "code",
   "execution_count": null,
   "metadata": {
    "editable": true,
    "slideshow": {
     "slide_type": ""
    },
    "tags": []
   },
   "outputs": [],
   "source": [
    "def freq2pitch(f):\n",
    "    C4, delta, octave = 261.63, 2 ** (1/24), 4\n",
    "    notes = ['C', 'C#', 'D', 'D#', 'E', 'F', 'F#', 'G', 'G#', 'A', 'A#', 'B']\n",
    "    while f < C4 / delta:\n",
    "        f = f * 2\n",
    "        octave -= 1\n",
    "    while f > C4 * 2 * delta:\n",
    "        f = f / 2\n",
    "        octave += 1\n",
    "    return notes[int(np.round(12 * np.log(f / C4) / np.log(2)))] + str(octave)"
   ]
  },
  {
   "cell_type": "markdown",
   "metadata": {
    "editable": true,
    "slideshow": {
     "slide_type": ""
    },
    "tags": []
   },
   "source": [
    "The piano note is in fact an A in the 3rd octave:"
   ]
  },
  {
   "cell_type": "code",
   "execution_count": null,
   "metadata": {
    "editable": true,
    "slideshow": {
     "slide_type": ""
    },
    "tags": []
   },
   "outputs": [],
   "source": [
    "freq2pitch(search_peak(piano, Fs, 150, 250))"
   ]
  },
  {
   "cell_type": "markdown",
   "metadata": {
    "editable": true,
    "slideshow": {
     "slide_type": ""
    },
    "tags": []
   },
   "source": [
    "### Exercise: find the pitch\n",
    "\n",
    "Find the pitch of the note contained in the following audio file (it should be a C4):"
   ]
  },
  {
   "cell_type": "code",
   "execution_count": null,
   "metadata": {
    "editable": true,
    "slideshow": {
     "slide_type": ""
    },
    "tags": []
   },
   "outputs": [],
   "source": [
    "Fs_guitar, guitar = wavfile.read(\"data/guitar.wav\")\n",
    "IPython.display.Audio(guitar, rate=Fs_guitar)"
   ]
  }
 ],
 "metadata": {
  "kernelspec": {
   "display_name": "Python 3 (ipykernel)",
   "language": "python",
   "name": "python3"
  },
  "language_info": {
   "codemirror_mode": {
    "name": "ipython",
    "version": 3
   },
   "file_extension": ".py",
   "mimetype": "text/x-python",
   "name": "python",
   "nbconvert_exporter": "python",
   "pygments_lexer": "ipython3",
   "version": "3.12.3"
  }
 },
 "nbformat": 4,
 "nbformat_minor": 4
}
