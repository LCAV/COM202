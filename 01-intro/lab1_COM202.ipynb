{
 "cells": [
  {
   "cell_type": "markdown",
   "id": "1488cd92-57b3-498a-b245-5e8499b23ec0",
   "metadata": {
    "tags": []
   },
   "source": [
    "<div style=\"margin: 0 auto 30px; height: 60px; border: 2px solid gray; border-radius: 6px;\">\n",
    "  <div style=\"float: left;\"><img src=\"img/epfl.png\" /></div>\n",
    "  <div style=\"float: right; margin: 20px 30px 0; font-size: 10pt; font-weight: bold;\"><a href=\"https://moodle.epfl.ch/course/view.php?id=18253\">COM202 - Signal Processing</a></div>\n",
    "</div>\n",
    "<div style=\"clear: both; font-size: 30pt; font-weight: bold; color: #483D8B;\">\n",
    "    Lab 1: Introduction to Python\n",
    "</div>"
   ]
  },
  {
   "cell_type": "markdown",
   "id": "23843595",
   "metadata": {},
   "source": [
    "Welcome to the first lab of Signal Processing! \n",
    "The goal of this first Jupyter notebook is to get familiar with the basics of Python.\n",
    "Next week, you will learn how to work with NumPy, a popular Python library used for scientific computing.\n",
    "\n",
    "Python is a popular language to use for signal (and image) processing. This is especially because of the selection of libraries and frameworks, developed specifically for this use. Relevant modules are Numpy, SciPy, MatPlotlib and Pandas. \n",
    "\n",
    "You will see in this notebook how to use relevant and important modules and functions for the course.\n",
    "You will also get a glimpse at all a Jupyter Notebook allows you to do!\n"
   ]
  },
  {
   "cell_type": "markdown",
   "id": "e4bb90e5",
   "metadata": {},
   "source": [
    "# Running Python code\n",
    "\n",
    "## Miniconda and Jupyter Notebook\n",
    "\n",
    "If you're reading this Jupyter notebook as it is intended, chances are you already installed Miniconda. Miniconda is a small version of Anaconda, a Python distribution that comes with its own package management system, `conda`. Using `conda`, you can install and upgrade software packages and libraries. It will make managing the versions of the libraries you use very convenient.\n",
    "Similar package managers, like `pip`, can be used to install and manage python modules and libraries. \n",
    "\n",
    "We use in these labs the web-application Jupyter Notebook. Jupyter allows us to create and run python code cells, as well as include text explanations and visuals for better comprehension. \n",
    "\n",
    "The Jupyter Notebook document (such as the one you are looking at right now) consists of cells containing Python code, text or other content. You can run each cell by clicking on the button `Run` in the top toolbar, or you can use a keyboard shortcut `Ctrl` + `Enter` (run current cell) or `Shift` + `Enter` (run current cell and move to the cell below).\n",
    "\n",
    "## Using the terminal \n",
    "\n",
    "Jupyter Notebook is not the only way to write Python code. You can run Python in your terminal for some very quick coding. Try it by typing `python` into your terminal. This launches the Python interpreter. Try writing the following lines: \n",
    "\n",
    "`print(\"I love signal processing!\")`\n",
    "\n",
    "You can use Ctrl-D, Ctrl-Z or type `quit()` to exit.\n",
    "\n",
    "<i> Some material of the course will include using python directly on your terminal. For relevant information about this topic, we recommend you read this quick tutorial : https://pythonbasics.org/execute-python-scripts/ </i>"
   ]
  },
  {
   "cell_type": "markdown",
   "id": "570871e7",
   "metadata": {},
   "source": [
    "### Getting familiar with running Python Code from the command prompt\n",
    "\n",
    "Try running the 'exercise1.py' python file given to you in this lab from your terminal. What does it read ?"
   ]
  },
  {
   "cell_type": "code",
   "execution_count": null,
   "id": "8274d3d4",
   "metadata": {},
   "outputs": [],
   "source": [
    "## Your Answer"
   ]
  },
  {
   "cell_type": "markdown",
   "id": "31450101",
   "metadata": {},
   "source": [
    "## Libraries\n",
    "\n",
    "You are going to see multiple libraries and modules throughout the course. These modules and libraries provide pre-written code (functions and features) that can be used to simplify programming tasks and enable more efficient and effective coding, allowing you to save time and effort when coding!\n",
    "\n",
    "To install a Python module, you can use a package manager like conda, mentioned above, or pip. pip is a tool that is included with most Python installations and can be used to install, uninstall, and manage Python packages.\n",
    "\n",
    "Here's an example of how to install the numpy and matplotlib module using pip from your terminal:\n",
    "\n",
    "    python -m pip install -U numpy\n",
    "    python -m pip install -U matplotlib\n",
    "\n",
    "Once a module is installed, you can import it into your Python program using the import statement. You can also give aliases to imports, and import only certain functions from a specific module :"
   ]
  },
  {
   "cell_type": "code",
   "execution_count": null,
   "id": "e3a7a4f0",
   "metadata": {},
   "outputs": [],
   "source": [
    "import matplotlib\n",
    "import matplotlib.pyplot as plt\n",
    "from matplotlib import ticker\n",
    "import IPython\n",
    "import math"
   ]
  },
  {
   "cell_type": "markdown",
   "id": "08fa1431",
   "metadata": {},
   "source": [
    "## Getting help\n",
    "\n",
    "The Python `help()` function is a handy tool for understanding modules, functions, and more. It provides a built-in way to access important documentation directly within your Python environment.\n",
    "\n",
    "For instance, if you want to know about the `sqrt` function from the `math` module, you can type `help(math.sqrt)`. This will display a brief summary about what the function does, its parameters, return types, and often examples.\n",
    "\n",
    "Another way to use `help()` is without any argument. If you simply type `help()` in the Python interpreter and press enter, it will start an interactive help session. To exit the help session, you just need to type `quit` and press enter. <b> Try it for yourself!</b>"
   ]
  },
  {
   "cell_type": "code",
   "execution_count": null,
   "id": "cd78defa",
   "metadata": {},
   "outputs": [],
   "source": [
    "help()"
   ]
  },
  {
   "cell_type": "markdown",
   "id": "8db2f03f",
   "metadata": {},
   "source": [
    "# Coding in Python: variables and data types \n",
    "\n",
    "Python has dynamic typing, meaning that you do not need to declare a variable's data type when you create it. To create a variable in Python, you simply choose a name for the variable and assign a value to it using the = operator.\n",
    "\n",
    "Also, unlike Java, Python does not separate different lines of code with a semicolon ';'. So just move to the next line with no worries. Python makes use of indentation instead, which explains why python code is very readable. \n",
    "Whether it's for a function, a loop or an if-statement, Python uses indentation to keep track of what is part of it. "
   ]
  },
  {
   "cell_type": "code",
   "execution_count": null,
   "id": "f04ed12c",
   "metadata": {},
   "outputs": [],
   "source": [
    "i = 24\n",
    "k = \"Hello, world!\""
   ]
  },
  {
   "cell_type": "markdown",
   "id": "a7d25e11",
   "metadata": {},
   "source": [
    "\n",
    "## Basic data types\n",
    "\n",
    "Python has several basic data types, including integers, floats, and strings. \n",
    "Type casting is the process of converting one data type to another. Python provides several built-in functions for type casting, including `int()`, `float()`, and `str()`. \n",
    "\n",
    "To get a variable's type, you can make use of the `type()` built-in function. Here's everything in action :\n",
    "\n"
   ]
  },
  {
   "cell_type": "code",
   "execution_count": null,
   "id": "4313930e",
   "metadata": {},
   "outputs": [],
   "source": [
    "x = 6\n",
    "print(\"x = \", x, \" (\", type(x).__name__, \")\")\n",
    "\n",
    "y = float(x) # Convert x to float and store it in variable y\n",
    "print(\"y = \", y, \" (\", type(y).__name__, \")\")\n",
    "\n",
    "z = str(x) # Convert y back to integer and store it in variable z\n",
    "print(\"z = \", z, \" (\", type(z).__name__, \")\")\n",
    "\n",
    "w = str(y) # Convert y back to integer and store it in variable z\n",
    "print(\"w = \", w, \" (\", type(w).__name__, \")\")"
   ]
  },
  {
   "cell_type": "markdown",
   "id": "da17c300",
   "metadata": {},
   "source": [
    "\n",
    "## Lists\n",
    "\n",
    "A list is a mutable collection of items that are ordered and changeable. Lists are defined by enclosing a comma-separated sequence of items in square brackets ([]). Example:\n",
    "`my_list = [item1, item2, ..., itemN]`\n",
    "\n",
    "In signal processing, signals are often represented as lists of numbers. Each element in the list corresponds to a sample of the signal at a certain time. \n",
    "There are however several ways to create lists. Here are some of them :\n"
   ]
  },
  {
   "cell_type": "code",
   "execution_count": null,
   "id": "70b9d99e",
   "metadata": {},
   "outputs": [],
   "source": [
    "empty = [] # empty list\n",
    "print(\"empty list:\", empty)\n",
    "\n",
    "dc_signal = [1,1,1,1,1,1,1,1,1,1]\n",
    "print(\"constant (Direct Current) signal:\", dc_signal)\n",
    "\n",
    "dc_signal_2 = [1]*10\n",
    "print(\"constant (Direct Current) signal:\", dc_signal_2)"
   ]
  },
  {
   "cell_type": "markdown",
   "id": "77ea5458",
   "metadata": {},
   "source": [
    "<b>Task 1:</b> Create a list named `step_signal` that represents a step signal that jumps from 0 to 1 at the 5th sample (<i> A step signal is 0 for a period of time, then suddenly jumps to a non-zero value</i>). \n",
    "\n",
    "<b>Task 2:</b> Create a list named `impulse_signal` that represents an impulse signal with a single 1 at the 5th sample (<i>An impulse signal is 0 everywhere except at one point</i>).\n",
    "\n",
    "<b>Try creating these lists in the same way as dc_signal_2.</b>"
   ]
  },
  {
   "cell_type": "code",
   "execution_count": null,
   "id": "f94b8a6f",
   "metadata": {},
   "outputs": [],
   "source": [
    "step_signal = ## Your code\n",
    "print(\"step signal:\", step_signal)\n",
    "\n",
    "impulse_signal = ## Your code\n",
    "print(\"impulse signal:\", impulse_signal)"
   ]
  },
  {
   "cell_type": "markdown",
   "id": "7595af88",
   "metadata": {},
   "source": [
    "### List comprehension\n",
    "\n",
    "List comprehensions provide a concise way to create lists based on existing lists. They consist of an expression followed by a for clause, then zero or more for or if clauses. \n",
    "The syntax for list comprehension is as follows :\n",
    "`[(some operation on thing) for thing in list]`\n",
    "\n",
    "Let's make it more concrete with an example.\n",
    "\n",
    "\n",
    "Here's an example:"
   ]
  },
  {
   "cell_type": "code",
   "execution_count": null,
   "id": "f9c29bdc",
   "metadata": {},
   "outputs": [],
   "source": [
    "powers = [2**x for x in range(10)]\n",
    "print(\"powers of 2:\", powers)"
   ]
  },
  {
   "cell_type": "markdown",
   "id": "f357c6a7",
   "metadata": {},
   "source": [
    "<b>Task:</b> Create a list named sin_signal that represents a sinusoidal signal over 10 samples. You can use the sin function from the math module to create such a signal."
   ]
  },
  {
   "cell_type": "code",
   "execution_count": null,
   "id": "fdb11813",
   "metadata": {},
   "outputs": [],
   "source": [
    "sin_signal = ## Your code\n",
    "print(\"sinusoidal signal:\", sin_signal)"
   ]
  },
  {
   "cell_type": "markdown",
   "id": "1116513d",
   "metadata": {},
   "source": [
    "### List indexing and slicing\n",
    "\n",
    "\n",
    "Extraction of a single element from a list can be done in the following way : `list[index]`\n",
    "\n",
    "As in Java, lists' indices start from 0. A particularity of Python is that elements can also be indexing from the end of the list to the beginning using negative indices, starting from -1.\n",
    "\n",
    "Here's an indexing scheme for the list : `list = [\"Code\", \"Favtutor\", \"Machine Learning\", \"Students\", \"Studies\", \"Java\", \"Python\"]`"
   ]
  },
  {
   "cell_type": "markdown",
   "id": "e6c62de9",
   "metadata": {},
   "source": [
    "<img src=\"img/list_indices.png\" width=600/>"
   ]
  },
  {
   "cell_type": "markdown",
   "id": "06c60e01",
   "metadata": {},
   "source": [
    "* You can extract multiple elements by slicing. This will give you elements from the start up to **(but not including)** the end index.\n",
    "\n",
    "  `my_list[start:end]`\n",
    "\n",
    "\n",
    "* If you do not specify the `start` index, you will retrieve the elements from index $0$ up to the `end` index.\n",
    "\n",
    "  `my_list[:end]` is the same as `my_list[0:end]`\n",
    "\n",
    "\n",
    "* Similarly, if you do not specify the `end` index, you will retrieve the elements from the `start` index up to (and **including**) the end of the list.\n",
    "\n",
    "  `my_list[start:]`\n",
    "\n",
    "\n",
    "* You can provide a step size, which allows you to extract one element every 'step' elements of the list.\n",
    "  `my_list[start:end:step]`"
   ]
  },
  {
   "cell_type": "markdown",
   "id": "fc8f7902",
   "metadata": {},
   "source": [
    "Below we introduce some common operations with lists.\n",
    "* Use `len(my_list)` to find the length of the list.\n",
    "* `my_list.append(element)` to add an element to the end of the list.\n",
    "* `my_list.insert(index, element)` to add an element to an index in the list\n",
    "* `list1.extend(list2)` to extend the elements of list1 with the elements of list2\n",
    "* `my_list.pop()` removes last element from the list\n",
    "* `my_list.pop(index)` removes the element at the given index\n",
    "* `my_list.remove(element)` removes the first instance of the given element"
   ]
  },
  {
   "cell_type": "markdown",
   "id": "1ea989a3",
   "metadata": {},
   "source": [
    "A signal is monotonically increasing if each sample is greater than or equal to the previous one, and it's monotonically decreasing if each sample is less than or equal to the previous one.\n",
    "\n",
    "<b>Task:</b> Use list comprehension and slicing to check whether the given signal is monotonically increasing, decreasing, or neither.\n",
    "\n",
    "<i> Hint: You might want to generate two new lists - one for the signal shifted one sample to the right, and one for the original signal with the last sample removed. Then, you can compare these two lists to check whether the signal is monotonically increasing or decreasing. </i>"
   ]
  },
  {
   "cell_type": "code",
   "execution_count": null,
   "id": "86d2a002",
   "metadata": {},
   "outputs": [],
   "source": [
    "signal = [1, 2, 3, 4, 5, 6, 7]\n",
    "\n",
    "signal_shifted_right = ## Your code\n",
    "signal_shifted_left = ## Your code\n",
    "\n",
    "## Your code"
   ]
  },
  {
   "cell_type": "markdown",
   "id": "8258ea46",
   "metadata": {},
   "source": [
    "## Dictionaries\n",
    "\n",
    "A dictionary is a mutable, unordered collection of items that are stored as key-value pairs. Dictionaries are defined by enclosing a comma-separated sequence of key-value pairs in curly braces ({}) with a colon (:) separating the key and value. `my_dict = {key1: value1, key2: value2, ..., keyN: valueN}`\n",
    "You can access the values using the keys in  𝑂(1) time. The keys of a dictionary must be immutable and unique.\n",
    "Here's an example :"
   ]
  },
  {
   "cell_type": "code",
   "execution_count": null,
   "id": "f8c826fe",
   "metadata": {},
   "outputs": [],
   "source": [
    "# Initialize a dictionary\n",
    "signal_dict = {}\n",
    "\n",
    "# Add signals to our dictionary\n",
    "signal1 = [1, 2, 3, 4, 5]\n",
    "signal2 = [2, 4, 6, 8, 10]\n",
    "signal_dict['signal1'] = signal1\n",
    "signal_dict['signal2'] = signal2\n",
    "\n",
    "# We can print out the dictionary to check it\n",
    "print(signal_dict)\n",
    "\n",
    "# We can access a particular signal like this\n",
    "print(signal_dict['signal1'])\n",
    "\n",
    "# If we process a signal and want to store the processed signal, dictionaries allow you to do that !\n",
    "# For instance, let's say we have squared every value in signal1 :\n",
    "signal1_processed = [x**2 for x in signal1]\n",
    "signal_dict['signal1_processed'] = signal1_processed\n",
    "print(signal_dict)\n",
    "\n",
    "# We can delete a signal from the dictionary when we no longer need it\n",
    "del signal_dict['signal2']\n",
    "print(signal_dict)\n"
   ]
  },
  {
   "cell_type": "markdown",
   "id": "f293036b",
   "metadata": {},
   "source": [
    "### Signal processing application: circular shifts\n",
    "\n",
    "Imagine you are working on a signal processing project where you have to manipulate multiple signals. A common operation in signal processing is the circular shift.\n",
    "\n",
    "A circular shift is where you shift the elements of a signal to the right or the left. If an element is shifted beyond the last position, it is wrapped around to the first position. Similarly, if an element is shifted before the first position, it is wrapped around to the last position. For example, if we have a signal [1, 2, 3, 4]:\n",
    "\n",
    "A circular shift to the right by one position would give us [4, 1, 2, 3].\n",
    "A circular shift to the left by one position would give us [2, 3, 4, 1].\n",
    "\n",
    "\n",
    "<b>Task:</b> For each signal in the dictionary below, create a new list that is the signal circularly shifted to the right by two positions. Then, add the shifted signals to the dictionary with new keys."
   ]
  },
  {
   "cell_type": "code",
   "execution_count": null,
   "id": "06d90cce",
   "metadata": {},
   "outputs": [],
   "source": [
    "signals = {\n",
    "    \"signal1\": [1, 2, 3, 4],\n",
    "    \"signal2\": [5, 6, 7, 8]\n",
    "}\n",
    "\n",
    "## Your code"
   ]
  },
  {
   "cell_type": "code",
   "execution_count": null,
   "id": "6bf1391a",
   "metadata": {},
   "outputs": [],
   "source": [
    "print(signals)"
   ]
  },
  {
   "cell_type": "markdown",
   "id": "bf558de0",
   "metadata": {},
   "source": [
    "## Tuples\n",
    "\n",
    "A tuple is an <b>immutable</b>, ordered collection of items. Tuples are defined by enclosing a comma-separated sequence of items in parentheses (())."
   ]
  },
  {
   "cell_type": "code",
   "execution_count": null,
   "id": "bdee9c43",
   "metadata": {},
   "outputs": [],
   "source": [
    "tuple1 = (\"Welcome\", \"to\", \"signal\", \"processing\", \"!\")\n",
    "\n",
    "print(\"tuple1 =\", tuple1)"
   ]
  },
  {
   "cell_type": "markdown",
   "id": "724a6269",
   "metadata": {},
   "source": [
    "Trying to reassign a value of a tuple provokes an error. Try it for yourself :"
   ]
  },
  {
   "cell_type": "code",
   "execution_count": null,
   "id": "2ab4a53f",
   "metadata": {},
   "outputs": [],
   "source": [
    "tuple1[0] = \"Hello\""
   ]
  },
  {
   "cell_type": "markdown",
   "id": "bc5c36ca",
   "metadata": {},
   "source": [
    "<i> Note : You can typecast from list to tuple and vice versa, using built in functions `list()` and `tuple()` </i>"
   ]
  },
  {
   "cell_type": "markdown",
   "id": "e47076a4",
   "metadata": {},
   "source": [
    "# Coding in Python: functions\n",
    "\n",
    "Functions in Python are defined using the `def` keyword, and can take in any number of arguments. \n",
    "Here's an example:"
   ]
  },
  {
   "cell_type": "code",
   "execution_count": null,
   "id": "355bb099",
   "metadata": {},
   "outputs": [],
   "source": [
    "def add(x, y):\n",
    "    return x + y"
   ]
  },
  {
   "cell_type": "markdown",
   "id": "dbaa8da7",
   "metadata": {},
   "source": [
    "The return statement is used to specify the value that the function should return when it is called. If no return statement is specified, the function returns None by default.\n",
    "\n",
    "You can also have default arguments by specifying their default value in the parameters :"
   ]
  },
  {
   "cell_type": "code",
   "execution_count": null,
   "id": "31d805bf",
   "metadata": {},
   "outputs": [],
   "source": [
    "def greet(name, greeting=\"Hello\"):\n",
    "    print(greeting + \", \" + name + \"!\")\n",
    "    \n",
    "greet(\"you\")"
   ]
  },
  {
   "cell_type": "markdown",
   "id": "1918bdcc",
   "metadata": {},
   "source": [
    "## Branching (if - then - else)\n",
    "\n",
    "If-statements allow programs to make decisions based on a condition. If the condition is true, the program executes one block of code. If the condition is false, the program executes a different block of code.\n",
    "\n",
    "All indented parts after the `if condition :` belong to that branch of the if statement. Python also has a different syntax, `elif`, that allows you to include multiple conditional expressions (`else if`) after the `if` condition or between the `if` and `else` conditions."
   ]
  },
  {
   "cell_type": "code",
   "execution_count": null,
   "id": "aa11cb4d",
   "metadata": {},
   "outputs": [],
   "source": [
    "signal = [0.2, 0.3, 0.4, 0.2, 0.1, 0.3, 0.4, 0.2]\n",
    "average_amplitude = sum(signal) / len(signal)\n",
    "\n",
    "# Classify the loudness based on the average amplitude\n",
    "if average_amplitude > 0.35:\n",
    "    print(\"The signal is loud.\")\n",
    "elif 0.2 <= average_amplitude <= 0.35:\n",
    "    print(\"The signal is moderate.\")\n",
    "else:\n",
    "    print(\"The signal is quiet.\")"
   ]
  },
  {
   "cell_type": "markdown",
   "id": "f9486929",
   "metadata": {},
   "source": [
    "### Signal processing application: even and odd signals\n",
    "\n",
    "Signals can be classified as even or odd. An even signal is symmetric around the y-axis, meaning that the part of the signal to the right of the y-axis is a mirror image of the part of the signal to the left. An odd signal is anti-symmetric around the y-axis, meaning that the signal to the right of the y-axis is the negative of the signal to the left.\n",
    "\n",
    "<b>Task :</b> Write a function `signal_type` that takes as input a list representing a signal and returns 'even' if the signal is even, 'odd' if the signal is odd, or 'neither' if the signal is neither even nor odd.\n",
    "\n",
    "\n",
    "The signal list will represent values of the signal at integer times from -N to N, where N is (len(signal)-1)/2. For example, a signal [1, 2, 3, 2, 1] corresponds to a signal that has a value of 1 at time -2, a value of 2 at times -1 and 1, a value of 3 at time 0, and a value of 1 at time 2."
   ]
  },
  {
   "cell_type": "code",
   "execution_count": null,
   "id": "4763e341",
   "metadata": {},
   "outputs": [],
   "source": [
    "## Your code"
   ]
  },
  {
   "cell_type": "code",
   "execution_count": null,
   "id": "3fa0cebb",
   "metadata": {},
   "outputs": [],
   "source": [
    "even_signal = [1, 2, 3, 2, 1]\n",
    "print(signal_type(even_signal))\n",
    "\n",
    "odd_signal = [-1, -2, 0, 2, 1]\n",
    "print(signal_type(odd_signal))\n",
    "\n",
    "neither_signal = [1, 2, 3, 4, 5]\n",
    "print(signal_type(neither_signal))"
   ]
  },
  {
   "cell_type": "markdown",
   "id": "47e6beba",
   "metadata": {},
   "source": [
    "## Loops\n",
    "\n",
    "### For-loops\n",
    "\n",
    "For loops iterate through sequences, in this way:\n",
    "\n",
    "`for x in sequence:`\n",
    "\n",
    "     inside the loop\n",
    "     inside the loop\n",
    "     inside the loop\n",
    " `outside the loop`"
   ]
  },
  {
   "cell_type": "markdown",
   "id": "5d358950",
   "metadata": {},
   "source": [
    "### Signal processing application: the moving average\n",
    "\n",
    "We are going to implement a simple moving average filter on a signal. The moving average filter is a simple and common type of filter that replaces each element of the signal by the average of `k` surrounding elements, where `k` is a parameter called the window size.\n",
    "\n",
    "For example, let's say we have the following signal:\n",
    "\n",
    "`signal = [1, 2, 3, 4, 5]`\n",
    "\n",
    "If we set the window size to be `k = 2`, the output would be:\n",
    "\n",
    "`moving_average = [1.5, 2.5, 3.5, 4.5]`\n",
    "\n",
    "Note:\n",
    "\n",
    "1. `k` must be less than or equal to the length of signal.\n",
    "2. You can ignore the first `k-1` points, and start the average from the `k`'th point.\n",
    "\n",
    "Given the signal below, compute the moving average of the signal with a window size of `k` using a for loop."
   ]
  },
  {
   "cell_type": "code",
   "execution_count": null,
   "id": "93db2698",
   "metadata": {},
   "outputs": [],
   "source": [
    "signal = [1, 2, 3, 4, 5]\n",
    "k = 2\n",
    "moving_average = []\n",
    "\n",
    "## Your code"
   ]
  },
  {
   "cell_type": "code",
   "execution_count": null,
   "id": "80122f19",
   "metadata": {},
   "outputs": [],
   "source": [
    "print(moving_average) "
   ]
  },
  {
   "cell_type": "markdown",
   "id": "344227fc",
   "metadata": {},
   "source": [
    "### While-loops\n",
    "\n",
    "The basic syntax for a while loop in Python is:\n",
    "`while condition:\n",
    "    code to execute while condition is true`\n",
    "Once the code inside the loop has finished executing, the condition is evaluated again. If the condition is still true, the code inside the loop is executed again, and this process continues until the condition is false.\n",
    "\n",
    "The `break` statement can be used inside a `while` loop to exit the loop prematurely. When the break statement is encountered, the loop immediately terminates and control is transferred to the code that follows the loop. \n",
    "\n",
    "`while True:\n",
    "    some code here\n",
    "    if some_condition:\n",
    "        break\n",
    "    more code here\n",
    "`\n",
    "\n",
    "In this example, the loop will continue executing the code inside the loop until the `some_condition` is true. When `some_condition` becomes true, the break statement is executed and the loop terminates.\n",
    "\n",
    "The `continue` statement can be used inside a while loop to skip the rest of the code in the current iteration and start the next iteration immediately. \n",
    "\n",
    "`while condition:\n",
    "    some code here\n",
    "    if some_condition:\n",
    "        continue\n",
    "    more code here `\n",
    "    \n",
    "Here's an example of everything in action :"
   ]
  },
  {
   "cell_type": "code",
   "execution_count": null,
   "id": "ec3c1e6b",
   "metadata": {
    "scrolled": true
   },
   "outputs": [],
   "source": [
    "signal = [1, 2, 9, 5, 7, 9, 6, 4, 2, 1] # A simple signal with a few peaks\n",
    "\n",
    "index = 1\n",
    "peak_value = None\n",
    "peak_index = None\n",
    "\n",
    "# Use a while loop to go through the signal\n",
    "while index < len(signal) - 1:\n",
    "    # Check if current sample is a peak, i.e., it's greater than its neighbors\n",
    "    if signal[index] > signal[index-1] and signal[index] > signal[index+1]:\n",
    "        peak_value = signal[index]\n",
    "        peak_index = index\n",
    "        break # Break out of the loop when finding the first peak\n",
    "    index += 1\n",
    "\n",
    "print(f\"The first peak value is {peak_value} and it occurs at index {peak_index}\")"
   ]
  },
  {
   "cell_type": "markdown",
   "id": "8b8f8e39",
   "metadata": {},
   "source": [
    "### Signal processing application: running average\n",
    "\n",
    "For this exercise, we'll implement a dynamic moving average filter. Instead of using a constant window size, we'll vary the window size from 1 to the position of each element in the list. This way, each element in the output will be the average of all elements up to its position in the input list (we call this a running average, since the number of elements in the average increases with the number of past inputs).\n",
    "\n",
    "For example, let's say we have the following signal:\n",
    "\n",
    "`signal = [1, 2, 3, 4, 5]`\n",
    "\n",
    "The output would be:\n",
    "\n",
    "`dynamic_moving_average = [1, 1.5, 2, 2.5, 3]`\n",
    "\n",
    "\n",
    "Given the signal below, compute its dynamic moving average using a while loop. This is sometimes also referred to as the <i>cumulative moving average</i>."
   ]
  },
  {
   "cell_type": "code",
   "execution_count": null,
   "id": "950c63a3",
   "metadata": {},
   "outputs": [],
   "source": [
    "signal = [1, 2, 3, 4, 5]\n",
    "dynamic_moving_average = []\n",
    "i = 0\n",
    "\n",
    "## Your code"
   ]
  },
  {
   "cell_type": "code",
   "execution_count": null,
   "id": "01177c1f",
   "metadata": {},
   "outputs": [],
   "source": [
    "print(dynamic_moving_average)"
   ]
  },
  {
   "cell_type": "markdown",
   "id": "da5d9486",
   "metadata": {},
   "source": [
    "### Signal processing application: periodic signals\n",
    "\n",
    "A signal is said to be periodic if it repeats its pattern over time. This means that for some positive integer P, for all times t in the signal, signal[t] = signal[t + P]\n",
    "\n",
    "<b>Task:</b> Write a Python function `is_periodic` that takes as input a list representing a signal and returns `True` if the signal is periodic and `False` otherwise. The signal list will represent values of the signal at integer times from 0 to N-1, where N is the length of the signal. \n",
    "<i>Hint: A signal can only be periodic if its length is a multiple of its period.</i>"
   ]
  },
  {
   "cell_type": "code",
   "execution_count": null,
   "id": "7f389f5c",
   "metadata": {},
   "outputs": [],
   "source": [
    "## Your code"
   ]
  },
  {
   "cell_type": "code",
   "execution_count": null,
   "id": "647897e9",
   "metadata": {},
   "outputs": [],
   "source": [
    "periodic_signal = [1, 2, 3, 1, 2, 3]\n",
    "print(is_periodic(periodic_signal))\n",
    "\n",
    "non_periodic_signal = [1, 2, 3, 4, 5, 6]\n",
    "print(is_periodic(non_periodic_signal))"
   ]
  },
  {
   "cell_type": "markdown",
   "id": "118e488c",
   "metadata": {},
   "source": [
    "# Data visualization: MatplotLib"
   ]
  },
  {
   "cell_type": "markdown",
   "id": "c42fcc25",
   "metadata": {},
   "source": [
    "One of the (if not _the_) most widely used plotting library in Python is Matplotlib. Jupyter notebook allows you to directly output the result of a plotting sequence for good visualisation.\n",
    "\n",
    "The following section gives a small introduction to the plotting library that will be used in future labs. "
   ]
  },
  {
   "cell_type": "markdown",
   "id": "8c4eb694",
   "metadata": {},
   "source": [
    "Let's start by plotting a simple 2D plot :"
   ]
  },
  {
   "cell_type": "code",
   "execution_count": null,
   "id": "d519cba8",
   "metadata": {},
   "outputs": [],
   "source": [
    "# Let's create some data first to plot\n",
    "a = list(range(24))\n",
    "b = [7,6,8,2,0,1,6,8,3,9,3,5,0,2,7,8, 3, 6,9,2,0,4,9,5]\n",
    "\n",
    "\n",
    "fig = plt.figure(figsize = (10,6)) # first we create a figure, specifying a size is optional.\n",
    "\n",
    "plt.plot(a, b, marker=\"*\", color=\"blue\") # plotting, specifying a color and marker are optional.\n",
    "\n",
    "#axis labels and title\n",
    "plt.xlabel(\"x\")\n",
    "plt.ylabel(\"y\")\n",
    "plt.title(\"Simple lined plot\")\n",
    "\n",
    "\n",
    "# show and close the plot to release memory\n",
    "plt.show()\n",
    "plt.close(fig) "
   ]
  },
  {
   "cell_type": "markdown",
   "id": "9012e67f",
   "metadata": {},
   "source": [
    "Other useful functions in MatplotLib allows you to plot a multitude of graphs. \n",
    "You can draw for example a scatter plot, using 'plt.scatter()' with similar arguments as for the simple plot."
   ]
  },
  {
   "cell_type": "markdown",
   "id": "aee30cc1",
   "metadata": {},
   "source": [
    "# A final example: convolution and dice rolls\n",
    "\n",
    "Convolution is a mathematical operation that combines two functions to produce a third function. The key idea behind convolution is that the value of this resulting function at any point is a <b> weighted average of the values of the original functions</b>.\n",
    "\n",
    "This might sound a bit abstract, so let's bring in a dice example."
   ]
  },
  {
   "cell_type": "markdown",
   "id": "431f15cd",
   "metadata": {},
   "source": [
    "## Rolling a Die\n",
    "\n",
    "When you roll a single six-sided die (assuming it's fair), each outcome (1, 2, 3, 4, 5, 6) has an equal probability of 1/6. We represent below the probability distribution of a die with equal probabilities"
   ]
  },
  {
   "cell_type": "code",
   "execution_count": null,
   "id": "8b898c94",
   "metadata": {},
   "outputs": [],
   "source": [
    "die = [1/6, 1/6, 1/6, 1/6, 1/6, 1/6]\n",
    "\n",
    "plt.stem(range(1, 7), die)\n",
    "plt.xlabel('Die Outcome')\n",
    "plt.ylabel('Probability')\n",
    "plt.title('Probability Distribution of a Single Die')\n",
    "plt.show()"
   ]
  },
  {
   "cell_type": "markdown",
   "id": "f1b8e78a",
   "metadata": {},
   "source": [
    "All other discrete outcomes (e.g. 0, -1, 24, 101) each have a zero probability. We can extend the above graph to show this in a more explicit manner."
   ]
  },
  {
   "cell_type": "code",
   "execution_count": null,
   "id": "2dd57397",
   "metadata": {},
   "outputs": [],
   "source": [
    "import numpy as np\n",
    "\n",
    "full_die = np.zeros(15)\n",
    "\n",
    "full_die[6:12] = 1/6\n",
    "\n",
    "plt.stem(range(-5, 10), full_die)\n",
    "plt.xlabel('Die Outcome')\n",
    "plt.ylabel('Probability')\n",
    "plt.title('Probability Distribution of a Single Die')\n",
    "plt.show()"
   ]
  },
  {
   "cell_type": "markdown",
   "id": "9c740bd9",
   "metadata": {},
   "source": [
    "Now, let's consider what happens when we roll two dice and sum up their outcomes. The possible sums range from 2 to 12, but not all sums are equally likely. For example, there's only one way to get a sum of 2 (by rolling 1 on both dice), but there are multiple ways to get a sum of 7 (1 and 6, 2 and 5, 3 and 4, etc., in either order).\n",
    "\n",
    "How do we compute these probabilities? This is where convolution comes in!\n",
    "\n",
    "\n",
    "One way to visualize this probability distribution is to create a 6x6 table, with columns being the outcomes of the first die and the rows the columns of the second die. This is how we represent it :\n",
    "\n",
    "<img src=\"img/dicetable.png\" width=400/>\n",
    "\n",
    "To compute the probability of each sum, we consider all possible pairs of outcomes (one from each die) that can yield this sum. If we just look through them all, we can count up how many pairs have a given sum. Arranging all the pairs in a grid like this shows that all of the pairs that have a constant sum are visible along <b>one of these different diagonals</b>.\n",
    "So simply counting how many pairs exist on each of those diagonals will tell you how likely you are to see a particular sum. In other words, we're computing a weighted average of the probabilities of the outcomes on each die.\n",
    "\n",
    "\n",
    "And that's precisely what the convolution of two functions does: it gives us a new function where each value is a weighted average of the values of the original functions.\n",
    "\n",
    "In the case of the dice, our original functions were the probability distributions of the outcomes on each die, and the resulting function after convolution is the probability distribution of the sums.\n",
    "\n",
    "<b> Task :</b> Use the function `manual_convolution` to fill in the object `convolved`, which represents the distribution of two dice."
   ]
  },
  {
   "cell_type": "code",
   "execution_count": null,
   "id": "d55a2348",
   "metadata": {},
   "outputs": [],
   "source": [
    "def manual_convolution(a, b):\n",
    "    m = len(a)\n",
    "    n = len(b)\n",
    "    result = np.zeros(m + n - 1)\n",
    "    for i in range(m):\n",
    "        for j in range(n):\n",
    "            result[i+j] += a[i]*b[j]\n",
    "    return result"
   ]
  },
  {
   "cell_type": "code",
   "execution_count": 1,
   "id": "871a8877",
   "metadata": {},
   "outputs": [
    {
     "name": "stderr",
     "output_type": "stream",
     "text": [
      "/tmp/ipykernel_17078/2016220658.py:11: MatplotlibDeprecationWarning: The 'use_line_collection' parameter of stem() was deprecated in Matplotlib 3.6 and will be removed two minor releases later. If any parameter follows 'use_line_collection', they should be passed as keyword, not positionally.\n",
      "  plt.stem(range(2,13), convolved, use_line_collection=True)\n"
     ]
    },
    {
     "ename": "TypeError",
     "evalue": "float() argument must be a string or a real number, not 'ellipsis'",
     "output_type": "error",
     "traceback": [
      "\u001b[0;31m---------------------------------------------------------------------------\u001b[0m",
      "\u001b[0;31mTypeError\u001b[0m                                 Traceback (most recent call last)",
      "Cell \u001b[0;32mIn [1], line 11\u001b[0m\n\u001b[1;32m      8\u001b[0m convolved \u001b[38;5;241m=\u001b[39m \u001b[38;5;241m.\u001b[39m\u001b[38;5;241m.\u001b[39m\u001b[38;5;241m.\u001b[39m \u001b[38;5;66;03m#Your code here\u001b[39;00m\n\u001b[1;32m     10\u001b[0m plt\u001b[38;5;241m.\u001b[39mfigure(figsize\u001b[38;5;241m=\u001b[39m(\u001b[38;5;241m10\u001b[39m,\u001b[38;5;241m6\u001b[39m))\n\u001b[0;32m---> 11\u001b[0m \u001b[43mplt\u001b[49m\u001b[38;5;241;43m.\u001b[39;49m\u001b[43mstem\u001b[49m\u001b[43m(\u001b[49m\u001b[38;5;28;43mrange\u001b[39;49m\u001b[43m(\u001b[49m\u001b[38;5;241;43m2\u001b[39;49m\u001b[43m,\u001b[49m\u001b[38;5;241;43m13\u001b[39;49m\u001b[43m)\u001b[49m\u001b[43m,\u001b[49m\u001b[43m \u001b[49m\u001b[43mconvolved\u001b[49m\u001b[43m,\u001b[49m\u001b[43m \u001b[49m\u001b[43muse_line_collection\u001b[49m\u001b[38;5;241;43m=\u001b[39;49m\u001b[38;5;28;43;01mTrue\u001b[39;49;00m\u001b[43m)\u001b[49m\n\u001b[1;32m     12\u001b[0m plt\u001b[38;5;241m.\u001b[39mxlabel(\u001b[38;5;124m'\u001b[39m\u001b[38;5;124mSum of two dice rolls\u001b[39m\u001b[38;5;124m'\u001b[39m)\n\u001b[1;32m     13\u001b[0m plt\u001b[38;5;241m.\u001b[39mylabel(\u001b[38;5;124m'\u001b[39m\u001b[38;5;124mProbability\u001b[39m\u001b[38;5;124m'\u001b[39m)\n",
      "File \u001b[0;32m~/.local/lib/python3.10/site-packages/matplotlib/_api/deprecation.py:410\u001b[0m, in \u001b[0;36mdelete_parameter.<locals>.wrapper\u001b[0;34m(*inner_args, **inner_kwargs)\u001b[0m\n\u001b[1;32m    400\u001b[0m     deprecation_addendum \u001b[38;5;241m=\u001b[39m (\n\u001b[1;32m    401\u001b[0m         \u001b[38;5;124mf\u001b[39m\u001b[38;5;124m\"\u001b[39m\u001b[38;5;124mIf any parameter follows \u001b[39m\u001b[38;5;132;01m{\u001b[39;00mname\u001b[38;5;132;01m!r}\u001b[39;00m\u001b[38;5;124m, they should be passed as \u001b[39m\u001b[38;5;124m\"\u001b[39m\n\u001b[1;32m    402\u001b[0m         \u001b[38;5;124mf\u001b[39m\u001b[38;5;124m\"\u001b[39m\u001b[38;5;124mkeyword, not positionally.\u001b[39m\u001b[38;5;124m\"\u001b[39m)\n\u001b[1;32m    403\u001b[0m     warn_deprecated(\n\u001b[1;32m    404\u001b[0m         since,\n\u001b[1;32m    405\u001b[0m         name\u001b[38;5;241m=\u001b[39m\u001b[38;5;28mrepr\u001b[39m(name),\n\u001b[0;32m   (...)\u001b[0m\n\u001b[1;32m    408\u001b[0m                  \u001b[38;5;28;01melse\u001b[39;00m deprecation_addendum,\n\u001b[1;32m    409\u001b[0m         \u001b[38;5;241m*\u001b[39m\u001b[38;5;241m*\u001b[39mkwargs)\n\u001b[0;32m--> 410\u001b[0m \u001b[38;5;28;01mreturn\u001b[39;00m \u001b[43mfunc\u001b[49m\u001b[43m(\u001b[49m\u001b[38;5;241;43m*\u001b[39;49m\u001b[43minner_args\u001b[49m\u001b[43m,\u001b[49m\u001b[43m \u001b[49m\u001b[38;5;241;43m*\u001b[39;49m\u001b[38;5;241;43m*\u001b[39;49m\u001b[43minner_kwargs\u001b[49m\u001b[43m)\u001b[49m\n",
      "File \u001b[0;32m~/.local/lib/python3.10/site-packages/matplotlib/pyplot.py:2857\u001b[0m, in \u001b[0;36mstem\u001b[0;34m(linefmt, markerfmt, basefmt, bottom, label, use_line_collection, orientation, data, *args)\u001b[0m\n\u001b[1;32m   2851\u001b[0m \u001b[38;5;129m@_copy_docstring_and_deprecators\u001b[39m(Axes\u001b[38;5;241m.\u001b[39mstem)\n\u001b[1;32m   2852\u001b[0m \u001b[38;5;28;01mdef\u001b[39;00m \u001b[38;5;21mstem\u001b[39m(\n\u001b[1;32m   2853\u001b[0m         \u001b[38;5;241m*\u001b[39margs, linefmt\u001b[38;5;241m=\u001b[39m\u001b[38;5;28;01mNone\u001b[39;00m, markerfmt\u001b[38;5;241m=\u001b[39m\u001b[38;5;28;01mNone\u001b[39;00m, basefmt\u001b[38;5;241m=\u001b[39m\u001b[38;5;28;01mNone\u001b[39;00m, bottom\u001b[38;5;241m=\u001b[39m\u001b[38;5;241m0\u001b[39m,\n\u001b[1;32m   2854\u001b[0m         label\u001b[38;5;241m=\u001b[39m\u001b[38;5;28;01mNone\u001b[39;00m,\n\u001b[1;32m   2855\u001b[0m         use_line_collection\u001b[38;5;241m=\u001b[39m_api\u001b[38;5;241m.\u001b[39mdeprecation\u001b[38;5;241m.\u001b[39m_deprecated_parameter,\n\u001b[1;32m   2856\u001b[0m         orientation\u001b[38;5;241m=\u001b[39m\u001b[38;5;124m'\u001b[39m\u001b[38;5;124mvertical\u001b[39m\u001b[38;5;124m'\u001b[39m, data\u001b[38;5;241m=\u001b[39m\u001b[38;5;28;01mNone\u001b[39;00m):\n\u001b[0;32m-> 2857\u001b[0m     \u001b[38;5;28;01mreturn\u001b[39;00m \u001b[43mgca\u001b[49m\u001b[43m(\u001b[49m\u001b[43m)\u001b[49m\u001b[38;5;241;43m.\u001b[39;49m\u001b[43mstem\u001b[49m\u001b[43m(\u001b[49m\n\u001b[1;32m   2858\u001b[0m \u001b[43m        \u001b[49m\u001b[38;5;241;43m*\u001b[39;49m\u001b[43margs\u001b[49m\u001b[43m,\u001b[49m\u001b[43m \u001b[49m\u001b[43mlinefmt\u001b[49m\u001b[38;5;241;43m=\u001b[39;49m\u001b[43mlinefmt\u001b[49m\u001b[43m,\u001b[49m\u001b[43m \u001b[49m\u001b[43mmarkerfmt\u001b[49m\u001b[38;5;241;43m=\u001b[39;49m\u001b[43mmarkerfmt\u001b[49m\u001b[43m,\u001b[49m\u001b[43m \u001b[49m\u001b[43mbasefmt\u001b[49m\u001b[38;5;241;43m=\u001b[39;49m\u001b[43mbasefmt\u001b[49m\u001b[43m,\u001b[49m\n\u001b[1;32m   2859\u001b[0m \u001b[43m        \u001b[49m\u001b[43mbottom\u001b[49m\u001b[38;5;241;43m=\u001b[39;49m\u001b[43mbottom\u001b[49m\u001b[43m,\u001b[49m\u001b[43m \u001b[49m\u001b[43mlabel\u001b[49m\u001b[38;5;241;43m=\u001b[39;49m\u001b[43mlabel\u001b[49m\u001b[43m,\u001b[49m\n\u001b[1;32m   2860\u001b[0m \u001b[43m        \u001b[49m\u001b[43muse_line_collection\u001b[49m\u001b[38;5;241;43m=\u001b[39;49m\u001b[43muse_line_collection\u001b[49m\u001b[43m,\u001b[49m\n\u001b[1;32m   2861\u001b[0m \u001b[43m        \u001b[49m\u001b[43morientation\u001b[49m\u001b[38;5;241;43m=\u001b[39;49m\u001b[43morientation\u001b[49m\u001b[43m,\u001b[49m\n\u001b[1;32m   2862\u001b[0m \u001b[43m        \u001b[49m\u001b[38;5;241;43m*\u001b[39;49m\u001b[38;5;241;43m*\u001b[39;49m\u001b[43m(\u001b[49m\u001b[43m{\u001b[49m\u001b[38;5;124;43m\"\u001b[39;49m\u001b[38;5;124;43mdata\u001b[39;49m\u001b[38;5;124;43m\"\u001b[39;49m\u001b[43m:\u001b[49m\u001b[43m \u001b[49m\u001b[43mdata\u001b[49m\u001b[43m}\u001b[49m\u001b[43m \u001b[49m\u001b[38;5;28;43;01mif\u001b[39;49;00m\u001b[43m \u001b[49m\u001b[43mdata\u001b[49m\u001b[43m \u001b[49m\u001b[38;5;129;43;01mis\u001b[39;49;00m\u001b[43m \u001b[49m\u001b[38;5;129;43;01mnot\u001b[39;49;00m\u001b[43m \u001b[49m\u001b[38;5;28;43;01mNone\u001b[39;49;00m\u001b[43m \u001b[49m\u001b[38;5;28;43;01melse\u001b[39;49;00m\u001b[43m \u001b[49m\u001b[43m{\u001b[49m\u001b[43m}\u001b[49m\u001b[43m)\u001b[49m\u001b[43m)\u001b[49m\n",
      "File \u001b[0;32m~/.local/lib/python3.10/site-packages/matplotlib/__init__.py:1423\u001b[0m, in \u001b[0;36m_preprocess_data.<locals>.inner\u001b[0;34m(ax, data, *args, **kwargs)\u001b[0m\n\u001b[1;32m   1420\u001b[0m \u001b[38;5;129m@functools\u001b[39m\u001b[38;5;241m.\u001b[39mwraps(func)\n\u001b[1;32m   1421\u001b[0m \u001b[38;5;28;01mdef\u001b[39;00m \u001b[38;5;21minner\u001b[39m(ax, \u001b[38;5;241m*\u001b[39margs, data\u001b[38;5;241m=\u001b[39m\u001b[38;5;28;01mNone\u001b[39;00m, \u001b[38;5;241m*\u001b[39m\u001b[38;5;241m*\u001b[39mkwargs):\n\u001b[1;32m   1422\u001b[0m     \u001b[38;5;28;01mif\u001b[39;00m data \u001b[38;5;129;01mis\u001b[39;00m \u001b[38;5;28;01mNone\u001b[39;00m:\n\u001b[0;32m-> 1423\u001b[0m         \u001b[38;5;28;01mreturn\u001b[39;00m \u001b[43mfunc\u001b[49m\u001b[43m(\u001b[49m\u001b[43max\u001b[49m\u001b[43m,\u001b[49m\u001b[43m \u001b[49m\u001b[38;5;241;43m*\u001b[39;49m\u001b[38;5;28;43mmap\u001b[39;49m\u001b[43m(\u001b[49m\u001b[43msanitize_sequence\u001b[49m\u001b[43m,\u001b[49m\u001b[43m \u001b[49m\u001b[43margs\u001b[49m\u001b[43m)\u001b[49m\u001b[43m,\u001b[49m\u001b[43m \u001b[49m\u001b[38;5;241;43m*\u001b[39;49m\u001b[38;5;241;43m*\u001b[39;49m\u001b[43mkwargs\u001b[49m\u001b[43m)\u001b[49m\n\u001b[1;32m   1425\u001b[0m     bound \u001b[38;5;241m=\u001b[39m new_sig\u001b[38;5;241m.\u001b[39mbind(ax, \u001b[38;5;241m*\u001b[39margs, \u001b[38;5;241m*\u001b[39m\u001b[38;5;241m*\u001b[39mkwargs)\n\u001b[1;32m   1426\u001b[0m     auto_label \u001b[38;5;241m=\u001b[39m (bound\u001b[38;5;241m.\u001b[39marguments\u001b[38;5;241m.\u001b[39mget(label_namer)\n\u001b[1;32m   1427\u001b[0m                   \u001b[38;5;129;01mor\u001b[39;00m bound\u001b[38;5;241m.\u001b[39mkwargs\u001b[38;5;241m.\u001b[39mget(label_namer))\n",
      "File \u001b[0;32m~/.local/lib/python3.10/site-packages/matplotlib/_api/deprecation.py:410\u001b[0m, in \u001b[0;36mdelete_parameter.<locals>.wrapper\u001b[0;34m(*inner_args, **inner_kwargs)\u001b[0m\n\u001b[1;32m    400\u001b[0m     deprecation_addendum \u001b[38;5;241m=\u001b[39m (\n\u001b[1;32m    401\u001b[0m         \u001b[38;5;124mf\u001b[39m\u001b[38;5;124m\"\u001b[39m\u001b[38;5;124mIf any parameter follows \u001b[39m\u001b[38;5;132;01m{\u001b[39;00mname\u001b[38;5;132;01m!r}\u001b[39;00m\u001b[38;5;124m, they should be passed as \u001b[39m\u001b[38;5;124m\"\u001b[39m\n\u001b[1;32m    402\u001b[0m         \u001b[38;5;124mf\u001b[39m\u001b[38;5;124m\"\u001b[39m\u001b[38;5;124mkeyword, not positionally.\u001b[39m\u001b[38;5;124m\"\u001b[39m)\n\u001b[1;32m    403\u001b[0m     warn_deprecated(\n\u001b[1;32m    404\u001b[0m         since,\n\u001b[1;32m    405\u001b[0m         name\u001b[38;5;241m=\u001b[39m\u001b[38;5;28mrepr\u001b[39m(name),\n\u001b[0;32m   (...)\u001b[0m\n\u001b[1;32m    408\u001b[0m                  \u001b[38;5;28;01melse\u001b[39;00m deprecation_addendum,\n\u001b[1;32m    409\u001b[0m         \u001b[38;5;241m*\u001b[39m\u001b[38;5;241m*\u001b[39mkwargs)\n\u001b[0;32m--> 410\u001b[0m \u001b[38;5;28;01mreturn\u001b[39;00m \u001b[43mfunc\u001b[49m\u001b[43m(\u001b[49m\u001b[38;5;241;43m*\u001b[39;49m\u001b[43minner_args\u001b[49m\u001b[43m,\u001b[49m\u001b[43m \u001b[49m\u001b[38;5;241;43m*\u001b[39;49m\u001b[38;5;241;43m*\u001b[39;49m\u001b[43minner_kwargs\u001b[49m\u001b[43m)\u001b[49m\n",
      "File \u001b[0;32m~/.local/lib/python3.10/site-packages/matplotlib/axes/_axes.py:3002\u001b[0m, in \u001b[0;36mAxes.stem\u001b[0;34m(self, linefmt, markerfmt, basefmt, bottom, label, use_line_collection, orientation, *args)\u001b[0m\n\u001b[1;32m   3000\u001b[0m         linestyle \u001b[38;5;241m=\u001b[39m mpl\u001b[38;5;241m.\u001b[39mrcParams[\u001b[38;5;124m'\u001b[39m\u001b[38;5;124mlines.linestyle\u001b[39m\u001b[38;5;124m'\u001b[39m]\n\u001b[1;32m   3001\u001b[0m     xlines \u001b[38;5;241m=\u001b[39m \u001b[38;5;28mself\u001b[39m\u001b[38;5;241m.\u001b[39mvlines \u001b[38;5;28;01mif\u001b[39;00m orientation \u001b[38;5;241m==\u001b[39m \u001b[38;5;124m\"\u001b[39m\u001b[38;5;124mvertical\u001b[39m\u001b[38;5;124m\"\u001b[39m \u001b[38;5;28;01melse\u001b[39;00m \u001b[38;5;28mself\u001b[39m\u001b[38;5;241m.\u001b[39mhlines\n\u001b[0;32m-> 3002\u001b[0m     stemlines \u001b[38;5;241m=\u001b[39m \u001b[43mxlines\u001b[49m\u001b[43m(\u001b[49m\n\u001b[1;32m   3003\u001b[0m \u001b[43m        \u001b[49m\u001b[43mlocs\u001b[49m\u001b[43m,\u001b[49m\u001b[43m \u001b[49m\u001b[43mbottom\u001b[49m\u001b[43m,\u001b[49m\u001b[43m \u001b[49m\u001b[43mheads\u001b[49m\u001b[43m,\u001b[49m\n\u001b[1;32m   3004\u001b[0m \u001b[43m        \u001b[49m\u001b[43mcolors\u001b[49m\u001b[38;5;241;43m=\u001b[39;49m\u001b[43mlinecolor\u001b[49m\u001b[43m,\u001b[49m\u001b[43m \u001b[49m\u001b[43mlinestyles\u001b[49m\u001b[38;5;241;43m=\u001b[39;49m\u001b[43mlinestyle\u001b[49m\u001b[43m,\u001b[49m\u001b[43m \u001b[49m\u001b[43mlabel\u001b[49m\u001b[38;5;241;43m=\u001b[39;49m\u001b[38;5;124;43m\"\u001b[39;49m\u001b[38;5;124;43m_nolegend_\u001b[39;49m\u001b[38;5;124;43m\"\u001b[39;49m\u001b[43m)\u001b[49m\n\u001b[1;32m   3005\u001b[0m \u001b[38;5;66;03m# Old behaviour is to plot each of the lines individually\u001b[39;00m\n\u001b[1;32m   3006\u001b[0m \u001b[38;5;28;01melse\u001b[39;00m:\n\u001b[1;32m   3007\u001b[0m     stemlines \u001b[38;5;241m=\u001b[39m []\n",
      "File \u001b[0;32m~/.local/lib/python3.10/site-packages/matplotlib/__init__.py:1423\u001b[0m, in \u001b[0;36m_preprocess_data.<locals>.inner\u001b[0;34m(ax, data, *args, **kwargs)\u001b[0m\n\u001b[1;32m   1420\u001b[0m \u001b[38;5;129m@functools\u001b[39m\u001b[38;5;241m.\u001b[39mwraps(func)\n\u001b[1;32m   1421\u001b[0m \u001b[38;5;28;01mdef\u001b[39;00m \u001b[38;5;21minner\u001b[39m(ax, \u001b[38;5;241m*\u001b[39margs, data\u001b[38;5;241m=\u001b[39m\u001b[38;5;28;01mNone\u001b[39;00m, \u001b[38;5;241m*\u001b[39m\u001b[38;5;241m*\u001b[39mkwargs):\n\u001b[1;32m   1422\u001b[0m     \u001b[38;5;28;01mif\u001b[39;00m data \u001b[38;5;129;01mis\u001b[39;00m \u001b[38;5;28;01mNone\u001b[39;00m:\n\u001b[0;32m-> 1423\u001b[0m         \u001b[38;5;28;01mreturn\u001b[39;00m \u001b[43mfunc\u001b[49m\u001b[43m(\u001b[49m\u001b[43max\u001b[49m\u001b[43m,\u001b[49m\u001b[43m \u001b[49m\u001b[38;5;241;43m*\u001b[39;49m\u001b[38;5;28;43mmap\u001b[39;49m\u001b[43m(\u001b[49m\u001b[43msanitize_sequence\u001b[49m\u001b[43m,\u001b[49m\u001b[43m \u001b[49m\u001b[43margs\u001b[49m\u001b[43m)\u001b[49m\u001b[43m,\u001b[49m\u001b[43m \u001b[49m\u001b[38;5;241;43m*\u001b[39;49m\u001b[38;5;241;43m*\u001b[39;49m\u001b[43mkwargs\u001b[49m\u001b[43m)\u001b[49m\n\u001b[1;32m   1425\u001b[0m     bound \u001b[38;5;241m=\u001b[39m new_sig\u001b[38;5;241m.\u001b[39mbind(ax, \u001b[38;5;241m*\u001b[39margs, \u001b[38;5;241m*\u001b[39m\u001b[38;5;241m*\u001b[39mkwargs)\n\u001b[1;32m   1426\u001b[0m     auto_label \u001b[38;5;241m=\u001b[39m (bound\u001b[38;5;241m.\u001b[39marguments\u001b[38;5;241m.\u001b[39mget(label_namer)\n\u001b[1;32m   1427\u001b[0m                   \u001b[38;5;129;01mor\u001b[39;00m bound\u001b[38;5;241m.\u001b[39mkwargs\u001b[38;5;241m.\u001b[39mget(label_namer))\n",
      "File \u001b[0;32m~/.local/lib/python3.10/site-packages/matplotlib/axes/_axes.py:1161\u001b[0m, in \u001b[0;36mAxes.vlines\u001b[0;34m(self, x, ymin, ymax, colors, linestyles, label, **kwargs)\u001b[0m\n\u001b[1;32m   1159\u001b[0m masked_verts[:, \u001b[38;5;241m0\u001b[39m, \u001b[38;5;241m1\u001b[39m] \u001b[38;5;241m=\u001b[39m ymin\n\u001b[1;32m   1160\u001b[0m masked_verts[:, \u001b[38;5;241m1\u001b[39m, \u001b[38;5;241m0\u001b[39m] \u001b[38;5;241m=\u001b[39m x\n\u001b[0;32m-> 1161\u001b[0m \u001b[43mmasked_verts\u001b[49m\u001b[43m[\u001b[49m\u001b[43m:\u001b[49m\u001b[43m,\u001b[49m\u001b[43m \u001b[49m\u001b[38;5;241;43m1\u001b[39;49m\u001b[43m,\u001b[49m\u001b[43m \u001b[49m\u001b[38;5;241;43m1\u001b[39;49m\u001b[43m]\u001b[49m \u001b[38;5;241m=\u001b[39m ymax\n\u001b[1;32m   1163\u001b[0m lines \u001b[38;5;241m=\u001b[39m mcoll\u001b[38;5;241m.\u001b[39mLineCollection(masked_verts, colors\u001b[38;5;241m=\u001b[39mcolors,\n\u001b[1;32m   1164\u001b[0m                              linestyles\u001b[38;5;241m=\u001b[39mlinestyles, label\u001b[38;5;241m=\u001b[39mlabel)\n\u001b[1;32m   1165\u001b[0m \u001b[38;5;28mself\u001b[39m\u001b[38;5;241m.\u001b[39madd_collection(lines, autolim\u001b[38;5;241m=\u001b[39m\u001b[38;5;28;01mFalse\u001b[39;00m)\n",
      "File \u001b[0;32m~/.local/lib/python3.10/site-packages/numpy/ma/core.py:3377\u001b[0m, in \u001b[0;36mMaskedArray.__setitem__\u001b[0;34m(self, indx, value)\u001b[0m\n\u001b[1;32m   3374\u001b[0m     mval \u001b[38;5;241m=\u001b[39m \u001b[38;5;28mtuple\u001b[39m([\u001b[38;5;28;01mFalse\u001b[39;00m] \u001b[38;5;241m*\u001b[39m \u001b[38;5;28mlen\u001b[39m(_dtype\u001b[38;5;241m.\u001b[39mnames))\n\u001b[1;32m   3375\u001b[0m \u001b[38;5;28;01mif\u001b[39;00m _mask \u001b[38;5;129;01mis\u001b[39;00m nomask:\n\u001b[1;32m   3376\u001b[0m     \u001b[38;5;66;03m# Set the data, then the mask\u001b[39;00m\n\u001b[0;32m-> 3377\u001b[0m     \u001b[43m_data\u001b[49m\u001b[43m[\u001b[49m\u001b[43mindx\u001b[49m\u001b[43m]\u001b[49m \u001b[38;5;241m=\u001b[39m dval\n\u001b[1;32m   3378\u001b[0m     \u001b[38;5;28;01mif\u001b[39;00m mval \u001b[38;5;129;01mis\u001b[39;00m \u001b[38;5;129;01mnot\u001b[39;00m nomask:\n\u001b[1;32m   3379\u001b[0m         _mask \u001b[38;5;241m=\u001b[39m \u001b[38;5;28mself\u001b[39m\u001b[38;5;241m.\u001b[39m_mask \u001b[38;5;241m=\u001b[39m make_mask_none(\u001b[38;5;28mself\u001b[39m\u001b[38;5;241m.\u001b[39mshape, _dtype)\n",
      "\u001b[0;31mTypeError\u001b[0m: float() argument must be a string or a real number, not 'ellipsis'"
     ]
    },
    {
     "data": {
      "image/png": "[encoded data removed]",
      "text/plain": [
       "<Figure size 1000x600 with 1 Axes>"
      ]
     },
     "metadata": {},
     "output_type": "display_data"
    }
   ],
   "source": [
    "import numpy as np\n",
    "import matplotlib.pyplot as plt\n",
    "\n",
    "# Representing a single dice roll\n",
    "dice = np.array([1/6]*6)\n",
    "\n",
    "# Convolve this with itself to represent the sum of rolling two dice\n",
    "convolved = ... #Your code\n",
    "\n",
    "plt.figure(figsize=(10,6))\n",
    "plt.stem(range(2,13), convolved, use_line_collection=True)\n",
    "plt.xlabel('Sum of two dice rolls')\n",
    "plt.ylabel('Probability')\n",
    "plt.ylabel('Probability')\n",
    "plt.title('The Probability Distribution of the Sum of Two Dice Rolls')\n",
    "plt.grid(True)\n",
    "plt.show()\n"
   ]
  },
  {
   "cell_type": "markdown",
   "id": "4cd7d655",
   "metadata": {},
   "source": [
    "Now that we have seen the result for two dice, let's try more!\n",
    "**Task**: Fill in the function `plot_convolution` which plots the result of a convolution, and therefore the probability distribution for an arbitrary number of dice. *(Hint: use sequentially the variable `distribution`)*"
   ]
  },
  {
   "cell_type": "code",
   "execution_count": null,
   "id": "ab33c222",
   "metadata": {},
   "outputs": [],
   "source": [
    "from ipywidgets import interact, IntSlider\n",
    "\n",
    "def plot_convolution(n_dice):\n",
    "    distribution = np.array([1/6]*6)  # Start with a single die\n",
    "    ... #Your code\n",
    "    \n",
    "    plt.figure(figsize=(10,6))\n",
    "    plt.stem(range(n_dice, 6*n_dice + 1), distribution, use_line_collection=True)\n",
    "    plt.xlabel('Sum of dice rolls')\n",
    "    plt.ylabel('Probability')\n",
    "    plt.title(f'Probability Distribution of the Sum of {n_dice} Dice Rolls')\n",
    "    plt.grid(True)\n",
    "    plt.show()\n",
    "\n",
    "interact(plot_convolution, n_dice=IntSlider(min=1, max=30, value=2))\n"
   ]
  },
  {
   "cell_type": "markdown",
   "id": "da217ba1",
   "metadata": {},
   "source": [
    "That's it for this week's lab! \n",
    "We advise you read the python documentation https://docs.python.org/3/index.html for more insights of what you can do in python. \n",
    "\n",
    "Do not hesitate to ask questions on the forum for this lab and future ones!"
   ]
  }
 ],
 "metadata": {
  "kernelspec": {
   "display_name": "Python 3 (ipykernel)",
   "language": "python",
   "name": "python3"
  },
  "language_info": {
   "codemirror_mode": {
    "name": "ipython",
    "version": 3
   },
   "file_extension": ".py",
   "mimetype": "text/x-python",
   "name": "python",
   "nbconvert_exporter": "python",
   "pygments_lexer": "ipython3",
   "version": "3.10.6"
  },
  "toc-autonumbering": true
 },
 "nbformat": 4,
 "nbformat_minor": 5
}
