{
 "cells": [
  {
   "cell_type": "markdown",
   "metadata": {},
   "source": [
    "<div style=\"margin: 0 auto 30px; height: 60px; border: 2px solid gray; border-radius: 6px;\">\n",
    "  <div style=\"float: left;\"><img src=\"img/epfl.png\" /></div>\n",
    "  <div style=\"float: right; margin: 20px 30px 0; font-size: 10pt; font-weight: bold;\"><a href=\"https://moodle.epfl.ch/course/view.php?id=18253\">COM202 - Signal Processing</a></div>\n",
    "</div>\n",
    "<div style=\"clear: both; font-size: 30pt; font-weight: bold; color: #483D8B;\">\n",
    "    Lab 5 : Filters for Audio Processing\n",
    "</div>"
   ]
  },
  {
   "cell_type": "markdown",
   "metadata": {},
   "source": [
    "# **Introduction**\n",
    "\n",
    "In this lab, you will delve into the intricacies of digital audio processing by designing, analyzing, and implementing a series of essential filters. Through deriving each filter from its transfer function, visualizing their responses, and applying them to actual sound signals, you'll gain a deeper understanding of both the theoretical foundations and practical nuances of audio effects. This hands-on exploration encourages you to experiment with parameter tuning, bridging the gap between mathematical models and real-world auditory perception.\n",
    "\n",
    "## Lab Content\n",
    "\n",
    "In this lab, we will implement some well-known processing algorithm used in music production:\n",
    "\n",
    "- **Schroeder Reverb**\n",
    "- **Bass Boosting**\n",
    "- **Sweep EQ Effect**\n",
    "\n",
    "For each filter, you will:\n",
    "1. Build one or more filters based on their transfer function\n",
    "2. Visualize and analyze frequency responses\n",
    "3. Apply the filters to a sound and listen to the result"
   ]
  },
  {
   "cell_type": "markdown",
   "metadata": {},
   "source": [
    "As usual, we start by importing the necessary libraries to ensure the lab runs smoothly."
   ]
  },
  {
   "cell_type": "code",
   "execution_count": null,
   "metadata": {},
   "outputs": [],
   "source": [
    "import ipywidgets as widgets\n",
    "import matplotlib.pyplot as plt\n",
    "import numpy as np\n",
    "import scipy.signal as sp\n",
    "from scipy.io import wavfile\n",
    "from IPython.display import Audio\n",
    "\n",
    "plt.rcParams['figure.figsize'] = 14, 4 # set default size of plots\n",
    "\n",
    "def load_wav(file):\n",
    "    sf, x = wavfile.read(f'data/{file}.wav')\n",
    "    return sf, (x - np.mean(x)) / 32767.0"
   ]
  },
  {
   "cell_type": "markdown",
   "metadata": {},
   "source": [
    "# **I. Artificial Reverb Effect**\n",
    "\n",
    "**Artificial reverb** is a technique that simulates the reverberation of a space by combining simple filters. Essentially, by applying a series of filters, we can mimic how sound reflects and diffuses in a room."
   ]
  },
  {
   "cell_type": "markdown",
   "metadata": {},
   "source": [
    "## Reverberant rooms\n",
    "\n",
    "<img width=\"200\" style=\"float: right; margin: 0 30px 20px 30px;\" src=\"img/reflections.png\"> \n",
    "\n",
    "A reverberant room acts like a filter whose impulse response is dependent on the geometry of the enclosure, on the materials used for the walls and the objects in the space, and on the positions of both the sound source and of the listener. \n",
    "\n",
    "To understand the properties of a room's impulse response (RIR), recall that the sound waves produced by the source will reach the listener multiple times:\n",
    " * via a direct path, if source and listener are in a direct line of sight\n",
    " * after being reflected once by a wall (first-order or \"early\" reflections)\n",
    " * after multiple reflections by different walls (high-order or late\" reflections)\n",
    "\n",
    "The number of reflections grows exponentially with increasing order and therefore the RIR becomes denser and denser towards its \"tail\"; at the same time, because of absorption losses, the amplitude of a reflection is an exponentially decreasing function of its order and so the typical time-domain envelope of a RIR is the one shown below:\n",
    "\n",
    "<img width=\"600\" style=\"display: block; margin: 40px auto;\" src=\"img/rir.png\"> "
   ]
  },
  {
   "cell_type": "markdown",
   "metadata": {},
   "source": [
    "## Reverb simulators \n",
    "\n",
    "Realistic RIRs are difficult to measure and computationally expensive to implement; an alternative is to use an artificial reverberation algorithm. In this lab, we focus on implementing the **Schroeder Reverb**, one of the first synthetic reverberation examples. The method uses a combination of **comb filters** and **allpass filters** where\n",
    "\n",
    "- comb filters simulate the **early reflections**.\n",
    "- all-pass filters simulate the denser, diffused tail.\n",
    "\n",
    "This combination effectively recreates the natural reverb of a space using a very small amount of computation; "
   ]
  },
  {
   "cell_type": "markdown",
   "metadata": {},
   "source": [
    "## Reference and Schematic\n",
    "\n",
    "Using [this site](https://ccrma.stanford.edu/~jos/pasp/Schroeder_Reverberators.html) as a reference we will implement the following block diagram.\n",
    "\n",
    "<img width=\"700\" style=\"display: block; margin: 20px auto;\" src=\"img/schroeder_reverb_stanford.png\"> \n",
    "\n",
    "In the figure\n",
    "\n",
    "- $\\text{AP}^g_D$ indicates an allpass filter of order $D$ and gain $g$\n",
    "- $\\text{FBCF}^g_N$ indicates a feedback comb filter with a gain equal to $g$ and a delay of $N$ samples.\n",
    "- **MM** indicates a \"Mixing Matrix\" but we won't need this element in our implementation"
   ]
  },
  {
   "cell_type": "markdown",
   "metadata": {},
   "source": [
    "### A) **Allpass Filters**\n",
    "\n",
    "A filter with transfer function\n",
    "\n",
    "$$\n",
    "    P(z) = \\frac{z^{-D} - g}{1 - g z^{-D}}\n",
    "$$\n",
    "\n",
    "is called an _allpass_ filter because its magnitude response is constant <=> $ (|P(e^{j\\omega})| = 1) $.  \n",
    "This means that while the spectral energy of the signal remains unchanged, the nonlinear phase response causes the signal to \"spread out\" in time.\n",
    "\n",
    "\n"
   ]
  },
  {
   "cell_type": "markdown",
   "metadata": {},
   "source": [
    "### Deriving the Filter Coefficients\n",
    "\n",
    "To implement this filter, we need to express its transfer function in the standard form:\n",
    "\n",
    "$$\n",
    "    P(z) = \\frac{B(z)}{A(z)} = \\frac{b_0 + b_1 z^{-1} + \\dots + b_D z^{-D}}{1 + a_1 z^{-1} + \\dots + a_D z^{-D}}.\n",
    "$$\n",
    "\n",
    "Try to think on your own about the implementation and then click to see if you're correct.\n",
    "\n",
    "<details>\n",
    "<summary style=\"color: green; cursor: pointer; font-size: 1.5em;\">Show Answer</summary>\n",
    "\n",
    "1. **Numerator $B(z)$:**\n",
    "\n",
    "   The numerator is $z^{-D} - g$. This can be re-written as:\n",
    "\n",
    "   $$\n",
    "       B(z) = -g + 0\\cdot z^{-1} + 0\\cdot z^{-2} + \\dots + 1\\cdot z^{-D}.\n",
    "   $$\n",
    "\n",
    "   Thus, we have:\n",
    "   - $b_0 = -g$\n",
    "   - $b_D = 1$\n",
    "   - All other $b_k = 0$ for $k \\neq 0$ and $k \\neq D$.\n",
    "\n",
    "2. **Denominator $A(z)$:**\n",
    "\n",
    "   The denominator is $1 - g z^{-D}$. This can be expressed as:\n",
    "\n",
    "   $$\n",
    "       A(z) = 1 + 0\\cdot z^{-1} + 0\\cdot z^{-2} + \\dots - g\\cdot z^{-D}.\n",
    "   $$\n",
    "\n",
    "   Therefore:\n",
    "   - $a_0 = 1$\n",
    "   - $a_D = -g$\n",
    "   - All other $a_k = 0$ for $k \\neq 0$ and $k \\neq D$.\n",
    "</details>"
   ]
  },
  {
   "cell_type": "markdown",
   "metadata": {},
   "source": [
    "#### **Exercise 1** : Implementation "
   ]
  },
  {
   "cell_type": "code",
   "execution_count": null,
   "metadata": {},
   "outputs": [],
   "source": [
    "def allpass(delay: int, g: float) -> [np.ndarray, np.ndarray]:\n",
    "    # If our filter is of the form.\n",
    "    #             jw                 -jw              -jwM\n",
    "    #    jw    B(e  )    b[0] + b[1]e    + ... + b[M]e\n",
    "    # H(e  ) = ------ = -----------------------------------\n",
    "    #             jw                 -jw              -jwN\n",
    "    #          A(e  )    a[0] + a[1]e    + ... + a[N]e\n",
    "\n",
    "    # Return the coefficients a and b.  \n",
    "    \n",
    "    b = ...# YOUR CODE HERE #\n",
    "    a = ...# YOUR CODE HERE #\n",
    "    return b,a"
   ]
  },
  {
   "cell_type": "code",
   "execution_count": null,
   "metadata": {
    "tags": [
     "solution"
    ]
   },
   "outputs": [],
   "source": [
    "#Solution.\n",
    "def allpass(delay: int, g: float) -> [np.ndarray, np.ndarray]:\n",
    "    # If our filter is of the form.\n",
    "    #             jw                 -jw              -jwM\n",
    "    #    jw    B(e  )    b[0] + b[1]e    + ... + b[M]e\n",
    "    # H(e  ) = ------ = -----------------------------------\n",
    "    #             jw                 -jw              -jwN\n",
    "    #          A(e  )    a[0] + a[1]e    + ... + a[N]e\n",
    "\n",
    "    # Return the coefficients a and b.\n",
    "      \n",
    "    b = np.r_[-g, np.zeros(int(delay - 1)), 1]\n",
    "    a = np.r_[1, np.zeros(int(delay - 1)), -g]\n",
    "    return b,a"
   ]
  },
  {
   "cell_type": "markdown",
   "metadata": {},
   "source": [
    "#### Visualizing the Frequency Response\n",
    "\n",
    "Let's begin by visualizing the frequency response of our all-pass filter. With parameters set to  \n",
    "$D = 17$ and $g = 0.7$, we compute the frequency response using `sp.freqz`. \n",
    "We then plot both the magnitude and phase responses:\n",
    "- <span style=\"color: blue; font-size: 1.1em;\">Magnitude Response</span>\n",
    "- <span style=\"color: orange; font-size: 1.1em;\">Phase Response</span>\n"
   ]
  },
  {
   "cell_type": "code",
   "execution_count": null,
   "metadata": {},
   "outputs": [],
   "source": [
    "D, g = 17, 0.7\n",
    "w, H = sp.freqz(*allpass(D, g), 2048);\n",
    "plt.plot(w, np.abs(H));\n",
    "plt.plot(w, np.angle(H));"
   ]
  },
  {
   "cell_type": "markdown",
   "metadata": {},
   "source": [
    "#### Impulse Response\n",
    "\n",
    "Next, we'll inspect the impulse response of the all-pass filter. The impulse response of an all-pass filter is also a spaced-out exponentially decaying sequence:\n",
    "\n",
    "$$\n",
    "    a[n] = \\begin{cases}\n",
    "        0 & n < 0,\\\\[5pt]\n",
    "        -g & n = 0,\\\\[5pt]\n",
    "        g^k (1-g^2) & n = kD,\\quad k \\in \\mathbb{N},\\\\[5pt]\n",
    "        0 & \\text{otherwise.}\n",
    "    \\end{cases}\n",
    "$$\n",
    "\n",
    "We calculate and display the impulse response by filtering an impulse signal with our all-pass filter using `sp.lfilter`, and then visualize it using a stem plot:\n",
    "\n",
    "\n"
   ]
  },
  {
   "cell_type": "code",
   "execution_count": null,
   "metadata": {},
   "outputs": [],
   "source": [
    "plt.stem(sp.lfilter(*allpass(D, g), np.r_[1, np.zeros(200)]));"
   ]
  },
  {
   "cell_type": "markdown",
   "metadata": {},
   "source": [
    "#### Audio Visualisation\n",
    "Let's load an impulse-like audio excerpt and see how an allpass filter can spread out the peak in time without affecting the acoustic properties too much:"
   ]
  },
  {
   "cell_type": "code",
   "execution_count": null,
   "metadata": {},
   "outputs": [],
   "source": [
    "sf, snare = load_wav('snare')\n",
    "snare = snare[:10000]\n",
    "\n",
    "D, g = 210, 0.7\n",
    "ap_snare = sp.lfilter(*allpass(D, g), snare);\n",
    "\n",
    "plt.plot(snare);\n",
    "plt.plot(ap_snare);"
   ]
  },
  {
   "cell_type": "markdown",
   "metadata": {},
   "source": [
    "### Now, Let's Hear Our Creation!\n",
    "\n",
    "After all the filtering and processing, it's time to listen to the final result.  \n",
    "The first audio is the original and the second one is the outpout of the filter"
   ]
  },
  {
   "cell_type": "code",
   "execution_count": null,
   "metadata": {},
   "outputs": [],
   "source": [
    "sf, audio = load_wav('The_end')\n",
    "y = sp.lfilter(*allpass(int(sf * 0.08), 0.7), audio)\n",
    "display(Audio(audio, rate=sf))\n",
    "display(Audio(y, rate=sf))"
   ]
  },
  {
   "cell_type": "markdown",
   "metadata": {},
   "source": [
    "---\n",
    "### B) **Feedback Comb Filters**\n",
    "\n",
    "A recursive echo can be modeled by a simple first-order IIR filter, often referred to as a **comb filter** because its magnitude response exhibits regularly-spaced peaks at frequencies that are multiples of $\\omega_0 = 2\\pi / D$. The transfer function of the filter is given by:\n",
    "\n",
    "$$\n",
    "    C(z) = \\frac{1}{1 - g z^{-D}}\n",
    "$$\n",
    "\n",
    "which is stable for $|g| < 1$."
   ]
  },
  {
   "cell_type": "markdown",
   "metadata": {},
   "source": [
    "### Deriving the Filter Coefficients\n",
    "\n",
    "To implement the comb filter, we express its transfer function in the standard form:\n",
    "\n",
    "$$\n",
    "    C(z) = \\frac{B(z)}{A(z)} = \\frac{b_0 + b_1 z^{-1} + \\dots + b_D z^{-D}}{1 + a_1 z^{-1} + \\dots + a_D z^{-D}}.\n",
    "$$\n",
    "\n",
    "Try to think on your own about the implementation and then click to see if you're correct.\n",
    "\n",
    "<details>\n",
    "<summary style=\"color: green; cursor: pointer; font-size: 1.5em;\">Show Answer</summary>\n",
    "\n",
    "1. **Numerator $B(z)$:**\n",
    "\n",
    "   The numerator is the constant $1$. Therefore, we can write:\n",
    "\n",
    "   $$\n",
    "       B(z) = 1\n",
    "   $$\n",
    "\n",
    "   This implies:\n",
    "   - $b_0 = 1$\n",
    "   - $b_k = 0$ for all $k \\geq 1$.\n",
    "\n",
    "2. **Denominator $A(z)$:**\n",
    "\n",
    "   The denominator is $1 - g z^{-D}$, which can be expressed as:\n",
    "\n",
    "   $$\n",
    "       A(z) = 1 + 0 \\cdot z^{-1} + 0 \\cdot z^{-2} + \\dots - g \\cdot z^{-D}.\n",
    "   $$\n",
    "\n",
    "   Thus:\n",
    "   - $a_0 = 1$\n",
    "   - $a_D = -g$\n",
    "   - $a_k = 0$ for all other indices $k \\neq 0$ and $k \\neq D$.\n",
    "\n",
    "</details>\n"
   ]
  },
  {
   "cell_type": "markdown",
   "metadata": {},
   "source": [
    "#### **Exercise 2** : Implementation "
   ]
  },
  {
   "cell_type": "code",
   "execution_count": null,
   "metadata": {},
   "outputs": [],
   "source": [
    "#Your code \n",
    "def feedback_comb_filter(x, D, g):\n",
    "     # If our filter is of the form.\n",
    "     #             jw                 -jw              -jwM\n",
    "     #    jw    B(e  )    b[0] + b[1]e    + ... + b[M]e\n",
    "     # H(e  ) = ------ = -----------------------------------\n",
    "     #             jw                 -jw              -jwN\n",
    "     #          A(e  )    a[0] + a[1]e    + ... + a[N]e\n",
    "     \n",
    "     # Return the coefficients a and b.\n",
    "\n",
    "    b = ...# YOUR CODE HERE #\n",
    "    a = ...# YOUR CODE HERE #\n",
    "\n",
    "    return b, a"
   ]
  },
  {
   "cell_type": "code",
   "execution_count": null,
   "metadata": {
    "tags": [
     "solution"
    ]
   },
   "outputs": [],
   "source": [
    "#Solution\n",
    "\n",
    "def feedback_comb_filter(D, g):\n",
    "     # If our filter is of the form.\n",
    "     #             jw                 -jw              -jwM\n",
    "     #    jw    B(e  )    b[0] + b[1]e    + ... + b[M]e\n",
    "     # H(e  ) = ------ = -----------------------------------\n",
    "     #             jw                 -jw              -jwN\n",
    "     #          A(e  )    a[0] + a[1]e    + ... + a[N]e\n",
    "\n",
    "     # Return the coefficients a and b.\n",
    "\n",
    "    b = [1]\n",
    "    a = np.r_[1, np.zeros(int(D) - 1), -g]\n",
    "\n",
    "    return b, a"
   ]
  },
  {
   "cell_type": "markdown",
   "metadata": {},
   "source": [
    "#### Visualizing the Frequency Response\n",
    "\n",
    "Now we'll visualize the output by examining the frequency response of the comb filter. With parameters set to $D = 16$ and $g = 0.7$, we compute the filter's frequency response using `sp.freqz` and then plot the magnitude. This plot gives us a clear picture of how the comb filter affects different frequency components.\n"
   ]
  },
  {
   "cell_type": "code",
   "execution_count": null,
   "metadata": {},
   "outputs": [],
   "source": [
    "D, g = 16, 0.7\n",
    "w, H = sp.freqz(*feedback_comb_filter(D, g), 2048)\n",
    "plt.plot(w, np.abs(H));"
   ]
  },
  {
   "cell_type": "markdown",
   "metadata": {},
   "source": [
    "#### Visualizing the Impulse Response\n",
    "\n",
    "Next, we'll inspect the impulse response of the comb filter. The impulse response of a comb filter is an exponentially decaying sequence where only one sample every $D$ is nonzero. It is defined as:\n",
    "\n",
    "$$\n",
    "    c[n] = \\begin{cases} g^k & \\text{if } n = kD,\\quad k \\in \\mathbb{N} \\\\ 0 & \\text{otherwise} \\end{cases}\n",
    "$$\n",
    "\n",
    "We calculate and display the impulse response by filtering an arbitrary impulse signal with our comb filter using `sp.lfilter`, and then visualize it using a stem plot."
   ]
  },
  {
   "cell_type": "code",
   "execution_count": null,
   "metadata": {},
   "outputs": [],
   "source": [
    "plt.stem(sp.lfilter(*feedback_comb_filter(D, g), np.r_[1, np.zeros(100)]));"
   ]
  },
  {
   "cell_type": "markdown",
   "metadata": {},
   "source": [
    "### Now, Let's Hear Our Creation!\n",
    "\n",
    "After all the filtering and processing, it's time to listen to the final result.  \n",
    "The first audio is the original and the second one is the outpout of the filter"
   ]
  },
  {
   "cell_type": "code",
   "execution_count": null,
   "metadata": {},
   "outputs": [],
   "source": [
    "sf, audio = load_wav('The_end')\n",
    "y = sp.lfilter(*feedback_comb_filter(int(sf * 0.1), 0.7), audio)\n",
    "display(Audio(audio, rate=sf))\n",
    "display(Audio(y, rate=sf))"
   ]
  },
  {
   "cell_type": "markdown",
   "metadata": {},
   "source": [
    "### **Adjusting the Delays**\n",
    "\n",
    "The hyperparameters defined for the **Schroeder Reverb** on the [Stanford website](https://ccrma.stanford.edu/~jos/pasp/Schroeder_Reverberators.html) were optimized for a sampling rate of **25 kHz**. However, when playing audio, the sampling rate is not always 25 kHz, so it is necessary to scale these hyperparameters proportionally to match the actual sampling rate.\n",
    "\n",
    "Furthermore, the delays of the comb filters depend on the size of the room. To increase the density of early reflections, multiple comb filters are used in parallel, ensuring that the delay values are **coprime**. This guarantees that the nonzero portions of their impulse responses do not overlap in time.\n",
    "\n",
    "#### **(Advanced) Description of our Scaling Function**\n",
    "\n",
    "Many implementations of reverberation algorithms in the literature specify delay and gain values that have been carefully chosen to be coprime and to produce high-quality reverberation. Since these delay values are specified in samples, they inherently assume a specific sampling rate for the input signals. When adapting these designs to a different rate, it is essential to scale the delay values appropriately while preserving their coprimality.\n",
    "\n",
    "In our examples, this is achieved by rounding the rate-adjusted delay values to the nearest prime number. This scaling function is critical for maintaining the desired reverberation quality and ensuring that early reflections remain well-distributed in time.\n"
   ]
  },
  {
   "cell_type": "code",
   "execution_count": null,
   "metadata": {},
   "outputs": [],
   "source": [
    "def closest_primes(values, margin=1.5):\n",
    "    values = np.array(values).astype(int)\n",
    "    limit = int(np.max(values) * margin)\n",
    "\n",
    "    # mark all prime numbers up to the limit using Eratosthenes sieve\n",
    "    a = np.ones(limit).astype(bool)\n",
    "    a[1] = a[::2] = False\n",
    "    for i in range(3, int(np.sqrt(limit)) + 1):\n",
    "        if a[i]:\n",
    "            a[i*i::2*i] = False\n",
    "    if not np.any(a[np.max(values):]):\n",
    "        raise 'increase the top margin for prime search'\n",
    "\n",
    "    vp = np.zeros_like(values)\n",
    "    for ix, v in enumerate(values):\n",
    "        # find neighboring primes (smaller and greater) and keep the closest\n",
    "        vs = vg = v\n",
    "        while not a[vs]:\n",
    "            vs -= 1\n",
    "        while not a[vg]:\n",
    "            vg += 1\n",
    "        vp[ix] = vs if np.abs(v - vs) < np.abs(v - vg) else vg   \n",
    "        \n",
    "    return vp"
   ]
  },
  {
   "cell_type": "markdown",
   "metadata": {},
   "source": [
    "**Example of use** : Outpout an array with each values rounded up/down to the closest prime."
   ]
  },
  {
   "cell_type": "code",
   "execution_count": null,
   "metadata": {},
   "outputs": [],
   "source": [
    "closest_primes([3239, 3073, 3941, 4321])"
   ]
  },
  {
   "cell_type": "markdown",
   "metadata": {},
   "source": [
    "## From the CCRMA Schematic to Our Simplified Implementation\n",
    "\n",
    "The original **CCRMA** schematic :\n",
    "\n",
    "<img width=\"700\" style=\"display: block; margin: 20px auto;\" src=\"img/schroeder_reverb_stanford.png\"> \n",
    "\n",
    " includes a **Mixing Matrix (MM)** block after four parallel **Feedback Comb Filters (FBCFs)**. This matrix allows for different weighting of each comb filter output, providing more control over how each comb filter contributes to the overall reverb.\n",
    "\n",
    "However, in this simple example, we do not need that level of flexibility. Hence we can **replace the mixing matrix with a simple adder** that sums all comb filter outputs directly. Because the system is **linear**, swapping the order of the comb filters and the all-pass filters does not fundamentally change the result—this is due to the **commutative property** of linear operations. Essentially, the filters can be reordered without affecting the overall reverberation effect as long as no additional weighting factors (beyond unity) are introduced.\n",
    "\n",
    "This finally give us this **simplified schematic* :\n",
    "\n",
    "<img width=\"700\" style=\"display: block; margin: 20px auto;\" src=\"img/schroeder_simple.png\"> \n",
    "\n",
    "The outputs of the four comb filters are added together and then passed through a series of **all-pass filters**. This design retains the essence of **Schroeder Reverb**—early reflections modeled by parallel comb filters, followed by diffusion from cascaded all-pass filters—but removes the extra complexity of a separate mixing matrix. By summing all comb filter outputs equally, you still achieve a rich reverb tail without the overhead of managing multiple weights in the mix.\n"
   ]
  },
  {
   "cell_type": "markdown",
   "metadata": {},
   "source": [
    "### Implementing the Simplified Version with Original Parameters\n",
    "\n",
    "We will now implement this simpler version of the Schroeder Reverb while **keeping the same filter parameters** used in the original design. \n",
    "  \n",
    "#### **Exercise** : Your task is to\n",
    "1. **Add these parameters** into your code.\n",
    "2. **Construct the filter architecture** using the functions implemented earlier (e.g., comb filters, all-pass filters, and any necessary summation blocks).\n",
    "\n",
    "By incorporating these parameters and connecting the filters as shown in the diagrams, you will recreate the simplified version of the Schroeder Reverb without the additional mixing matrix.\n"
   ]
  },
  {
   "cell_type": "code",
   "execution_count": null,
   "metadata": {},
   "outputs": [],
   "source": [
    "def schroeder(x, sf, wet=0.2):\n",
    "    # delays and gains for allpass and comb filters; these produce a reverb with RT60 of about 1 second\n",
    "    #  and were proposed by John Chowning (CCRMA, Stanford)\n",
    "\n",
    "    ##### YOUR CODE HERE #####\n",
    "\n",
    "    AP1 = (347, 0.7) #First Allpass Filter\n",
    "    AP2 = ...\n",
    "    AP3 = ...\n",
    "\n",
    "    CF1 = ...\n",
    "    CF2 = ...\n",
    "    CF3 = ...\n",
    "    CF4 = ...\n",
    "\n",
    "    DESIGN_SF = 25000  # filter delays are relative to this sampling rate\n",
    "    \n",
    "    ##### END OF YOUR CODE #####\n",
    "    \n",
    "    # Since those value are optimised for a specific sampling rate of 25 kHz,\n",
    "    #  we need to adjust them to the current sampling rate\n",
    "    AP = np.array([AP1, AP2, AP3]).T\n",
    "    CF = np.array([CF1, CF2, CF3, CF4]).T\n",
    "    # recompute delays wrt current sampling rate\n",
    "    AP[0] = closest_primes(AP[0] * sf / DESIGN_SF)\n",
    "    CF[0] = closest_primes(CF[0] * sf / DESIGN_SF)\n",
    "\n",
    "    AP = AP.T\n",
    "    CF = CF.T\n",
    "\n",
    "    y = np.zeros_like(x)\n",
    "    \n",
    "    ##### YOUR CODE HERE #####\n",
    "    for N, g in CF: #SUM OF COMB FILTERS\n",
    "        ...\n",
    "    \n",
    "       \n",
    "    for N, g in AP:  #CHAINING OF ALLPASS FILTERS\n",
    "        ...\n",
    "    ##### END OF YOUR CODE #####\n",
    "    \n",
    "    return wet * y + (1 - wet) * x"
   ]
  },
  {
   "cell_type": "code",
   "execution_count": null,
   "metadata": {
    "tags": [
     "solution"
    ]
   },
   "outputs": [],
   "source": [
    "#Solution\n",
    "def schroeder(x, sf, wet=0.2):\n",
    "    # delays and gains for allpass and comb filters; these produce a reverb with RT60 of about 1 second\n",
    "    #  and were proposed by John Chowning (CCRMA, Stanford)\n",
    "\n",
    "    ##### YOUR CODE HERE #####\n",
    "\n",
    "    AP1 = (347, 0.7)\n",
    "    AP2 = (113, 0.7)\n",
    "    AP3 = (37, 0.7)\n",
    "\n",
    "    CF1 = (1687, 0.773)\n",
    "    CF2 = (1601, 0.802)\n",
    "    CF3 = (2053, 0.753)\n",
    "    CF4 = (2251, 0.733)\n",
    "\n",
    "    DESIGN_SF = 25000  # filter delays are relative to this sampling rate\n",
    "    \n",
    "    ##### END OF YOUR CODE #####\n",
    "    \n",
    "    # Since those value are optimised for a specific sampling rate of 25 kHz,\n",
    "    #  we need to adjust them to the current sampling rate\n",
    "    AP = np.array([AP1, AP2, AP3]).T\n",
    "    CF = np.array([CF1, CF2, CF3, CF4]).T\n",
    "    # recompute delays wrt current sampling rate\n",
    "    AP[0] = closest_primes(AP[0] * sf / DESIGN_SF)\n",
    "    CF[0] = closest_primes(CF[0] * sf / DESIGN_SF)\n",
    "\n",
    "    AP = AP.T\n",
    "    CF = CF.T\n",
    "\n",
    "    y = np.zeros_like(x)\n",
    "    \n",
    "    ##### YOUR CODE HERE #####\n",
    "    \n",
    "    for N, g in CF: #SUM OF COMB FILTERS\n",
    "        y += sp.lfilter(*feedback_comb_filter(N, g), x) #\n",
    "    \n",
    "    \n",
    "    for N, g in AP: #CHAINING OF ALLPASS FILTERS\n",
    "        y = sp.lfilter(*allpass(N, g), y)\n",
    "\n",
    "    ##### END OF YOUR CODE #####\n",
    "    \n",
    "    return wet * y + (1 - wet) * x"
   ]
  },
  {
   "cell_type": "markdown",
   "metadata": {},
   "source": [
    "#### Visualization of our filter"
   ]
  },
  {
   "cell_type": "code",
   "execution_count": null,
   "metadata": {},
   "outputs": [],
   "source": [
    "plt.plot(schroeder(np.r_[1, np.zeros(25000)], 25000, wet=0.5));"
   ]
  },
  {
   "cell_type": "markdown",
   "metadata": {},
   "source": [
    "## Final Result: Listening to the Processed Audio"
   ]
  },
  {
   "cell_type": "code",
   "execution_count": null,
   "metadata": {},
   "outputs": [],
   "source": [
    "sf, funk = load_wav('funk')\n",
    "y = schroeder(funk, sf, wet=0.2)\n",
    "display(Audio(funk, rate=sf))\n",
    "display(Audio(y, rate=sf))"
   ]
  },
  {
   "cell_type": "markdown",
   "metadata": {},
   "source": [
    "# **II BASS BOOST FILTER**\n",
    "\n",
    "<img width=\"700\" style=\"display: block; margin: 20px auto;\" src=\"img/bass.jpg\"> \n",
    "\n",
    "In the previous lab, we demonstrated a simple method to create a bass boost filter. Now, let's delve deeper into this concept with the help of this implementation guide. In particular, we can achieve a bass boost using a single low shelf filter."
   ]
  },
  {
   "cell_type": "markdown",
   "metadata": {},
   "source": [
    "For the remainder of this lab, we will base our work on Cookbook Formulae for Audio EQ Biquad Filter Coefficients by Robert Bristow-Johnson.\n",
    "\n",
    "    \"All filter transfer functions were derived from analog prototypes (that\n",
    "    are shown below for each EQ filter type) and had been digitized using the\n",
    "    Bilinear Transform. BLT frequency warping has been taken into account for\n",
    "    both significant frequency relocation (this is the normal \"prewarping\" that\n",
    "    is necessary when using the BLT) and for bandwidth readjustment (since the\n",
    "    bandwidth is compressed when mapped from analog to digital using the BLT).\"\n",
    "\n",
    "This cookbook demonstrates how well-known analog filters are converted into the digital domain. Please refer to the diagram below to see how this process is accomplished.\n",
    "\n",
    "Analog prototype : \n",
    "\n",
    "$$ H(s) = \\frac{A\\left(s^2 + \\frac{\\sqrt{A}}{Q}\\,s + A\\right)}{A\\,s^2 + \\frac{\\sqrt{A}}{Q}\\,s + 1} $$\n",
    "\n",
    "We have :\n",
    "$$\n",
    "s \\;\\longleftarrow\\; \\text{continuous time}\n",
    "$$\n",
    "\n",
    "$$\n",
    "z \\;\\longleftarrow\\; \\text{discrete time}\n",
    "$$\n",
    "\n",
    "We obtain $H(z)$ from the analog prototype : \n",
    "\n",
    "$$\n",
    "H(z) = \\frac{b_0 + b_1\\,z^{-1} + b_2\\,z^{-2}}\n",
    "            {a_0 + a_1\\,z^{-1} + a_2\\,z^{-2}}\n",
    "$$ \n",
    "\n",
    "Using the map going from $s$ to $z$ as follow : \n",
    "$$\n",
    "\\text{(normalized) } s \\;\\longleftarrow\\; \n",
    "\\frac{1}{\\tan\\Bigl(\\frac{\\omega_0}{2}\\Bigr) } \\frac{1 - z^{-1}}{1 + z^{-1}}\n",
    "$$\n",
    "\n",
    "\n",
    "\n",
    "##### This shows 6 coefficients instead of 5 so, depending on your architechture, you will likely normalize a0 to be 1 and perhaps also b0 to 1 (and collect that into an overall gain coefficient).  Then your transfer function would look like:\n",
    "\n",
    "$$\n",
    "H(z) = \\frac{\\frac{b_0}{a_0} + \\frac{b_1}{a_0}\\,z^{-1} + \\frac{b_2}{a_0}\\,z^{-2}}\n",
    "            {1 + \\frac{a_1}{a_0}\\,z^{-1} + \\frac{a_2}{a_0}\\,z^{-2}}\n",
    "$$\n",
    "\n",
    "Hence we have :\n",
    "\n",
    "$$ b = [\\,b_0/a_0,\\quad b_1/a_0,\\quad b_2/a_0\\,] $$\n",
    "$$ a = [\\,1,\\quad a_1/a_0,\\quad a_2/a_0\\,]$$\n"
   ]
  },
  {
   "cell_type": "markdown",
   "metadata": {},
   "source": [
    "## Calculating the filter coefficients for a low shelf \n",
    "A first step in this Cookbook is to define some intermediate coefficients common to most of the filters. These parameters are shared among the filter designs implemented in the provided paper. Calculating them only once not only reduces computation time but also improves the overall clarity of the implementation.\n",
    "\n",
    "- $ Q = \\frac{1}{\\sqrt{2}} $\n",
    "\n",
    "- $ w_0 = \\frac{2 \\pi f_0}{f_s} $\n",
    "- $ A = 10^{\\frac{gain}{40}} $\n",
    "- $ \\alpha = \\frac{\\sin(w_0)}{2Q} $\n",
    "- $ c = \\cos(w_0) $\n",
    "\n"
   ]
  },
  {
   "cell_type": "code",
   "execution_count": null,
   "metadata": {},
   "outputs": [],
   "source": [
    "def intermediate_coeff(dBgain,cutoff,sf,Q):\n",
    "\n",
    "    A = 10 ** (dBgain/40)\n",
    "    w0 = 2 * np.pi * cutoff / sf\n",
    "    c = np.cos(w0)\n",
    "    alpha = np.sin(w0) / (2 * Q)\n",
    "\n",
    "    return A, c, alpha"
   ]
  },
  {
   "cell_type": "markdown",
   "metadata": {},
   "source": [
    "### a) Normalized final coefficients\n",
    "\n",
    "As said before, a simple way to implement a bass booster filter is to use a second-order low-shelf filter, often referred to as a peaking equalizer (see: [Peaking Equalizers](https://ccrma.stanford.edu/~jos/filters/Peaking_Equalizers.html)). By fine-tuning its parameters, you can achieve the desired boosting effect.  \n",
    "In this exercise, you can look up the implementation in the Cookbook and try to implement it directly; additionally, through online research you can find effective hyperparameter configurations to obtain a Bass Boost effect.\n",
    "\n",
    "Below are the normalized coefficients for the filter's transfer function, as defined in the Cookbook:\n",
    "\n",
    "- $ a_0 = (A + 1) + (A - 1) \\cdot c + 2\\sqrt{A} \\cdot \\alpha $  \n",
    "\n",
    "- $a_1 = \\frac{-2\\left[(A - 1) + (A + 1) \\cdot c\\right]}{a_0} $  \n",
    "- $ a_2 = \\frac{(A + 1) + (A - 1) \\cdot c - 2\\sqrt{A} \\cdot \\alpha}{a_0}$\n",
    "\n",
    "- $ b_0 = \\frac{A\\left[(A + 1) - (A - 1) \\cdot c + 2\\sqrt{A} \\cdot \\alpha\\right]}{a_0}$\n",
    "- $ b_1 = \\frac{2A\\left[(A - 1) - (A + 1) \\cdot c\\right]}{a_0}$\n",
    "- $ b_2 = \\frac{A\\left[(A + 1) - (A - 1) \\cdot c - 2\\sqrt{A} \\cdot \\alpha\\right]}{a_0}$"
   ]
  },
  {
   "cell_type": "code",
   "execution_count": null,
   "metadata": {},
   "outputs": [],
   "source": [
    "def low_shelf_filter(sf, dBgain= 6.0, cutoff= 500, Q= 1/ np.sqrt(2)):\n",
    "    A, c, alpha = intermediate_coeff(dBgain,cutoff,sf,Q)\n",
    "\n",
    "    a0 =           (A+1) + (A-1) * c + 2 * np.sqrt(A) * alpha\n",
    "    a1 = -2 *    ( (A-1) + (A+1) * c                       )\n",
    "    a2 =           (A+1) + (A-1) * c - 2 * np.sqrt(A) * alpha\n",
    "    b0 =      A *( (A+1) - (A-1) * c + 2 * np.sqrt(A) * alpha )\n",
    "    b1 =  2 * A *( (A-1) - (A+1) * c                       )\n",
    "    b2 =      A *( (A+1) - (A-1) * c - 2 * np.sqrt(A) * alpha )\n",
    "\n",
    "    b = np.array([b0, b1, b2]) / a0\n",
    "    a = np.array([1, a1/a0, a2/a0])\n",
    "\n",
    "    return b,a\n"
   ]
  },
  {
   "cell_type": "markdown",
   "metadata": {},
   "source": [
    "## **Listening and Visualizing the Filter Output**\n",
    "\n",
    "In this section, we will first plot the filter's response and then listen to the filtered audio. You can tweak the following parameters to see their impact:\n",
    "- **dBgain**  *(dB gain for BassBoost)*\n",
    "- **f0**      *(Cutoff frequency)*\n",
    "- **Q**       *(Quality factor)*\n",
    "\n",
    "Try to reflect on what values these hyperparameters should take in order to implement an effective Bass Boost. For example, a higher dBgain might be used to increase the bass levels, while a lower f0 ensures that only the low-frequency components are boosted. The quality factor Q will influence the steepness and smoothness of the boost, balancing between a broad, subtle effect and a sharp, pronounced peak."
   ]
  },
  {
   "cell_type": "code",
   "execution_count": null,
   "metadata": {},
   "outputs": [],
   "source": [
    "#Exemple of values.\n",
    "dBgain = 12         # gain for BassBoost\n",
    "f0 = 300            # Cutoff frequency (Hz) \n",
    "Q = 1 / np.sqrt(2)  # Quality factor\n",
    "\n",
    "b, a = low_shelf_filter(sf,dBgain, f0, Q)"
   ]
  },
  {
   "cell_type": "markdown",
   "metadata": {},
   "source": [
    "#### **Step 1:** Plot the filter's response.\n",
    "This function can help you plot the frequency response of the filter you just created."
   ]
  },
  {
   "cell_type": "code",
   "execution_count": null,
   "metadata": {},
   "outputs": [],
   "source": [
    "def plot_frequency_response(H,w, f0=None, label=\"Filter Response\", title=\"Frequency Response\"):\n",
    "    \"\"\"\n",
    "    Parameters:\n",
    "    - H : array_like\n",
    "        Frequency response (complex values), typically obtained from scipy.signal.freqz().\n",
    "    - w : array_like\n",
    "        Frequencies corresponding to H, in Hz.\n",
    "    - f0 : float, optional\n",
    "        Optional cutoff frequency to mark with a vertical dashed line (in Hz).\n",
    "    \"\"\"\n",
    "    plt.figure(figsize=(8, 4))\n",
    "    plt.semilogx(w, 20 * np.log10(np.abs(H)), label=label)\n",
    "    \n",
    "    if f0 is not None:\n",
    "        plt.axvline(f0, color='r', linestyle='--', label=f\"Cutoff Frequency (f0 = {f0} Hz)\")\n",
    "    \n",
    "    plt.title(title)\n",
    "    plt.xlabel(\"Frequency (Hz)\")\n",
    "    plt.ylabel(\"Gain (dB)\")\n",
    "    plt.legend()\n",
    "    plt.grid()\n",
    "    plt.show()"
   ]
  },
  {
   "cell_type": "markdown",
   "metadata": {},
   "source": [
    "Let's see what it looks like."
   ]
  },
  {
   "cell_type": "code",
   "execution_count": null,
   "metadata": {},
   "outputs": [],
   "source": [
    "w, H = sp.freqz(b, a, worN=4096, fs=sf)\n",
    "plot_frequency_response(H,w, f0=f0)"
   ]
  },
  {
   "cell_type": "markdown",
   "metadata": {},
   "source": [
    "**Exercise: Frequency Response Verification via Impulse Response DFT**\n",
    "\n",
    "Compute your filter’s impulse response using an impulse signal, then apply the Discrete Fourier Transform (DFT) to it. Finally, compare this DFT-derived frequency response with the analytical frequency response (e.g., from `sp.freqz`).\n",
    "\n",
    "What do you observe ? "
   ]
  },
  {
   "cell_type": "code",
   "execution_count": null,
   "metadata": {},
   "outputs": [],
   "source": [
    "def impulse_response(n, f0, sf, Q, dBgain):\n",
    "    \"\"\"\n",
    "    Compute the impulse response h[n] of a low-shelf filter over n samples.\n",
    "    \n",
    "    Parameters:\n",
    "        n (int): Number of samples in the impulse response.\n",
    "        f0 (float): Cutoff frequency (Hz) for the low-shelf filter.\n",
    "        sf (float): Sampling frequency (Hz).\n",
    "        Q (float): Quality factor of the filter.\n",
    "        dBgain (float): Gain of the filter\n",
    "    \n",
    "    Returns:\n",
    "        h (np.array): The impulse response computed by filtering an impulse with the low-shelf filter.\n",
    "    \"\"\"\n",
    "    \n",
    "    # Calculate filter coefficients for the low-shelf filter\n",
    "    b, a = low_shelf_filter(sf, dBgain, f0, Q)\n",
    "    h = np.zeros(n)\n",
    "\n",
    "    #### YOUR CODE HERE ####\n",
    "    \n",
    "    return h"
   ]
  },
  {
   "cell_type": "code",
   "execution_count": null,
   "metadata": {},
   "outputs": [],
   "source": [
    "f0 = 1000       # Cutoff frequency in Hz\n",
    "sf = 44100      # Sampling frequency in Hz\n",
    "Q = 0.707       # Quality factor\n",
    "n = 256         # Length of the impulse response\n",
    "dBgain = 12.0   # Gain of the filter\n",
    "n_fft = 8000    # Unified length in frequency domain.\n",
    "\n",
    "#### YOUR CODE HERE ####"
   ]
  },
  {
   "cell_type": "code",
   "execution_count": null,
   "metadata": {
    "tags": [
     "solution"
    ]
   },
   "outputs": [],
   "source": [
    "#SOLUTION\n",
    "def impulse_response(n, f0, sf, Q, dBgain):\n",
    "    \"\"\"\n",
    "    Compute the impulse response h[n] of a low-shelf filter over n samples.\n",
    "    \n",
    "    Parameters:\n",
    "        n (int): Number of samples in the impulse response.\n",
    "        f0 (float): Cutoff frequency (Hz) for the low-shelf filter.\n",
    "        sf (float): Sampling frequency (Hz).\n",
    "        Q (float): Quality factor of the filter.\n",
    "        dBgain (float): Gain of the filter\n",
    "    \n",
    "    Returns:\n",
    "        h (np.array): The impulse response computed by filtering an impulse with the low-shelf filter.\n",
    "    \"\"\"\n",
    "    \n",
    "    # Calculate filter coefficients for the low-shelf filter\n",
    "    b, a = low_shelf_filter(sf, dBgain, f0, Q)\n",
    "    \n",
    "    # Create the impulse signal: x[0]=1, x[1:]=0\n",
    "    x = np.zeros(n)\n",
    "    x[0] = 1.0\n",
    "    h = np.zeros(n)\n",
    "    \n",
    "    # Compute the impulse response using the difference equation\n",
    "    for i in range(n):\n",
    "        # Apply feedforward part\n",
    "        for j in range(len(b)):\n",
    "            if i - j >= 0:\n",
    "                h[i] += b[j] * x[i - j]\n",
    "        # Apply feedback part\n",
    "        for j in range(1, len(a)):\n",
    "            if i - j >= 0:\n",
    "                h[i] -= a[j] * h[i - j]\n",
    "    return h"
   ]
  },
  {
   "cell_type": "code",
   "execution_count": null,
   "metadata": {
    "tags": [
     "solution"
    ]
   },
   "outputs": [],
   "source": [
    "#SOLUTION\n",
    "f0 = 1000       # Cutoff frequency in Hz\n",
    "sf = 44100      # Sampling frequency in Hz\n",
    "Q = 0.707       # Quality factor\n",
    "n = 256         # Length of the impulse response\n",
    "dBgain = 12.0   # Gain of the filter\n",
    "n_fft = 8000    # Unified length in frequency domain.\n",
    "\n",
    "b, a = low_shelf_filter(sf, dBgain, f0, Q)\n",
    "h = impulse_response(n, f0, sf, Q, dBgain)\n",
    "# Compute frequency response by taking the FFT of the impulse response\n",
    "\n",
    "H_impulse = np.fft.rfft(h, n=n_fft)\n",
    "# Create frequency axis (rfft returns frequencies from 0 to sf/2)\n",
    "# f_fft = np.linspace(0, sf/2, len(H_impulse))\n",
    "\n",
    "# Compute frequency response using freqz from filter coefficients\n",
    "w, H_filter = sp.freqz(b, a, worN=n_fft//2 +1, fs=sf)  # w in Hz\n",
    "\n",
    "\n",
    "# Plot the frequency response from the pre-designed filter\n",
    "plot_frequency_response(H_filter, w, f0=f0, label=\"Filter Response (freqz)\",\n",
    "                            title=\"Frequency Response Comparison\")\n",
    "\n",
    "# Plot the frequency response obtained from the FFT of the impulse response\n",
    "plot_frequency_response(H_impulse, w, f0=f0, label=\"Impulse Response FFT\",\n",
    "                            title=\"Frequency Response Comparison\")"
   ]
  },
  {
   "cell_type": "raw",
   "metadata": {
    "vscode": {
     "languageId": "raw"
    }
   },
   "source": [
    "Observation :"
   ]
  },
  {
   "cell_type": "markdown",
   "metadata": {},
   "source": [
    "**Exercise :**\n",
    "Plot the frequency response of the implemented filter to visualize how different hyperparameters affect the bass boost effect, allowing you to fine-tune them.\n",
    "Use the provided sample values or add your own values.\n",
    "- f₀: [100, 1000, 5000] Hz\n",
    "- Q: [0.1, 0.5, 1/√2, 0.8, 1.0]\n",
    "- dB gain: [-12.0, 0.1, 12.0, 40.0]  "
   ]
  },
  {
   "cell_type": "markdown",
   "metadata": {},
   "source": [
    "Use this function to verify that it's return impulse response match the frequency response of the pre-disign filter.\n",
    "Hint : You might want to use the previously declared function to plot it."
   ]
  },
  {
   "cell_type": "code",
   "execution_count": null,
   "metadata": {},
   "outputs": [],
   "source": [
    "f0s = [100, 1000, 5000]                                 # f0 (Hz)\n",
    "Q_factor = [0.1, 0.5, 1/np.sqrt(2),0.8, 1.0]            # Quality factor Q\n",
    "gains = [-12.0, 0.1, 12.0, 40.0]                        # dBgain (dB)\n",
    "\n",
    "#### YOUR CODE HERE ####\n"
   ]
  },
  {
   "cell_type": "code",
   "execution_count": null,
   "metadata": {
    "tags": [
     "solution"
    ]
   },
   "outputs": [],
   "source": [
    "#Solution.\n",
    "f0s = [100, 1000, 5000]                                 # f0 (Hz)\n",
    "Q_factor = [0.1, 0.5, 1/np.sqrt(2),0.8, 1.0]            # Quality factor Q\n",
    "gains = [-12.0, 0.1, 12.0, 40.0]                        # dBgain (dB)\n",
    "default_f0 = 1000\n",
    "\n",
    "#### YOUR CODE HERE ####\n",
    "\n",
    "# Variation of Cutoff Frequency (f0)\n",
    "print(\"###### Cutoff Frequency ######\")\n",
    "for f in f0s:\n",
    "    b, a = low_shelf_filter(sf, cutoff=f)\n",
    "    w, H = sp.freqz(b, a, worN=8000, fs=sf)  # w in Hz\n",
    "    title_str = f\"Frequency Response: f0 = {f} Hz (Cutoff Frequency)\"\n",
    "    label_str = f\"Filter Response (freqz) - f0 = {f} Hz\"\n",
    "    plot_frequency_response(H, w, f0=f, label=label_str, title=title_str)\n",
    "\n",
    "# Variation of the Quality Factor (Q)\n",
    "print(\"###### Q Factor ######\")\n",
    "for q in Q_factor:\n",
    "    b, a = low_shelf_filter(sf, Q=q, cutoff=default_f0)\n",
    "    w, H = sp.freqz(b, a, worN=8000, fs=sf)  # w in Hz\n",
    "    title_str = f\"Frequency Response: Q = {q}\"\n",
    "    label_str = f\"Filter Response (freqz) - Q = {q}\"\n",
    "    plot_frequency_response(H, w, f0=default_f0, label=label_str, title=title_str)\n",
    "\n",
    "# Variation of the Gain (dBgain)\n",
    "print(\"###### dBgain ######\")\n",
    "for g in gains:\n",
    "    b, a = low_shelf_filter(sf, dBgain=g, cutoff=default_f0)\n",
    "    w, H = sp.freqz(b, a, worN=8000, fs=sf)  # w in Hz\n",
    "    title_str = f\"Frequency Response: dBgain = {g} dB\"\n",
    "    label_str = f\"Filter Response (freqz) - dBgain = {g} dB\"\n",
    "    plot_frequency_response(H, w, f0=default_f0, label=label_str, title=title_str)\n"
   ]
  },
  {
   "cell_type": "markdown",
   "metadata": {},
   "source": [
    "#### **Step 2:** Listen to the filtered audio.\n",
    "\n",
    "***Note:** When listening, you might notice that the overall sound level seems to have changed. This is due to the normalization of the audio signal between -1 and 1, which can reduce the volume, as seen in this example.*"
   ]
  },
  {
   "cell_type": "code",
   "execution_count": null,
   "metadata": {},
   "outputs": [],
   "source": [
    "sf, x = load_wav('groove')\n",
    "x = x.astype(np.float32)\n",
    "display(Audio(x, rate=sf))\n",
    "\n",
    "y =  sp.lfilter(*low_shelf_filter(sf, dBgain=20.0,cutoff=200), x)\n",
    "\n",
    "display(Audio(y, rate=sf))"
   ]
  },
  {
   "cell_type": "markdown",
   "metadata": {},
   "source": [
    "# Spectrogram Analysis of Filtered Audio Signal\n",
    "\n",
    "As we have experienced during listening, the overall audio level is generally attenuated, while the bass frequencies are distinctly boosted. This effect is the result of the filter's design and normalization process.\n",
    "\n",
    "### Visualizing the Effect with Spectrograms\n",
    "\n",
    "A spectrogram allows you to see the magnitude of a signal across both time and frequency. \n",
    "\n",
    "- **Bright Colors:** Indicate magnitudes closer to the maximum dB level of the signal.\n",
    "- **Dark Colors:** Reflect lower magnitude values in the frequency spectrum.\n",
    "\n",
    "For clarity and direct comparison, both the pre-filter and post-filter spectrograms are displayed using the same dynamic range. This ensures that any changes in the spectral content, such as the enhancement of bass frequencies and overall level adjustments, are easily observable."
   ]
  },
  {
   "cell_type": "code",
   "execution_count": null,
   "metadata": {},
   "outputs": [],
   "source": [
    "#FUNCTION TO PLOT THE SPECTROGRAM (NO CHANGES NEEDED)\n",
    "\n",
    "def compute_spectrogram(signal, sf):\n",
    "    # Compute the spectrogram\n",
    "    f, t, Sxx = sp.spectrogram(signal, sf, nperseg=1024, noverlap=512)\n",
    "    # Remove 0 value problem for log scale\n",
    "    Sxx[Sxx == 0] = np.min(Sxx[Sxx > 0])\n",
    "    Sxx_dB = 10 * np.log10(Sxx)\n",
    "    return f, t, Sxx_dB\n",
    "\n",
    "def plot_spectrogram(initial_signal, filtered_signal, sf, title_orig, title_filt, limit_freq= 20000):\n",
    "\n",
    "\n",
    "    f_o, t_o, Sxx_dB_o = compute_spectrogram(initial_signal, sf)\n",
    "    f_f, t_f, Sxx_dB_f = compute_spectrogram(filtered_signal, sf)\n",
    "    fig, ax = plt.subplots(1, 2, figsize=(14, 4))\n",
    "\n",
    "    min = np.min([Sxx_dB_o, Sxx_dB_f])\n",
    "\n",
    "    ax[0].pcolormesh(t_o, f_o, Sxx_dB_o, shading='auto', vmin=min, vmax=0)\n",
    "    ax[0].set_title(title_orig)\n",
    "    ax[0].set_xlabel(\"Time (s)\")\n",
    "    ax[0].set_ylabel(\"Frequency (Hz)\")\n",
    "    ax[0].set_ylim(20, limit_freq)  # Focus on a specific frequency range (e.g., bass)\n",
    "\n",
    "    mappable = ax[1].pcolormesh(t_f, f_f, Sxx_dB_f, shading='auto', vmin=min, vmax=0)\n",
    "    ax[1].set_title(title_filt)\n",
    "    ax[1].set_xlabel(\"Time (s)\")\n",
    "    ax[1].set_ylabel(\"Frequency (Hz)\")\n",
    "    ax[1].set_ylim(20, limit_freq)  # Focus on a specific frequency range (e.g., bass)\n",
    "\n",
    "    # Add colorbar\n",
    "    plt.subplots_adjust(right=0.85)\n",
    "    cbar_ax = fig.add_axes([0.88, 0.12, 0.02, 0.75])\n",
    "    cbar = fig.colorbar(mappable, cax=cbar_ax, label=\"Magnitude (dB)\")\n",
    "    plt.show()"
   ]
  },
  {
   "cell_type": "code",
   "execution_count": null,
   "metadata": {},
   "outputs": [],
   "source": [
    "# Plot both spectrograms using the same dB range\n",
    "plot_spectrogram(x, y, sf, \"Original Signal Spectrogram\", \"Filtered Signal Spectrogram\", limit_freq=2000)"
   ]
  },
  {
   "cell_type": "markdown",
   "metadata": {},
   "source": [
    "# **III SWEEP EQ EFFECT**\n",
    "\n",
    "<img width=\"700\" style=\"display: block; margin: 20px auto;\" src=\"img/dj.jpg\"> \n",
    "\n",
    "##### Now that we know how to use this cookbook, we can implement additional filters and combine them with those we’ve already applied. One effect we can simulate in audio mixing is **Sweeping EQ** : The main idea behind this technique is to gradually remove frequencies, starting from the lowest ones and progressing toward the higher ones to build tension. Once the bass is completely eliminated, another track is seamlessly introduced to create a smooth transition.\n",
    "\n",
    "##### Exercise : To do so, we will first implement a High/Low pass filter of second order. Your function should return the coefficient arrays a[] and b[], ensuring that the filter is of second order.\n",
    "* One can notice that the distinction between a low-pass filter and a high-pass filter can be made very simply.  \n",
    "By convention, the argument `filter_type` takes the value `Low` for a low-pass filter and `High` for a high-pass filter.\n"
   ]
  },
  {
   "cell_type": "code",
   "execution_count": null,
   "metadata": {},
   "outputs": [],
   "source": [
    "def pass_coeff(cutoff, sf, Q = 1 / np.sqrt(2), filter_type='High'):\n",
    "    #YOUR CODE HERE\n",
    "    ...\n",
    "    return b,a"
   ]
  },
  {
   "cell_type": "code",
   "execution_count": null,
   "metadata": {
    "tags": [
     "solution"
    ]
   },
   "outputs": [],
   "source": [
    "#Solution\n",
    "def pass_coeff(cutoff, sf, Q = 1 / np.sqrt(2), filter_type = 'High'):\n",
    "\n",
    "    _,c,alpha = intermediate_coeff(dBgain= 1, cutoff= cutoff, sf= sf, Q= Q)\n",
    "\n",
    "    m = -1 if filter_type.lower() == 'low' else 1\n",
    "\n",
    "    b0 =  (1 + m * c)/2\n",
    "    b1 = -(m  + c)\n",
    "    b2 =  b0\n",
    "\n",
    "    a0 =   1 + alpha\n",
    "    a1 =  -2*c\n",
    "    a2 =   1 - alpha\n",
    "    \n",
    "    b = np.array([b0, b1, b2]) / a0\n",
    "    a = np.array([1, a1/a0, a2/a0])\n",
    "\n",
    "    return b, a"
   ]
  },
  {
   "cell_type": "markdown",
   "metadata": {},
   "source": [
    "# Plotting Filter Frequency Responses\n",
    "\n",
    "The goal of this example is to visualize the frequency responses for both a high-pass and a low-pass filter using our `pass_coeff` function.\n",
    "\n",
    "We use the `scipy.signal.freqz()` function to compute the frequency response of each filter. You can read more about it in the [Scipy.signal.freqz](https://docs.scipy.org/doc/scipy/reference/generated/scipy.signal.freqz.html) documentation and example of use"
   ]
  },
  {
   "cell_type": "code",
   "execution_count": null,
   "metadata": {},
   "outputs": [],
   "source": [
    "def visualize_filters(cutoff, sf, Q=1/np.sqrt(2)):\n",
    "    # Compute filter coefficients for both high-pass and low-pass filters\n",
    "    b_high, a_high = pass_coeff(cutoff, sf, Q, filter_type='High')\n",
    "    b_low, a_low = pass_coeff(cutoff, sf, Q, filter_type='Low')\n",
    "    \n",
    "    ##### YOUR CODE HERE ######\n",
    "    ...\n"
   ]
  },
  {
   "cell_type": "code",
   "execution_count": null,
   "metadata": {
    "tags": [
     "solution"
    ]
   },
   "outputs": [],
   "source": [
    "#SOLUTION\n",
    "def visualize_filters(cutoff, sf, Q=1/np.sqrt(2)):\n",
    "    # Compute filter coefficients for both high-pass and low-pass filters\n",
    "    b_high, a_high = pass_coeff(cutoff, sf, Q, filter_type='High')\n",
    "    b_low, a_low = pass_coeff(cutoff, sf, Q, filter_type='Low')\n",
    "    \n",
    "\n",
    "    w, h_high = sp.freqz(b_high, a_high, worN=8000, fs=sf)\n",
    "    _, h_low = sp.freqz(b_low, a_low, worN=8000, fs=sf)\n",
    "\n",
    "    #Small epsilon to avoid log(0)\n",
    "    epsilon = 1e-8\n",
    "    \n",
    "\n",
    "    plt.figure()\n",
    "    plt.plot(w, 20 * np.log10(np.maximum(np.abs(h_high), epsilon)), label='High-pass')\n",
    "    plt.plot(w, 20 * np.log10(np.maximum(np.abs(h_low), epsilon)), label='Low-pass')\n",
    "    plt.xlabel('Frequency [Hz]')\n",
    "    plt.ylabel('Amplitude [dB]')\n",
    "    plt.title('Frequency Response of High-pass and Low-pass Filters')\n",
    "    plt.legend()\n",
    "    plt.grid(True)\n",
    "    plt.show()\n"
   ]
  },
  {
   "cell_type": "code",
   "execution_count": null,
   "metadata": {},
   "outputs": [],
   "source": [
    "cutoff = 2000  # cutoff frequency in Hz\n",
    "sf = 41000     # sampling frequency in Hz\n",
    "visualize_filters(cutoff, sf)"
   ]
  },
  {
   "cell_type": "markdown",
   "metadata": {},
   "source": [
    "#### Chaining High-Pass Filters to make the sweep effect.\n",
    "\n",
    "Finally, you can listen to what happens when you chain several high-pass filters sequentially, each with an increasing cutoff frequency, to gradually reduce the low-frequency content. Then, the same audio is reintroduced with boosted bass, simulating this transition, well-known from the clubbers. Play the audio to hear the result."
   ]
  },
  {
   "cell_type": "code",
   "execution_count": null,
   "metadata": {},
   "outputs": [],
   "source": [
    "def filter_sweep(x, times, values,sf):\n",
    "    # filter the input with a filter whose parameter at every instant n is the linear interpolation \n",
    "    #  between successive (time, value) pairs\n",
    "    N = len(x)\n",
    "    times = np.minimum(np.array(times) * sf, N).astype(int)  # convert to samples\n",
    "    times, values = np.r_[ times, N ], np.r_[ values, values[-1] ]  # add endpoints\n",
    "    \n",
    "    b, a = pass_coeff(values[0], sf)    # filter buffers\n",
    "    buf = np.zeros((2, max(len(a), len(b))))\n",
    "    \n",
    "    y = np.zeros(N)\n",
    "    for k in range(1, len(times)):\n",
    "        for n in range(times[k-1], times[k]):\n",
    "            c = (times[k] - n) / (times[k] - times[k-1])\n",
    "            param = c * values[k-1] + (1-c) * values[k]\n",
    "            if param > 0:\n",
    "                b, a = pass_coeff(param, sf)\n",
    "            else:\n",
    "                b, a = np.array([1, 0, 0]), np.array([1, 0, 0])\n",
    "            buf[:,0] = [x[n], 0]\n",
    "            y[n] = buf[1][0] = b @ buf[0] - a @ buf[1]\n",
    "            buf = np.roll(buf, 1, axis=1)\n",
    "    return y"
   ]
  },
  {
   "cell_type": "code",
   "execution_count": null,
   "metadata": {},
   "outputs": [],
   "source": [
    "sf, x = load_wav('groove')\n",
    "\n",
    "drop = filter_sweep(x, [0, 7.5, 10, 14], [0, 0, 500, 2500], sf=sf) \n",
    "drop *= np.linspace(1, 3, len(drop))"
   ]
  },
  {
   "cell_type": "code",
   "execution_count": null,
   "metadata": {},
   "outputs": [],
   "source": [
    "bassy = sp.lfilter(*low_shelf_filter(sf,12, 300, 1 / np.sqrt(2)), x)\n",
    "bassy = filter_sweep(bassy, [0, 4, 6.5, 14], [2500, 500, 0, 0], sf=sf)\n",
    "bassy *= np.linspace(1, 1.5, len(bassy))"
   ]
  },
  {
   "cell_type": "code",
   "execution_count": null,
   "metadata": {},
   "outputs": [],
   "source": [
    "Audio(np.r_[ drop, bassy ], rate=sf)"
   ]
  },
  {
   "cell_type": "markdown",
   "metadata": {},
   "source": [
    "Thank you for working through this lab. We hope you found it informative and enjoyable!"
   ]
  }
 ],
 "metadata": {
  "kernelspec": {
   "display_name": "Python 3 (ipykernel)",
   "language": "python",
   "name": "python3"
  },
  "language_info": {
   "codemirror_mode": {
    "name": "ipython",
    "version": 3
   },
   "file_extension": ".py",
   "mimetype": "text/x-python",
   "name": "python",
   "nbconvert_exporter": "python",
   "pygments_lexer": "ipython3",
   "version": "3.12.3"
  }
 },
 "nbformat": 4,
 "nbformat_minor": 4
}
