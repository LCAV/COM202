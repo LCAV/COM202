{
 "cells": [
  {
   "cell_type": "markdown",
   "id": "b8d95824-bce1-4b08-ae39-c696b8d04aae",
   "metadata": {},
   "source": [
    "<div style=\"margin: 0 auto 30px; height: 60px; border: 2px solid gray; border-radius: 6px;\">\n",
    "  <div style=\"float: left;\"><img src=\"img/epfl.png\" /></div>\n",
    "  <div style=\"float: right; margin: 20px 30px 0; font-size: 10pt; font-weight: bold;\"><a href=\"https://moodle.epfl.ch/course/view.php?id=18253\">COM202 - Signal Processing</a></div>\n",
    "</div>\n",
    "<div style=\"clear: both; font-size: 30pt; font-weight: bold; color: #483D8B;\">\n",
    "    Lab 7: Discrete-time Filters\n",
    "</div>"
   ]
  },
  {
   "cell_type": "markdown",
   "id": "b61885d7-baba-4670-8be2-8fb2b911fda2",
   "metadata": {},
   "source": [
    "In this notebook we will learn how to implement and use two discrete-time  filters called the Leaky Integrator and the Moving Average. In spite of their simplicity, these two lowpass filters are extremely useful and they often represent a good initial stand-in for more complex filters when prototyping a signal processing application."
   ]
  },
  {
   "cell_type": "code",
   "execution_count": null,
   "id": "45c82e53-6767-4af2-af81-90b2701ec69e",
   "metadata": {
    "tags": []
   },
   "outputs": [],
   "source": [
    "%matplotlib inline\n",
    "import matplotlib.pyplot as plt\n",
    "import numpy as np\n",
    "import IPython\n",
    "import scipy.signal as sp\n",
    "from scipy.io import wavfile\n",
    "\n",
    "# interactivity library:\n",
    "from ipywidgets import interact, interactive, fixed, interact_manual\n",
    "import ipywidgets as widgets"
   ]
  },
  {
   "cell_type": "code",
   "execution_count": null,
   "id": "b81259e0-25e4-4c8d-bb25-32f6466a9d07",
   "metadata": {},
   "outputs": [],
   "source": [
    "plt.rcParams[\"figure.figsize\"] = (14,4)"
   ]
  },
  {
   "cell_type": "markdown",
   "id": "9bdf5945-3c02-4de0-960d-a9fdebd0aa5b",
   "metadata": {},
   "source": [
    "# Implementing discrete-time filters\n",
    "\n",
    "Although filtering algorithms are available in SciPy, it's always instructive to try and code a digital filter from scratch in order to understand the finer details of a practical implementation. "
   ]
  },
  {
   "cell_type": "markdown",
   "id": "a87a7809-7b3b-4628-8ec1-3564268306ba",
   "metadata": {},
   "source": [
    "## Filters as Python functions\n",
    "\n",
    "Using Python and NumPy, filters can be implemented as standalone [pure functions](https://en.wikipedia.org/wiki/Pure_function); the arguments are going to be:\n",
    " * an array containing the entire input signal,\n",
    " * the filter description,\n",
    " \n",
    "and the return value is an array containing the entire output signal, as shown in this template:"
   ]
  },
  {
   "cell_type": "code",
   "execution_count": null,
   "id": "4bdd3f41-c5c8-4542-b6f7-3f2fdb0b8ca3",
   "metadata": {},
   "outputs": [],
   "source": [
    "def dt_filter(x: np.ndarray, filter_parameters) -> np.ndarray:\n",
    "    y = np.zeros(len(x))\n",
    "    for n in range(0, len(x)):\n",
    "        y[n] = ...  # compute each output sample        \n",
    "    return y"
   ]
  },
  {
   "cell_type": "markdown",
   "id": "f64ba038-5cad-45c3-a4c1-1b8168acca04",
   "metadata": {},
   "source": [
    "### Causality and zero initial conditions\n",
    "\n",
    "Filters are considered causal by default, and therefore the computation of each output sample $y[n]$ involves only _past_ input and output samples.\n",
    "\n",
    "The input array passed as an argument is interpreted as containing the values $x[0], x[1], \\ldots, x[N-1]$. The input is also assumed to be a causal sequence, so that $x[n] = 0$ for $n <  0$; if the algorithm requires accessing past values of $x[n]$ for negative values of the index $x$, these values are assumed to be zero.\n",
    "\n",
    "Similarly, we assume _zero initial conditions_ for recursive filters that use past _output_ values in the computation of the current output sample. Zero initial conditions imply that $y[n] = 0$ for $n < 0$."
   ]
  },
  {
   "cell_type": "markdown",
   "id": "ad7116d0-4f77-48c6-9fcf-c628b929d86f",
   "metadata": {},
   "source": [
    "### Termination\n",
    "\n",
    "The input to the filtering function is an array of length $N$ and, by convention, the return value is also an array of length $N$. Note however that this does not mean that $y[n] = 0$ for $n \\ge N$, it simply means that no more output samples can be computed unless more input samples are provided.\n",
    "\n",
    "In fact, if for instance we were to assume that $x[n]=0$ for $n \\ge N$, an IIR filter would produce an infinite-length output sequence $y[n]$. Sometimes, it is useful to append a suitable amount of zeros to the input array so that the output can naturally decay to a small amplitude once the actual data in the array has been processed."
   ]
  },
  {
   "cell_type": "markdown",
   "id": "c921de67-fb62-4f81-912a-b932f85f5602",
   "metadata": {},
   "source": [
    "## The Leaky Integrator\n",
    "\n",
    "The following function implements a Leaky Integrator described by the constant-coefficient difference equation (CCDE) \n",
    "\n",
    "$$\n",
    "    y[n] = \\lambda y[n-1] + (1-\\lambda)x[n], \\qquad 0 < \\lambda < 1.\n",
    "$$"
   ]
  },
  {
   "cell_type": "code",
   "execution_count": null,
   "id": "8317cb25-3532-4b7a-aa8e-85d2f3ca1d91",
   "metadata": {},
   "outputs": [],
   "source": [
    "def leaky(x: np.ndarray, lam: float) -> np.ndarray:\n",
    "    y = np.zeros(len(x))\n",
    "    for n in range(0, len(x)):\n",
    "        y[n] = lam * y[n-1] + (1 - lam) * x[n]        \n",
    "    return y"
   ]
  },
  {
   "cell_type": "markdown",
   "id": "d4f18020-2cc2-463c-90ec-d94e337cc0dd",
   "metadata": {},
   "source": [
    "### Ensuring zero initial conditions \n",
    "\n",
    "The Leaky Integrator is a recursive (IIR) filter and its output at time $n$ depends on the output at time $n-1$; assuming zero initial conditions, when $n=0$ the required \"previous output value\" is $y[-1] = 0$. \n",
    "\n",
    "In the implementation above, when `n > 0` the expression `y[n-1]` is indeed pointing to the previously-computed output value. In the first iteration, however, `n` is equal to zero and so the expression `y[n-1]` is equivalent to `y[-1]`. Contrary to many other programming languages Python allows negative indexing so that  `y[-1]` actually points to the _last_ element in the array `y`. Since the output array `y` is pre-allocated and filled with zeros, `y[-1]` is indeed equal to zero as required."
   ]
  },
  {
   "cell_type": "markdown",
   "id": "b445d32e-f249-4ad3-a369-af00e54d33a5",
   "metadata": {},
   "source": [
    "### Testing the code\n",
    "\n",
    "The impulse response of the Leaky Integrator is $h[n] = (1-\\lambda)\\lambda^n u[n]$ and we can verify that the above implementation is correct by comparing the theoretical values to the output of the function when the input is a (truncated) delta sequence:"
   ]
  },
  {
   "cell_type": "code",
   "execution_count": null,
   "id": "395dceb3-0d48-4443-899f-d962d7c2490f",
   "metadata": {},
   "outputs": [],
   "source": [
    "N = 100\n",
    "lam = 0.95\n",
    "plt.stem(leaky(np.r_[1, np.zeros(N-1)], lam), label=r\"leaky(x, $\\lambda$)\");\n",
    "plt.plot((1 - lam) * lam ** np.arange(0, N), 'C2', label=r\"$h[n]$\");\n",
    "plt.legend();"
   ]
  },
  {
   "cell_type": "markdown",
   "id": "4f20972a-b2fd-4b28-adec-0a0aa5f1dc88",
   "metadata": {},
   "source": [
    "## The Moving Average\n",
    "\n",
    "The causal Moving Average filter of length $M$ is described by the CCDE\n",
    "\n",
    "$$\n",
    "    y[n] = \\frac{1}{M}\\sum_{k=0}^{M-1}x[n-k].\n",
    "$$\n",
    "\n",
    "The Moving Average is an FIR filter, that is, each output sample is computed using only past input samples; in a practical implementation, values for $x[n]$ when $n<0$ are equal to zero because of the causality assumption for $x[n]$."
   ]
  },
  {
   "cell_type": "markdown",
   "id": "25702151-fbca-4f97-a8e1-76cdd8d77366",
   "metadata": {},
   "source": [
    "### Exercise: implement the Moving Average filter\n",
    "\n",
    "Complete the code below"
   ]
  },
  {
   "cell_type": "code",
   "execution_count": null,
   "id": "1597e0ec-47e7-4a62-9ca5-cde76aac38af",
   "metadata": {},
   "outputs": [],
   "source": [
    "def mavg(x: np.ndarray, M: int) -> np.ndarray:\n",
    "    ...        \n",
    "    return y"
   ]
  },
  {
   "cell_type": "markdown",
   "id": "4728a98e-77ec-4334-9622-65e06e00c25a",
   "metadata": {},
   "source": [
    "Let's test your implementation:"
   ]
  },
  {
   "cell_type": "code",
   "execution_count": null,
   "id": "e2075950-9804-46c2-87a5-fad9c14d6609",
   "metadata": {},
   "outputs": [],
   "source": [
    "y = mavg((-1) ** np.arange(0, 40), 20)  # test signal, filtered\n",
    "print('good job!' if np.sum(y[1::2]) == 0 and np.sum(y[:20:2]) == 0.5 else 'Sorry, try again!')"
   ]
  },
  {
   "cell_type": "markdown",
   "id": "5668f9d6-935b-45ce-9999-28de77be562e",
   "metadata": {},
   "source": [
    "# Applications\n"
   ]
  },
  {
   "cell_type": "markdown",
   "id": "55edefb0-08ac-4f9a-822f-e1d6523ffa96",
   "metadata": {},
   "source": [
    "## Denoising\n",
    "\n",
    "In a denoising scenario we have a \"clean\" signal $x[n]$ that has been corrupted by an additive noise signal $\\eta[n]$; we only have access to $\\hat{x}[n] = x[n] + \\eta[n]$ and we would like to recover $x[n]$.\n",
    "\n",
    "In general, without further assumptions, this is not a solvable problem. However, it is generally the case that the signal and the noise have very different characteristics and, in this case, we can try to reduce the amount of noise via filtering. Typically, if we look in the time domain:\n",
    " * the clean signal is varying slowly and smoothly\n",
    " * the noise is low-amplitude with respect to the signal and it varies very fast from one sample to the next.\n",
    " \n",
    "These two characteristics translate to the following properties in the frequency domain:\n",
    " * the clean signal contains most of its energy in the low frequencies around zero\n",
    " * the noise has a full-band spectrum, with almost equal energy at all frequencies."
   ]
  },
  {
   "cell_type": "markdown",
   "id": "8084a998-a144-42b6-a471-397445560719",
   "metadata": {},
   "source": [
    "### A signal generator\n",
    "\n",
    "The following function can be used to generate an $N$-point smooth signal together with a noise-corrupted version at the specified signal to noise ratio; the spectrum of the smooth signal will contain most of its energy in the $[-B\\pi, B\\pi]$ range. You don't need to worry about how the function works, simply use it as a black box."
   ]
  },
  {
   "cell_type": "code",
   "execution_count": null,
   "id": "122066aa-830a-44eb-9335-e3e151f8722a",
   "metadata": {},
   "outputs": [],
   "source": [
    "def sig_gen(N: int, SNR: float, B=0.04, x=None) -> [np.ndarray, np.ndarray]:\n",
    "    if x is None:\n",
    "        X = np.r_[0, np.random.uniform(-1, 1, 2 * int(N * B) + 1)]\n",
    "        x = np.real(np.fft.ifft(X, 2*N))[:N] / np.sqrt(2 * B / 3 / N)\n",
    "    a = np.sqrt((3.0 / 8.0) / np.power(10, SNR / 10)) \n",
    "    return x, x + np.random.uniform(-a, a, len(x))"
   ]
  },
  {
   "cell_type": "markdown",
   "id": "48af684f-1f07-423c-950a-5aa7f2b38dbf",
   "metadata": {},
   "source": [
    "Use the following interactive widget to play with the SNR and the B parameters and try to get a feel for their effect on the  signal generated by the function:"
   ]
  },
  {
   "cell_type": "code",
   "execution_count": null,
   "id": "fa45f777-c830-4627-a565-481c4cd7ff4c",
   "metadata": {},
   "outputs": [],
   "source": [
    "def display(SNR=15, B=0.02):\n",
    "    x, x_hat = sig_gen(1000, SNR, B, display.prev[1] if B == display.prev[0] else None)\n",
    "    display.prev = [B, x]\n",
    "    plt.plot(x, 'C0', lw=2, label='clean');\n",
    "    plt.plot(x_hat, 'C3', lw=1, label='noisy');\n",
    "    plt.ylim(-1.2,1.2);\n",
    "    plt.legend(loc=\"upper right\");\n",
    "\n",
    "display.prev = [0, None]\n",
    "    \n",
    "interact(display, SNR=(0.0, 50.0), B=(0.01, 0.09, 0.01));"
   ]
  },
  {
   "cell_type": "markdown",
   "id": "b2469401-c448-42b4-8c5c-662442467085",
   "metadata": {},
   "source": [
    "### Exercise: checking the SNR\n",
    "\n",
    "Given a noise-corrupted signal $\\hat{x}[n] = x[n] + \\eta[n]$, the signal-to-noise ratio is expressed in dB and is computed as \n",
    "\n",
    "$$\n",
    "    \\text{SNR}_{\\hat{x}} = 10 \\log_{10}\\left(\\frac{E_x}{E_\\eta}\\right)\n",
    "$$\n",
    "\n",
    "where $E_x$ is the energy of the clean signal and $E_\\eta$ is the energy of the noise. \n",
    "\n",
    "Generate a noisy signal and verify numerically that the SNR of the sequence returned by `sig_gen()` is indeed close to the SNR passed as an argument to the function."
   ]
  },
  {
   "cell_type": "code",
   "execution_count": null,
   "id": "546859ce-34e4-4db9-b758-5b9d3d24cf3a",
   "metadata": {},
   "outputs": [],
   "source": [
    "N, SNR = 1000, 30\n",
    "x, x_hat = sig_gen(N, SNR)\n",
    "E_x = ...\n",
    "E_eta = ...\n",
    "SNR_exp = ..."
   ]
  },
  {
   "cell_type": "markdown",
   "id": "e6b32af4-1f84-48ff-8bfc-67a78a768f63",
   "metadata": {},
   "source": [
    "### Denoising: time-domain experiments\n",
    "\n",
    "The following interactive widget allows you to play with the SNR of the noisy signal and with the parameter $\\lambda$ of a leaky integrator to see the denoising performance of the filter in the time domain. Try to find a value for $\\lambda$ that provides a good compromise between removal of the noise and preservation of the original clean signal."
   ]
  },
  {
   "cell_type": "code",
   "execution_count": null,
   "id": "e7af478a-d695-4e21-9b64-f85f95e3adde",
   "metadata": {},
   "outputs": [],
   "source": [
    "def display(SNR=12, lam=0.5):\n",
    "    if SNR != display.state[0]:\n",
    "        display.state = [SNR, *sig_gen(500, SNR, x=display.state[1])]\n",
    "    x, x_hat = display.state[1], display.state[2] \n",
    "    plt.plot(x_hat, 'C3', lw=1, label='noisy');\n",
    "    plt.plot(x, 'C0', lw=2, label='clean');\n",
    "    plt.plot(leaky(x_hat, lam), 'C2', lw=2, label='denoised');\n",
    "    plt.ylim(-1.2,1.2)\n",
    "    plt.legend(loc=\"upper right\");\n",
    "display.state = [0, None]\n",
    "    \n",
    "interact(display, SNR=(0.0, 50.0), lam=(0.49,0.99,0.02));"
   ]
  },
  {
   "cell_type": "markdown",
   "id": "b8b3e648-b9d0-45fd-b36e-5ed105684f35",
   "metadata": {},
   "source": [
    "### Exercise: denoising in frequency\n",
    "\n",
    "Plot the magnitude spectra of the clean, noisy, and denoised signals, together with the magnitude response of the leaky integrator using the values for SNR and for $\\lambda$ that you chose before using the widget. \n",
    "\n",
    "Remember that the magnitude response of the Leaky Integrator is \n",
    "\n",
    "$$\n",
    "    |H(e^{j\\omega})| = \\frac{(1-\\lambda)}{\\sqrt{1 - 2\\lambda \\cos\\omega + \\lambda^2}}.\n",
    "$$\n",
    "\n",
    "To obtain the plot:\n",
    " * plot the filter's magnitude response over the $[-\\pi, \\pi]$ interval using the analytic expression above\n",
    " * compute $E_x$, the energy of the clean signal, then normalize the clean, noisy and denoised signals by $E_x$ before computing their DFTs\n",
    " * plot the magnitude of the DFTs so that they are aligned with the frequency response of the filter (exactly in the same way as in Question 7 in Homework set 5)"
   ]
  },
  {
   "cell_type": "code",
   "execution_count": null,
   "id": "c1e89fd6-074f-4b49-9a7d-fe7e060e0980",
   "metadata": {},
   "outputs": [],
   "source": [
    "# your code here"
   ]
  },
  {
   "cell_type": "markdown",
   "id": "74c3715a-e56a-4fd1-b0f3-e11492cde3be",
   "metadata": {},
   "source": [
    "### Exercise: denoising with the Moving Average filter\n",
    "\n",
    "Modify the time-domain denoising widget and the code you wrote for the previous exercise so that they use a Moving Average filter instead of a Leaky Integrator. Which filter works best in your opinion?"
   ]
  },
  {
   "cell_type": "markdown",
   "id": "8a7746c3-f024-4a31-b618-58c600f9f0b9",
   "metadata": {},
   "source": [
    "## Detrending\n",
    "\n",
    "In many (if not all) signal processing applications, we prefer signals to be _balanced,_ that is, we want the average value of the signal to be zero. Indeed, all physical processing devices (and digital devices in particular) can only deal with a finite range of possible input values before things like distortion or breakdown start to happen, and this nominal input range is usually centered around zero. If a signal is not balanced, it will not be able to fully use the available input range of a processing device.\n",
    "\n",
    "As an example, assume that a processing device can only accept input values in the interval $[-1, 1]$; a signal $x[n]$ such that $\\max_n\\{x[n]\\} = 0.8$ and $\\min_n\\{x[n]\\} = -0.8$ will be processed without problems; but the unbalanced signal $y[n] = x[n] + 0.5$ will exceed the device's input limits even though the signal's range, $\\max_n\\{y[n]\\} - \\min_n\\{y[n]\\}$, is the same as for $x[n]$.\n",
    "\n",
    "In these cases, a Leaky Integrator or a Moving Average filter can be used to _detrend_ a signal, that is, remove its estimated mean value to obtain a balanced signal.\n",
    "\n",
    "As you may have noticed while playing with the interactive widget before, if you push the value of $\\lambda$ very close to one in a Leaky integrator, the output of the filter tends to converge to the mean."
   ]
  },
  {
   "cell_type": "markdown",
   "id": "ede37a93-d790-41ec-8ca2-c0dacfd26742",
   "metadata": {},
   "source": [
    "### Exercise: average estimation with Leaky Integrator and Moving Average\n",
    "\n",
    "The following cell creates a signal and offsets it by a constant amount. Use a Leaky Integrator and a Moving Average filter to estimate the value of the offset in order to balance back the signal. Plot the value of the estimated mean and find the values for $\\lambda$ and $M$ that provide a comparable performance."
   ]
  },
  {
   "cell_type": "code",
   "execution_count": null,
   "id": "be02ecc2-5bc2-43f3-bbfc-ebbcd6ad0177",
   "metadata": {},
   "outputs": [],
   "source": [
    "offset = 0.5\n",
    "x, _ = sig_gen(2000, 100)\n",
    "x_off = x + offset"
   ]
  },
  {
   "cell_type": "code",
   "execution_count": null,
   "id": "1437a3f0-f84c-4ee6-b955-37c012b644d6",
   "metadata": {},
   "outputs": [],
   "source": [
    "avg_li = ...\n",
    "avg_ma = ...\n"
   ]
  },
  {
   "cell_type": "markdown",
   "id": "743f3688-8041-410e-a253-144728d2ae08",
   "metadata": {},
   "source": [
    "## VU meters\n",
    "\n",
    "<div style=\"float: right; margin: 10px;\"><img src=\"img/vumeter.gif\" width=\"180\"></div>\n",
    "\n",
    "An analog [VU-meter](https://en.wikipedia.org/wiki/VU_meter), as the one shown on the right, is a device used in audio recording equipment to visually monitor the _short-term power_ of a signal, namely the power of the signal computed over a short time window spanning a few milliseconds of past data. \n",
    "\n",
    "For a discrete-time signal, the short-term power at time $n$ can be computed as \n",
    "$$\n",
    "    p_M[n] = \\frac{1}{M}\\sum_{k = 0}^{M-1}|x[n-k]|^2\n",
    "$$\n",
    "which is clearly the result of filtering the _squared_ input signal with an $M$-point Moving Average."
   ]
  },
  {
   "cell_type": "markdown",
   "id": "88851165-0483-4272-be7a-328e2def185a",
   "metadata": {},
   "source": [
    "### Exercise: short-term power estimation\n",
    "\n",
    "If you remember our [previous lab on DTMF signals](https://github.com/LCAV/COM202/tree/main/05-DTMF) one of the most important steps in the decoding process was the _segmentation_ of the input signal to isolate the different digit tones. This was accomplished by computing the local power of the signal and by comparing it to a threshold to separate the silent gaps. Let's load a DTMF signal and play it:"
   ]
  },
  {
   "cell_type": "code",
   "execution_count": null,
   "id": "5e064b7f-08f8-467d-9e65-56deb5b15c8a",
   "metadata": {},
   "outputs": [],
   "source": [
    "fs, dtmf = wavfile.read('data/dtmf.wav')\n",
    "IPython.display.Audio(dtmf, rate=fs)"
   ]
  },
  {
   "cell_type": "markdown",
   "id": "f8d000f4-2a74-4bec-88ad-b1213bc87971",
   "metadata": {},
   "source": [
    "Complete the function below so that it returns an estimate of the local power of the input signal over a window spanning the given number of milliseconds. "
   ]
  },
  {
   "cell_type": "code",
   "execution_count": null,
   "id": "e8ff0d37-37fd-49b1-a2d8-85c79302bd99",
   "metadata": {},
   "outputs": [],
   "source": [
    "def vu_meter(x: np.ndarray, fs: int, span_ms: float) -> np.ndarray:\n",
    "    ..."
   ]
  },
  {
   "cell_type": "markdown",
   "id": "6688ef86-1ba5-40ea-ad19-416739627beb",
   "metadata": {},
   "source": [
    "Let's see the results:"
   ]
  },
  {
   "cell_type": "code",
   "execution_count": null,
   "id": "3d5f0310-671f-4e5d-8429-758226b5f32a",
   "metadata": {},
   "outputs": [],
   "source": [
    "plt.plot(dtmf, label=\"DTMF\");\n",
    "plt.plot(vu_meter(dtmf, fs, 20), label=\"VU Meter output\");\n",
    "plt.legend();"
   ]
  },
  {
   "cell_type": "markdown",
   "id": "9afc5886-bd9c-4d5f-9530-57361e49b936",
   "metadata": {},
   "source": [
    "# A last trick for the road"
   ]
  },
  {
   "cell_type": "markdown",
   "id": "48d8bf12-5fa6-4285-967a-32404a74714a",
   "metadata": {},
   "source": [
    "Let's finish with a fun and surprising trick. Let's load an audio file and play it; you shouldn't hear anything:"
   ]
  },
  {
   "cell_type": "code",
   "execution_count": null,
   "id": "e5487350-00a2-4a3e-b481-7ab2c42bf483",
   "metadata": {},
   "outputs": [],
   "source": [
    "fs, s = wavfile.read('data/testing.wav')\n",
    "IPython.display.Audio(s, rate=fs)"
   ]
  },
  {
   "cell_type": "markdown",
   "id": "e259d3d2-c625-4190-ac94-51279bba5608",
   "metadata": {},
   "source": [
    "What if we filter the signal before playing? "
   ]
  },
  {
   "cell_type": "code",
   "execution_count": null,
   "id": "c732f5cb-8d80-40d6-8ea5-5ca7ba9fa471",
   "metadata": {},
   "outputs": [],
   "source": [
    "M = 36\n",
    "IPython.display.Audio(mavg(s, M), rate=fs)"
   ]
  },
  {
   "cell_type": "markdown",
   "id": "d534bb47-34ce-404d-8d02-e34612c552cd",
   "metadata": {},
   "source": [
    "Still nothing. But check this out:"
   ]
  },
  {
   "cell_type": "code",
   "execution_count": null,
   "id": "7e1f778f-a16d-41e7-8566-da031df3314e",
   "metadata": {},
   "outputs": [],
   "source": [
    "IPython.display.Audio(mavg(s ** 2, M), rate=fs)"
   ]
  },
  {
   "cell_type": "markdown",
   "id": "0391d462-d299-4a09-b7a5-5c788c5f5eca",
   "metadata": {},
   "source": [
    "Cool, isn't it? Can you figure out what happened and why squaring the signal made the audio magically appear? \n",
    "\n",
    "If you feel like investigating, start by looking at plots of the signal both in the time and in the frequency domain, and then try to understand how the original signal was generated. If after a while you're still clueless, you may want to use this [hint](https://en.wikipedia.org/wiki/Crystal_detector). "
   ]
  }
 ],
 "metadata": {
  "kernelspec": {
   "display_name": "Python 3 (ipykernel)",
   "language": "python",
   "name": "python3"
  },
  "language_info": {
   "codemirror_mode": {
    "name": "ipython",
    "version": 3
   },
   "file_extension": ".py",
   "mimetype": "text/x-python",
   "name": "python",
   "nbconvert_exporter": "python",
   "pygments_lexer": "ipython3",
   "version": "3.12.3"
  }
 },
 "nbformat": 4,
 "nbformat_minor": 5
}
